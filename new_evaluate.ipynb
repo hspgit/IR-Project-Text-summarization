{
  "nbformat": 4,
  "nbformat_minor": 0,
  "metadata": {
    "colab": {
      "provenance": [],
      "authorship_tag": "ABX9TyPakjGlwvQPxlZfK+iAFYMo",
      "include_colab_link": true
    },
    "kernelspec": {
      "name": "python3",
      "display_name": "Python 3"
    },
    "language_info": {
      "name": "python"
    }
  },
  "cells": [
    {
      "cell_type": "markdown",
      "metadata": {
        "id": "view-in-github",
        "colab_type": "text"
      },
      "source": [
        "<a href=\"https://colab.research.google.com/github/hspgit/IR-Project-Text-summarization/blob/main/new_evaluate.ipynb\" target=\"_parent\"><img src=\"https://colab.research.google.com/assets/colab-badge.svg\" alt=\"Open In Colab\"/></a>"
      ]
    },
    {
      "cell_type": "code",
      "execution_count": null,
      "metadata": {
        "id": "-LItsL-hiWrN"
      },
      "outputs": [],
      "source": [
        "import requests\n",
        "import json\n",
        "\n",
        "target_summaries_url = \"https://raw.githubusercontent.com/hspgit/IR-Project-Text-summarization/main/target.json\"\n",
        "\n",
        "# Fetch the JSON data from the URL\n",
        "response = requests.get(target_summaries_url)\n",
        "response.raise_for_status()  # Raise an exception for bad responses (4xx or 5xx)\n",
        "\n",
        "# Load the JSON data into a Python dictionary\n",
        "target_summaries = json.loads(response.text)\n",
        "\n",
        "# Now you can access the data within the target_summaries dictionary\n",
        "print(target_summaries)  # Print the loaded JSON data\n",
        "print(type(target_summaries))"
      ]
    },
    {
      "cell_type": "code",
      "source": [
        "news_urls_json_url = \"https://raw.githubusercontent.com/hspgit/IR-Project-Text-summarization/main/news_urls.json\"\n",
        "response = requests.get(news_urls_json_url)\n",
        "response.raise_for_status()  # Raise an exception for bad responses (4xx or 5xx)\n",
        "\n",
        "# Load the JSON data into a Python dictionary\n",
        "news_urls = json.loads(response.text)\n",
        "print(news_urls)\n",
        "print(type(news_urls))"
      ],
      "metadata": {
        "id": "KKdMFvQDorQR"
      },
      "execution_count": null,
      "outputs": []
    },
    {
      "cell_type": "code",
      "source": [
        "article_texts_json_url = \"https://raw.githubusercontent.com/hspgit/IR-Project-Text-summarization/main/article_texts.json\"\n",
        "response = requests.get(article_texts_json_url)\n",
        "response.raise_for_status()  # Raise an exception for bad responses (4xx or 5xx)\n",
        "\n",
        "# Load the JSON data into a Python dictionary\n",
        "article_texts = json.loads(response.text)\n",
        "print(article_texts)\n",
        "print(type(article_texts))"
      ],
      "metadata": {
        "id": "Y0oWjX05o-Gm"
      },
      "execution_count": null,
      "outputs": []
    },
    {
      "cell_type": "code",
      "source": [],
      "metadata": {
        "id": "fH559chtu3rz"
      },
      "execution_count": null,
      "outputs": []
    }
  ]
}