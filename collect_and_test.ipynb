{
  "cells": [
    {
      "cell_type": "code",
      "execution_count": null,
      "metadata": {
        "id": "zsUhS_jRHm4d"
      },
      "outputs": [],
      "source": [
        "#testing google colab commit"
      ]
    },
    {
      "cell_type": "code",
      "source": [
        "!pip3 install duckduckgo-search newspaper4k lxml_html_clean\n",
        "\n",
        "# !pip3 install --upgrade --quiet duckduckgo-search\n",
        "# use this if rate limit is reached"
      ],
      "metadata": {
        "colab": {
          "base_uri": "https://localhost:8080/"
        },
        "id": "s0u1wjPCXzGa",
        "outputId": "7e52c371-5920-4277-e524-8e283dc4e320"
      },
      "execution_count": null,
      "outputs": [
        {
          "output_type": "stream",
          "name": "stdout",
          "text": [
            "Collecting duckduckgo-search\n",
            "  Downloading duckduckgo_search-8.0.0-py3-none-any.whl.metadata (16 kB)\n",
            "Collecting newspaper4k\n",
            "  Downloading newspaper4k-0.9.3.1-py3-none-any.whl.metadata (14 kB)\n",
            "Collecting lxml_html_clean\n",
            "  Downloading lxml_html_clean-0.4.2-py3-none-any.whl.metadata (2.4 kB)\n",
            "Requirement already satisfied: click>=8.1.8 in /usr/local/lib/python3.11/dist-packages (from duckduckgo-search) (8.1.8)\n",
            "Collecting primp>=0.14.0 (from duckduckgo-search)\n",
            "  Downloading primp-0.14.0-cp38-abi3-manylinux_2_17_x86_64.manylinux2014_x86_64.whl.metadata (13 kB)\n",
            "Requirement already satisfied: lxml>=5.3.0 in /usr/local/lib/python3.11/dist-packages (from duckduckgo-search) (5.3.2)\n",
            "Requirement already satisfied: Pillow>=4.0.0 in /usr/local/lib/python3.11/dist-packages (from newspaper4k) (11.1.0)\n",
            "Requirement already satisfied: PyYAML>=5.1 in /usr/local/lib/python3.11/dist-packages (from newspaper4k) (6.0.2)\n",
            "Requirement already satisfied: beautifulsoup4>=4.9.3 in /usr/local/lib/python3.11/dist-packages (from newspaper4k) (4.13.3)\n",
            "Collecting feedparser>=6.0.0 (from newspaper4k)\n",
            "  Downloading feedparser-6.0.11-py3-none-any.whl.metadata (2.4 kB)\n",
            "Requirement already satisfied: nltk>=3.6.6 in /usr/local/lib/python3.11/dist-packages (from newspaper4k) (3.9.1)\n",
            "Requirement already satisfied: numpy>=1.25 in /usr/local/lib/python3.11/dist-packages (from newspaper4k) (2.0.2)\n",
            "Requirement already satisfied: pandas>=2.1.0 in /usr/local/lib/python3.11/dist-packages (from newspaper4k) (2.2.2)\n",
            "Requirement already satisfied: python-dateutil>=2.6.1 in /usr/local/lib/python3.11/dist-packages (from newspaper4k) (2.8.2)\n",
            "Requirement already satisfied: requests>=2.26.0 in /usr/local/lib/python3.11/dist-packages (from newspaper4k) (2.32.3)\n",
            "Collecting tldextract>=2.0.1 (from newspaper4k)\n",
            "  Downloading tldextract-5.2.0-py3-none-any.whl.metadata (11 kB)\n",
            "Requirement already satisfied: soupsieve>1.2 in /usr/local/lib/python3.11/dist-packages (from beautifulsoup4>=4.9.3->newspaper4k) (2.6)\n",
            "Requirement already satisfied: typing-extensions>=4.0.0 in /usr/local/lib/python3.11/dist-packages (from beautifulsoup4>=4.9.3->newspaper4k) (4.13.1)\n",
            "Collecting sgmllib3k (from feedparser>=6.0.0->newspaper4k)\n",
            "  Downloading sgmllib3k-1.0.0.tar.gz (5.8 kB)\n",
            "  Preparing metadata (setup.py) ... \u001b[?25l\u001b[?25hdone\n",
            "Requirement already satisfied: joblib in /usr/local/lib/python3.11/dist-packages (from nltk>=3.6.6->newspaper4k) (1.4.2)\n",
            "Requirement already satisfied: regex>=2021.8.3 in /usr/local/lib/python3.11/dist-packages (from nltk>=3.6.6->newspaper4k) (2024.11.6)\n",
            "Requirement already satisfied: tqdm in /usr/local/lib/python3.11/dist-packages (from nltk>=3.6.6->newspaper4k) (4.67.1)\n",
            "Requirement already satisfied: pytz>=2020.1 in /usr/local/lib/python3.11/dist-packages (from pandas>=2.1.0->newspaper4k) (2025.2)\n",
            "Requirement already satisfied: tzdata>=2022.7 in /usr/local/lib/python3.11/dist-packages (from pandas>=2.1.0->newspaper4k) (2025.2)\n",
            "Requirement already satisfied: six>=1.5 in /usr/local/lib/python3.11/dist-packages (from python-dateutil>=2.6.1->newspaper4k) (1.17.0)\n",
            "Requirement already satisfied: charset-normalizer<4,>=2 in /usr/local/lib/python3.11/dist-packages (from requests>=2.26.0->newspaper4k) (3.4.1)\n",
            "Requirement already satisfied: idna<4,>=2.5 in /usr/local/lib/python3.11/dist-packages (from requests>=2.26.0->newspaper4k) (3.10)\n",
            "Requirement already satisfied: urllib3<3,>=1.21.1 in /usr/local/lib/python3.11/dist-packages (from requests>=2.26.0->newspaper4k) (2.3.0)\n",
            "Requirement already satisfied: certifi>=2017.4.17 in /usr/local/lib/python3.11/dist-packages (from requests>=2.26.0->newspaper4k) (2025.1.31)\n",
            "Collecting requests-file>=1.4 (from tldextract>=2.0.1->newspaper4k)\n",
            "  Downloading requests_file-2.1.0-py2.py3-none-any.whl.metadata (1.7 kB)\n",
            "Requirement already satisfied: filelock>=3.0.8 in /usr/local/lib/python3.11/dist-packages (from tldextract>=2.0.1->newspaper4k) (3.18.0)\n",
            "Downloading duckduckgo_search-8.0.0-py3-none-any.whl (18 kB)\n",
            "Downloading newspaper4k-0.9.3.1-py3-none-any.whl (296 kB)\n",
            "\u001b[2K   \u001b[90m━━━━━━━━━━━━━━━━━━━━━━━━━━━━━━━━━━━━━━━━\u001b[0m \u001b[32m296.6/296.6 kB\u001b[0m \u001b[31m9.6 MB/s\u001b[0m eta \u001b[36m0:00:00\u001b[0m\n",
            "\u001b[?25hDownloading lxml_html_clean-0.4.2-py3-none-any.whl (14 kB)\n",
            "Downloading feedparser-6.0.11-py3-none-any.whl (81 kB)\n",
            "\u001b[2K   \u001b[90m━━━━━━━━━━━━━━━━━━━━━━━━━━━━━━━━━━━━━━━━\u001b[0m \u001b[32m81.3/81.3 kB\u001b[0m \u001b[31m7.4 MB/s\u001b[0m eta \u001b[36m0:00:00\u001b[0m\n",
            "\u001b[?25hDownloading primp-0.14.0-cp38-abi3-manylinux_2_17_x86_64.manylinux2014_x86_64.whl (3.3 MB)\n",
            "\u001b[2K   \u001b[90m━━━━━━━━━━━━━━━━━━━━━━━━━━━━━━━━━━━━━━━━\u001b[0m \u001b[32m3.3/3.3 MB\u001b[0m \u001b[31m50.2 MB/s\u001b[0m eta \u001b[36m0:00:00\u001b[0m\n",
            "\u001b[?25hDownloading tldextract-5.2.0-py3-none-any.whl (106 kB)\n",
            "\u001b[2K   \u001b[90m━━━━━━━━━━━━━━━━━━━━━━━━━━━━━━━━━━━━━━━━\u001b[0m \u001b[32m106.3/106.3 kB\u001b[0m \u001b[31m9.0 MB/s\u001b[0m eta \u001b[36m0:00:00\u001b[0m\n",
            "\u001b[?25hDownloading requests_file-2.1.0-py2.py3-none-any.whl (4.2 kB)\n",
            "Building wheels for collected packages: sgmllib3k\n",
            "  Building wheel for sgmllib3k (setup.py) ... \u001b[?25l\u001b[?25hdone\n",
            "  Created wheel for sgmllib3k: filename=sgmllib3k-1.0.0-py3-none-any.whl size=6046 sha256=92077276ec351f574b5605b3e4d70f57aa6a3feb6409bbf73f9a4116df084646\n",
            "  Stored in directory: /root/.cache/pip/wheels/3b/25/2a/105d6a15df6914f4d15047691c6c28f9052cc1173e40285d03\n",
            "Successfully built sgmllib3k\n",
            "Installing collected packages: sgmllib3k, primp, lxml_html_clean, feedparser, requests-file, duckduckgo-search, tldextract, newspaper4k\n",
            "Successfully installed duckduckgo-search-8.0.0 feedparser-6.0.11 lxml_html_clean-0.4.2 newspaper4k-0.9.3.1 primp-0.14.0 requests-file-2.1.0 sgmllib3k-1.0.0 tldextract-5.2.0\n"
          ]
        }
      ]
    },
    {
      "cell_type": "code",
      "source": [
        "import requests\n",
        "import json\n",
        "\n",
        "target_summaries_url = \"https://raw.githubusercontent.com/hspgit/IR-Project-Text-summarization/main/target.json\"\n",
        "\n",
        "# Fetch the JSON data from the URL\n",
        "response = requests.get(target_summaries_url)\n",
        "response.raise_for_status()  # Raise an exception for bad responses (4xx or 5xx)\n",
        "\n",
        "# Load the JSON data into a Python dictionary\n",
        "target_summaries = json.loads(response.text)\n",
        "\n",
        "# Now you can access the data within the target_summaries dictionary\n",
        "print(target_summaries)  # Print the loaded JSON data"
      ],
      "metadata": {
        "id": "oLz4YNTL2ll2"
      },
      "execution_count": null,
      "outputs": []
    },
    {
      "cell_type": "code",
      "source": [
        "import json\n",
        "import time\n",
        "from duckduckgo_search import DDGS\n",
        "import requests\n",
        "import os\n",
        "\n",
        "def get_news_for_query(query, max_results=10):\n",
        "    \"\"\"Fetch news results for a single query\"\"\"\n",
        "    try:\n",
        "        ddgs = DDGS()\n",
        "        results = list(ddgs.news(\n",
        "            keywords=query,\n",
        "            region=\"us-en\",\n",
        "            safesearch=\"off\",\n",
        "            timelimit=\"m\",\n",
        "            max_results=max_results\n",
        "        ))\n",
        "\n",
        "        # Extract just the URLs\n",
        "        urls = [item['url'] for item in results]\n",
        "        return urls\n",
        "\n",
        "    except Exception as e:\n",
        "        print(f\"Error searching for '{query}': {str(e)}\")\n",
        "        return []\n",
        "\n",
        "def main():\n",
        "    # Detect if running in Colab\n",
        "    in_colab = 'google.colab' in str(get_ipython())\n",
        "\n",
        "    # Fetch the target summaries\n",
        "    target_summaries_url = \"https://raw.githubusercontent.com/hspgit/IR-Project-Text-summarization/main/target.json\"\n",
        "    response = requests.get(target_summaries_url)\n",
        "    response.raise_for_status()\n",
        "    target_summaries = json.loads(response.text)\n",
        "\n",
        "    # Dictionary to store query -> URLs mapping\n",
        "    query_urls = {}\n",
        "\n",
        "    # Process each query in the target summaries\n",
        "    for item in target_summaries:\n",
        "        query = item['query']\n",
        "        print(f\"\\nProcessing query: {query}\")\n",
        "\n",
        "        # Get URLs for this query\n",
        "        urls = get_news_for_query(query, max_results=10)\n",
        "        query_urls[query] = urls\n",
        "\n",
        "        print(f\"Found {len(urls)} URLs for query: {query}\")\n",
        "\n",
        "        # Wait between different queries to avoid rate limiting\n",
        "        if target_summaries.index(item) < len(target_summaries) - 1:  # Don't wait after the last query\n",
        "            delay = 30  # 30 seconds between queries\n",
        "            print(f\"Waiting {delay} seconds before the next query...\")\n",
        "            time.sleep(delay)\n",
        "\n",
        "    # Save the collected URLs to a JSON file\n",
        "    output_file = 'news_urls.json'\n",
        "    with open(output_file, 'w') as f:\n",
        "        json.dump(query_urls, f, indent=2)\n",
        "\n",
        "    print(f\"\\nAll URLs collected and saved to {output_file}\")\n",
        "\n",
        "    # If in Colab, provide code to download the file\n",
        "    if in_colab:\n",
        "        from google.colab import files\n",
        "        files.download(output_file)\n",
        "        print(\"\\nFile download initiated. Check your browser's downloads.\")\n",
        "\n",
        "        # Also display the content for convenience\n",
        "        print(\"\\nJSON content:\")\n",
        "        print(json.dumps(query_urls, indent=2))\n",
        "\n",
        "if __name__ == \"__main__\":\n",
        "    main()"
      ],
      "metadata": {
        "id": "PBevjwBu6e2p"
      },
      "execution_count": null,
      "outputs": []
    },
    {
      "cell_type": "code",
      "source": [
        "import newspaper\n",
        "\n",
        "query_urls = {}\n",
        "\n",
        "# Load the URLs from the JSON file\n",
        "with open('news_urls.json', 'r') as f:\n",
        "    query_urls = json.load(f)"
      ],
      "metadata": {
        "colab": {
          "base_uri": "https://localhost:8080/"
        },
        "id": "DAoDk30O8GHt",
        "outputId": "809e127b-0606-4331-fdd9-cd549808d5af"
      },
      "execution_count": null,
      "outputs": [
        {
          "output_type": "stream",
          "name": "stdout",
          "text": [
            "30\n"
          ]
        }
      ]
    },
    {
      "cell_type": "code",
      "source": [
        "print(len(query_urls))\n",
        "print(query_urls)"
      ],
      "metadata": {
        "id": "eWfg-AJ5B5wg"
      },
      "execution_count": null,
      "outputs": []
    },
    {
      "cell_type": "code",
      "source": [
        "import json\n",
        "import time\n",
        "import newspaper\n",
        "import requests\n",
        "from newspaper import Article\n",
        "import os\n",
        "\n",
        "def fetch_article_text(url):\n",
        "    \"\"\"Extract full text from a given news URL using newspaper\"\"\"\n",
        "    try:\n",
        "        article = Article(url)\n",
        "        article.download()\n",
        "        article.parse()\n",
        "\n",
        "        return {\n",
        "            'title': article.title,\n",
        "            'text': article.text,\n",
        "            'url': url\n",
        "        }\n",
        "    except Exception as e:\n",
        "        print(f\"Error fetching article from {url}: {str(e)}\")\n",
        "        return {\n",
        "            'title': '',\n",
        "            'text': '',\n",
        "            'url': url,\n",
        "            'error': str(e)\n",
        "        }\n",
        "\n",
        "def main():\n",
        "    # Detect if running in Colab\n",
        "    try:\n",
        "        from google.colab import files\n",
        "        in_colab = True\n",
        "    except ImportError:\n",
        "        in_colab = False\n",
        "\n",
        "    # Load the URLs file\n",
        "    try:\n",
        "        with open('news_urls.json', 'r') as f:\n",
        "            news_urls = json.load(f)\n",
        "    except FileNotFoundError:\n",
        "        print(\"news_urls.json not found. Please run the URL collection script first.\")\n",
        "        return\n",
        "\n",
        "    # Dictionary to store all article data\n",
        "    article_data = {}\n",
        "\n",
        "    # Process each query\n",
        "    for i, (query, urls) in enumerate(news_urls.items()):\n",
        "        print(f\"\\nProcessing query {i+1}/{len(news_urls)}: {query}\")\n",
        "        print(f\"Found {len(urls)} URLs to process\")\n",
        "\n",
        "        # Initialize array for this query's articles\n",
        "        article_data[query] = []\n",
        "\n",
        "        # Process each URL for this query\n",
        "        for j, url in enumerate(urls):\n",
        "            print(f\"  Processing URL {j+1}/{len(urls)}: {url}\")\n",
        "            article_info = fetch_article_text(url)\n",
        "\n",
        "            # Add to our data structure\n",
        "            article_data[query].append(article_info)\n",
        "\n",
        "            # Brief pause to be gentle on servers\n",
        "            if j < len(urls) - 1:\n",
        "                time.sleep(1)\n",
        "\n",
        "        # Add a longer pause between queries\n",
        "        if i < len(news_urls) - 1:\n",
        "            print(\"Waiting 5 seconds before next query...\")\n",
        "            time.sleep(5)\n",
        "\n",
        "    # Save to a new JSON file\n",
        "    output_file = 'article_texts.json'\n",
        "    with open(output_file, 'w') as f:\n",
        "        json.dump(article_data, f, indent=2)\n",
        "\n",
        "    print(f\"\\nAll article texts collected and saved to {output_file}\")\n",
        "\n",
        "    # If in Colab, provide download option\n",
        "    if in_colab:\n",
        "        files.download(output_file)\n",
        "        print(\"\\nFile download initiated. Check your browser's downloads.\")\n",
        "\n",
        "        # Display summary statistics\n",
        "        total_articles = sum(len(articles) for articles in article_data.values())\n",
        "        successful_articles = sum(1 for query_articles in article_data.values()\n",
        "                                for article in query_articles if article['text'])\n",
        "\n",
        "        print(f\"\\nSummary statistics:\")\n",
        "        print(f\"Total queries processed: {len(article_data)}\")\n",
        "        print(f\"Total articles attempted: {total_articles}\")\n",
        "        print(f\"Successfully parsed articles: {successful_articles} ({successful_articles/total_articles*100:.1f}%)\")\n",
        "\n",
        "if __name__ == \"__main__\":\n",
        "    main()"
      ],
      "metadata": {
        "id": "U_of2uVCD1sU",
        "outputId": "90647494-6e06-4604-d4f6-fb6475e42346",
        "colab": {
          "base_uri": "https://localhost:8080/",
          "height": 1000
        }
      },
      "execution_count": null,
      "outputs": [
        {
          "output_type": "stream",
          "name": "stdout",
          "text": [
            "\n",
            "Processing query 1/30: Global economic outlook\n",
            "Found 10 URLs to process\n",
            "  Processing URL 1/10: https://www.msn.com/en-ca/money/topstories/global-economic-growth-could-slow-to-23-due-to-trade-tensions-says-un-trade-agency/ar-AA1D1z6Q\n",
            "  Processing URL 2/10: https://seekingalpha.com/article/4775157-how-tariffs-geopolitics-shaping-2025-global-economic-outlook\n"
          ]
        },
        {
          "output_type": "stream",
          "name": "stderr",
          "text": [
            "WARNING:newspaper.network:get_html_status(): bad status code 403 on URL: https://seekingalpha.com/article/4775157-how-tariffs-geopolitics-shaping-2025-global-economic-outlook, html: <!DOCTYPE html><html lang=\"en\"><head><meta charset=\"utf-8\"><meta name=\"viewport\" content=\"width=device-width,initial-scale=1\"><meta name=\"description\" content=\"px-captcha\"><title>Access to this page h\n"
          ]
        },
        {
          "output_type": "stream",
          "name": "stdout",
          "text": [
            "Error fetching article from https://seekingalpha.com/article/4775157-how-tariffs-geopolitics-shaping-2025-global-economic-outlook: Article `download()` failed with Status code 403 for url None on URL https://seekingalpha.com/article/4775157-how-tariffs-geopolitics-shaping-2025-global-economic-outlook\n",
            "  Processing URL 3/10: https://www.cnet.com/personal-finance/refinance-rates-tick-higher-mortgage-refinance-rates-on-april-11-2025/\n",
            "  Processing URL 4/10: https://www.businessinsider.com/us-economy-stock-market-outlook-tariffs-trump-trade-war-bofa-2025-4\n",
            "  Processing URL 5/10: https://www.msn.com/en-us/money/markets/economic-outlook-dives-just-three-months-into-trump-s-term/ar-AA1COpd8\n",
            "  Processing URL 6/10: https://www.msn.com/en-us/money/markets/u-k-economy-shows-signs-of-strength-but-tariffs-darken-outlook/ar-AA1CIv5r\n",
            "  Processing URL 7/10: https://www.marketwatch.com/livecoverage/stock-market-today-dow-s-p-and-nasdaq-eye-steady-start-as-tariff-angst-eases-bofa-and-citi-earnings/card/iea-cuts-2025-global-demand-growth-forecast-on-deteriorating-outlook-for-the-global-economy-BF64s9E3Q4RnPFCzj2xA\n"
          ]
        },
        {
          "output_type": "stream",
          "name": "stderr",
          "text": [
            "WARNING:newspaper.network:get_html_status(): bad status code 401 on URL: https://www.marketwatch.com/livecoverage/stock-market-today-dow-s-p-and-nasdaq-eye-steady-start-as-tariff-angst-eases-bofa-and-citi-earnings/card/iea-cuts-2025-global-demand-growth-forecast-on-deteriorating-outlook-for-the-global-economy-BF64s9E3Q4RnPFCzj2xA, html: <html lang=\"en\"><head><title>marketwatch.com</title><style>#cmsg{animation: A 1.5s;}@keyframes A{0%{opacity:0;}99%{opacity:0;}100%{opacity:1;}}</style></head><body style=\"margin:0\"><p id=\"cmsg\">Please\n"
          ]
        },
        {
          "output_type": "stream",
          "name": "stdout",
          "text": [
            "Error fetching article from https://www.marketwatch.com/livecoverage/stock-market-today-dow-s-p-and-nasdaq-eye-steady-start-as-tariff-angst-eases-bofa-and-citi-earnings/card/iea-cuts-2025-global-demand-growth-forecast-on-deteriorating-outlook-for-the-global-economy-BF64s9E3Q4RnPFCzj2xA: Article `download()` failed with Status code 401 for url None on URL https://www.marketwatch.com/livecoverage/stock-market-today-dow-s-p-and-nasdaq-eye-steady-start-as-tariff-angst-eases-bofa-and-citi-earnings/card/iea-cuts-2025-global-demand-growth-forecast-on-deteriorating-outlook-for-the-global-economy-BF64s9E3Q4RnPFCzj2xA\n",
            "  Processing URL 8/10: https://www.msn.com/en-ca/money/other/fed-chair-powell-to-deliver-fresh-economic-view-as-tariffs-inject-uncertainty/ar-AA1D1sf0\n",
            "  Processing URL 9/10: https://seekingalpha.com/article/4773017-april-2025-outlook-calamos-global-opportunities-fund\n"
          ]
        },
        {
          "output_type": "stream",
          "name": "stderr",
          "text": [
            "WARNING:newspaper.network:get_html_status(): bad status code 403 on URL: https://seekingalpha.com/article/4773017-april-2025-outlook-calamos-global-opportunities-fund, html: <!DOCTYPE html><html lang=\"en\"><head><meta charset=\"utf-8\"><meta name=\"viewport\" content=\"width=device-width,initial-scale=1\"><meta name=\"description\" content=\"px-captcha\"><title>Access to this page h\n"
          ]
        },
        {
          "output_type": "stream",
          "name": "stdout",
          "text": [
            "Error fetching article from https://seekingalpha.com/article/4773017-april-2025-outlook-calamos-global-opportunities-fund: Article `download()` failed with Status code 403 for url None on URL https://seekingalpha.com/article/4773017-april-2025-outlook-calamos-global-opportunities-fund\n",
            "  Processing URL 10/10: https://www.chinadaily.com.cn/a/202504/16/WS67ff0e73a3104d9fd381f936.html\n",
            "Waiting 5 seconds before next query...\n",
            "\n",
            "Processing query 2/30: US presidential election updates\n",
            "Found 10 URLs to process\n",
            "  Processing URL 1/10: https://www.msn.com/en-gb/news/world/romanian-election-favourite-pledges-to-stop-potential-us-troop-withdrawal/ar-AA1CNC2p\n",
            "  Processing URL 2/10: https://www.msn.com/en-us/news/world/ecuador-would-love-to-have-us-forces-helping-in-gang-crackdown-president-says/ar-AA1CZkn8\n",
            "  Processing URL 3/10: https://www.msn.com/en-us/news/world/ecuador-s-president-daniel-noboa-declared-election-winner-as-rival-demands-recount/ar-AA1CQhcU\n",
            "  Processing URL 4/10: https://www.msn.com/en-us/news/world/romania-tells-us-congress-group-its-presidential-vote-will-be-fair-transparent/ar-AA1CXWhT\n",
            "  Processing URL 5/10: https://www.msn.com/en-us/news/politics/2028-us-presidential-election-betting-odds-jd-vance-donald-trump-gavin-newsom-in-mix/ar-AA1CwWhl\n",
            "  Processing URL 6/10: https://www.aol.com/news/factbox-top-contenders-south-koreas-030329115.html\n",
            "  Processing URL 7/10: https://www.msn.com/en-us/money/news/mark-cuban-has-a-message-for-the-us-amid-trumps-tariff-turmoil-elections-have-consequences/ar-AA1CE3I0\n",
            "  Processing URL 8/10: https://www.msn.com/en-us/news/politics/how-democrats-potential-presidential-contenders-are-scoping-out-different-paths-to-2028/ar-AA1CJ7FY\n",
            "  Processing URL 9/10: https://www.msn.com/en-us/politics/government/why-a-presidential-term-limit-got-written-into-the-constitution-the-story-of-the-22nd-amendment/ar-AA1C5K7h\n",
            "  Processing URL 10/10: https://www.aljazeera.com/news/2025/3/26/trump-signs-new-executive-order-to-change-election-rules-what-we-know\n",
            "Waiting 5 seconds before next query...\n",
            "\n",
            "Processing query 3/30: Climate change and extreme weather events\n",
            "Found 10 URLs to process\n",
            "  Processing URL 1/10: https://www.bbc.com/future/article/20250410-how-climate-driven-thunderstorms-supercharge-pollen-allergies\n",
            "  Processing URL 2/10: https://www.msn.com/en-ca/weather/topstories/terminations-at-us-government-agencies-that-monitor-extreme-weather-events-will-have-negative-effects/ar-AA1CPv41\n",
            "  Processing URL 3/10: https://www.msn.com/en-us/weather/climate-change/why-is-every-weather-event-now-blamed-on-climate-change/vi-AA1CNpwf\n",
            "  Processing URL 4/10: https://www.msn.com/en-us/weather/topstories/this-scientist-wants-us-to-combat-the-climate-crisis-by-thinking-like-a-woman/ar-AA1ClYiG\n",
            "  Processing URL 5/10: https://www.msn.com/en-us/news/politics/donald-trump-cuts-will-impact-weather-forecasts-across-world-agency-warns/ar-AA1CXBUN\n",
            "  Processing URL 6/10: https://www.msn.com/en-ca/news/weather/most-ontario-utilities-dont-study-climate-risk-to-electrical-grid-survey/ar-AA1CY7P7\n",
            "  Processing URL 7/10: https://www.openaccessgovernment.org/europe-hit-hard-by-climate-extremes-in-2024/191712/\n",
            "  Processing URL 8/10: https://www.scientificamerican.com/article/hegseth-orders-elimination-of-pentagon-climate-planning-but-wants-extreme/\n",
            "Error fetching article from https://www.scientificamerican.com/article/hegseth-orders-elimination-of-pentagon-climate-planning-but-wants-extreme/: expected string or bytes-like object, got 'dict'\n",
            "  Processing URL 9/10: https://www.msn.com/en-ph/news/other/deadly-floods-storms-and-heatwaves-europe-suffered-the-serious-impacts-of-climate-change-in-2024/vi-AA1CXwTM\n",
            "  Processing URL 10/10: https://www.nytimes.com/2025/04/08/climate/rain-floods-climate-change.html\n",
            "Waiting 5 seconds before next query...\n",
            "\n",
            "Processing query 4/30: Advances in artificial intelligence\n",
            "Found 10 URLs to process\n",
            "  Processing URL 1/10: https://www.sciencefriday.com/segments/artificial-general-intelligence-future/\n",
            "  Processing URL 2/10: https://finance.yahoo.com/news/mdce-advances-artificial-intelligence-acquisition-131500288.html\n",
            "  Processing URL 3/10: https://nypost.com/2025/04/16/business/us-stocks-fall-after-white-house-announces-new-chip-export-restriction/\n",
            "  Processing URL 4/10: https://www.deseret.com/magazine/2025/04/15/religion-of-artificial-intelligence/\n",
            "  Processing URL 5/10: https://www.thedailystar.net/business/news/nvidia-kept-some-china-customers-the-dark-about-new-us-chip-clampdown-sources-say-3872481\n"
          ]
        },
        {
          "output_type": "stream",
          "name": "stderr",
          "text": [
            "WARNING:newspaper.network:get_html_status(): bad status code 403 on URL: https://www.fastcompany.com/91269023/artificial-intelligence-most-innovative-companies-2025, html: <html lang=\"en\"><head><title>fastcompany.com</title><style>#cmsg{animation: A 1.5s;}@keyframes A{0%{opacity:0;}99%{opacity:0;}100%{opacity:1;}}</style></head><body style=\"margin:0\"><p id=\"cmsg\">Please\n"
          ]
        },
        {
          "output_type": "stream",
          "name": "stdout",
          "text": [
            "  Processing URL 6/10: https://www.fastcompany.com/91269023/artificial-intelligence-most-innovative-companies-2025\n",
            "Error fetching article from https://www.fastcompany.com/91269023/artificial-intelligence-most-innovative-companies-2025: Article `download()` failed with Status code 403 for url None on URL https://www.fastcompany.com/91269023/artificial-intelligence-most-innovative-companies-2025\n",
            "  Processing URL 7/10: https://www.fingerlakes1.com/2025/04/05/hochul-suny-ai-society-initiative-2025/\n",
            "  Processing URL 8/10: https://www.govtech.com/policy/state-efficiency-bill-involving-ai-advances-in-north-carolina\n",
            "  Processing URL 9/10: https://www.msn.com/en-us/news/technology/demis-hassabis-is-preparing-for-ai-s-endgame/ar-AA1D1VEL\n",
            "  Processing URL 10/10: https://www.msn.com/en-us/news/other/nvidia-takes-5-5-billion-hit-as-us-clamps-down-on-its-china-chips/ar-AA1D1f3a\n",
            "Waiting 5 seconds before next query...\n",
            "\n",
            "Processing query 5/30: Major tech company earnings reports\n",
            "Found 10 URLs to process\n",
            "  Processing URL 1/10: https://www.msn.com/en-sg/news/other/week-ahead-ecb-rate-decision-china-s-gdp-and-major-company-earnings/ar-AA1CShtV\n",
            "  Processing URL 2/10: https://finance.yahoo.com/news/live/stock-market-today-dow-sp-500-nasdaq-futures-fall-as-nvidia-stock-weighs-on-tech-232520900.html\n",
            "  Processing URL 3/10: https://finance.yahoo.com/news/live/stock-market-today-dow-sp-500-nasdaq-slide-as-nvidias-dive-weighs-on-tech-133757299.html\n",
            "  Processing URL 4/10: https://www.msn.com/en-ae/money/top-stocks/european-stocks-gain-as-investors-shift-focus-to-earnings-reports/ar-AA1CSjS4\n",
            "  Processing URL 5/10: https://www.aol.com/news/taiwan-tech-supply-chain-stocks-023141239.html\n",
            "  Processing URL 6/10: https://www.schaeffersresearch.com/content/ezines/2025/04/15/stocks-eye-3rd-straight-win-amid-earnings-vix-pulls-back\n",
            "  Processing URL 7/10: https://www.msn.com/en-us/money/savingandinvesting/is-qualcomm-incorporated-qcom-the-best-technology-dividend-stock-to-invest-in/ar-AA1CQV5o\n",
            "  Processing URL 8/10: https://www.msn.com/en-us/money/savingandinvesting/is-texas-instruments-incorporated-txn-the-best-technology-dividend-stock-to-invest-in/ar-AA1CR1Qt\n",
            "  Processing URL 9/10: https://www.econotimes.com/Taiwan-Tech-Stocks-Rise-on-US-Tariff-Exemptions-TSMC-Dips-on-Semiconductor-Uncertainty-1707487\n",
            "  Processing URL 10/10: https://seekingalpha.com/article/4775025-seagate-technology-q3-preview-tariff-uncertainty-keeps-me-hesitant-for-now\n"
          ]
        },
        {
          "output_type": "stream",
          "name": "stderr",
          "text": [
            "WARNING:newspaper.network:get_html_status(): bad status code 403 on URL: https://seekingalpha.com/article/4775025-seagate-technology-q3-preview-tariff-uncertainty-keeps-me-hesitant-for-now, html: <!DOCTYPE html><html lang=\"en\"><head><meta charset=\"utf-8\"><meta name=\"viewport\" content=\"width=device-width,initial-scale=1\"><meta name=\"description\" content=\"px-captcha\"><title>Access to this page h\n"
          ]
        },
        {
          "output_type": "stream",
          "name": "stdout",
          "text": [
            "Error fetching article from https://seekingalpha.com/article/4775025-seagate-technology-q3-preview-tariff-uncertainty-keeps-me-hesitant-for-now: Article `download()` failed with Status code 403 for url None on URL https://seekingalpha.com/article/4775025-seagate-technology-q3-preview-tariff-uncertainty-keeps-me-hesitant-for-now\n",
            "Waiting 5 seconds before next query...\n",
            "\n",
            "Processing query 6/30: International conflict and peace negotiations\n",
            "Found 10 URLs to process\n",
            "  Processing URL 1/10: https://www.npr.org/2025/04/15/g-s1-60340/sudan-civil-war-peace-talks\n",
            "  Processing URL 2/10: https://www.msn.com/en-us/news/world/peace-talks-between-congo-and-m23-rebels-in-doha-delayed-sources-say/ar-AA1CAbQq\n",
            "  Processing URL 3/10: https://sps.columbia.edu/news/spotlighting-womens-impact-global-peace-initiatives\n",
            "  Processing URL 4/10: https://www.economist.com/science-and-technology/2025/04/16/ai-models-could-help-negotiators-secure-peace-deals\n",
            "  Processing URL 5/10: https://www.msn.com/en-us/news/world/foreign-ministers-attend-conference-in-london-to-try-to-halt-sudan-civil-war/ar-AA1CXNbo\n",
            "  Processing URL 6/10: https://www.reuters.com/world/africa/congo-m23-rebels-say-they-will-send-delegation-angola-peace-talks-2025-03-17/\n"
          ]
        },
        {
          "output_type": "stream",
          "name": "stderr",
          "text": [
            "WARNING:newspaper.network:get_html_status(): bad status code 401 on URL: https://www.reuters.com/world/africa/congo-m23-rebels-say-they-will-send-delegation-angola-peace-talks-2025-03-17/, html: <html lang=\"en\"><head><title>reuters.com</title><style>#cmsg{animation: A 1.5s;}@keyframes A{0%{opacity:0;}99%{opacity:0;}100%{opacity:1;}}</style></head><body style=\"margin:0\"><p id=\"cmsg\">Please ena\n"
          ]
        },
        {
          "output_type": "stream",
          "name": "stdout",
          "text": [
            "Error fetching article from https://www.reuters.com/world/africa/congo-m23-rebels-say-they-will-send-delegation-angola-peace-talks-2025-03-17/: Article `download()` failed with Status code 401 for url None on URL https://www.reuters.com/world/africa/congo-m23-rebels-say-they-will-send-delegation-angola-peace-talks-2025-03-17/\n",
            "  Processing URL 7/10: https://apnews.com/article/congo-m23-rebels-kinshasa-qatar-a1f5b5ee092cfecc2da524aea1acec6a\n",
            "  Processing URL 8/10: https://www.swissinfo.ch/eng/international-geneva/where-are-women-in-the-peace-talks/89025285\n",
            "  Processing URL 9/10: https://www.msn.com/en-us/news/world/putins-top-negotiator-gives-update-after-washington-peace-talks/ar-AA1Cfvti\n",
            "  Processing URL 10/10: https://freedomhouse.org/article/sudan-two-years-conflict-freedom-house-urges-end-violence-accountability-perpetrators\n",
            "Waiting 5 seconds before next query...\n",
            "\n",
            "Processing query 7/30: COVID-19 pandemic developments\n",
            "Found 10 URLs to process\n",
            "  Processing URL 1/10: https://www.newsday.com/news/nation/who-pandemic-treaty-covid-trump-f23815\n",
            "  Processing URL 2/10: https://abcnews.go.com/International/wireStory/member-countries-agree-draft-pandemic-treaty-avoid-covid-120856392\n",
            "  Processing URL 3/10: https://www.boston.com/news/health/2025/03/24/qa-nobel-prize-winning-researcher-drew-weissman-discusses-vaccine-development-hesitancy-and-preparing-for-another-pandemic/\n",
            "  Processing URL 4/10: https://www.economist.com/by-invitation/2025/04/14/the-head-of-the-gates-foundation-on-how-to-keep-helping-the-poor-as-aid-shrinks\n",
            "  Processing URL 5/10: https://www.clarionledger.com/story/news/2025/04/13/covid-19-created-a-new-normal-in-education-five-years-later/81761326007/\n",
            "  Processing URL 6/10: https://www.msn.com/en-ae/health/other/uae-abu-dhabi-prioritised-food-medicine-during-covid-19-lockdown-top-official-recalls/ar-AA1CBnGH\n",
            "  Processing URL 7/10: https://www.msn.com/en-us/money/realestate/final-details-laid-out-for-gilberts-next-development-in-downtown-detroit/ar-AA1CD3wb\n",
            "  Processing URL 8/10: https://www.msn.com/en-us/money/markets/chinas-economy-grows-at-a-54-annual-pace-in-jan-march-quarter/ar-AA1D05zr\n",
            "  Processing URL 9/10: https://www.smh.com.au/national/why-an-aussie-lab-is-racing-to-make-a-vaccine-for-haemorrhagic-fever-20250410-p5lqqr.html\n",
            "  Processing URL 10/10: https://omaha.com/news/local/business/health-care/collection_e55083b6-b3db-468b-b25d-eb286cee1991.html\n",
            "Waiting 5 seconds before next query...\n",
            "\n",
            "Processing query 8/30: Renewable energy breakthroughs\n",
            "Found 10 URLs to process\n",
            "  Processing URL 1/10: https://www.msn.com/en-ie/technology/renewable-energy/the-road-to-green-energy-what-s-holding-back-the-transition-to-100-renewable-power/vi-AA1D2wez\n",
            "  Processing URL 2/10: https://www.bignewsnetwork.com/news/278167878/china-leads-green-energy-transition-in-antarctic-exploration-experts\n",
            "  Processing URL 3/10: https://www.msn.com/en-ie/money/other/are-renewable-energy-subsidies-just-another-corporate-scam/vi-AA1CNnlq\n",
            "  Processing URL 4/10: https://menafn.com/1109436607/Australian-Researchers-Achieve-Solar-Cell-Efficiency-Breakthrough-with-Eco-Friendly-Technology\n",
            "  Processing URL 5/10: https://www.msn.com/en-us/news/technology/breakthrough-ev-battery-material-design-may-answer-range-anxiety-slow-cell-death/ar-AA1CXVFW\n",
            "  Processing URL 6/10: https://www.yahoo.com/news/global-renewable-energy-capacity-hits-112643043.html\n",
            "  Processing URL 7/10: https://www.datacenterdynamics.com/en/news/thousands-more-leave-us-department-of-energy-despite-trump-declaring-national-energy-emergency/\n",
            "  Processing URL 8/10: http://www.chinaview.cn/20250416/04b960fef44642a0bee2eab9f11197b6/c.html\n",
            "  Processing URL 9/10: https://www.cambridgenetwork.co.uk/news/eon-and-superdielectrics-collaborate-develop-revolutionary-energy-storage\n"
          ]
        },
        {
          "output_type": "stream",
          "name": "stderr",
          "text": [
            "WARNING:newspaper.extractors.image_extractor:error buffer is not large enough while fetching: https://www.cambridgenetwork.co.uk/core/misc/favicon.ico refer: https://www.cambridgenetwork.co.uk/news/eon-and-superdielectrics-collaborate-develop-revolutionary-energy-storage\n"
          ]
        },
        {
          "output_type": "stream",
          "name": "stdout",
          "text": [
            "  Processing URL 10/10: https://energydigital.com/articles/geothermal-googles-clean-energy-bet-to-decarbonise-taiwan\n"
          ]
        },
        {
          "output_type": "stream",
          "name": "stderr",
          "text": [
            "WARNING:newspaper.network:get_html_status(): bad status code 403 on URL: https://energydigital.com/articles/geothermal-googles-clean-energy-bet-to-decarbonise-taiwan, html: <!DOCTYPE html><html lang=\"en-US\"><head><title>Just a moment...</title><meta http-equiv=\"Content-Type\" content=\"text/html; charset=UTF-8\"><meta http-equiv=\"X-UA-Compatible\" content=\"IE=Edge\"><meta nam\n"
          ]
        },
        {
          "output_type": "stream",
          "name": "stdout",
          "text": [
            "Error fetching article from https://energydigital.com/articles/geothermal-googles-clean-energy-bet-to-decarbonise-taiwan: Article `download()` failed with Status code 403 for url None on URL https://energydigital.com/articles/geothermal-googles-clean-energy-bet-to-decarbonise-taiwan\n",
            "Waiting 5 seconds before next query...\n",
            "\n",
            "Processing query 9/30: Stock market trends and analysis\n",
            "Found 10 URLs to process\n",
            "  Processing URL 1/10: https://www.msn.com/en-in/money/top-stocks/stock-market-today-trade-guide-for-nifty-50-to-trump-s-tariff-eight-stocks-to-buy-or-sell-on-monday-7-april-2025/ar-AA1CpynN\n",
            "  Processing URL 2/10: https://www.msn.com/en-in/money/markets/us-china-trade-war-will-fpis-return-to-indian-stock-market-amid-global-chaos/ar-AA1CVUlh\n",
            "  Processing URL 3/10: https://www.investing.com/news/stock-market-news/snap-stock-dips-following-guggenheims-analysis-on-usage-trends-93CH-3962561\n"
          ]
        },
        {
          "output_type": "stream",
          "name": "stderr",
          "text": [
            "WARNING:newspaper.network:get_html_status(): bad status code 403 on URL: https://www.investing.com/news/stock-market-news/snap-stock-dips-following-guggenheims-analysis-on-usage-trends-93CH-3962561, html: <!DOCTYPE html><html lang=\"en-US\"><head><title>Just a moment...</title><meta http-equiv=\"Content-Type\" content=\"text/html; charset=UTF-8\"><meta http-equiv=\"X-UA-Compatible\" content=\"IE=Edge\"><meta nam\n"
          ]
        },
        {
          "output_type": "stream",
          "name": "stdout",
          "text": [
            "Error fetching article from https://www.investing.com/news/stock-market-news/snap-stock-dips-following-guggenheims-analysis-on-usage-trends-93CH-3962561: Article `download()` failed with Status code 403 for url None on URL https://www.investing.com/news/stock-market-news/snap-stock-dips-following-guggenheims-analysis-on-usage-trends-93CH-3962561\n",
            "  Processing URL 4/10: https://www.msn.com/en-in/money/markets/stock-market-today-trade-setup-for-nifty-50-to-q4-results-seven-stocks-to-buy-or-sell-on-wednesday-16-april-2025/ar-AA1CZzyw\n",
            "  Processing URL 5/10: https://seekingalpha.com/article/4775125-meta-platforms-stock-collapses-heres-when-to-buy-rating-upgrade\n",
            "  Processing URL 6/10: https://www.business-standard.com/content/specials/5-screener-secrets-every-trader-should-know-125040201179_1.html\n",
            "  Processing URL 7/10: https://seekingalpha.com/article/4772572-market-and-economic-insights-from-march-2025\n"
          ]
        },
        {
          "output_type": "stream",
          "name": "stderr",
          "text": [
            "WARNING:newspaper.network:get_html_status(): bad status code 403 on URL: https://seekingalpha.com/article/4772572-market-and-economic-insights-from-march-2025, html: <!DOCTYPE html><html lang=\"en\"><head><meta charset=\"utf-8\"><meta name=\"viewport\" content=\"width=device-width,initial-scale=1\"><meta name=\"description\" content=\"px-captcha\"><title>Access to this page h\n"
          ]
        },
        {
          "output_type": "stream",
          "name": "stdout",
          "text": [
            "Error fetching article from https://seekingalpha.com/article/4772572-market-and-economic-insights-from-march-2025: Article `download()` failed with Status code 403 for url None on URL https://seekingalpha.com/article/4772572-market-and-economic-insights-from-march-2025\n"
          ]
        },
        {
          "output_type": "stream",
          "name": "stderr",
          "text": [
            "WARNING:newspaper.network:get_html_status(): bad status code 403 on URL: https://www.morningstar.com/topics/stock-market-trends, html: <!DOCTYPE HTML PUBLIC \"-//W3C//DTD HTML 4.01 Transitional//EN\" \"http://www.w3.org/TR/html4/loose.dtd\">\n",
            "<HTML><HEAD><META HTTP-EQUIV=\"Content-Type\" CONTENT=\"text/html; charset=iso-8859-1\">\n",
            "<TITLE>ERROR\n"
          ]
        },
        {
          "output_type": "stream",
          "name": "stdout",
          "text": [
            "  Processing URL 8/10: https://www.morningstar.com/topics/stock-market-trends\n",
            "Error fetching article from https://www.morningstar.com/topics/stock-market-trends: Article `download()` failed with Website protected with CloudFront, url: None on URL https://www.morningstar.com/topics/stock-market-trends\n",
            "  Processing URL 9/10: https://www.bloomberg.com/professional/insights/commodities/golds-record-has-room-to-run-as-crude-oil-us-stocks-teeter/\n",
            "  Processing URL 10/10: https://cointelegraph.com/news/how-to-use-chatgpt-to-predict-crypto-market-trends\n"
          ]
        },
        {
          "output_type": "stream",
          "name": "stderr",
          "text": [
            "WARNING:newspaper.network:get_html_status(): bad status code 403 on URL: https://cointelegraph.com/news/how-to-use-chatgpt-to-predict-crypto-market-trends, html: <!DOCTYPE html><html lang=\"en-US\"><head><title>Just a moment...</title><meta http-equiv=\"Content-Type\" content=\"text/html; charset=UTF-8\"><meta http-equiv=\"X-UA-Compatible\" content=\"IE=Edge\"><meta nam\n"
          ]
        },
        {
          "output_type": "stream",
          "name": "stdout",
          "text": [
            "Error fetching article from https://cointelegraph.com/news/how-to-use-chatgpt-to-predict-crypto-market-trends: Article `download()` failed with Status code 403 for url None on URL https://cointelegraph.com/news/how-to-use-chatgpt-to-predict-crypto-market-trends\n",
            "Waiting 5 seconds before next query...\n",
            "\n",
            "Processing query 10/30: Major sports event highlights\n",
            "Found 10 URLs to process\n",
            "  Processing URL 1/10: https://www.msn.com/en-us/sports/other/mixed-golf-and-gymnastics-highlight-new-events-for-2028-los-angeles-olympics/ar-AA1CChzc\n",
            "  Processing URL 2/10: https://www.postandcourier.com/aikenstandard/lifestyle/arts-and-humanities-museum-highlights-work-of-major-gullah-artist/article_ef3c326a-4cd5-41ed-b81c-908225708ef4.html\n",
            "  Processing URL 3/10: https://sports.yahoo.com/article/ranking-10-most-collectible-events-191500768.html\n",
            "  Processing URL 4/10: https://www.devdiscourse.com/article/sports-games/3344959-sports-highlights-triumphs-extensions-and-tragedies\n",
            "  Processing URL 5/10: https://www.devdiscourse.com/article/sports-games/3335992-sports-highlights-giant-leaps-and-farewell-waves\n",
            "  Processing URL 6/10: https://www.msn.com/en-us/sports/golf/masters-par-3-contest-coverage-leaderboard-highlights-from-echavarrias-win/ar-AA1CAzzt\n",
            "  Processing URL 7/10: https://readwrite.com/wla-president-highlights-need-to-promote-integrity-in-sports-betting/\n"
          ]
        },
        {
          "output_type": "stream",
          "name": "stderr",
          "text": [
            "WARNING:newspaper.network:get_html_status(): bad status code 403 on URL: https://readwrite.com/wla-president-highlights-need-to-promote-integrity-in-sports-betting/, html: <!DOCTYPE html><html lang=\"en-US\"><head><title>Just a moment...</title><meta http-equiv=\"Content-Type\" content=\"text/html; charset=UTF-8\"><meta http-equiv=\"X-UA-Compatible\" content=\"IE=Edge\"><meta nam\n"
          ]
        },
        {
          "output_type": "stream",
          "name": "stdout",
          "text": [
            "Error fetching article from https://readwrite.com/wla-president-highlights-need-to-promote-integrity-in-sports-betting/: Article `download()` failed with Status code 403 for url None on URL https://readwrite.com/wla-president-highlights-need-to-promote-integrity-in-sports-betting/\n",
            "  Processing URL 8/10: https://www.msn.com/en-us/sports/golf/world-no-1-scottie-scheffler-highlights-field-for-rbc-heritage-5th-signature-event-of-2025/ar-AA1CTDpB\n",
            "  Processing URL 9/10: https://www.msn.com/en-ae/news/featured/sports-coverage-khaleej-times-brings-global-and-local-sporting-action-to-readers/ar-AA1D0LAQ\n",
            "  Processing URL 10/10: https://georgetownvoice.com/2025/04/14/collegiate-competitive-dance-the-best-sport-youve-never-watched/\n",
            "Waiting 5 seconds before next query...\n",
            "\n",
            "Processing query 11/30: Space exploration and discoveries\n",
            "Found 10 URLs to process\n",
            "  Processing URL 1/10: https://www.msn.com/en-gb/news/world/texas-senators-move-space-shuttle-discovery-from-smithsonian-to-houston/ar-AA1CKl4j\n",
            "  Processing URL 2/10: https://spacenews.com/data-and-artificial-intelligence-the-fuel-behind-space-discovery/\n",
            "  Processing URL 3/10: https://www.wusa9.com/article/news/politics/lawmakers-want-to-transfer-space-shuttle-discovery-to-texas/65-f3e3510a-7800-4b54-84a5-185f37261f98\n"
          ]
        },
        {
          "output_type": "stream",
          "name": "stderr",
          "text": [
            "/usr/local/lib/python3.11/dist-packages/dateutil/parser/_parser.py:1207: UnknownTimezoneWarning: tzname EDT identified but not understood.  Pass `tzinfos` argument in order to correctly return a timezone-aware datetime.  In a future version, this will raise an exception.\n",
            "  warnings.warn(\"tzname {tzname} identified but not understood.  \"\n"
          ]
        },
        {
          "output_type": "stream",
          "name": "stdout",
          "text": [
            "  Processing URL 4/10: https://www.msn.com/en-in/news/techandscience/why-asteroid-2024-yr4-s-strange-shape-is-a-threat-to-the-moon-and-not-earth/ar-AA1CB5Jj\n",
            "  Processing URL 5/10: https://www.msn.com/en-us/news/technology/trump-s-unconventional-nasa-pick-signals-mars-intentions-in-confirmation-hearing/ar-AA1CAGu7\n",
            "  Processing URL 6/10: https://www.msn.com/en-us/video/peopleandplaces/why-cassini-s-surprising-discoveries-changed-space-exploration/vi-AA1BhCOK\n",
            "  Processing URL 7/10: https://www.msn.com/en-in/news/India/fram2-astronauts-share-breathtaking-video-of-bay-of-bengal-from-space-during-arctic-journey-watch/ar-AA1CkIlB\n",
            "  Processing URL 8/10: https://www.yahoo.com/news/nasas-artemis-2-astronauts-reveal-210000799.html\n",
            "  Processing URL 9/10: https://www.cantonrep.com/story/lifestyle/columns/2025/03/30/nasa-celebrates-35-years-of-hubble-space-exploration/82651262007/\n",
            "  Processing URL 10/10: https://www.businesswire.com/news/home/20250408711962/en/Monaco-Takes-Center-Stage-Showcasing-the-Principalitys-Unexpected-Role-in-Space-Exploration-with-Series-of-Signature-Events\n",
            "Waiting 5 seconds before next query...\n",
            "\n",
            "Processing query 12/30: Cybersecurity threats and data breaches\n",
            "Found 10 URLs to process\n",
            "  Processing URL 1/10: https://www.forbes.com/councils/forbestechcouncil/2025/04/09/leadership-in-cybersecurity-disruption-turning-emerging-threats-into-competitive-opportunities/\n",
            "  Processing URL 2/10: https://techbullion.com/breaking-news-kiteworks-unveils-the-real-impact-behind-2024s-biggest-data-breaches/\n",
            "  Processing URL 3/10: https://www.forbes.com/councils/forbestechcouncil/2025/04/08/cybersecurity-in-the-age-of-ai-how-businesses-can-defend-against-automated-threats/\n",
            "  Processing URL 4/10: https://www.msn.com/en-us/health/other/cybersecurity-experts-map-the-critical-moments-after-a-hospital-data-breach/ar-AA1CLzKa\n",
            "  Processing URL 5/10: https://www.msn.com/en-ae/money/news/cac-international-bank-strengthens-cybersecurity-with-iso-270012022-certification/ar-AA1CRGxI\n",
            "  Processing URL 6/10: https://securityboulevard.com/2025/04/top-data-breaches-of-march-2025/\n",
            "  Processing URL 7/10: https://www.postcourier.com.pg/cybersecurity-for-businesses-in-png-protecting-your-data-and-reputation/\n",
            "  Processing URL 8/10: https://punchng.com/cjn-cautions-judicial-officials-on-data-breaches-cyber-threats/\n",
            "  Processing URL 9/10: https://www.msn.com/en-us/money/other/200-million-social-media-records-leaked-in-major-x-data-breach/ar-AA1CBt8G\n",
            "  Processing URL 10/10: https://www.cyberdefensemagazine.com/how-ai-is-transforming-the-fight-against-data-breaches/\n",
            "Waiting 5 seconds before next query...\n",
            "\n",
            "Processing query 13/30: Healthcare policy changes\n",
            "Found 10 URLs to process\n",
            "  Processing URL 1/10: https://www.msn.com/en-us/news/us/trump-administration-announces-freeze-in-2-2-billion-for-harvard-after-university-rejects-request-for-policy-changes/ar-AA1CUqYz\n",
            "  Processing URL 2/10: https://www.msn.com/en-us/news/politics/trump-executive-order-backs-change-to-medicare-negotiation-pushed-by-drug-industry/ar-AA1CZCYl\n",
            "  Processing URL 3/10: https://www.politico.com/newsletters/women-rule/2025/04/04/how-doge-cuts-will-change-womens-health-00272000\n"
          ]
        },
        {
          "output_type": "stream",
          "name": "stderr",
          "text": [
            "WARNING:newspaper.network:get_html_status(): bad status code 403 on URL: https://www.politico.com/newsletters/women-rule/2025/04/04/how-doge-cuts-will-change-womens-health-00272000, html: <!DOCTYPE html><html lang=\"en-US\"><head><title>Just a moment...</title><meta http-equiv=\"Content-Type\" content=\"text/html; charset=UTF-8\"><meta http-equiv=\"X-UA-Compatible\" content=\"IE=Edge\"><meta nam\n"
          ]
        },
        {
          "output_type": "stream",
          "name": "stdout",
          "text": [
            "Error fetching article from https://www.politico.com/newsletters/women-rule/2025/04/04/how-doge-cuts-will-change-womens-health-00272000: Article `download()` failed with Status code 403 for url None on URL https://www.politico.com/newsletters/women-rule/2025/04/04/how-doge-cuts-will-change-womens-health-00272000\n",
            "  Processing URL 4/10: https://www.bellanaija.com/2025/04/banking-on-womens-healthconference/\n",
            "  Processing URL 5/10: https://theconversation.com/massive-cuts-to-health-and-human-services-workforce-signal-a-dramatic-shift-in-us-health-policy-253316\n",
            "  Processing URL 6/10: https://www.msn.com/en-au/health/other/townsville-health-service-changes-incident-response-policy-after-nurse-assaulted/ar-AA1CDqSv\n",
            "  Processing URL 7/10: https://www.ajmc.com/view/how-recent-federal-policy-changes-are-shaping-managed-care-pharmacy\n",
            "  Processing URL 8/10: https://www.aha.org/news/chairpersons-file/2025-04-14-resources-navigating-transformation-and-change\n",
            "  Processing URL 9/10: https://www.crainsnewyork.com/health-pulse/new-york-could-lose-future-medicaid-dollars-amid-cms-policy-change\n"
          ]
        },
        {
          "output_type": "stream",
          "name": "stderr",
          "text": [
            "WARNING:newspaper.network:get_html_status(): bad status code 403 on URL: https://www.crainsnewyork.com/health-pulse/new-york-could-lose-future-medicaid-dollars-amid-cms-policy-change, html: <!DOCTYPE html><html lang=\"en-US\"><head><title>Just a moment...</title><meta http-equiv=\"Content-Type\" content=\"text/html; charset=UTF-8\"><meta http-equiv=\"X-UA-Compatible\" content=\"IE=Edge\"><meta nam\n"
          ]
        },
        {
          "output_type": "stream",
          "name": "stdout",
          "text": [
            "Error fetching article from https://www.crainsnewyork.com/health-pulse/new-york-could-lose-future-medicaid-dollars-amid-cms-policy-change: Article `download()` failed with Status code 403 for url None on URL https://www.crainsnewyork.com/health-pulse/new-york-could-lose-future-medicaid-dollars-amid-cms-policy-change\n",
            "  Processing URL 10/10: https://www.thelancet.com/journals/lancet/article/PIIS0140-6736(25)00413-1/fulltext\n"
          ]
        },
        {
          "output_type": "stream",
          "name": "stderr",
          "text": [
            "WARNING:newspaper.network:get_html_status(): bad status code 403 on URL: https://www.thelancet.com/journals/lancet/article/PIIS0140-6736(25)00413-1/fulltext, html: <!DOCTYPE html><html lang=\"en-US\"><head><title>Just a moment...</title><meta http-equiv=\"Content-Type\" content=\"text/html; charset=UTF-8\"><meta http-equiv=\"X-UA-Compatible\" content=\"IE=Edge\"><meta nam\n"
          ]
        },
        {
          "output_type": "stream",
          "name": "stdout",
          "text": [
            "Error fetching article from https://www.thelancet.com/journals/lancet/article/PIIS0140-6736(25)00413-1/fulltext: Article `download()` failed with Status code 403 for url None on URL https://www.thelancet.com/journals/lancet/article/PIIS0140-6736(25)00413-1/fulltext\n",
            "Waiting 5 seconds before next query...\n",
            "\n",
            "Processing query 14/30: Immigration and border policy news\n",
            "Found 10 URLs to process\n",
            "  Processing URL 1/10: https://townhall.com/columnists/byronyork/2025/04/09/columnistsbyronyork20250408tim-walz-and-the-border-crisis-that-would-still-be-a-crisis-n2655212\n",
            "  Processing URL 2/10: https://www.newsweek.com/ice-illegal-ideas-border-security-social-media-post-2058217\n"
          ]
        },
        {
          "output_type": "stream",
          "name": "stderr",
          "text": [
            "WARNING:newspaper.network:get_html_status(): bad status code 403 on URL: https://www.newsweek.com/ice-illegal-ideas-border-security-social-media-post-2058217, html: Forbidden\n"
          ]
        },
        {
          "output_type": "stream",
          "name": "stdout",
          "text": [
            "Error fetching article from https://www.newsweek.com/ice-illegal-ideas-border-security-social-media-post-2058217: Article `download()` failed with Status code 403 for url None on URL https://www.newsweek.com/ice-illegal-ideas-border-security-social-media-post-2058217\n",
            "  Processing URL 3/10: https://www.nytimes.com/2025/04/11/us/politics/trump-military-border.html\n"
          ]
        },
        {
          "output_type": "stream",
          "name": "stderr",
          "text": [
            "WARNING:newspaper.network:get_html_status(): bad status code 401 on URL: https://www.reuters.com/world/us/trumps-immigration-policies-find-support-he-expands-crackdown-2025-03-26/, html: <html lang=\"en\"><head><title>reuters.com</title><style>#cmsg{animation: A 1.5s;}@keyframes A{0%{opacity:0;}99%{opacity:0;}100%{opacity:1;}}</style></head><body style=\"margin:0\"><p id=\"cmsg\">Please ena\n"
          ]
        },
        {
          "output_type": "stream",
          "name": "stdout",
          "text": [
            "  Processing URL 4/10: https://www.reuters.com/world/us/trumps-immigration-policies-find-support-he-expands-crackdown-2025-03-26/\n",
            "Error fetching article from https://www.reuters.com/world/us/trumps-immigration-policies-find-support-he-expands-crackdown-2025-03-26/: Article `download()` failed with Status code 401 for url None on URL https://www.reuters.com/world/us/trumps-immigration-policies-find-support-he-expands-crackdown-2025-03-26/\n",
            "  Processing URL 5/10: https://www.usatoday.com/story/news/2025/04/09/border-czar-homan-could-be-key-to-immigration-fight-in-new-york/83007747007/\n",
            "  Processing URL 6/10: https://www.msn.com/en-us/news/opinion/anti-immigration-fervor-isn-t-new-in-the-nj-or-the-us-how-will-deportations-end/ar-AA1CrRvg\n",
            "  Processing URL 7/10: https://www.msn.com/en-us/money/markets/californias-demographic-earthquake-asian-immigrants-rise-latinos-decline-in-big-shift/ar-AA1CStc0\n",
            "  Processing URL 8/10: https://www.msn.com/en-us/news/politics/trump-authorizes-military-use-of-public-land-along-southern-border/ar-AA1CM5XQ\n",
            "  Processing URL 9/10: https://www.msn.com/en-us/news/us/all-quiet-on-the-southern-front-how-the-border-has-changed-under-trump/ar-AA1BL3w8\n",
            "  Processing URL 10/10: https://www.msn.com/en-us/news/us/sheriffs-would-be-required-to-cooperate-with-immigration-agents-under-bill-approved-by-senate/ar-AA1C6rK6\n",
            "Waiting 5 seconds before next query...\n",
            "\n",
            "Processing query 15/30: Education reform and school closures\n",
            "Found 10 URLs to process\n",
            "  Processing URL 1/10: https://www.reformer.com/education/vermont-house-advances-education-reform-bill/article_63cac9db-8197-48b4-b9bb-6b12991081c4.html\n",
            "  Processing URL 2/10: https://www.reformer.com/local-news/education-reform-could-mean-closing-of-saxtons-river-elementary/article_e49b45a0-cce7-42a9-9a65-df1a75996758.html\n",
            "  Processing URL 3/10: https://www.msn.com/en-us/news/politics/house-democrats-finalize-education-reform-plan/vi-AA1CykRe\n",
            "  Processing URL 4/10: https://www.jdsupra.com/legalnews/president-trump-orders-closure-of-the-6700892/\n",
            "  Processing URL 5/10: https://www.msn.com/en-us/news/other/house-gives-preliminary-approval-to-education-reform-bill-but-changes-are-expected/ar-AA1CHkiL\n",
            "  Processing URL 6/10: https://www.msn.com/en-us/politics/government/vermont-house-gives-final-approval-to-education-reform-bill/ar-AA1CLsz1\n",
            "  Processing URL 7/10: https://www.msn.com/en-ph/education-and-learning/higher-education/university-of-manila-s-law-school-ordered-closed-for-not-meeting-standards/ar-AA1CuXLi\n",
            "  Processing URL 8/10: https://ijr.com/america-teeters-on-precipice-of-radical-education-reform-after-trump-shuts-off-lights-at-ed/\n",
            "  Processing URL 9/10: https://bethesdamagazine.com/2025/04/08/blueprint-education-reform-plan-trimmed/\n",
            "  Processing URL 10/10: https://www.msn.com/en-us/news/politics/democrats-sense-an-opportunity-to-rally-opposition-to-trump-education-agenda/ar-AA1CObUL\n",
            "Waiting 5 seconds before next query...\n",
            "\n",
            "Processing query 16/30: Natural disasters and humanitarian response\n",
            "Found 10 URLs to process\n",
            "  Processing URL 1/10: https://www.msn.com/en-us/news/other/foreign-affairs-dems-press-rubio-on-burma-earthquake-response-usaid-cuts/ar-AA1CZFUj\n",
            "  Processing URL 2/10: https://www.msn.com/en-us/news/world/un-humanitarian-agency-will-lay-off-hundreds-of-staff-due-to-funding-crisis/ar-AA1CLB0v\n",
            "  Processing URL 3/10: https://www.msn.com/en-us/news/other/myanmar-s-deadly-earthquake-exposes-void-left-by-us-in-global-disaster-responses/ar-AA1CHnzv\n",
            "  Processing URL 4/10: https://www.tribuneindia.com/news/world/tiger-triumph-2025-india-us-humanitarian-assistance-and-disaster-relief-exercise-ends-in-andhra-pradesh/\n",
            "  Processing URL 5/10: https://www.msn.com/en-ph/money/economy/globe-joins-un-led-initiative-using-ai-for-disaster-response/ar-AA1CmliQ\n",
            "  Processing URL 6/10: https://www.thefastmode.com/technology-solutions/40746-globe-becomes-first-telco-to-join-un-led-disha-initiative-for-disaster-response\n",
            "  Processing URL 7/10: https://www.msn.com/en-ae/public-safety-and-emergencies/health-and-safety-alerts/uae-innovates-to-aid-disaster-affected-communities-worldwide/ar-AA1Cwe1u\n",
            "  Processing URL 8/10: https://www.msn.com/en-in/news/India/why-indias-disaster-diplomacy-is-becoming-so-important/ar-AA1C9aMb\n",
            "  Processing URL 9/10: https://thediplomat.com/2025/04/airstrikes-amid-earthquakes-myanmars-double-disaster/\n",
            "  Processing URL 10/10: https://www.manilatimes.net/2025/04/02/tmt-newswire/pr-newswire/globe-is-first-telco-to-join-un-led-disha-initiative-for-disaster-response/2084869\n",
            "Waiting 5 seconds before next query...\n",
            "\n",
            "Processing query 17/30: Major legal cases and court rulings\n",
            "Found 10 URLs to process\n",
            "  Processing URL 1/10: https://www.msn.com/en-us/news/world/uk-supreme-court-says-legal-definition-of-woman-excludes-trans-women-in-landmark-ruling/ar-AA1D1cmf\n",
            "  Processing URL 2/10: https://www.msn.com/en-us/news/world/uk-supreme-court-to-rule-on-landmark-legal-challenge-over-legal-definition-of-a-woman/ar-AA1D0hbm\n",
            "  Processing URL 3/10: https://www.mirror.co.uk/news/politics/breaking-major-uk-supreme-court-35063898\n",
            "  Processing URL 4/10: https://www.mirror.co.uk/3am/celebrity-news/jk-rowling-responds-supreme-courts-35066284\n",
            "  Processing URL 5/10: https://www.msn.com/en-us/news/other/trump-touts-supreme-court-deportation-ruling-as-a-major-victory-but-legal-fight-is-far-from-over/ar-AA1CxRuk\n",
            "  Processing URL 6/10: https://www.msn.com/en-us/news/politics/trump-cashes-in-on-supreme-court-rulings-tackling-unlawful-regulations/ar-AA1CPnoX\n",
            "  Processing URL 7/10: https://www.leeds-live.co.uk/news/uk-world-news/legal-definition-woman-decided-major-31438303\n",
            "  Processing URL 8/10: https://www.usnews.com/news/us/articles/2025-04-08/trump-touts-supreme-court-deportation-ruling-as-a-major-victory-but-legal-fight-is-far-from-over\n",
            "  Processing URL 9/10: https://www.msn.com/en-us/news/world/uk-supreme-court-rules-on-legal-definition-of-a-woman/ar-AA1D21Ti\n",
            "  Processing URL 10/10: https://www.npr.org/2025/04/07/nx-s1-5345601/supreme-court-alien-enemies-act\n",
            "Waiting 5 seconds before next query...\n",
            "\n",
            "Processing query 18/30: Celebrity news and entertainment industry updates\n",
            "Found 10 URLs to process\n",
            "  Processing URL 1/10: https://www.msn.com/en-us/entertainment/entertainment-celebrity/crash-zoom-cannes-2025-lineup-and-an-anora-pvod-success/ar-AA1D2pYa\n",
            "  Processing URL 2/10: https://www.msn.com/en-za/news/other/abdul-khoza-pens-an-emotional-open-letter-to-the-industry/ar-AA1D2c68\n",
            "  Processing URL 3/10: https://www.msn.com/en-us/movies/celebrity/wayans-family-guide-the-famous-familys-ups-and-downs-over-the-years/ar-AA1CtSRo\n",
            "  Processing URL 4/10: https://www.news.com.au/entertainment/celebrity-life/do-you-want-the-truth-australian-actor-rodger-corser-reveals-tough-reality-of-entertainment-industry/news-story/ce0e525454a194c433f57860a9325953\n"
          ]
        },
        {
          "output_type": "stream",
          "name": "stderr",
          "text": [
            "WARNING:newspaper.network:get_html_status(): bad status code 403 on URL: https://www.news.com.au/entertainment/celebrity-life/do-you-want-the-truth-australian-actor-rodger-corser-reveals-tough-reality-of-entertainment-industry/news-story/ce0e525454a194c433f57860a9325953, html: <!DOCTYPE html>\n",
            "<html>\n",
            "   <body>\n",
            "      <h2>You might have been detected and blocked as a crawler bot!<h2>\n",
            "      <h3>News Corp Australia uses software that manages crawler bot traffic on our websites. \n"
          ]
        },
        {
          "output_type": "stream",
          "name": "stdout",
          "text": [
            "Error fetching article from https://www.news.com.au/entertainment/celebrity-life/do-you-want-the-truth-australian-actor-rodger-corser-reveals-tough-reality-of-entertainment-industry/news-story/ce0e525454a194c433f57860a9325953: Article `download()` failed with Status code 403 for url None on URL https://www.news.com.au/entertainment/celebrity-life/do-you-want-the-truth-australian-actor-rodger-corser-reveals-tough-reality-of-entertainment-industry/news-story/ce0e525454a194c433f57860a9325953\n",
            "  Processing URL 5/10: https://www.bollywoodhungama.com/bollywood/page/4/\n",
            "  Processing URL 6/10: https://www.citizen.co.za/entertainment/celebrity-news/so-much-has-changed-lalla-hirayama-on-life-after-leaving-the-entertainment-industry/\n",
            "  Processing URL 7/10: https://www.manilatimes.net/2025/04/15/tmt-newswire/globenewswire/stargaze-welcomes-celebrity-chef-and-food-network-star-jeff-mauro-to-advisory-board/2092763\n",
            "  Processing URL 8/10: https://www.newsweek.com/entertainment/celebrity-news/taylor-swift-travis-kelce-eras-tour-surprise-iheartradio-music-awards-win-2046478\n"
          ]
        },
        {
          "output_type": "stream",
          "name": "stderr",
          "text": [
            "WARNING:newspaper.network:get_html_status(): bad status code 403 on URL: https://www.newsweek.com/entertainment/celebrity-news/taylor-swift-travis-kelce-eras-tour-surprise-iheartradio-music-awards-win-2046478, html: Forbidden\n"
          ]
        },
        {
          "output_type": "stream",
          "name": "stdout",
          "text": [
            "Error fetching article from https://www.newsweek.com/entertainment/celebrity-news/taylor-swift-travis-kelce-eras-tour-surprise-iheartradio-music-awards-win-2046478: Article `download()` failed with Status code 403 for url None on URL https://www.newsweek.com/entertainment/celebrity-news/taylor-swift-travis-kelce-eras-tour-surprise-iheartradio-music-awards-win-2046478\n",
            "  Processing URL 9/10: https://www.eonline.com/news/1415648/actors-share-how-much-money-they-make\n",
            "  Processing URL 10/10: https://rollingout.com/2025/04/06/washington-rejects-presidential-affair/\n",
            "Waiting 5 seconds before next query...\n",
            "\n",
            "Processing query 19/30: Scientific research breakthroughs\n",
            "Found 10 URLs to process\n",
            "  Processing URL 1/10: https://www.scientificamerican.com/article/dear-breakthrough-prize-billionaires-fund-the-science-youre-watching-trump/\n",
            "  Processing URL 2/10: https://www.msn.com/en-us/news/technology/science-news-this-week-controversy-around-the-dire-wolf-de-extinctions-and-a-3d-hologram-breakthrough/ar-AA1CMm7j\n",
            "  Processing URL 3/10: https://www.hollywoodreporter.com/news/general-news/2025-breakthrough-prize-ceremony-1236186305/\n",
            "  Processing URL 4/10: https://theconversation.com/cuts-to-science-research-funding-cut-american-lives-short-federal-support-is-essential-for-medical-breakthroughs-252150\n",
            "  Processing URL 5/10: https://www.unite.ai/the-rise-of-ai-in-scientific-discoveries-can-ai-truly-think-outside-the-box/\n"
          ]
        },
        {
          "output_type": "stream",
          "name": "stderr",
          "text": [
            "WARNING:newspaper.network:get_html_status(): bad status code 403 on URL: https://www.seattletimes.com/opinion/if-we-gut-science-where-will-the-discoveries-of-the-future-come-from/, html: <!DOCTYPE HTML PUBLIC \"-//W3C//DTD HTML 4.01 Transitional//EN\" \"http://www.w3.org/TR/html4/loose.dtd\">\n",
            "<HTML><HEAD><META HTTP-EQUIV=\"Content-Type\" CONTENT=\"text/html; charset=iso-8859-1\">\n",
            "<TITLE>ERROR\n"
          ]
        },
        {
          "output_type": "stream",
          "name": "stdout",
          "text": [
            "  Processing URL 6/10: https://www.seattletimes.com/opinion/if-we-gut-science-where-will-the-discoveries-of-the-future-come-from/\n",
            "Error fetching article from https://www.seattletimes.com/opinion/if-we-gut-science-where-will-the-discoveries-of-the-future-come-from/: Article `download()` failed with Website protected with CloudFront, url: None on URL https://www.seattletimes.com/opinion/if-we-gut-science-where-will-the-discoveries-of-the-future-come-from/\n",
            "  Processing URL 7/10: https://www.oregonlive.com/opinion/2025/04/opinion-vital-medical-breakthroughs-still-need-animal-research.html\n",
            "  Processing URL 8/10: https://truthout.org/articles/cuts-to-biomedical-research-will-cost-lives-scientific-breakthroughs-careers/\n",
            "  Processing URL 9/10: https://www.bizjournals.com/boston/news/2025/04/06/breakthrough-prize-2025.html\n"
          ]
        },
        {
          "output_type": "stream",
          "name": "stderr",
          "text": [
            "WARNING:newspaper.network:get_html_status(): bad status code 403 on URL: https://www.bizjournals.com/boston/news/2025/04/06/breakthrough-prize-2025.html, html: <html style=\"height:100%\"><head><META NAME=\"ROBOTS\" CONTENT=\"NOINDEX, NOFOLLOW\"><meta name=\"format-detection\" content=\"telephone=no\"><meta name=\"viewport\" content=\"initial-scale=1.0\"><meta http-equiv=\n"
          ]
        },
        {
          "output_type": "stream",
          "name": "stdout",
          "text": [
            "Error fetching article from https://www.bizjournals.com/boston/news/2025/04/06/breakthrough-prize-2025.html: Article `download()` failed with Status code 403 for url None on URL https://www.bizjournals.com/boston/news/2025/04/06/breakthrough-prize-2025.html\n",
            "  Processing URL 10/10: https://www.msn.com/en-us/news/technology/scientists-reveal-advance-in-brain-research-once-thought-impossible/ar-AA1CYHuO\n",
            "Waiting 5 seconds before next query...\n",
            "\n",
            "Processing query 20/30: Trade agreements and tariffs\n",
            "Found 10 URLs to process\n",
            "  Processing URL 1/10: https://www.msn.com/en-us/money/markets/trumps-tariffs-are-putting-consumers-and-businesses-in-a-bind-tech-association-warns/ar-AA1D1nuz\n",
            "  Processing URL 2/10: https://www.msn.com/en-us/money/markets/tariffs-will-slam-car-sales-and-production-analysts-say/ar-AA1CZ8Ud\n",
            "  Processing URL 3/10: https://www.aol.com/news/tech-expert-trade-agreements-not-192656067.html\n",
            "  Processing URL 4/10: https://www.msn.com/en-us/money/markets/what-to-know-about-the-trump-tariffs-upending-global-trade-and-markets/ar-AA1CfDy5\n",
            "  Processing URL 5/10: https://www.forbes.com/councils/forbesbusinesscouncil/2025/04/15/understanding-tariffs-how-they-impact-you-and-the-global-economy/\n",
            "  Processing URL 6/10: https://www.usatoday.com/story/news/2025/04/08/what-are-tariffs-in-simple-terms-when-do-tariffs-go-into-effect-what-is-section-232-tariffs/82992706007/\n",
            "  Processing URL 7/10: https://www.msn.com/en-us/money/markets/trump-s-tariffs-aim-to-reset-global-trade-and-boost-america-s-workers/ar-AA1CfQr7\n",
            "  Processing URL 8/10: https://www.msn.com/en-us/news/other/china-s-xi-inks-vietnam-deals-as-tariff-war-deepens-trump-says-they-re-trying-to-screw-us/ar-AA1D1HQJ\n",
            "  Processing URL 9/10: https://www.msn.com/en-us/money/markets/us-and-india-discuss-tariffs-and-progress-towards-fair-trade/ar-AA1CtlEP\n",
            "  Processing URL 10/10: https://www.msn.com/en-us/money/news/will-trump-negotiate-tariffs-these-countries-say-they-want-to-negotiate-fair-deals/ar-AA1CoKcm\n",
            "Waiting 5 seconds before next query...\n",
            "\n",
            "Processing query 21/30: Cryptocurrency market movements\n",
            "Found 10 URLs to process\n",
            "  Processing URL 1/10: https://beincrypto.com/movement-labs-investigation-market-maker-misconduct/\n",
            "  Processing URL 2/10: https://www.msn.com/en-us/money/markets/crypto-etp-outflows-explained-everything-you-need-to-know/ar-AA1CIMcb\n",
            "  Processing URL 3/10: https://coingape.com/crypto-market-thrives-as-investors-pull-out-of-stocks-know-why/\n",
            "  Processing URL 4/10: https://www.msn.com/en-in/autos/photos/intelmarkets-intl-outshines-the-best-crypto-exchanges-with-a-historic-ai-innovation-in-trading/ar-AA1CYL0D\n"
          ]
        },
        {
          "output_type": "stream",
          "name": "stderr",
          "text": [
            "WARNING:newspaper.network:get_html_status(): bad status code 403 on URL: https://www.thestreet.com/crypto/newsroom/must-track-bitcoin-price-news-market-trends, html: <html lang=\"en\"><head><title>thestreet.com</title><style>#cmsg{animation: A 1.5s;}@keyframes A{0%{opacity:0;}99%{opacity:0;}100%{opacity:1;}}</style></head><body style=\"margin:0\"><p id=\"cmsg\">Please e\n"
          ]
        },
        {
          "output_type": "stream",
          "name": "stdout",
          "text": [
            "  Processing URL 5/10: https://www.thestreet.com/crypto/newsroom/must-track-bitcoin-price-news-market-trends\n",
            "Error fetching article from https://www.thestreet.com/crypto/newsroom/must-track-bitcoin-price-news-market-trends: Article `download()` failed with Status code 403 for url None on URL https://www.thestreet.com/crypto/newsroom/must-track-bitcoin-price-news-market-trends\n",
            "  Processing URL 6/10: https://coingape.com/bitcoin-price-likely-to-follow-stock-market-movement-after-trumps-tariff-report/\n",
            "  Processing URL 7/10: https://cointelegraph.com/news/how-to-use-chatgpt-to-predict-crypto-market-trends\n"
          ]
        },
        {
          "output_type": "stream",
          "name": "stderr",
          "text": [
            "WARNING:newspaper.network:get_html_status(): bad status code 403 on URL: https://cointelegraph.com/news/how-to-use-chatgpt-to-predict-crypto-market-trends, html: <!DOCTYPE html><html lang=\"en-US\"><head><title>Just a moment...</title><meta http-equiv=\"Content-Type\" content=\"text/html; charset=UTF-8\"><meta http-equiv=\"X-UA-Compatible\" content=\"IE=Edge\"><meta nam\n"
          ]
        },
        {
          "output_type": "stream",
          "name": "stdout",
          "text": [
            "Error fetching article from https://cointelegraph.com/news/how-to-use-chatgpt-to-predict-crypto-market-trends: Article `download()` failed with Status code 403 for url None on URL https://cointelegraph.com/news/how-to-use-chatgpt-to-predict-crypto-market-trends\n",
            "  Processing URL 8/10: https://www.coindesk.com/markets/2025/03/25/binance-offboards-market-maker-that-it-said-made-usd38m-profit-on-move-listing\n",
            "  Processing URL 9/10: https://thecurrencyanalytics.com/altcoins/xrp-bulls-stunned-by-8900-liquidation-imbalance-in-one-hour-169177\n",
            "  Processing URL 10/10: https://beincrypto.com/pi-network-price-rise-bitcoin-strength/\n",
            "Waiting 5 seconds before next query...\n",
            "\n",
            "Processing query 22/30: Social justice protests and movements\n",
            "Found 10 URLs to process\n",
            "  Processing URL 1/10: https://www.nytimes.com/2025/04/05/us/politics/trump-protests-hands-off-saturday.html\n",
            "  Processing URL 2/10: https://www.msn.com/en-in/news/other/nationwide-anti-trump-hands-off-protest-today-what-are-the-demands-heres-all-you-need-to-know/ar-AA1ClNP6\n",
            "  Processing URL 3/10: https://www.msn.com/en-us/news/us/hoosiers-gather-outside-indiana-statehouse-for-50501-movement-protests/ar-AA1Cn44g\n",
            "  Processing URL 4/10: https://www.wcvb.com/article/cityline-a-history-of-protest/64394973\n",
            "  Processing URL 5/10: https://www.msn.com/en-us/news/us/hands-off-anti-trump-protest-in-pensacola-saturday-draws-nearly-1000-people/ar-AA1CmPsS\n",
            "  Processing URL 6/10: https://ny1.com/nyc/all-boroughs/ap-top-news/2025/04/09/social-worker-imprisoned-nearly-4-years-for-mediation-attempts-at-hong-kong-protests\n",
            "  Processing URL 7/10: https://www.weny.com/story/52670096/hands-off-protests-held-across-the-twin-tiers-part-of-national-movement\n",
            "  Processing URL 8/10: https://www.msn.com/en-us/news/politics/what-do-climate-protests-actually-achieve-more-than-you-think/ar-AA1CKXTl\n",
            "  Processing URL 9/10: https://www.msn.com/en-us/news/us/every-voice-matters-asl-interpreters-amplify-the-power-of-deaf-protesters-opinion/ar-AA1ChIum\n",
            "  Processing URL 10/10: https://www.msn.com/en-us/news/technology/cu-boulder-panel-addresses-change-making-through-social-movements/ar-AA1CFjKu\n",
            "Waiting 5 seconds before next query...\n",
            "\n",
            "Processing query 23/30: Transportation and infrastructure projects\n",
            "Found 10 URLs to process\n",
            "  Processing URL 1/10: https://www.usatoday.com/story/news/2025/04/15/florida-i4-congestion-relief-new-lanes-opening-april-28/83095947007/\n",
            "  Processing URL 2/10: https://ijr.com/on-budget-on-time-sean-duffy-says-this-is-how-trump-will-make-infrastructure-projects-more-accountable/\n",
            "  Processing URL 3/10: https://www.motherjones.com/politics/2025/04/federal-infrastructure-funding-grants-biking-pedestrian-safety-targeted-trump-administration-department-transportation-cuts/\n",
            "  Processing URL 4/10: https://www.masstransitmag.com/management/article/55277125/building-prosperity-how-infrastructure-economics-tracks-growth-and-development\n",
            "  Processing URL 5/10: https://www.aol.com/legislature-approves-343-highway-projects-164000217.html\n",
            "  Processing URL 6/10: https://www.msn.com/en-us/news/politics/minnesota-cities-scramble-as-trump-cuts-threaten-infrastructure-projects/ar-AA1Cr7Vq\n",
            "  Processing URL 7/10: https://rollcall.com/2025/03/31/duffy-to-lay-out-transportation-funding-plan-amid-cutback-push/\n",
            "  Processing URL 8/10: https://www.roadsbridges.com/funding/news/55283151/mainedot-launches-48-billion-three-year-infrastructure-plan\n",
            "  Processing URL 9/10: https://www.msn.com/en-us/news/us/maine-department-of-transportation-plans-to-work-on-2700-projects-across-state/ar-AA1CVw1D\n",
            "  Processing URL 10/10: https://www.masstransitmag.com/management/article/55277631/americas-public-transit-infrastructure-improving-thanks-to-federal-investments\n",
            "Waiting 5 seconds before next query...\n",
            "\n",
            "Processing query 24/30: Consumer technology product launches\n",
            "Found 10 URLs to process\n",
            "  Processing URL 1/10: https://www.forbes.com/councils/forbestechcouncil/2025/04/16/ai-is-changing-consumer-apps-heres-what-that-means-for-innovators/\n",
            "  Processing URL 2/10: https://www.citizen.co.za/lifestyle/technology/tech-product-launches-2025/\n",
            "  Processing URL 3/10: https://www.law.com/legaltechnews/2025/04/04/legaltech-rundown-haystack-id-launches-gen-ai-matter-intelligence-tool-aaa-announces-new-consumer-mediation-procedures-and-more/\n",
            "  Processing URL 4/10: https://www.forbes.com/sites/moorinsights/2025/04/09/ibm-launches-z17-mainframe-with-full-ai-integration/\n",
            "  Processing URL 5/10: https://gfmag.com/technology/heineken-launches-generative-ai-lab/\n",
            "  Processing URL 6/10: https://www.msn.com/en-us/money/companies/rxsight-adjusts-2025-revenue-guidance-to-160m-175m-amid-premium-iol-market-challenges/ar-AA1Cfnut\n"
          ]
        },
        {
          "output_type": "stream",
          "name": "stderr",
          "text": [
            "WARNING:newspaper.network:get_html_status(): bad status code 401 on URL: https://www.reuters.com/business/retail-consumer/amazon-targets-april-9-launch-first-kuiper-internet-satellites-2025-04-02/, html: <html lang=\"en\"><head><title>reuters.com</title><style>#cmsg{animation: A 1.5s;}@keyframes A{0%{opacity:0;}99%{opacity:0;}100%{opacity:1;}}</style></head><body style=\"margin:0\"><p id=\"cmsg\">Please ena\n"
          ]
        },
        {
          "output_type": "stream",
          "name": "stdout",
          "text": [
            "  Processing URL 7/10: https://www.reuters.com/business/retail-consumer/amazon-targets-april-9-launch-first-kuiper-internet-satellites-2025-04-02/\n",
            "Error fetching article from https://www.reuters.com/business/retail-consumer/amazon-targets-april-9-launch-first-kuiper-internet-satellites-2025-04-02/: Article `download()` failed with Status code 401 for url None on URL https://www.reuters.com/business/retail-consumer/amazon-targets-april-9-launch-first-kuiper-internet-satellites-2025-04-02/\n",
            "  Processing URL 8/10: https://www.investopedia.com/amazon-tests-interests-ai-shopping-tool-health-chatbot-update-11703479\n",
            "  Processing URL 9/10: https://www.ndtv.com/topic/artificial-intelligence-and-machine-building\n",
            "  Processing URL 10/10: https://gulfnews.com/business/aviation/emirates-courier-express-to-launch-person-to-person-shipping-by-2026-1.500094725\n",
            "Waiting 5 seconds before next query...\n",
            "\n",
            "Processing query 25/30: Environmental conservation efforts\n",
            "Found 10 URLs to process\n",
            "  Processing URL 1/10: https://www.yahoo.com/lifestyle/just-little-decisions-local-conservation-222000319.html\n",
            "  Processing URL 2/10: https://www.msn.com/en-in/money/topstories/from-conflict-to-coexistence-royal-ranthambore-tiger-week-puts-spotlight-on-saving-wild-tigers/ar-AA1D1hXa\n",
            "  Processing URL 3/10: https://www.msn.com/en-us/news/politics/exclusive-trump-admin-plans-overhaul-of-endangered-species-act/ar-AA1D1Wr9\n",
            "  Processing URL 4/10: https://www.msn.com/en-ae/news/national/dubais-young-environmentalist-donates-proceeds-from-podcast-book-to-conservation-fund/ar-AA1COpqA\n",
            "  Processing URL 5/10: https://www.msn.com/en-us/news/technology/owning-a-dog-does-extensive-environmental-damage-heres-how-to-lower-the-toll/ar-AA1CD5E9\n",
            "  Processing URL 6/10: https://www.msn.com/en-gb/news/uknews/dawoodi-bohra-muslim-community-of-bradford-praised-for-litter-picking-and-conservation-efforts/ar-AA1Cjdvq\n",
            "  Processing URL 7/10: https://www.dailypress.com/2025/04/04/conservation-scientist-will-give-wm-commencement-speech/\n",
            "  Processing URL 8/10: https://www.courthousenews.com/conservation-groups-challenge-trumps-removal-of-environmental-justice-resources/\n"
          ]
        },
        {
          "output_type": "stream",
          "name": "stderr",
          "text": [
            "WARNING:newspaper.network:get_html_status(): bad status code 403 on URL: https://www.courthousenews.com/conservation-groups-challenge-trumps-removal-of-environmental-justice-resources/, html: <!DOCTYPE html>\n",
            "<!--[if lt IE 7]> <html class=\"no-js ie6 oldie\" lang=\"en-US\"> <![endif]-->\n",
            "<!--[if IE 7]>    <html class=\"no-js ie7 oldie\" lang=\"en-US\"> <![endif]-->\n",
            "<!--[if IE 8]>    <html class=\"no-\n"
          ]
        },
        {
          "output_type": "stream",
          "name": "stdout",
          "text": [
            "Error fetching article from https://www.courthousenews.com/conservation-groups-challenge-trumps-removal-of-environmental-justice-resources/: Article `download()` failed with Website protected with Cloudflare, url: None on URL https://www.courthousenews.com/conservation-groups-challenge-trumps-removal-of-environmental-justice-resources/\n",
            "  Processing URL 9/10: https://www.dailysabah.com/politics/turkiye-lambasts-greekmaritime-spatial-planning/news\n"
          ]
        },
        {
          "output_type": "stream",
          "name": "stderr",
          "text": [
            "WARNING:newspaper.network:get_html_status(): bad status code 403 on URL: https://www.sciencedaily.com/releases/2025/04/250409212534.htm, html: \n"
          ]
        },
        {
          "output_type": "stream",
          "name": "stdout",
          "text": [
            "  Processing URL 10/10: https://www.sciencedaily.com/releases/2025/04/250409212534.htm\n",
            "Error fetching article from https://www.sciencedaily.com/releases/2025/04/250409212534.htm: Article `download()` failed with Status code 403 for url None on URL https://www.sciencedaily.com/releases/2025/04/250409212534.htm\n",
            "Waiting 5 seconds before next query...\n",
            "\n",
            "Processing query 26/30: Government corruption investigations\n",
            "Found 10 URLs to process\n",
            "  Processing URL 1/10: https://www.nytimes.com/2025/04/06/nyregion/nyc-corruption-adams-doi.html\n",
            "  Processing URL 2/10: https://www.msn.com/en-us/news/world/exclusive-house-gop-firebrand-drives-doge-committee-investigation-of-government-media-agency-corruption/ar-AA1Bl4SJ\n",
            "  Processing URL 3/10: https://www.telegraph.co.uk/world-news/2025/04/13/tulip-siddiq-issued-arrest-warrant-on-corruption-charges/\n",
            "  Processing URL 4/10: https://www.civilbeat.org/2025/04/revelations-renew-calls-for-government-accountability/\n",
            "  Processing URL 5/10: https://www.msn.com/en-us/money/news/corruption-hunters-say-trumps-usaid-cuts-just-made-organized-crime-groups-much-more-dangerous/ar-AA1CeQZJ\n",
            "  Processing URL 6/10: https://www.thestar.com.my/aseanplus/aseanplus-news/2025/04/12/the-more-china-investigates-corruption-the-more-it-finds-will-the-battle-ever-be-won\n",
            "  Processing URL 7/10: https://www.motherjones.com/politics/2025/04/eric-adams-kash-patel-book-judge-drops-case-corruption/\n",
            "  Processing URL 8/10: https://www.politico.eu/article/huawei-forum-europe-staff-face-belgian-court-hearings-over-corruption-charges/\n",
            "  Processing URL 9/10: https://www.philstar.com/opinion/2025/03/19/2429368/usual-suspect-corruption\n",
            "  Processing URL 10/10: https://www.ktvu.com/news/nyc-mayor-eric-adams-case-latest\n",
            "Waiting 5 seconds before next query...\n",
            "\n",
            "Processing query 27/30: Public health advisories and outbreaks\n",
            "Found 10 URLs to process\n",
            "  Processing URL 1/10: https://www.msn.com/en-us/health/other/the-sudden-dismissal-of-public-records-staff-at-health-agencies-threatens-government-accountability/ar-AA1D2fqI\n",
            "  Processing URL 2/10: https://www.msn.com/en-ca/public-safety-and-emergencies/health-and-safety-alerts/ontario-s-large-measles-outbreak-catches-attention-of-new-york-public-health-officials/ar-AA1CtAMf\n",
            "  Processing URL 3/10: https://www.msn.com/en-us/public-safety-and-emergencies/health-and-safety-alerts/cdc-says-measles-cases-are-most-likely-underreported-as-outbreak-swells-in-texas/ar-AA1D16TG\n",
            "  Processing URL 4/10: https://www.msn.com/en-ca/health/other/measles-is-spreading-in-ontario-do-you-need-a-booster/ar-AA1CZotg\n",
            "  Processing URL 5/10: https://www.cbc.ca/news/canada/toronto/new-york-state-department-of-health-measles-travel-advisory-ontario-1.7504085\n",
            "  Processing URL 6/10: https://www.msn.com/en-us/health/other/measles-outbreak-update-infections-surge-by-triple-digits/ar-AA1CLzK9\n",
            "  Processing URL 7/10: https://www.sciencenews.org/article/public-health-cuts-infectious-diseases\n",
            "  Processing URL 8/10: https://www.theglobeandmail.com/canada/article-measles-ontario-outbreak-new-york-travel-advisory/\n",
            "  Processing URL 9/10: https://www.statnews.com/2025/04/15/acip-vaccine-advisory-panel-measles-covid-mpox-rfk-jr/\n"
          ]
        },
        {
          "output_type": "stream",
          "name": "stderr",
          "text": [
            "WARNING:newspaper.network:get_html_status(): bad status code 429 on URL: https://www.wwlp.com/news/state-politics/health-commissioner-urges-vigilance-amidst-measles-outbreaks/, html: too many requests\n"
          ]
        },
        {
          "output_type": "stream",
          "name": "stdout",
          "text": [
            "  Processing URL 10/10: https://www.wwlp.com/news/state-politics/health-commissioner-urges-vigilance-amidst-measles-outbreaks/\n",
            "Error fetching article from https://www.wwlp.com/news/state-politics/health-commissioner-urges-vigilance-amidst-measles-outbreaks/: Article `download()` failed with Status code 429 for url None on URL https://www.wwlp.com/news/state-politics/health-commissioner-urges-vigilance-amidst-measles-outbreaks/\n",
            "Waiting 5 seconds before next query...\n",
            "\n",
            "Processing query 28/30: International trade disputes\n",
            "Found 10 URLs to process\n",
            "  Processing URL 1/10: https://www.msn.com/en-us/money/companies/china-replaces-top-trade-negotiating-official-as-talks-with-washington-stall/ar-AA1D06sQ\n",
            "  Processing URL 2/10: https://www.msn.com/en-us/money/markets/china-appoints-new-top-international-trade-negotiator-amid-tariff-tensions-with-the-us/ar-AA1D0cf2\n",
            "  Processing URL 3/10: https://www.oneindia.com/international/us-china-trade-war-heats-up-china-bans-rare-metals-president-trump-strikes-back-with-245-tariffs-4125337.html\n"
          ]
        },
        {
          "output_type": "stream",
          "name": "stderr",
          "text": [
            "WARNING:newspaper.network:get_html_status(): bad status code 403 on URL: https://www.oneindia.com/international/us-china-trade-war-heats-up-china-bans-rare-metals-president-trump-strikes-back-with-245-tariffs-4125337.html, html: <!DOCTYPE html>\n",
            "<!--[if lt IE 7]> <html class=\"no-js ie6 oldie\" lang=\"en-US\"> <![endif]-->\n",
            "<!--[if IE 7]>    <html class=\"no-js ie7 oldie\" lang=\"en-US\"> <![endif]-->\n",
            "<!--[if IE 8]>    <html class=\"no-\n"
          ]
        },
        {
          "output_type": "stream",
          "name": "stdout",
          "text": [
            "Error fetching article from https://www.oneindia.com/international/us-china-trade-war-heats-up-china-bans-rare-metals-president-trump-strikes-back-with-245-tariffs-4125337.html: Article `download()` failed with Website protected with Cloudflare, url: None on URL https://www.oneindia.com/international/us-china-trade-war-heats-up-china-bans-rare-metals-president-trump-strikes-back-with-245-tariffs-4125337.html\n",
            "  Processing URL 4/10: https://www.msn.com/en-gb/money/other/trumps-trade-war-with-china-could-cost-nvidia-42b-as-it-races-to-build-fully-us-made-supercomputer-chips/ar-AA1D1kQ4\n",
            "  Processing URL 5/10: https://www.jdsupra.com/legalnews/using-international-arbitration-to-6590250/\n",
            "  Processing URL 6/10: https://www.nytimes.com/2025/04/14/us/politics/trump-trade-war-china-dilemma.html\n",
            "  Processing URL 7/10: https://www.telegraph.co.uk/business/2025/04/07/trumps-trade-war-is-boom-time-for-one-profession-lawyers/\n",
            "  Processing URL 8/10: https://www.cincinnati.com/story/money/2025/04/02/cincinnatis-economy-depends-on-foreign-trade-as-trump-ups-tariffs/82754649007/\n",
            "  Processing URL 9/10: https://qctimes.com/news/local/business/article_187c07ba-4017-4c72-875c-161d5a9f690c.html\n",
            "  Processing URL 10/10: https://www.chinadaily.com.cn/a/202504/11/WS67f8538aa3104d9fd381ea5c.html\n",
            "Waiting 5 seconds before next query...\n",
            "\n",
            "Processing query 29/30: Housing market trends\n",
            "Found 10 URLs to process\n",
            "  Processing URL 1/10: https://www.msn.com/en-us/money/realestate/housing-market-sees-generational-shift-plot-twist/ar-AA1CLjaz\n",
            "  Processing URL 2/10: https://www.desmoinesregister.com/story/money/personalfinance/real-estate/2025/03/28/spring-housing-market-update-mortgages-layoffs/82656539007/\n",
            "  Processing URL 3/10: https://www.westword.com/news/how-denver-real-estate-market-has-changed-since-2020-24280149\n",
            "  Processing URL 4/10: https://www.msn.com/en-us/money/realestate/home-values-have-plunged-in-this-florida-area-what-happened-to-hot-market/ar-AA1CXdXk\n",
            "  Processing URL 5/10: https://www.yahoo.com/lifestyle/join-kingston-residences-real-estate-090453812.html\n",
            "  Processing URL 6/10: https://www.msn.com/en-us/money/realestate/how-4-first-time-homebuyers-broke-into-today-s-market/ar-AA1D2l4V\n",
            "  Processing URL 7/10: https://www.usatoday.com/story/lifestyle/real-estate/2025/04/05/poconos-housing-real-estate-market-east-stroudsburg/82784180007/\n",
            "  Processing URL 8/10: https://www.msn.com/en-us/money/realestate/a-look-at-denvers-housing-market-5-years-since-covid/ar-AA1CLIrr\n",
            "  Processing URL 9/10: https://www.msn.com/en-us/money/realestate/more-homes-for-sale-and-easing-rates-favor-homebuyers-this-spring-but-affordability-hurdles-remain/ar-AA1Cq8y3\n",
            "  Processing URL 10/10: https://www.globest.com/2025/04/09/remote-work-drop-signals-shift-in-rental-market-and-housing-trends/\n",
            "Waiting 5 seconds before next query...\n",
            "\n",
            "Processing query 30/30: Major mergers and acquisitions\n",
            "Found 10 URLs to process\n",
            "  Processing URL 1/10: https://seekingalpha.com/article/4773822-amcor-dividend-aristocrat-executing-major-acquisition\n"
          ]
        },
        {
          "output_type": "stream",
          "name": "stderr",
          "text": [
            "WARNING:newspaper.network:get_html_status(): bad status code 403 on URL: https://seekingalpha.com/article/4773822-amcor-dividend-aristocrat-executing-major-acquisition, html: <!DOCTYPE html><html lang=\"en\"><head><meta charset=\"utf-8\"><meta name=\"viewport\" content=\"width=device-width,initial-scale=1\"><meta name=\"description\" content=\"px-captcha\"><title>Access to this page h\n"
          ]
        },
        {
          "output_type": "stream",
          "name": "stdout",
          "text": [
            "Error fetching article from https://seekingalpha.com/article/4773822-amcor-dividend-aristocrat-executing-major-acquisition: Article `download()` failed with Status code 403 for url None on URL https://seekingalpha.com/article/4773822-amcor-dividend-aristocrat-executing-major-acquisition\n",
            "  Processing URL 2/10: https://www.nytimes.com/2025/04/13/technology/meta-ftc-trial-whatsapp-instagram.html\n",
            "  Processing URL 3/10: https://nypost.com/2025/03/21/business/fccs-carr-warns-dei-policies-at-paramount-verizon-could-threaten-mergers/\n",
            "  Processing URL 4/10: https://cyprus-mail.com/2025/03/24/cyprus-insurance-sector-sees-rise-in-mergers-and-acquisitions\n",
            "  Processing URL 5/10: https://www.msn.com/en-sg/news/other/vietnam-2025-m-a-outlook-trends-deals-and-opportunities/ar-AA1Bm5aF\n",
            "  Processing URL 6/10: https://www.tsnn.com/news/new-business-deals-freeman-impact-xm-and-more-expand-reach-and-services-mas\n",
            "  Processing URL 7/10: https://www.msn.com/en-us/money/companies/capital-one-discover-merger-cleared-by-doj-what-to-know-about-the-35-billion-mega-deal/ar-AA1CfWUs\n",
            "  Processing URL 8/10: https://www.theaustralian.com.au/business/dataroom/glencore-visit-spurs-rio-talk/news-story/07ccb47fa56c068e8a839546d3431583\n"
          ]
        },
        {
          "output_type": "stream",
          "name": "stderr",
          "text": [
            "WARNING:newspaper.network:get_html_status(): bad status code 403 on URL: https://www.theaustralian.com.au/business/dataroom/glencore-visit-spurs-rio-talk/news-story/07ccb47fa56c068e8a839546d3431583, html: <!DOCTYPE html>\n",
            "<html>\n",
            "   <body>\n",
            "      <h2>You might have been detected and blocked as a crawler bot!<h2>\n",
            "      <h3>News Corp Australia uses software that manages crawler bot traffic on our websites. \n"
          ]
        },
        {
          "output_type": "stream",
          "name": "stdout",
          "text": [
            "Error fetching article from https://www.theaustralian.com.au/business/dataroom/glencore-visit-spurs-rio-talk/news-story/07ccb47fa56c068e8a839546d3431583: Article `download()` failed with Status code 403 for url None on URL https://www.theaustralian.com.au/business/dataroom/glencore-visit-spurs-rio-talk/news-story/07ccb47fa56c068e8a839546d3431583\n",
            "  Processing URL 9/10: https://www.foxbusiness.com/category/mergers-and-acquisitions\n",
            "  Processing URL 10/10: https://www.benzinga.com/government/regulations/25/04/44653113/this-week-in-cannabis-trump-policy-updates-corporate-moves-regulatory-shifts-and-product-innovations\n",
            "\n",
            "All article texts collected and saved to article_texts.json\n"
          ]
        },
        {
          "output_type": "display_data",
          "data": {
            "text/plain": [
              "<IPython.core.display.Javascript object>"
            ],
            "application/javascript": [
              "\n",
              "    async function download(id, filename, size) {\n",
              "      if (!google.colab.kernel.accessAllowed) {\n",
              "        return;\n",
              "      }\n",
              "      const div = document.createElement('div');\n",
              "      const label = document.createElement('label');\n",
              "      label.textContent = `Downloading \"${filename}\": `;\n",
              "      div.appendChild(label);\n",
              "      const progress = document.createElement('progress');\n",
              "      progress.max = size;\n",
              "      div.appendChild(progress);\n",
              "      document.body.appendChild(div);\n",
              "\n",
              "      const buffers = [];\n",
              "      let downloaded = 0;\n",
              "\n",
              "      const channel = await google.colab.kernel.comms.open(id);\n",
              "      // Send a message to notify the kernel that we're ready.\n",
              "      channel.send({})\n",
              "\n",
              "      for await (const message of channel.messages) {\n",
              "        // Send a message to notify the kernel that we're ready.\n",
              "        channel.send({})\n",
              "        if (message.buffers) {\n",
              "          for (const buffer of message.buffers) {\n",
              "            buffers.push(buffer);\n",
              "            downloaded += buffer.byteLength;\n",
              "            progress.value = downloaded;\n",
              "          }\n",
              "        }\n",
              "      }\n",
              "      const blob = new Blob(buffers, {type: 'application/binary'});\n",
              "      const a = document.createElement('a');\n",
              "      a.href = window.URL.createObjectURL(blob);\n",
              "      a.download = filename;\n",
              "      div.appendChild(a);\n",
              "      a.click();\n",
              "      div.remove();\n",
              "    }\n",
              "  "
            ]
          },
          "metadata": {}
        },
        {
          "output_type": "display_data",
          "data": {
            "text/plain": [
              "<IPython.core.display.Javascript object>"
            ],
            "application/javascript": [
              "download(\"download_5ed5bac6-a3b9-4dce-a029-93a8e81d2069\", \"article_texts.json\", 837662)"
            ]
          },
          "metadata": {}
        },
        {
          "output_type": "stream",
          "name": "stdout",
          "text": [
            "\n",
            "File download initiated. Check your browser's downloads.\n",
            "\n",
            "Summary statistics:\n",
            "Total queries processed: 30\n",
            "Total articles attempted: 300\n",
            "Successfully parsed articles: 146 (48.7%)\n"
          ]
        }
      ]
    },
    {
      "cell_type": "code",
      "source": [
        "from duckduckgo_search import DDGS\n",
        "import newspaper\n",
        "\n",
        "\n",
        "query = \"applications of blockchain in healthcare\"\n",
        "# results = list(DDGS().text(query, max_results=10))\n",
        "\n",
        "for result in results:\n",
        "    print(result['title'])\n",
        "    print(result['body'])"
      ],
      "metadata": {
        "colab": {
          "base_uri": "https://localhost:8080/"
        },
        "id": "MojnfJt2W2PX",
        "outputId": "c9fa8567-f53a-4785-92fc-0e8759f22ca5"
      },
      "execution_count": null,
      "outputs": [
        {
          "output_type": "stream",
          "name": "stdout",
          "text": [
            "Blockchain technology applications in healthcare: An overview\n",
            "Blockchain is a relatively modern and emerging technology that has innovative applications during its successful healthcare implementation. Smooth, efficient data sharing and delivery across all the prominent network members and healthcare providers contribute to developing economical therapies and sophisticated treatments for many diseases.\n",
            "Blockchain in Healthcare: 16 Real-World Examples - Built In\n",
            "3 Ways Blockchain Will Change Healthcare | Video: The Medical Futurist Blockchain and Healthcare Data Security. In 2023, there were 725 data breaches of at least 500 patient records — the most ever reported to the Department of Health and Human Services Office for Civil Rights. Blockchain's ability to keep an incorruptible, decentralized and transparent log of all patient data makes it a ...\n",
            "Frontiers | Exploring applications of blockchain in healthcare: road ...\n",
            "Applications of blockchain in healthcare. Blockchain technology possesses the potential to enhance the healthcare sector by prioritizing the patient within the system and enhancing the safeguarding, security, and seamless exchange of health information. In essence, the healthcare industry could undergo a substantial transformation through the ...\n",
            "Blockchain technology in healthcare: A systematic review\n",
            "Blockchain applications for healthcare data management. Healthcare informatics research, 25(1), 51-56. [PMC free article] [Google Scholar] 120. Casino F., Dasaklis T. K., & Patsakis C. (2019). A systematic literature review of blockchain-based applications: Current status, classification and open issues. Telematics and informatics, 36, 55-81.\n",
            "5 blockchain healthcare use cases in digital health - STL Partners\n",
            "Beyond creating blockchain-based medical records, Medicalchain is also developing a platform upon which others can build digital health solutions, including a virtual consultation service and a medical data exchange, where patients can choose to sell their anonymised medical data, in exchange for Medtokens, to support digital health application ...\n",
            "Blockchain in Healthcare: Guide to Uses, Benefits & Examples\n",
            "Key applications of blockchain in healthcare. Blockchain holds promise for many businesses in the healthcare domain, including biopharmaceutical companies, medical device manufacturers, insurers, and healthcare providers. Here, we highlight the key blockchain technology use cases in healthcare.\n",
            "Applications of Blockchain in the Medical Field: Narrative Review\n",
            "As a distributed technology, blockchain has attracted increasing attention from stakeholders in the medical industry. Although previous studies have analyzed blockchain applications from the perspectives of technology, business, or patient care, few studies have focused on actual use-case scenarios of blockchain in health care.\n",
            "15 Applications of Blockchain in Healthcare - Clavis Technologies\n",
            "Applications of Blockchain in Healthcare: Below are a few ways blockchain is helpful in the healthcare industry. 1. Security and Patient Data Management. In the healthcare industry, data security is a critical concern. Data security has become a major issue for patients around the world as the number of data breaches rises year after year.\n",
            "Blockchain applications in health care for COVID-19 and beyond: a ...\n",
            "Blockchain is a foundational digital technology that integrates multiple other such technologies (appendix pp 2-4). 3,6 In health care, blockchain could serve as a replacement to traditional distributed database management systems, which have generally been client-server databases with Structured Query Language or relational input. 7 Although traditional distributed database management ...\n",
            "Blockchain in Healthcare: Benefits, Use Cases, & Challenges\n",
            "The application of blockchain technology to healthcare-related activities can provide a decentralized and secure way to manage, store, and share medical data. Blockchain in healthcare can encompass a range of use cases, from electronic health records (EHRs) and medical research to insurance claims and pharmaceutical supply chains.\n"
          ]
        }
      ]
    },
    {
      "cell_type": "code",
      "source": [
        "\n",
        "article = newspaper.article('https://edition.cnn.com/2023/10/29/sport/nfl-week-8-how-to-watch-spt-intl/index.html')\n",
        "\n",
        "print(article.authors)"
      ],
      "metadata": {
        "colab": {
          "base_uri": "https://localhost:8080/"
        },
        "id": "XbPZ71Psd2u7",
        "outputId": "e70afba4-dc87-4dd4-a5ce-fd976d19f7ed"
      },
      "execution_count": null,
      "outputs": [
        {
          "output_type": "stream",
          "name": "stdout",
          "text": [
            "['Hannah Brewitt']\n"
          ]
        }
      ]
    },
    {
      "cell_type": "code",
      "source": [
        "# news_result = DDGS().news(keywords=\"developments in climate change\", region=\"us-en\", safesearch=\"off\", timelimit=\"m\", max_results=10)\n",
        "print(news_result)"
      ],
      "metadata": {
        "colab": {
          "base_uri": "https://localhost:8080/"
        },
        "id": "GvYxK-eAHjuQ",
        "outputId": "51e5a81b-d295-4818-97d4-ad691f40e3a1"
      },
      "execution_count": null,
      "outputs": [
        {
          "output_type": "stream",
          "name": "stdout",
          "text": [
            "[{'date': '2025-03-05T17:23:00+00:00', 'title': 'Opinion: Democracy and Climate Change', 'body': 'Ill-effects of growth model needs serious revisit to strike a balance between ecology, economy Climate change has emerged as both academic and policy relevance globally in the last two-and-a-half decades.', 'url': 'https://telanganatoday.com/opinion-democracy-and-climate-change', 'image': 'https://media.telanganatoday.com/wp-content/uploads/2025/03/Opinion.jpg', 'source': 'Telangana Today'}, {'date': '2025-03-06T04:42:00+00:00', 'title': 'Global South is driving climate agenda: Bhupender Yadav', 'body': 'The Global South is driving the climate agenda, and the world now looks at India as a leader, Union minister for environment, forest and climate change, Bhupender Yadav said on Wednesday.', 'url': 'https://www.msn.com/en-in/entertainment/southcinema/global-south-is-driving-climate-agenda-bhupender-yadav/ar-AA1AjA9j', 'image': 'https://www.livemint.com/lm-img/img/2025/03/05/1600x900/PTI02-17-2025-000156B-0_1741194117009_1741194138503.jpg', 'source': 'Live Mint'}, {'date': '2025-03-05T21:01:42+00:00', 'title': 'CT lawmakers approve 5-year plan focused on climate change, housing', 'body': 'The Plan of Conservation and Development says climate change should be a central tenet in discussions about where and how CT builds.', 'url': 'https://www.msn.com/en-us/news/politics/ct-lawmakers-approve-5-year-plan-focused-on-climate-change-housing/ar-AA1Akany', 'image': 'https://ctmirror-images.s3.amazonaws.com/wp-content/uploads/2025/03/2025_0305_SR_CapitolSession229-3-scaled.jpg', 'source': 'The Connecticut Mirror'}, {'date': '2025-03-07T12:15:00+00:00', 'title': 'United States quits board of UN climate damage fund, letter shows', 'body': \"The United States has withdrawn from the board of the U.N.'s hard-negotiated climate damage fund, dedicated to helping poor and vulnerable nations cope with climate change-fuelled disasters, a letter seen by Reuters showed.\", 'url': 'https://www.reuters.com/world/us/united-states-quits-board-un-climate-damage-fund-letter-shows-2025-03-07/', 'image': 'https://www.reuters.com/resizer/v2/ZSVANSM5I5PAFCYITGTO7WTKRU.jpg?auth=12bdedd97249cb7dcfa55abfc05138d23ad40ef8223de556704bf5203403e802&height=1005&width=1920&quality=80&smart=true', 'source': 'Reuters'}, {'date': '2025-03-06T16:45:04+00:00', 'title': 'Ghana needs more young farmers, but does climate change put them off? Study shows surprising results', 'body': 'Young people are in fact attracted to farming by new innovations in agriculture that help farms withstand climate change disasters. In contrast to other studies, our study shows that the majority of youth are willing to participate in agriculture and agribusiness, with 76.7% of the study participants in favour of farming.', 'url': 'https://www.msn.com/en-us/news/technology/ghana-needs-more-young-farmers-but-does-climate-change-put-them-off-study-shows-surprising-results/ar-AA1Aosyo', 'image': 'https://images.theconversation.com/files/650344/original/file-20250220-32-831mku.jpg?ixlib=rb-4.1.0&rect=0,723,8192,4096&q=45&auto=format&w=1356&h=668&fit=crop', 'source': 'Phys.org'}, {'date': '2025-03-07T09:50:00+00:00', 'title': 'Guyana stresses global collaboration for targeted climate solutions', 'body': 'He announced that solar energy capacity has grown by 173% since 2020, with the Guyana Utility-Scale Solar Photovoltaic programme (GUYSOL) set to launch the largest utility-scale solar plants in 2025, marking a significant step towards a clean- energy future.', 'url': 'https://guyanachronicle.com/2025/03/07/guyana-stresses-global-collaboration-for-targeted-climate-solutions/', 'image': '', 'source': 'Guyana Chronicle'}, {'date': '2025-03-07T00:41:00+00:00', 'title': \"Political instability, climate change threaten Africa's development prospects — Experts\", 'body': \"Experts have raised concerns as Nigeria's and Africa's development aspirations are under threat from the twin challenges of political instability and climate change.They stressed that the continent is facing a crisis of development,\", 'url': 'https://www.msn.com/en-xl/africa/nigeria/political-instability-climate-change-threaten-africa-s-development-prospects-experts/ar-AA1ApxWN', 'image': '', 'source': 'Tribune Online'}, {'date': '2025-03-06T02:58:00+00:00', 'title': \"Lack of justice in Indonesia's climate plan may backfire\", 'body': \"Indonesia's climate documents have failed to adequately address the social and environmental aspects that are fundamental to a just transition.\", 'url': 'https://www.thejakartapost.com/opinion/2025/03/06/lack-of-justice-in-indonesias-climate-plan-may-backfire.html', 'image': 'https://img.jakpost.net/c/2024/09/30/2024_09_30_155409_1727685203._large.jpg', 'source': 'The Jakarta Post'}, {'date': '2025-03-07T00:26:00+00:00', 'title': \"We're committed to climate action — FG\", 'body': 'The Federal Government has reiterated its commitment to addressing issues regarding climate change and enhancing climate action for sustainable development.', 'url': 'https://www.vanguardngr.com/2025/03/were-committed-to-climate-action-fg/', 'image': 'https://cdn.vanguardngr.com/wp-content/uploads/2020/01/Climate.jpg', 'source': 'Vanguard'}, {'date': '2025-03-06T22:00:00+00:00', 'title': 'Kamaʻāina artists selected for climate change action residency', 'body': \"University of Hawai'i at Mānoa educator Ben Fairfield, who creates musical instruments from trash, was one of four artists selected for the residency program. PC: DLNR Four artists have been selected as the state of Hawaiʻiʻs Climate Artists in Residence, the Department of Land and Natural Resources announced Tuesday.\", 'url': 'https://mauinow.com/2025/03/06/kamaʻaina-artists-selected-for-climate-change-action-residency/', 'image': 'https://media.mauinow.com/file/mauinow/2025/03/Gillian-Duenas-955x1024.jpg', 'source': 'Maui Now'}]\n"
          ]
        }
      ]
    },
    {
      "cell_type": "code",
      "source": [
        "query = \"applications of blockchain in healthcare\"\n",
        "\n",
        "# news_result = DDGS().news(\n",
        "#     keywords=query,\n",
        "#     region=\"us-en\",\n",
        "#     safesearch=\"off\",\n",
        "#     timelimit=\"m\",\n",
        "#     max_results=10)\n",
        "\n",
        "# text_list = []\n",
        "\n",
        "for result in news_result:\n",
        "    try:\n",
        "        article = newspaper.article(result['url'])\n",
        "        article.download()\n",
        "        article.parse()\n",
        "        text_list.append({\n",
        "            'title': result['title'],\n",
        "            'body': result['body'],\n",
        "            'url': result['url'],\n",
        "            'full_text': article.text\n",
        "        })\n",
        "        print(article.title)\n",
        "    except Exception as e:\n",
        "        print(f\"Skipping article due to error: {str(e)}\")\n",
        "        continue"
      ],
      "metadata": {
        "colab": {
          "base_uri": "https://localhost:8080/"
        },
        "id": "2jUEwFtmIAF9",
        "outputId": "40ffe460-4bb5-4972-91e3-8053b4569682"
      },
      "execution_count": null,
      "outputs": [
        {
          "output_type": "stream",
          "name": "stdout",
          "text": [
            "Blockchain In Supply Chain: Real-World Applications In India\n",
            "Navigating the Future of Technology With Broxus Blockchain Solutions for Governments and Enterprises\n"
          ]
        },
        {
          "output_type": "stream",
          "name": "stderr",
          "text": [
            "WARNING:newspaper.network:get_html_status(): bad status code 403 on URL: https://www.tmcnet.com/usubmit/2025/03/06/10157071.htm, html: <!DOCTYPE html><html lang=\"en-US\"><head><title>Just a moment...</title><meta http-equiv=\"Content-Type\" content=\"text/html; charset=UTF-8\"><meta http-equiv=\"X-UA-Compatible\" content=\"IE=Edge\"><meta nam\n"
          ]
        },
        {
          "output_type": "stream",
          "name": "stdout",
          "text": [
            "India's Crypto Start-up Ecosystem: Innovation In The Face Of Regulatory Uncertainty\n",
            "Skipping article due to error: Article `download()` failed with Status code 403 for url None on URL https://www.tmcnet.com/usubmit/2025/03/06/10157071.htm\n",
            "Blockchain’s Impact on Cryptocurrencies and Beyond\n",
            "Ping An Tops Global Patentee Top 10 List, Leading in Fintech and Healthcare\n",
            "Can AI Finally Solve the Healthcare Data Puzzle?\n",
            "Top Blockchain Development Services for Web3 Solutions - Nadcab Labs\n",
            "The Digital Transformation of Healthcare: AI, IoT, and Blockchain in Action\n",
            "WISeKey WISeID Provides Healthcare Security with Decentralized Digital Identities\n"
          ]
        }
      ]
    },
    {
      "cell_type": "code",
      "source": [
        "!pip3 install sumy\n",
        "from sumy.parsers.plaintext import PlaintextParser\n",
        "from sumy.nlp.tokenizers import Tokenizer\n",
        "from sumy.summarizers.lex_rank import LexRankSummarizer"
      ],
      "metadata": {
        "colab": {
          "base_uri": "https://localhost:8080/"
        },
        "id": "04R3oM1ZPpeQ",
        "outputId": "2dc542d7-6e3a-4614-963b-c35e9db78bef"
      },
      "execution_count": null,
      "outputs": [
        {
          "output_type": "stream",
          "name": "stdout",
          "text": [
            "Collecting sumy\n",
            "  Downloading sumy-0.11.0-py2.py3-none-any.whl.metadata (7.5 kB)\n",
            "Collecting docopt<0.7,>=0.6.1 (from sumy)\n",
            "  Downloading docopt-0.6.2.tar.gz (25 kB)\n",
            "  Preparing metadata (setup.py) ... \u001b[?25l\u001b[?25hdone\n",
            "Collecting breadability>=0.1.20 (from sumy)\n",
            "  Downloading breadability-0.1.20.tar.gz (32 kB)\n",
            "  Preparing metadata (setup.py) ... \u001b[?25l\u001b[?25hdone\n",
            "Requirement already satisfied: requests>=2.7.0 in /usr/local/lib/python3.11/dist-packages (from sumy) (2.32.3)\n",
            "Collecting pycountry>=18.2.23 (from sumy)\n",
            "  Downloading pycountry-24.6.1-py3-none-any.whl.metadata (12 kB)\n",
            "Requirement already satisfied: nltk>=3.0.2 in /usr/local/lib/python3.11/dist-packages (from sumy) (3.9.1)\n",
            "Requirement already satisfied: chardet in /usr/local/lib/python3.11/dist-packages (from breadability>=0.1.20->sumy) (5.2.0)\n",
            "Requirement already satisfied: lxml>=2.0 in /usr/local/lib/python3.11/dist-packages (from breadability>=0.1.20->sumy) (5.3.1)\n",
            "Requirement already satisfied: click in /usr/local/lib/python3.11/dist-packages (from nltk>=3.0.2->sumy) (8.1.8)\n",
            "Requirement already satisfied: joblib in /usr/local/lib/python3.11/dist-packages (from nltk>=3.0.2->sumy) (1.4.2)\n",
            "Requirement already satisfied: regex>=2021.8.3 in /usr/local/lib/python3.11/dist-packages (from nltk>=3.0.2->sumy) (2024.11.6)\n",
            "Requirement already satisfied: tqdm in /usr/local/lib/python3.11/dist-packages (from nltk>=3.0.2->sumy) (4.67.1)\n",
            "Requirement already satisfied: charset-normalizer<4,>=2 in /usr/local/lib/python3.11/dist-packages (from requests>=2.7.0->sumy) (3.4.1)\n",
            "Requirement already satisfied: idna<4,>=2.5 in /usr/local/lib/python3.11/dist-packages (from requests>=2.7.0->sumy) (3.10)\n",
            "Requirement already satisfied: urllib3<3,>=1.21.1 in /usr/local/lib/python3.11/dist-packages (from requests>=2.7.0->sumy) (2.3.0)\n",
            "Requirement already satisfied: certifi>=2017.4.17 in /usr/local/lib/python3.11/dist-packages (from requests>=2.7.0->sumy) (2025.1.31)\n",
            "Downloading sumy-0.11.0-py2.py3-none-any.whl (97 kB)\n",
            "\u001b[2K   \u001b[90m━━━━━━━━━━━━━━━━━━━━━━━━━━━━━━━━━━━━━━━━\u001b[0m \u001b[32m97.3/97.3 kB\u001b[0m \u001b[31m4.9 MB/s\u001b[0m eta \u001b[36m0:00:00\u001b[0m\n",
            "\u001b[?25hDownloading pycountry-24.6.1-py3-none-any.whl (6.3 MB)\n",
            "\u001b[2K   \u001b[90m━━━━━━━━━━━━━━━━━━━━━━━━━━━━━━━━━━━━━━━━\u001b[0m \u001b[32m6.3/6.3 MB\u001b[0m \u001b[31m47.4 MB/s\u001b[0m eta \u001b[36m0:00:00\u001b[0m\n",
            "\u001b[?25hBuilding wheels for collected packages: breadability, docopt\n",
            "  Building wheel for breadability (setup.py) ... \u001b[?25l\u001b[?25hdone\n",
            "  Created wheel for breadability: filename=breadability-0.1.20-py2.py3-none-any.whl size=21691 sha256=7cb5de9c167b757373d5c699ef101aa11f386ecf21dec52c30f77fa720a7faae\n",
            "  Stored in directory: /root/.cache/pip/wheels/4d/57/58/7e3d7fedf51fe248b7fcee3df6945ae28638e22cddf01eb92b\n",
            "  Building wheel for docopt (setup.py) ... \u001b[?25l\u001b[?25hdone\n",
            "  Created wheel for docopt: filename=docopt-0.6.2-py2.py3-none-any.whl size=13706 sha256=ac745418f864315a10278e6623643b37e5055f8dafc60e4269a6960db2943de7\n",
            "  Stored in directory: /root/.cache/pip/wheels/1a/b0/8c/4b75c4116c31f83c8f9f047231251e13cc74481cca4a78a9ce\n",
            "Successfully built breadability docopt\n",
            "Installing collected packages: docopt, pycountry, breadability, sumy\n",
            "Successfully installed breadability-0.1.20 docopt-0.6.2 pycountry-24.6.1 sumy-0.11.0\n"
          ]
        }
      ]
    },
    {
      "cell_type": "code",
      "source": [
        "import nltk\n",
        "from nltk.corpus import stopwords\n",
        "from nltk.tokenize import sent_tokenize, word_tokenize\n",
        "from sklearn.feature_extraction.text import TfidfVectorizer\n",
        "from sklearn.cluster import KMeans\n",
        "from transformers import pipeline\n",
        "\n",
        "\n",
        "nltk.download('stopwords')\n",
        "nltk.download('punkt')\n",
        "nltk.download('punkt_tab')"
      ],
      "metadata": {
        "colab": {
          "base_uri": "https://localhost:8080/"
        },
        "id": "pP_apMGaQVmm",
        "outputId": "dce3488b-2d4c-47c8-881c-6a982e26c4f5"
      },
      "execution_count": null,
      "outputs": [
        {
          "output_type": "stream",
          "name": "stderr",
          "text": [
            "[nltk_data] Downloading package stopwords to /root/nltk_data...\n",
            "[nltk_data]   Package stopwords is already up-to-date!\n",
            "[nltk_data] Downloading package punkt to /root/nltk_data...\n",
            "[nltk_data]   Package punkt is already up-to-date!\n",
            "[nltk_data] Downloading package punkt_tab to /root/nltk_data...\n",
            "[nltk_data]   Package punkt_tab is already up-to-date!\n"
          ]
        },
        {
          "output_type": "execute_result",
          "data": {
            "text/plain": [
              "True"
            ]
          },
          "metadata": {},
          "execution_count": 61
        }
      ]
    },
    {
      "cell_type": "code",
      "source": [
        "def generate_combined_summary(text_list, method='abstractive'):\n",
        "    # Concatenate all articles with titles\n",
        "    combined_text = \"\"\n",
        "    for item in text_list:\n",
        "        combined_text += f\"{item['title']}\\n{item['full_text']}\\n\\n\"\n",
        "\n",
        "    if method == 'extractive':\n",
        "        # Using extractive summarization\n",
        "        parser = PlaintextParser.from_string(combined_text, Tokenizer(\"english\"))\n",
        "        summarizer = LexRankSummarizer()\n",
        "        summary = summarizer(parser.document, sentences_count=10)\n",
        "        return \" \".join([str(sentence) for sentence in summary])\n",
        "\n",
        "    elif method == 'abstractive':\n",
        "        # Using transformers for abstractive summarization\n",
        "        summarizer = pipeline(\"summarization\", model=\"facebook/bart-large-cnn\")\n",
        "        # Process in chunks if the combined text is too long\n",
        "        max_chunk_length = 1024  # Approximate token limit for BART\n",
        "        chunks = [combined_text[i:i+max_chunk_length] for i in range(0, len(combined_text), max_chunk_length)]\n",
        "\n",
        "        summaries = []\n",
        "        for chunk in chunks:\n",
        "            if len(chunk) > 100:  # Ensure chunk is long enough to summarize\n",
        "                summary = summarizer(chunk, max_length=150, min_length=50, do_sample=False)\n",
        "                summaries.append(summary[0]['summary_text'])\n",
        "\n",
        "        return \" \".join(summaries)"
      ],
      "metadata": {
        "id": "rYt8i70INYpc"
      },
      "execution_count": null,
      "outputs": []
    },
    {
      "cell_type": "code",
      "source": [
        "# Generate a single summary from all articles\n",
        "overall_summary = generate_combined_summary(text_list)\n",
        "print(\"Abstractive Overall Summary:\")\n",
        "print(overall_summary)"
      ],
      "metadata": {
        "id": "xJogRc11P2-d"
      },
      "execution_count": null,
      "outputs": []
    },
    {
      "cell_type": "code",
      "source": [
        "overall_summary_extractive = generate_combined_summary(text_list, 'extractive')\n",
        "print(\"Extractive Overall Summary:\")\n",
        "print(overall_summary_extractive)"
      ],
      "metadata": {
        "colab": {
          "base_uri": "https://localhost:8080/"
        },
        "id": "hBAD2zeNOaw1",
        "outputId": "a4b31814-5742-47ae-fbfa-3cfe37135aaa"
      },
      "execution_count": null,
      "outputs": [
        {
          "output_type": "stream",
          "name": "stdout",
          "text": [
            "Extractive Overall Summary:\n",
            "The Future of Blockchain in Supply Chain in India In Addition, Blockchain is revolutionizing many government services, from financing and supply chain management to healthcare, enabling decentralized transactions to reduce fraud and enhance data integrity. Therefore provides the integrity and security of the data with its transparency, making it an ideal application among digital currencies. The future of industries is going to be revolutionized by blockchain technology with its decentralized and secure nature beyond just digital currencies, building trust and transparency in the digital age. The Advancements Of Blockchain With Integration Of AI In The Future India's Crypto Start-up Ecosystem: Innovation In The Face Of Regulatory Uncertainty The innovation that has been triggered by the cryptos has had a chain reaction of innovation all over the world, and India is not an exception. The healthcare industry white paper points out that artificial intelligence (AI) technology has become a key driver in promoting innovation and progress in the healthcare industry, and Ping An's patent portfolio in healthcare is particularly strong, with leading numbers of patents in AI, blockchain and big data, significantly outstripping its closest competitors. About Ping An Group Ping An Insurance (Group) Company of China, Ltd. (HKEx:2318 / 82318; SSE:601318) is one of the largest financial services companies in the world. He also recommends the use of innovative technologies like blockchain in the management of data to ensure that the data is secure and can be easily shared among healthcare payers and providers to improve the claims processing and reduce costs.\n"
          ]
        }
      ]
    },
    {
      "cell_type": "code",
      "source": [
        "print(len(overall_summary_extractive))"
      ],
      "metadata": {
        "colab": {
          "base_uri": "https://localhost:8080/"
        },
        "id": "XvLRn54vQuL_",
        "outputId": "9d8fcef2-8baa-4900-81be-918f8c06d5a5"
      },
      "execution_count": null,
      "outputs": [
        {
          "output_type": "stream",
          "name": "stdout",
          "text": [
            "1671\n"
          ]
        }
      ]
    },
    {
      "cell_type": "code",
      "source": [
        "def topic_based_multi_doc_summary(text_list, num_sentences=15):\n",
        "    # Extract all sentences from all documents\n",
        "    all_sentences = []\n",
        "    for item in text_list:\n",
        "        sentences = sent_tokenize(item['full_text'])\n",
        "        all_sentences.extend(sentences)\n",
        "\n",
        "    # Calculate TF-IDF\n",
        "    # Changed stop_words to a list instead of a set\n",
        "    stop_words = stopwords.words('english')\n",
        "    vectorizer = TfidfVectorizer(stop_words=stop_words)\n",
        "    tfidf_matrix = vectorizer.fit_transform(all_sentences)\n",
        "\n",
        "    # Cluster sentences\n",
        "    num_clusters = min(num_sentences, len(all_sentences))\n",
        "    kmeans = KMeans(n_clusters=num_clusters)\n",
        "    kmeans.fit(tfidf_matrix)\n",
        "\n",
        "    # Get closest sentences to cluster centers\n",
        "    centers = kmeans.cluster_centers_\n",
        "    ordered_sentences = []\n",
        "    for i in range(num_clusters):\n",
        "        # Find the sentence closest to this cluster center\n",
        "        closest_idx = None\n",
        "        closest_dist = float('inf')\n",
        "        for j, sentence in enumerate(all_sentences):\n",
        "            if kmeans.labels_[j] == i:\n",
        "                # Convert tfidf_matrix[j] to dense array to match centers shape\n",
        "                dist = ((tfidf_matrix[j].toarray() - centers[i]) ** 2).sum() ** 0.5\n",
        "                if dist < closest_dist:\n",
        "                    closest_dist = dist\n",
        "                    closest_idx = j\n",
        "\n",
        "        if closest_idx is not None:\n",
        "            ordered_sentences.append((closest_idx, all_sentences[closest_idx]))\n",
        "\n",
        "    # Sort by original order\n",
        "    ordered_sentences.sort(key=lambda x: x[0])\n",
        "    summary = \" \".join([sentence for _, sentence in ordered_sentences])\n",
        "    return summary"
      ],
      "metadata": {
        "id": "C93nTCuyOoB3"
      },
      "execution_count": null,
      "outputs": []
    },
    {
      "cell_type": "code",
      "source": [
        "# Generate topic-based summary\n",
        "topic_summary = topic_based_multi_doc_summary(text_list)\n",
        "print(\"Topic-based Summary:\")\n",
        "print(topic_summary)"
      ],
      "metadata": {
        "colab": {
          "base_uri": "https://localhost:8080/"
        },
        "id": "IcTi40RzRE2x",
        "outputId": "fd4e4c0d-1478-440b-dac9-19e7a2819610"
      },
      "execution_count": null,
      "outputs": [
        {
          "output_type": "stream",
          "name": "stdout",
          "text": [
            "Topic-based Summary:\n",
            "The Future of Blockchain in Supply Chain in India\n",
            "\n",
            "The application of blockchain technology in supply chain management will increase with growing awareness by businesses and industries of its significance. Such innovations will transform the dynamics of business operation and consumer engagement. With solutions like those offered by Broxus, the future of digital transformation will be robust, secure, scalable, and efficient. The future of industries is going to be revolutionized by blockchain technology with its decentralized and secure nature beyond just digital currencies, building trust and transparency in the digital age. The future of blockchain technology holds an immense potential with the integration of AI. The Prospect of Blockchain Technology\n",
            "\n",
            "As blockchain technology continues to evolve, its potential applications are expected to grow exponentially. In the fintech sector, Ping An has 8,582 patents, accounting for more than 2% of patents of the entire industry. On the other hand, data integration is the process of combining data from different data sources to create a single integrated data set. Prabhu's research on data integration issues in the healthcare claims processing environment identifies the existing challenges in the sharing of information between payers and providers. 2. With WISeID.COM, the healthcare industry can shift towards a decentralized, patient-centric model that enhances privacy, security, and accessibility. Patients can selectively share medical records without disclosing unrelated health information. Improves healthcare trust through a transparent and tamper-proof system. Mitigates security risks associated with centralized storage and unauthorized access. About WISeKey\n",
            "\n",
            "WISeKey International Holding Ltd (“WISeKey”, SIX: WIHN; Nasdaq: WKEY) is a global leader in cybersecurity, digital identity, and IoT solutions platform.\n"
          ]
        }
      ]
    },
    {
      "cell_type": "code",
      "source": [
        "print(len(topic_summary))"
      ],
      "metadata": {
        "colab": {
          "base_uri": "https://localhost:8080/"
        },
        "id": "f_rtLRqnRbpg",
        "outputId": "709f27dc-fccc-4384-db96-e7daaa7b9afc"
      },
      "execution_count": null,
      "outputs": [
        {
          "output_type": "stream",
          "name": "stdout",
          "text": [
            "1887\n"
          ]
        }
      ]
    },
    {
      "cell_type": "code",
      "source": [
        "from collections import Counter\n",
        "import re\n",
        "import numpy as np\n",
        "\n",
        "def weighted_multi_doc_summary(text_list, num_sentences=15):\n",
        "    # Extract all text\n",
        "    all_text = \"\"\n",
        "    for item in text_list:\n",
        "        all_text += item['full_text'] + \" \"\n",
        "\n",
        "    # Find most common terms (potential key topics)\n",
        "    words = re.findall(r'\\w+', all_text.lower())\n",
        "    stop_words = set(stopwords.words('english'))\n",
        "    filtered_words = [word for word in words if word not in stop_words and len(word) > 3]\n",
        "    common_terms = [word for word, count in Counter(filtered_words).most_common(20)]\n",
        "\n",
        "    # Score sentences based on common terms\n",
        "    all_sentences = []\n",
        "    for item in text_list:\n",
        "        sentences = sent_tokenize(item['full_text'])\n",
        "        for sentence in sentences:\n",
        "            score = sum(1 for word in common_terms if word.lower() in sentence.lower())\n",
        "            all_sentences.append((sentence, score))\n",
        "\n",
        "    # Get top sentences\n",
        "    all_sentences.sort(key=lambda x: x[1], reverse=True)\n",
        "    top_sentences = [sentence for sentence, _ in all_sentences[:num_sentences]]\n",
        "\n",
        "    # Order sentences as they appeared in original text\n",
        "    sentence_positions = {}\n",
        "    position = 0\n",
        "    for item in text_list:\n",
        "        sentences = sent_tokenize(item['full_text'])\n",
        "        for sentence in sentences:\n",
        "            if sentence in top_sentences:\n",
        "                sentence_positions[sentence] = position\n",
        "            position += 1\n",
        "\n",
        "    ordered_top_sentences = sorted(top_sentences, key=lambda s: sentence_positions.get(s, float('inf')))\n",
        "    summary = \" \".join(ordered_top_sentences)\n",
        "    return summary"
      ],
      "metadata": {
        "id": "8C3KOov7Oq-R"
      },
      "execution_count": null,
      "outputs": []
    },
    {
      "cell_type": "code",
      "source": [
        "# Generate weighted summary\n",
        "weighted_summary = weighted_multi_doc_summary(text_list)\n",
        "print(\"Weighted Summary:\")\n",
        "print(weighted_summary)"
      ],
      "metadata": {
        "colab": {
          "base_uri": "https://localhost:8080/"
        },
        "id": "GNgo14XzRf2S",
        "outputId": "ba149346-d465-4167-ef62-c808cfb70a7d"
      },
      "execution_count": null,
      "outputs": [
        {
          "output_type": "stream",
          "name": "stdout",
          "text": [
            "Weighted Summary:\n",
            "Understanding Supply Chain Management in Blockchain\n",
            "\n",
            "Blockchain is a decentralized, immutable digital ledger that guarantees secure, transparent transactions. The Future of Blockchain in Supply Chain in India\n",
            "\n",
            "The application of blockchain technology in supply chain management will increase with growing awareness by businesses and industries of its significance. In Addition, Blockchain is revolutionizing many government services, from financing and supply chain management to healthcare, enabling decentralized transactions to reduce fraud and enhance data integrity. For enterprises, their solutions offer real-world asset tokenization, supply chain automation, and decentralization of financial services to improve operational efficiency and data security. Understanding The Security and Basics of Blockchain Technology\n",
            "\n",
            "Blockchain is a technology with a decentralized distributed ledger that allows P2P transactions to facilitate the safest direct exchange between two parties. The future of industries is going to be revolutionized by blockchain technology with its decentralized and secure nature beyond just digital currencies, building trust and transparency in the digital age. The Future Of Blockchain in Governments Digital Currencies\n",
            "\n",
            "Blockchain technology has been faithful to its word by showing consistency regarding financial properties. Their focus on Central Bank digital currency and enterprise solutions demonstrates their dedication to modernizing national financial systems while increasing operational efficiency and data security for businesses. With Broxus at the forefront of this ever-evolving industry, we can expect continued advancements in blockchain technology that will shape our future financial systems. Blockchain technology has opened doors for a number of startups to test its applications, including decentralized finance (DeFi), supply chain management, and digital identity verification. Blockchain’s decentralized, transparent, and secure framework has disrupted traditional systems and industries, introducing new ways of doing business, managing data, and ensuring trust. Our Smart Contract Development Solutions provide self-executing, tamper-proof contracts that ensure trust and security in financial transactions, supply chain management, and legal agreements. Ensuring Data Security and Compliance\n",
            "\n",
            "With increasing concerns over healthcare data privacy, blockchain provides a decentralized and tamper-proof method for storing patient records. Geneva, Switzerland, March 5, 2025 –WISeKey International Holding Ltd (“WISeKey”) (SIX: WIHN, NASDAQ: WKEY), a leading global cybersecurity, blockchain, and IoT company, today announces that its WISeID.COM introduces a groundbreaking approach to healthcare data security by enabling decentralized consultations through blockchain-secured digital identities, encryption, and self-sovereign identity (SSI) principles. The subsidiaries include (i) SEALSQ Corp (Nasdaq: LAES), which focuses on semiconductors, PKI, and post-quantum technology products, (ii) WISeKey SA which specializes in RoT and PKI solutions for secure authentication and identification in IoT, Blockchain, and AI, (iii) WISeSat AG which focuses on space technology for secure satellite communication, specifically for IoT applications, (iv) WISe.ART Corp which focuses on trusted blockchain NFTs and operates the WISe.ART marketplace for secure NFT transactions, and (v) SEALCOIN AG which focuses on decentralized physical internet with DePIN technology and house the development of the SEALCOIN platform.\n"
          ]
        }
      ]
    },
    {
      "cell_type": "code",
      "source": [
        "print(len(weighted_summary))"
      ],
      "metadata": {
        "colab": {
          "base_uri": "https://localhost:8080/"
        },
        "id": "07euSIjkRgZT",
        "outputId": "cffbfb35-a656-4ab3-8180-d7688c6467cf"
      },
      "execution_count": null,
      "outputs": [
        {
          "output_type": "stream",
          "name": "stdout",
          "text": [
            "3567\n"
          ]
        }
      ]
    },
    {
      "cell_type": "code",
      "source": [
        "print(len(text_list))\n",
        "print(text_list[0])"
      ],
      "metadata": {
        "colab": {
          "base_uri": "https://localhost:8080/"
        },
        "id": "xFli5LRWULdE",
        "outputId": "07487829-dd05-46f1-ef12-d1ec04962f31"
      },
      "execution_count": null,
      "outputs": [
        {
          "output_type": "stream",
          "name": "stdout",
          "text": [
            "9\n",
            "{'title': 'Blockchain In Supply Chain: Real-World Applications In India', 'body': 'Blockchain makes transformation in supply chain management offering clarity, efficiency and security. It has real-life applications in India which can tremendously range from tracking food safety and preventing counterfeiting activities and finally to cost reduction.', 'url': 'https://www.outlookindia.com/xhub/blockchain-insights/blockchain-in-supply-chain-real-world-applications-in-india', 'full_text': \"Understanding Supply Chain Management in Blockchain\\n\\nBlockchain is a decentralized, immutable digital ledger that guarantees secure, transparent transactions. Unlike traditional databases that consolidate their control in one place, blockchain guarantees that data is always distributed across many nodes, making it nearly impossible to alter or manipulate. This decentralized aspect fortifies the trust and security of supply chains, as every transaction must be verified by all network participants prior to being timestamped in the ledger.\\n\\nIn India, the government and private enterprises are exploring blockchain applications in supply chain management. Both NITI Aayog and different state governments have commenced pilot studies focusing on the integration of blockchain into industries such as food safety, pharmaceuticals, and logistics for increased traceability and efficiency.\\n\\nEnhancing Transparency and Traceability\\n\\nEnhanced transparency in supply chains is the major benefit that blockchain brings. Traditionally, tracking a product's journey from source to consumer involves a plethora of intermediaries and paperwork. Such processes are tedious and prone to error and fraud. Blockchain virtually eliminates these inefficiencies through a tamper-proof record of every transaction being available to all authorized participants.\\n\\nIn India, the agricultural sector has seen the implementation of blockchain for food traceability. The Andhra Pradesh state government has collaborated with technology companies in using blockchain to track crop supply chains such as chili and coffee. This will ensure the farmers get a fair price while the consumers get to authenticate their produce.\\n\\nCombating Counterfeiting and Fraud\\n\\nCounterfeiting is a big headache in the different industries-from pharma to luxury goods. Counterfeit products cause not only financial harm but also potential health and safety risks. Blockchain technology provides a way to solve these issues through a tamper-proof record of product origins and ownership transfers.\\n\\nThe Indian pharmaceutical industry is applying blockchain technology to counter fake medicines. In collaboration with blockchain companies, the Maharashtra FDA set up a system for tracking medicines from manufacture to retail, thus ensuring the sale of authentic drugs to patients while also curtailing illegal distribution.\\n\\nImproving Efficiency and Reducing Costs\\n\\nBlockchain streamlines these processes by automating transactions through smart contracts, which are self-executing contracts when certain conditions are attained. Automating such transactions reduces overhead costs and delays that add complexity to logistics, the involvement of multiple intermediaries, and vast volumes of paperwork that are features of traditional supply chains.\\n\\nMajor port authorities that are penetrating blockchain solutions in India's logistics domain are more or less such as the Jawaharlal Nehru Port Trust (JNPT) as well. Allowing real-time visibility in the movement of cargo and automating documentation can greatly shorten clearance times and efficiency in trade.\\n\\nStrengthening Ethical and Sustainable Practices\\n\\nIncreased consumer awareness about ethical and environmental concerns has put pressure on businesses to adopt sustainable and responsible sourcing methods. Transparency in the supply chain enables the company to trace and verify the origin of raw materials, thus ensuring ethical sources.\\n\\nIn the textile sector, Indian manufacturers are implementing blockchain to verify organic cotton; thus, brands that export to the global markets are made to explain sourcing and production processes, which gives rise to trustworthy consumers and promotes ethical practices.\\n\\nConfronting Challenges and Limitations\\n\\nDespite thrilling promise, blockchain undoubtedly faces potential intrinsic issues in their real-life application in supply chain management. The scaling problem is one of the most severe issues because of the huge volume of data that supply chains produce over time. It busts even the current capacities of blockchain, and invariably there needs to be ongoing innovations to come through improvements in scalability and transaction speeds.\\n\\nIntegrating the already functioning supply chain frameworks with blockchain technology needs collaboration from several stakeholders. Investment in introducing new technology in that case through standards for data sharing also has to be agreed upon by organizations. There are other aspects, like legal and regulatory ones as well, as every state may have different specifications regarding Blockchain use cases, for example, within India.\\n\\nThe Future of Blockchain in Supply Chain in India\\n\\nThe application of blockchain technology in supply chain management will increase with growing awareness by businesses and industries of its significance. Scaling solutions for blockchain, fused with artificial intelligence and IoT, would provide better transparency and efficiency in the supply chain. Future possibilities may come in the form of fully automated, blockchain-integrated supply chains where real-time product tracking is done, payments are made seamlessly through smart contracts, and predictive analytics help optimize logistics. Such innovations will transform the dynamics of business operation and consumer engagement. The Indian government is also working on a national-level framework for blockchain, which might uphold a more integrated and secured supply chain ecosystem.\\n\\nConclusion\\n\\nBlockchain makes transformation in supply chain management offering clarity, efficiency and security. It has real-life applications in India which can tremendously range from tracking food safety and preventing counterfeiting activities and finally to cost reduction. However, for all the challenges which still remain, innovation and partnership would pave the way to blockchain being widely adopted across supply chain networks in India. These would make it possible for businesses and consumers to remain accountable and sustainable- thus making strong changes in supply chains in the country by the time blockchain becomes a common name.\"}\n"
          ]
        }
      ]
    },
    {
      "cell_type": "code",
      "source": [
        "import time\n",
        "\n",
        "# Function to get news with proper rate limiting\n",
        "def get_rate_limited_news(keywords, delay_seconds=10, max_results=10, **kwargs):\n",
        "    ddgs = DDGS()\n",
        "    results = []\n",
        "\n",
        "    # Set a smaller batch size to get fewer results per API call\n",
        "    batch_size = 1\n",
        "    remaining = max_results\n",
        "\n",
        "    while remaining > 0:\n",
        "        # Calculate how many results to request in this batch\n",
        "        current_batch = min(batch_size, remaining)\n",
        "\n",
        "        # Make the API call for just this batch\n",
        "        batch_generator = ddgs.news(\n",
        "            keywords=keywords,\n",
        "            region=\"us-en\",\n",
        "            safesearch=\"off\",\n",
        "            timelimit=\"m\",\n",
        "            max_results=current_batch,\n",
        "            **kwargs\n",
        "        )\n",
        "\n",
        "        # Process results from this batch\n",
        "        batch_results = list(batch_generator)\n",
        "        results.extend(batch_results)\n",
        "\n",
        "        print(f\"Fetched {len(batch_results)} articles (total: {len(results)}/{max_results})\")\n",
        "\n",
        "        # Update remaining count\n",
        "        remaining -= len(batch_results)\n",
        "\n",
        "        # Don't sleep after the last batch\n",
        "        if remaining > 0:\n",
        "            print(f\"Waiting {delay_seconds} seconds before next request...\")\n",
        "            time.sleep(delay_seconds)\n",
        "\n",
        "    return results\n",
        "\n"
      ],
      "metadata": {
        "id": "oeW-zxvpTtiO"
      },
      "execution_count": null,
      "outputs": []
    },
    {
      "cell_type": "code",
      "source": [
        "# Use the rate-limited function\n",
        "climate_news = get_rate_limited_news(\n",
        "    keywords=\"developments in climate change\",\n",
        "    delay_seconds=10,\n",
        "    max_results=10\n",
        ")\n",
        "\n",
        "# Now you have your results with proper rate limiting\n",
        "print(f\"\\nTotal articles fetched: {len(climate_news)}\")"
      ],
      "metadata": {
        "colab": {
          "base_uri": "https://localhost:8080/"
        },
        "id": "ih6J-DsoTwP4",
        "outputId": "2d8139d2-040c-47e3-e052-bb9e13431902"
      },
      "execution_count": null,
      "outputs": [
        {
          "output_type": "stream",
          "name": "stdout",
          "text": [
            "Fetched 1 articles (total: 1/10)\n",
            "Waiting 10 seconds before next request...\n",
            "Fetched 1 articles (total: 2/10)\n",
            "Waiting 10 seconds before next request...\n",
            "Fetched 1 articles (total: 3/10)\n",
            "Waiting 10 seconds before next request...\n",
            "Fetched 1 articles (total: 4/10)\n",
            "Waiting 10 seconds before next request...\n",
            "Fetched 1 articles (total: 5/10)\n",
            "Waiting 10 seconds before next request...\n",
            "Fetched 1 articles (total: 6/10)\n",
            "Waiting 10 seconds before next request...\n",
            "Fetched 1 articles (total: 7/10)\n",
            "Waiting 10 seconds before next request...\n",
            "Fetched 1 articles (total: 8/10)\n",
            "Waiting 10 seconds before next request...\n",
            "Fetched 1 articles (total: 9/10)\n",
            "Waiting 10 seconds before next request...\n",
            "Fetched 1 articles (total: 10/10)\n",
            "\n",
            "Total articles fetched: 10\n"
          ]
        }
      ]
    },
    {
      "cell_type": "code",
      "source": [
        "print(climate_news)"
      ],
      "metadata": {
        "colab": {
          "base_uri": "https://localhost:8080/"
        },
        "id": "JE6ruZCCUX79",
        "outputId": "07f6c301-268f-491c-86ee-738ab3ec3926"
      },
      "execution_count": null,
      "outputs": [
        {
          "output_type": "stream",
          "name": "stdout",
          "text": [
            "[{'date': '2025-03-05T17:23:00+00:00', 'title': 'Opinion: Democracy and Climate Change', 'body': 'Ill-effects of growth model needs serious revisit to strike a balance between ecology, economy Climate change has emerged as both academic and policy relevance globally in the last two-and-a-half decades.', 'url': 'https://telanganatoday.com/opinion-democracy-and-climate-change', 'image': 'https://media.telanganatoday.com/wp-content/uploads/2025/03/Opinion.jpg', 'source': 'Telangana Today'}, {'date': '2025-03-06T16:09:39+00:00', 'title': 'World Must Prepare to Fight Climate Change Without US, UK Says', 'body': \"The world needs to prepare to fight global warming without the help of the US as the Trump administration pulls billions of dollars pledged to initiatives funding the green transition, the UK's climate envoy said.\", 'url': 'https://www.msn.com/en-us/money/other/world-must-prepare-to-fight-climate-change-without-us-uk-says/ar-AA1Aoc0Q', 'image': 'https://img-s-msn-com.akamaized.net/tenant/amp/entityid/AA1Aollr.img?w=2000&h=1335&m=4&q=79', 'source': 'Bloomberg'}, {'date': '2025-03-05T17:23:00+00:00', 'title': 'Opinion: Democracy and Climate Change', 'body': 'Ill-effects of growth model needs serious revisit to strike a balance between ecology, economy Climate change has emerged as both academic and policy relevance globally in the last two-and-a-half decades.', 'url': 'https://telanganatoday.com/opinion-democracy-and-climate-change', 'image': 'https://media.telanganatoday.com/wp-content/uploads/2025/03/Opinion.jpg', 'source': 'Telangana Today'}, {'date': '2025-03-06T16:09:39+00:00', 'title': 'World Must Prepare to Fight Climate Change Without US, UK Says', 'body': \"The world needs to prepare to fight global warming without the help of the US as the Trump administration pulls billions of dollars pledged to initiatives funding the green transition, the UK's climate envoy said.\", 'url': 'https://www.msn.com/en-us/money/other/world-must-prepare-to-fight-climate-change-without-us-uk-says/ar-AA1Aoc0Q', 'image': 'https://img-s-msn-com.akamaized.net/tenant/amp/entityid/AA1Aollr.img?w=2000&h=1335&m=4&q=79', 'source': 'Bloomberg'}, {'date': '2025-03-06T16:09:39+00:00', 'title': 'World Must Prepare to Fight Climate Change Without US, UK Says', 'body': \"The world needs to prepare to fight global warming without the help of the US as the Trump administration pulls billions of dollars pledged to initiatives funding the green transition, the UK's climate envoy said.\", 'url': 'https://www.msn.com/en-us/money/other/world-must-prepare-to-fight-climate-change-without-us-uk-says/ar-AA1Aoc0Q', 'image': 'https://img-s-msn-com.akamaized.net/tenant/amp/entityid/AA1Aollr.img?w=2000&h=1335&m=4&q=79', 'source': 'Bloomberg'}, {'date': '2025-03-05T17:23:00+00:00', 'title': 'Opinion: Democracy and Climate Change', 'body': 'Ill-effects of growth model needs serious revisit to strike a balance between ecology, economy Climate change has emerged as both academic and policy relevance globally in the last two-and-a-half decades.', 'url': 'https://telanganatoday.com/opinion-democracy-and-climate-change', 'image': 'https://media.telanganatoday.com/wp-content/uploads/2025/03/Opinion.jpg', 'source': 'Telangana Today'}, {'date': '2025-03-05T17:23:00+00:00', 'title': 'Opinion: Democracy and Climate Change', 'body': 'Ill-effects of growth model needs serious revisit to strike a balance between ecology, economy Climate change has emerged as both academic and policy relevance globally in the last two-and-a-half decades.', 'url': 'https://telanganatoday.com/opinion-democracy-and-climate-change', 'image': 'https://media.telanganatoday.com/wp-content/uploads/2025/03/Opinion.jpg', 'source': 'Telangana Today'}, {'date': '2025-03-06T16:09:39+00:00', 'title': 'World Must Prepare to Fight Climate Change Without US, UK Says', 'body': \"The world needs to prepare to fight global warming without the help of the US as the Trump administration pulls billions of dollars pledged to initiatives funding the green transition, the UK's climate envoy said.\", 'url': 'https://www.msn.com/en-us/money/other/world-must-prepare-to-fight-climate-change-without-us-uk-says/ar-AA1Aoc0Q', 'image': 'https://img-s-msn-com.akamaized.net/tenant/amp/entityid/AA1Aollr.img?w=2000&h=1335&m=4&q=79', 'source': 'Bloomberg'}, {'date': '2025-03-06T16:09:39+00:00', 'title': 'World Must Prepare to Fight Climate Change Without US, UK Says', 'body': \"The world needs to prepare to fight global warming without the help of the US as the Trump administration pulls billions of dollars pledged to initiatives funding the green transition, the UK's climate envoy said.\", 'url': 'https://www.msn.com/en-us/money/other/world-must-prepare-to-fight-climate-change-without-us-uk-says/ar-AA1Aoc0Q', 'image': 'https://img-s-msn-com.akamaized.net/tenant/amp/entityid/AA1Aollr.img?w=2000&h=1335&m=4&q=79', 'source': 'Bloomberg'}, {'date': '2025-03-06T16:09:39+00:00', 'title': 'World Must Prepare to Fight Climate Change Without US, UK Says', 'body': \"The world needs to prepare to fight global warming without the help of the US as the Trump administration pulls billions of dollars pledged to initiatives funding the green transition, the UK's climate envoy said.\", 'url': 'https://www.msn.com/en-us/money/other/world-must-prepare-to-fight-climate-change-without-us-uk-says/ar-AA1Aoc0Q', 'image': 'https://img-s-msn-com.akamaized.net/tenant/amp/entityid/AA1Aollr.img?w=2000&h=1335&m=4&q=79', 'source': 'Bloomberg'}]\n"
          ]
        }
      ]
    },
    {
      "cell_type": "code",
      "source": [
        "climate_news_full_articles = []\n",
        "\n",
        "for result in climate_news:\n",
        "    try:\n",
        "        article = newspaper.article(result['url'])\n",
        "        article.download()\n",
        "        article.parse()\n",
        "        climate_news_full_articles.append({\n",
        "            'title': result['title'],\n",
        "            'body': result['body'],\n",
        "            'url': result['url'],\n",
        "            'full_text': article.text\n",
        "        })\n",
        "    except Exception as e:\n",
        "        print(f\"Skipping article due to error: {str(e)}\")\n",
        "        continue"
      ],
      "metadata": {
        "id": "V6c2Zj4aU8M8"
      },
      "execution_count": null,
      "outputs": []
    },
    {
      "cell_type": "code",
      "source": [
        "print(len(climate_news_full_articles))"
      ],
      "metadata": {
        "colab": {
          "base_uri": "https://localhost:8080/"
        },
        "id": "aPTH6tj1VTAq",
        "outputId": "993bd120-e624-4fee-c17a-537178f55e5c"
      },
      "execution_count": null,
      "outputs": [
        {
          "output_type": "stream",
          "name": "stdout",
          "text": [
            "10\n"
          ]
        }
      ]
    },
    {
      "cell_type": "code",
      "source": [
        "# Generate weighted summary\n",
        "weighted_summary_climate = weighted_multi_doc_summary(climate_news_full_articles)\n",
        "print(\"Weighted Summary Climate:\")\n",
        "print(weighted_summary_climate)"
      ],
      "metadata": {
        "colab": {
          "base_uri": "https://localhost:8080/"
        },
        "id": "h282nAdBVUpH",
        "outputId": "11b50dbd-6de3-4d95-ad73-39022a01fb6b"
      },
      "execution_count": null,
      "outputs": [
        {
          "output_type": "stream",
          "name": "stdout",
          "text": [
            "Weighted Summary Climate:\n",
            "Ill-effects of growth model needs serious revisit to strike a balance between ecology, economy\n",
            "\n",
            "By Nayakara Veeresha\n",
            "\n",
            "Climate change has emerged as both academic and policy relevance globally in the last two-and-a-half decades. Ill-effects of growth model needs serious revisit to strike a balance between ecology, economy\n",
            "\n",
            "By Nayakara Veeresha\n",
            "\n",
            "Climate change has emerged as both academic and policy relevance globally in the last two-and-a-half decades. Ill-effects of growth model needs serious revisit to strike a balance between ecology, economy\n",
            "\n",
            "By Nayakara Veeresha\n",
            "\n",
            "Climate change has emerged as both academic and policy relevance globally in the last two-and-a-half decades. Ill-effects of growth model needs serious revisit to strike a balance between ecology, economy\n",
            "\n",
            "By Nayakara Veeresha\n",
            "\n",
            "Climate change has emerged as both academic and policy relevance globally in the last two-and-a-half decades. Despite this marked shift, the response to climate change-related issues and challenges is not significant across nations, especially among the rich countries. Despite this marked shift, the response to climate change-related issues and challenges is not significant across nations, especially among the rich countries. Despite this marked shift, the response to climate change-related issues and challenges is not significant across nations, especially among the rich countries. Forces of liberalisation, privatisation and globalisation are exerting pressure on state governments to ease the process of forest clearance for mining and other natural resources\n",
            "\n",
            "The ill-effects of the ongoing economic growth model and development path both need a serious revisit to strike a balance between the ecology, economy and development. Forces of liberalisation, privatisation and globalisation are exerting pressure on state governments to ease the process of forest clearance for mining and other natural resources\n",
            "\n",
            "The ill-effects of the ongoing economic growth model and development path both need a serious revisit to strike a balance between the ecology, economy and development. Forces of liberalisation, privatisation and globalisation are exerting pressure on state governments to ease the process of forest clearance for mining and other natural resources\n",
            "\n",
            "The ill-effects of the ongoing economic growth model and development path both need a serious revisit to strike a balance between the ecology, economy and development. Forces of liberalisation, privatisation and globalisation are exerting pressure on state governments to ease the process of forest clearance for mining and other natural resources\n",
            "\n",
            "The ill-effects of the ongoing economic growth model and development path both need a serious revisit to strike a balance between the ecology, economy and development. The economy nested within the ecology and the growth embedded in the sustainability component will address development-related disasters, including climate change implications. The economy nested within the ecology and the growth embedded in the sustainability component will address development-related disasters, including climate change implications. The role of democracy is critical in developing globally agreed variables, especially the SDG-12 on sustainable consumption and production, with 10 out of 13 indicators still in Tier III. The role of democracy is critical in developing globally agreed variables, especially the SDG-12 on sustainable consumption and production, with 10 out of 13 indicators still in Tier III.\n"
          ]
        }
      ]
    },
    {
      "cell_type": "code",
      "source": [
        "# Generate topic-based summary\n",
        "topic_summary_climate = topic_based_multi_doc_summary(climate_news_full_articles)\n",
        "print(\"Topic-based Summary for Climate:\")\n",
        "print(topic_summary_climate)"
      ],
      "metadata": {
        "colab": {
          "base_uri": "https://localhost:8080/"
        },
        "id": "oarMgdI-WD17",
        "outputId": "c2f09a8e-3687-4138-a6cc-330e977aa07e"
      },
      "execution_count": null,
      "outputs": [
        {
          "output_type": "stream",
          "name": "stdout",
          "text": [
            "Topic-based Summary for Climate:\n",
            "Despite this marked shift, the response to climate change-related issues and challenges is not significant across nations, especially among the rich countries. However, concrete actions are missing. The Covid pandemic has brought out the limitations of macroeconomic management. The structural and institutional constraints need an alternative economic governance regime. The buzzword of the circular economy is part and parcel of the global discourse on climate change. The development model pursued has focused on the linear growth pattern by distancing from the cultural roots of circular economic growth nested in ecology and sustainability. Forces of liberalisation, privatisation and globalisation are exerting pressure on state governments to ease the process of forest clearance for mining and other natural resources\n",
            "\n",
            "The ill-effects of the ongoing economic growth model and development path both need a serious revisit to strike a balance between the ecology, economy and development. Do the democratically elected governments show the necessary political will to chalk out indigenous development models by taking clues from the time-tested sustainable growth strategies? The political economy of the carbon emissions and its trade between the Global South and Northern countries is one of the major factors for the lack of consensus. It also highlights the inadequacy of the market structure to facilitate the climatic action plan among the developed and developing nations. The emergence and commitment of the European Union (EU) in the form of Green Deal to an extent is the silver lining in achieving the target of SDGs by 2030, especially Goal 13. India, being the second largest coal producer next to China, needs to develop a comprehensive energy framework to tap the non-fossil fuel electricity generation. Democracy for Climate Justice\n",
            "\n",
            "The organic link between democracy and climate change responses is critical and demands a fine balance between growth and the environment. The role of democracy is critical in developing globally agreed variables, especially the SDG-12 on sustainable consumption and production, with 10 out of 13 indicators still in Tier III. This needs revisiting the economic growth model by improving institutional capacities of the state along the lines of redistributive justice.\n"
          ]
        }
      ]
    },
    {
      "cell_type": "code",
      "source": [
        "print(len(topic_summary_climate))"
      ],
      "metadata": {
        "colab": {
          "base_uri": "https://localhost:8080/"
        },
        "id": "nZzHWGR-WTuk",
        "outputId": "73333122-21fe-48fe-d5d3-e777a6fc8bde"
      },
      "execution_count": null,
      "outputs": [
        {
          "output_type": "stream",
          "name": "stdout",
          "text": [
            "2324\n"
          ]
        }
      ]
    },
    {
      "cell_type": "code",
      "source": [
        "# Generate a single summary from all articles\n",
        "overall_summary = generate_combined_summary(climate_news_full_articles)\n",
        "print(\"Abstractive Overall Summary:\")\n",
        "print(overall_summary)"
      ],
      "metadata": {
        "id": "_R5Fl4TcYu80",
        "outputId": "c9451a7c-a759-46ca-9970-005515b87076",
        "colab": {
          "base_uri": "https://localhost:8080/"
        }
      },
      "execution_count": null,
      "outputs": [
        {
          "output_type": "stream",
          "name": "stderr",
          "text": [
            "Device set to use cpu\n"
          ]
        },
        {
          "output_type": "stream",
          "name": "stdout",
          "text": [
            "Abstractive Overall Summary:\n",
            "Ill-effects of growth model needs serious revisit to strike a balance between ecology, economy. Climate change has emerged as both academic and policy relevance globally. Despite this marked shift, the response to climate change-related issues and challenges is not significant across nations, especially among the rich countries. The buzzword of the circular economy is part and parcel of the global discourse on climate change. The development model pursued has focused on the linear growth pattern by distancing from the cultural roots of circular economic growth nested in ecology and sustainability. The ill-effects of the ongoing economic growth model and development path both need a serious revisit. Growth and development attained on these premises are unsustainable. Ecology and environment must be given the highest priority in the policy-making process. The economy nested within the ecology and the growth embedded in the sustainability component will address development-related disasters, including c. The persistence of inaction towards climate-related challenges reflects the severe lack of political will among nations. The political economy of the carbon emissions and its trade between the Global South and Northern countries is one of the major factors for the lack of consensus. It also highlights the inadequacy of the market structure to facilitate the climatic action plan among the developed and developing nations. SDG 7 emphasises the utilisation of hydro, wind and other bio-energy systems to reduce the use of fossil fuels, especially coal. India, being the second largest coal producer next to China, needs to develop a comprehensive energy framework to tap the non-fossil fuel electricity generation. The role of democracy is critical in developing globally agreed variables, especially the SDG-12 on sustainable consumption and production. 10 out of 13 indicators still in Tier III. The economic growth model must uplift the poor by enhancing their purchasing power. Deepening democracy through decentralised governance is key to resolving some of the challenges of climate change. The forces of liberalisation, privatisation and globalisation are exerting pressure on the state governments to ease the process of forest clearance for mining purposes and other natural resources. There are several concepts and initiatives such as Green Budgeting, Green Economy, Circular Economy and Green Deal. The buzzword of the circular economy is part and parcel of the global discourse on climate change. The development model pursued has focused on the linear growth pattern. Income inequality is one of the contributing factors to unsustainable consumption patterns. The earth’s carrying capacity in the form of biodiversity conservation and ecological equilibrium is critical to achieve the Sustainable Development Goals (SDGs) of 2030. The question is, are we ready to reflect our lifestyles to fine-tune with nature? The persistence of inaction towards climate-related challenges reflects the severe lack of political will among nations. Ecology and environment must be given the highest priority in the policy-making process. The economy nested within the ecology and the growth embedded in the sustainability component will address development-related disasters, including climate change implications. The objectives of the Kyoto Protocol and the Paris Agreement cannot be achieved without making a paradigm shift in the current global production and consumption patterns. India, being the second largest coal producer next to China, needs to develop a comprehensive energy framework to tap the non-fossil fuel electricity generation. The material footprint of fossil fuels is more than four times in developed countries as compared to developing countries. India’s role in pushing the democratic agenda is crucial for this pursuit. The role of democracy is critical in developing globally agreed variables, especially the SDG-12. Democracy as a form of government must work along with civil society and markets to ensure climate justice. The economic growth model must uplift the poor by enhancing their purchasing power. Deepening democracy through decentralised governance is key to resolving some of the challenges of climate change. Ill-effects of growth model needs serious revisit to strike a balance between ecology, economy. The Covid pandemic has brought out the limitations of macroeconomic management. The structural and institutional constraints need an alternative economic governance regime. This also calls for revisiting the neo-classical app. The buzzword of the circular economy is part and parcel of the global discourse on climate change. The development model pursued has focused on the linear growth pattern by distancing from the cultural roots of circular economic growth nested in ecology and sustainability. The ill-effects of the ongoing economic growth model and development path both need a serious revisit. Income inequality is one of the contributing factors to unsustainable consumption patterns. Ecology and environment must be given the highest priority in the policy-making process in tandem with allocative resource efficiency. The economy nested within the ecology and the growth embedded in the sustainability component will address development-related disas. The persistence of climate change challenges reflects the lack of a clear-cut plan to deal with it. It also highlights the inadequacy of the market structure to facilitate the development of new technologies. The Paris Agreement cannot be achieved without a paradigm shift in the current global production and consumption patterns. SDG 7 emphasises the utilisation of hydro, wind and other bio-energy systems to reduce the use of fossil fuels, especially coal. India, being the second largest coal producer next to China, needs to develop a comprehensive energy framework to tap the non-fossil fuel electricity generation. The role of democracy is critical in developing globally agreed variables, especially the SDG-12 on sustainable consumption and production. 10 out of 13 indicators still in Tier III. The economic growth model must uplift the poor by enhancing their purchasing power. Democracy as a form of government must work along with civil society and mar. Deepening democracy through decentralised governance is key to resolving some of the challenges of climate change. The forces of liberalisation, privatisation and globalisation are exerting pressure on the state governments to ease the process of forest clearance for mining purposes and other natural resources. The Covid pandemic has brought out the limitations of macroeconomic management. The structural and institutional constraints need an alternative economic governance regime. This also calls for revisiting the neo-classical approach with a focus on embedding the tenets of institutional and behavioural economics. The ill-effects of the ongoing economic growth model and development path both need a serious revisit. The trickledown theory of growth, an extractive model of development, is coming at a huge cost to the environment. The earth’s carrying capacity in the form of biodiversity conservation and ecological equilibrium is critical to ensure progressive human development. The persistence of inaction towards climate-related challenges reflects the severe lack of political will among nations to chalk out a clear-cut action plan. Ecology and environment must be given the highest priority in the policy-making process in tandem with allocative resource efficiency. The economy nested within the ecology and the growth embedded in the sustainability component will address development-related disasters. The objectives of the Kyoto Protocol and the Paris Agreement cannot be achieved without making a paradigm shift in the current global production and consumption patterns. SDG 7 emphasises the utilisation of hydro, wind and other bio-energy systems to reduce the use of fossil fuels, especially coal. The material footprint of fossil fuels is more than four times in developed countries as compared to developing countries. India’s role in pushing the democratic agenda is crucial for this pursuit. The role of democracy is critical in developing globally agreed variables, especially the SDG-12. Democracy as a form of government must work along with civil society and markets to ensure climate justice. The economic growth model must uplift the poor by enhancing their purchasing power. Deepening democracy through decentralised governance is key to resolving some of the challenges of climate change.\n"
          ]
        }
      ]
    },
    {
      "cell_type": "code",
      "source": [
        "print(len(overall_summary))"
      ],
      "metadata": {
        "id": "V8pIAIRKa378",
        "outputId": "418394ae-23fb-4fc4-b364-24d3276ae2a8",
        "colab": {
          "base_uri": "https://localhost:8080/"
        }
      },
      "execution_count": null,
      "outputs": [
        {
          "output_type": "stream",
          "name": "stdout",
          "text": [
            "8624\n"
          ]
        }
      ]
    },
    {
      "cell_type": "code",
      "source": [
        "def compress_summary(summary, max_length=800):\n",
        "    sentences = sent_tokenize(summary)\n",
        "\n",
        "    # If already short enough, return as is\n",
        "    if len(summary) <= max_length:\n",
        "        return summary\n",
        "\n",
        "    # Calculate importance score for each sentence using key phrase presence\n",
        "    key_phrases = [\"climate change\", \"global warming\", \"carbon emissions\",\n",
        "                  \"renewable energy\", \"policy\", \"agreement\", \"temperature\"]\n",
        "\n",
        "    scored_sentences = []\n",
        "    for sentence in sentences:\n",
        "        # Score based on presence of key phrases and sentence position\n",
        "        score = sum(2 if phrase in sentence.lower() else 0 for phrase in key_phrases)\n",
        "        scored_sentences.append((sentence, score))\n",
        "\n",
        "    # Sort by score and select top sentences\n",
        "    scored_sentences.sort(key=lambda x: x[1], reverse=True)\n",
        "\n",
        "    # Keep selecting sentences until we reach the length limit\n",
        "    compressed = []\n",
        "    current_length = 0\n",
        "    for sentence, _ in scored_sentences:\n",
        "        if current_length + len(sentence) <= max_length:\n",
        "            compressed.append(sentence)\n",
        "            current_length += len(sentence) + 1  # +1 for the space\n",
        "        else:\n",
        "            break\n",
        "\n",
        "    return \" \".join(compressed)\n",
        "\n",
        "# Apply compression\n",
        "compressed_topic_summary = compress_summary(overall_summary, max_length=600)\n",
        "print(f\"Original length: {len(overall_summary)}\")\n",
        "print(f\"Compressed length: {len(compressed_topic_summary)}\")"
      ],
      "metadata": {
        "id": "lO3Pa9NZbRG-",
        "outputId": "c5bcf0ff-7f5a-4c72-8821-a772d0b2b00f",
        "colab": {
          "base_uri": "https://localhost:8080/"
        }
      },
      "execution_count": null,
      "outputs": [
        {
          "output_type": "stream",
          "name": "stdout",
          "text": [
            "Original length: 8624\n",
            "Compressed length: 585\n"
          ]
        }
      ]
    },
    {
      "cell_type": "code",
      "source": [
        "print(compressed_topic_summary)"
      ],
      "metadata": {
        "id": "vCmbBCAzbXyq",
        "outputId": "9cc350a7-4998-4af3-febe-b569079ea9af",
        "colab": {
          "base_uri": "https://localhost:8080/"
        }
      },
      "execution_count": null,
      "outputs": [
        {
          "output_type": "stream",
          "name": "stdout",
          "text": [
            "Climate change has emerged as both academic and policy relevance globally. Despite this marked shift, the response to climate change-related issues and challenges is not significant across nations, especially among the rich countries. The buzzword of the circular economy is part and parcel of the global discourse on climate change. Ecology and environment must be given the highest priority in the policy-making process. The political economy of the carbon emissions and its trade between the Global South and Northern countries is one of the major factors for the lack of consensus.\n"
          ]
        }
      ]
    },
    {
      "cell_type": "code",
      "source": [
        "def remove_redundancy(summary):\n",
        "    sentences = sent_tokenize(summary)\n",
        "    unique_sentences = []\n",
        "    content_seen = set()\n",
        "\n",
        "    for sentence in sentences:\n",
        "        # Create a simplified representation by keeping only important words\n",
        "        important_words = [w.lower() for w in word_tokenize(sentence)\n",
        "                          if w.lower() not in stopwords.words('english') and len(w) > 3]\n",
        "\n",
        "        # Skip sentences that are too similar to ones we've already kept\n",
        "        sentence_content = \" \".join(sorted(important_words))\n",
        "        similarity_found = False\n",
        "\n",
        "        for existing in content_seen:\n",
        "            # Calculate Jaccard similarity\n",
        "            common = len(set(sentence_content.split()) & set(existing.split()))\n",
        "            total = len(set(sentence_content.split()) | set(existing.split()))\n",
        "            if total > 0 and common/total > 0.6:  # More than 60% similar\n",
        "                similarity_found = True\n",
        "                break\n",
        "\n",
        "        if not similarity_found:\n",
        "            unique_sentences.append(sentence)\n",
        "            content_seen.add(sentence_content)\n",
        "\n",
        "    return \" \".join(unique_sentences)\n",
        "\n",
        "# Apply redundancy removal\n",
        "non_redundant_summary = remove_redundancy(overall_summary)\n",
        "print(f\"After redundancy removal: {len(non_redundant_summary)}\")"
      ],
      "metadata": {
        "id": "qMmqhk9jbvZr",
        "outputId": "75b76085-e0fa-474a-85ea-088a9443b139",
        "colab": {
          "base_uri": "https://localhost:8080/"
        }
      },
      "execution_count": null,
      "outputs": [
        {
          "output_type": "stream",
          "name": "stdout",
          "text": [
            "After redundancy removal: 4461\n"
          ]
        }
      ]
    },
    {
      "cell_type": "code",
      "source": [
        "def abstractive_compress(text, max_length=150, min_length=50):\n",
        "    # Initialize summarizer\n",
        "    summarizer = pipeline(\"summarization\", model=\"facebook/bart-large-cnn\")\n",
        "\n",
        "    # If text is too long, break it into chunks and summarize each\n",
        "    if len(text) > 1024:\n",
        "        # Split into chunks of about 1000 characters\n",
        "        chunks = [text[i:i+1000] for i in range(0, len(text), 1000)]\n",
        "        summaries = []\n",
        "\n",
        "        for chunk in chunks:\n",
        "            if len(chunk) > 100:  # Only summarize substantial chunks\n",
        "                summary = summarizer(chunk, max_length=max_length//len(chunks),\n",
        "                                    min_length=min_length//len(chunks))\n",
        "                summaries.append(summary[0]['summary_text'])\n",
        "\n",
        "        return \" \".join(summaries)\n",
        "    else:\n",
        "        # Summarize directly\n",
        "        summary = summarizer(text, max_length=max_length, min_length=min_length)\n",
        "        return summary[0]['summary_text']\n",
        "\n",
        "# Apply abstractive compression to further reduce size\n",
        "final_summary = abstractive_compress(topic_summary_climate, max_length=300, min_length=200)\n",
        "print(f\"Final summary length: {len(final_summary)}\")"
      ],
      "metadata": {
        "id": "mzWif7pVcCY_",
        "outputId": "f1162a58-c0bf-4a2f-e86a-d8ee3dc73fc0",
        "colab": {
          "base_uri": "https://localhost:8080/"
        }
      },
      "execution_count": null,
      "outputs": [
        {
          "output_type": "stream",
          "name": "stderr",
          "text": [
            "Device set to use cpu\n",
            "Your max_length is set to 100, but your input_length is only 61. Since this is a summarization task, where outputs shorter than the input are typically wanted, you might consider decreasing max_length manually, e.g. summarizer('...', max_length=30)\n"
          ]
        },
        {
          "output_type": "stream",
          "name": "stdout",
          "text": [
            "Final summary length: 1206\n"
          ]
        }
      ]
    },
    {
      "cell_type": "code",
      "source": [
        "print(final_summary)"
      ],
      "metadata": {
        "id": "39G0aQllcsY2",
        "outputId": "27e8f04b-4e78-4282-adbb-19d098ceb202",
        "colab": {
          "base_uri": "https://localhost:8080/"
        }
      },
      "execution_count": null,
      "outputs": [
        {
          "output_type": "stream",
          "name": "stdout",
          "text": [
            "The buzzword of the circular economy is part and parcel of the global discourse on climate change. Despite this marked shift, the response to climate change-related issues and challenges is not significant across nations. Forces of liberalisation, privatisation and globalisation are exerting pressure on state governments to ease the process of forest clearance for mining. The political economy of the carbon emissions and its trade between the Global South and Northern countries is one of the major factors for the lack of consensus. It also highlights the inadequacy of the market structure to facilitate the climatic action plan among the developed and developing nations. The emergence and commitment of the European Union (EU) in the form of Green Deal to an extent is the silver lining in achieving the target of SDGs by 2030, especially Goal 13. 10 out of 13 indicators still in Tier III. This needs revisiting the economic growth model by improving institutional capacities of the state along the lines of redistributive justice. ole of democracy is critical in developing globally agreed variables, especially the SDG-12 on sustainable consumption and production, says the UN Secretary-General.\n"
          ]
        }
      ]
    },
    {
      "cell_type": "code",
      "source": [
        "final_summary_2 = abstractive_compress(final_summary, max_length=30, min_length=10)\n",
        "print(f\"Final summary length: {len(final_summary_2)}\")"
      ],
      "metadata": {
        "id": "OQpfKNUScz4e",
        "outputId": "90678232-b153-4ec6-a274-a91c3803ab59",
        "colab": {
          "base_uri": "https://localhost:8080/"
        }
      },
      "execution_count": null,
      "outputs": [
        {
          "output_type": "stream",
          "name": "stderr",
          "text": [
            "Device set to use cpu\n"
          ]
        },
        {
          "output_type": "stream",
          "name": "stdout",
          "text": [
            "Final summary length: 142\n"
          ]
        }
      ]
    },
    {
      "cell_type": "code",
      "source": [
        "print(final_summary_2)"
      ],
      "metadata": {
        "id": "NbyuR6TwdGa9",
        "outputId": "1513776f-8693-4586-bd98-60c4df9b1fca",
        "colab": {
          "base_uri": "https://localhost:8080/"
        }
      },
      "execution_count": null,
      "outputs": [
        {
          "output_type": "stream",
          "name": "stdout",
          "text": [
            "The response to climate change-related issues and challenges is not The UN Secretary-General says democracy is critical in developing globally\n"
          ]
        }
      ]
    },
    {
      "cell_type": "code",
      "source": [
        "import requests\n",
        "import json\n",
        "\n",
        "target_summaries_url = \"https://raw.githubusercontent.com/hspgit/IR-Project-Text-summarization/main/new_target.json\"\n",
        "\n",
        "# Fetch the JSON data from the URL\n",
        "response = requests.get(target_summaries_url)\n",
        "response.raise_for_status()  # Raise an exception for bad responses (4xx or 5xx)\n",
        "\n",
        "# Load the JSON data into a Python dictionary\n",
        "target_data = json.loads(response.text)\n",
        "\n",
        "# Create a dictionary mapping query to summary\n",
        "target_summaries = {item['query']: item['summary'] for item in target_data}\n",
        "\n",
        "# Display information about the loaded data\n",
        "print(f\"Loaded {len(target_summaries)} target summaries\")\n",
        "print(\"Sample target summary:\")\n",
        "first_key = list(target_summaries.keys())[0]\n",
        "print(f\"Query: {first_key}\")\n",
        "print(f\"Summary: {target_summaries[first_key][:200]}...\")"
      ],
      "metadata": {
        "colab": {
          "base_uri": "https://localhost:8080/"
        },
        "id": "ao6XI3R4TtU9",
        "outputId": "68fe6cea-3e32-4650-a1ed-990b678f0636"
      },
      "execution_count": 2,
      "outputs": [
        {
          "output_type": "stream",
          "name": "stdout",
          "text": [
            "Loaded 30 target summaries\n",
            "Sample target summary:\n",
            "Query: Global economic outlook\n",
            "Summary: The global economic outlook for 2025 is marked by uncertainty, with trade tensions and tariffs weighing heavily on investor sentiment. Surveys indicate the most bearish outlook in decades, largely due...\n"
          ]
        }
      ]
    },
    {
      "cell_type": "code",
      "source": [
        "news_urls_json_url = \"https://raw.githubusercontent.com/hspgit/IR-Project-Text-summarization/main/news_urls.json\"\n",
        "response = requests.get(news_urls_json_url)\n",
        "response.raise_for_status()  # Raise an exception for bad responses (4xx or 5xx)\n",
        "\n",
        "# Load the JSON data into a Python dictionary\n",
        "news_urls = json.loads(response.text)\n",
        "print(f\"Loaded URLs for {len(news_urls)} topics\")\n",
        "print(\"Sample topic with URLs:\")\n",
        "first_key = list(news_urls.keys())[0]\n",
        "print(f\"Topic: {first_key}\")\n",
        "print(f\"URLs: {news_urls[first_key]}\")"
      ],
      "metadata": {
        "colab": {
          "base_uri": "https://localhost:8080/"
        },
        "id": "b01TQgy2VSzD",
        "outputId": "ac84c415-aca6-41a5-b533-afc7eb5b3017"
      },
      "execution_count": 3,
      "outputs": [
        {
          "output_type": "stream",
          "name": "stdout",
          "text": [
            "Loaded URLs for 30 topics\n",
            "Sample topic with URLs:\n",
            "Topic: Global economic outlook\n",
            "URLs: ['https://www.msn.com/en-ca/money/topstories/global-economic-growth-could-slow-to-23-due-to-trade-tensions-says-un-trade-agency/ar-AA1D1z6Q', 'https://seekingalpha.com/article/4775157-how-tariffs-geopolitics-shaping-2025-global-economic-outlook', 'https://www.cnet.com/personal-finance/refinance-rates-tick-higher-mortgage-refinance-rates-on-april-11-2025/', 'https://www.businessinsider.com/us-economy-stock-market-outlook-tariffs-trump-trade-war-bofa-2025-4', 'https://www.msn.com/en-us/money/markets/economic-outlook-dives-just-three-months-into-trump-s-term/ar-AA1COpd8', 'https://www.msn.com/en-us/money/markets/u-k-economy-shows-signs-of-strength-but-tariffs-darken-outlook/ar-AA1CIv5r', 'https://www.marketwatch.com/livecoverage/stock-market-today-dow-s-p-and-nasdaq-eye-steady-start-as-tariff-angst-eases-bofa-and-citi-earnings/card/iea-cuts-2025-global-demand-growth-forecast-on-deteriorating-outlook-for-the-global-economy-BF64s9E3Q4RnPFCzj2xA', 'https://www.msn.com/en-ca/money/other/fed-chair-powell-to-deliver-fresh-economic-view-as-tariffs-inject-uncertainty/ar-AA1D1sf0', 'https://seekingalpha.com/article/4773017-april-2025-outlook-calamos-global-opportunities-fund', 'https://www.chinadaily.com.cn/a/202504/16/WS67ff0e73a3104d9fd381f936.html']\n"
          ]
        }
      ]
    },
    {
      "cell_type": "code",
      "source": [
        "article_texts_json_url = \"https://raw.githubusercontent.com/hspgit/IR-Project-Text-summarization/main/article_texts.json\"\n",
        "response = requests.get(article_texts_json_url)\n",
        "response.raise_for_status()  # Raise an exception for bad responses (4xx or 5xx)\n",
        "\n",
        "# Load the JSON data into a Python dictionary\n",
        "article_texts = json.loads(response.text)\n",
        "print(f\"Loaded article texts for {len(article_texts)} topics\")\n",
        "topics_with_articles = sum(1 for articles in article_texts.values() if articles)\n",
        "print(f\"Number of topics with at least one article: {topics_with_articles}\")"
      ],
      "metadata": {
        "colab": {
          "base_uri": "https://localhost:8080/"
        },
        "id": "rUwdHH2cVgJk",
        "outputId": "124adc74-ef5d-4ab8-ccee-be98d967975b"
      },
      "execution_count": 5,
      "outputs": [
        {
          "output_type": "stream",
          "name": "stdout",
          "text": [
            "Loaded article texts for 30 topics\n",
            "Number of topics with at least one article: 30\n"
          ]
        }
      ]
    },
    {
      "cell_type": "code",
      "source": [
        "import nltk\n",
        "# Download necessary NLTK resources\n",
        "nltk.download('punkt', quiet=True)\n",
        "nltk.download('punkt_tab', quiet=True)"
      ],
      "metadata": {
        "colab": {
          "base_uri": "https://localhost:8080/"
        },
        "id": "uacbw_brVmNp",
        "outputId": "89359ef5-0c94-4056-ab81-a1b7c0ce7427"
      },
      "execution_count": 7,
      "outputs": [
        {
          "output_type": "execute_result",
          "data": {
            "text/plain": [
              "True"
            ]
          },
          "metadata": {},
          "execution_count": 7
        }
      ]
    },
    {
      "cell_type": "code",
      "source": [
        "import re\n",
        "from nltk.tokenize import word_tokenize, sent_tokenize\n",
        "\n",
        "# Function to extract first 150 words from text\n",
        "def extract_first_150_words(text):\n",
        "    \"\"\"Extract the first 150 words from an article.\"\"\"\n",
        "    if not text or not isinstance(text, str) or not text.strip():\n",
        "        return \"\"\n",
        "    words = word_tokenize(text)\n",
        "    first_150 = ' '.join(words[:150])\n",
        "    return first_150\n",
        "\n",
        "# Generate summaries from the first 150 words of the first article for each query\n",
        "generated_summaries = {}\n",
        "for query, articles in article_texts.items():\n",
        "    if articles and len(articles) > 0:\n",
        "        # Find the first article with actual text\n",
        "        article_text = \"\"\n",
        "        for article in articles:\n",
        "            if isinstance(article, dict) and 'text' in article and article['text']:\n",
        "                article_text = article['text']\n",
        "                break\n",
        "\n",
        "        if article_text:\n",
        "            generated_summaries[query] = extract_first_150_words(article_text)\n",
        "        else:\n",
        "            print(f\"No valid text found for query: {query}\")\n",
        "    else:\n",
        "        print(f\"No articles found for query: {query}\")\n",
        "\n",
        "print(f\"Generated {len(generated_summaries)} summaries\")\n",
        "# Show an example generated summary\n",
        "if generated_summaries:\n",
        "    example_query = list(generated_summaries.keys())[0]\n",
        "    print(f\"Example generated summary for '{example_query}':\\n{generated_summaries[example_query][:200]}...\")"
      ],
      "metadata": {
        "colab": {
          "base_uri": "https://localhost:8080/"
        },
        "id": "H-f2S5fZVZ88",
        "outputId": "760ad751-8366-4ba2-c6ef-b121694e3f77"
      },
      "execution_count": 8,
      "outputs": [
        {
          "output_type": "stream",
          "name": "stdout",
          "text": [
            "Generated 30 summaries\n",
            "Example generated summary for 'Global economic outlook':\n",
            "Mortgage refinance rates have been moderating in response to rising layoffs and worries about a potential economic downturn . Despite the recent dip in rates , experts don ’ t expect another refinanci...\n"
          ]
        }
      ]
    },
    {
      "cell_type": "code",
      "source": [
        "def print_queries_and_summaries(summaries_dict):\n",
        "    \"\"\"\n",
        "    Print all queries and their summaries in a nice format.\n",
        "\n",
        "    Args:\n",
        "        summaries_dict (dict): Dictionary mapping queries to their summaries\n",
        "    \"\"\"\n",
        "    print(\"\\n===== QUERIES AND SUMMARIES =====\\n\")\n",
        "\n",
        "    for query, summary in summaries_dict.items():\n",
        "        print(f\"QUERY: {query}\")\n",
        "        print(f\"SUMMARY: {summary}\")\n",
        "        print(\"-\" * 80)  # Separator line\n",
        "\n",
        "# Example usage\n",
        "if generated_summaries:\n",
        "    print_queries_and_summaries(generated_summaries)"
      ],
      "metadata": {
        "colab": {
          "base_uri": "https://localhost:8080/"
        },
        "id": "Qy6O-cmbWGv5",
        "outputId": "25ddb4f4-17a0-4876-ebd4-5ed5a462eed0"
      },
      "execution_count": 11,
      "outputs": [
        {
          "output_type": "stream",
          "name": "stdout",
          "text": [
            "\n",
            "===== QUERIES AND SUMMARIES =====\n",
            "\n",
            "QUERY: Global economic outlook\n",
            "SUMMARY: Mortgage refinance rates have been moderating in response to rising layoffs and worries about a potential economic downturn . Despite the recent dip in rates , experts don ’ t expect another refinancing boom like in 2020 and 2021 , when mortgage rates dropped to historic lows . Until mortgage rates move below 6 % , which isn ’ t guaranteed this year , refinancing activity is likely to remain limited . Most homeowners refinance to save money on their monthly payment with a lower interest rate . However , you might be considering refinancing for other reasons , such as modifying your loan term or type . Mortgage refinance rates change daily depending on multiple economic and political factors . Check out our weekly mortgage rate forecast for expert predictions on where rates are headed . Today 's average refinance rates 30-year fixed-rate 15-year fixed-rate 30-year fixed-rate jumbo 5/1\n",
            "--------------------------------------------------------------------------------\n",
            "QUERY: US presidential election updates\n",
            "SUMMARY: SEOUL ( Reuters ) - South Korea will hold a snap presidential election within 60 days after the Constitutional Court unanimously removed President Yoon Suk Yeol from office on Friday , upholding his impeachment for imposing martial law last year . Presidents can serve a single five-year term in South Korea , and recent opinion polls show the leader of the main opposition Democratic Party is well ahead , though he faces his own legal challenges . Here are some potential contenders for the presidential election . LEE JAE-MYUNG The Democratic Party leader is regarded as by far the top contender . The veteran politician lost to Yoon in the 2022 presidential election by the slimmest margin in history . Leading by double-digits in some recent polls , Lee is among the lawmakers who rushed to the National Assembly on the night of Yoon 's December 3 martial law declaration\n",
            "--------------------------------------------------------------------------------\n",
            "QUERY: Climate change and extreme weather events\n",
            "SUMMARY: 4 days ago Amanda Ruggeri Seasonal allergy sufferers are being hit with more pollen over a longer season due to rising temperatures , but global warming is also triggering alarming extreme allergy events , say experts . People could see the thunderstorm , but they could n't see what was going on inside it . Trillions of pollen particles , sucked up into the clouds as the storm formed , were now being splintered by rain , lightning and humidity into ever-smaller fragments – then cast back down to Earth for people to breathe them in . It was around 18:00 on 21 November 2016 when the air in Melbourne , Australia , turned deadly . Emergency service phone lines lit up , people struggling to breathe began flooding into hospitals , and there was so much demand for ambulances that the vehicles were unable to reach patients stuck at\n",
            "--------------------------------------------------------------------------------\n",
            "QUERY: Advances in artificial intelligence\n",
            "SUMMARY: IRA FLATOW : Every week , it feels like there ’ s another AI advance . Some company produces a system that will write proposals better than you can , or makes more lifelike pictures of videos , or wrangles data in a new way . And most of these systems are still limited to a few specialized tricks in what they can do . But how close are companies to creating something that can virtually think on its own or outperform humans on any task ? what researchers are calling AGI– Artificial General Intelligence . And that ’ s what we are talking about this hour . And we want to hear from you . FLORA LICHTMAN : Yes , how do you feel about this AGI advance ? Is it something you ’ re looking forward to , or are you dreading it ? What are your hopes\n",
            "--------------------------------------------------------------------------------\n",
            "QUERY: Major tech company earnings reports\n",
            "SUMMARY: US stocks fell on Wednesday after Nvidia ( NVDA ) revealed costly new curbs on chip exports to China , and investors grappled with uncertainty over President Trump 's trade policy . The benchmark S & P 500 ( ^GSPC ) dropped more than 1.4 % while the Dow Jones Industrial Average ( ^DJI ) shed more than 300 points , or around 0.8 % . The tech-heavy Nasdaq Composite ( ^IXIC ) fell over 2.3 % as the new chip provisions weighed on the tech sector . Nvidia 's stock took a hit early , falling more than 5 % after the company revealed that the US government has imposed new restrictions on its chips . A new filing from Nvidia on Tuesday showed that the US government has required licenses for exports to China of the company 's H20 artificial intelligence chip . The chip giant said the\n",
            "--------------------------------------------------------------------------------\n",
            "QUERY: International conflict and peace negotiations\n",
            "SUMMARY: LONDON — Foreign ministers from 20 countries are meeting in London Tuesday as part of a diplomatic effort to restart stalled peace talks over Sudan 's civil war that began two years ago . The United Nations says the conflict has prompted the world 's worst humanitarian crisis , and the most devastating famine in decades . Despite the war 's unprecedented impact , with as many as 150,000 people dead , and almost a third of the country 's pre-war population displaced , there has been little concerted international action to address the crisis . The U.K. , France and Germany are cohosting Wednesday 's conference , but have not invited either of the warring factions themselves ; the Sudanese Armed Forces — widely considered to be the de-facto government — and its erstwhile paramilitary partners , known as the Rapid Support Forces — or RSF . Both forces\n",
            "--------------------------------------------------------------------------------\n",
            "QUERY: COVID-19 pandemic developments\n",
            "SUMMARY: LONDON — Five years after COVID-19 triggered national lockdowns , economic uncertainty and killed millions , the World Health Organization ’ s member countries agreed on a draft “ pandemic treaty ” that sets guidelines for how the international community might confront the next global health crisis . After the world ’ s largely disastrous response to the coronavirus , countries tasked the WHO with overseeing a pandemic treaty in 2021 ; negotiations concluded early Wednesday on an agreement expected to be adopted next month at the U.N. health agency 's annual meeting in Geneva . WHO Director-General Tedros Adhanom Ghebreyesus heralded it as a historic moment , saying countries have proven that “ in our divided world , nations can still work together to find common ground and a shared response. ” Following U.S. President Donald Trump 's decision to withdraw the country from the WHO in January ,\n",
            "--------------------------------------------------------------------------------\n",
            "QUERY: Renewable energy breakthroughs\n",
            "SUMMARY: BEIJING , April 16 ( Xinhua ) -- With the commissioning of its first large-scale renewable energy system at the Qinling Station -- China 's newest research station in Antarctica -- and the release of a clean energy development roadmap for the region , China is taking the lead in driving the green energy transition in Antarctic exploration , according to experts . The Qinling Station , which started operation in February last year , activated its hybrid power supply system this March , signifying China 's breakthroughs in key technologies for polar energy equipment and systems , said Sun Hongbin , a leading polar energy scientist at the Polar Research Institute of China . Sun noted that clean energy potentially accounts for over 60 percent of the system 's total power supply , and the hybrid system can provide approximately 2.5 hours of electricity during periods without wind or\n",
            "--------------------------------------------------------------------------------\n",
            "QUERY: Stock market trends and analysis\n",
            "SUMMARY: Analyst ’ s Disclosure : I/we have a beneficial long position in the shares of META , NVDA , GOOG either through stock ownership , options , or other derivatives . I wrote this article myself , and it expresses my own opinions . I am not receiving compensation for it ( other than from Seeking Alpha ) . I have no business relationship with any company whose stock is mentioned in this article . Seeking Alpha 's Disclosure : Past performance is no guarantee of future results . No recommendation or advice is being given as to whether any investment is suitable for a particular investor . Any views or opinions expressed above may not reflect those of Seeking Alpha as a whole . Seeking Alpha is not a licensed securities dealer , broker or US investment adviser or investment bank . Our analysts are third party authors that\n",
            "--------------------------------------------------------------------------------\n",
            "QUERY: Major sports event highlights\n",
            "SUMMARY: During the years that S.C. Humanities sponsored the South Carolina Book Festival in Columbia , the work of one artist was chosen repeatedly as the featured image on posters advertising that annual weekend event . That artist is Jonathan Green , whose vibrantly colored paintings and prints celebrate the Gullah culture of the South Carolina and Georgia Low Country . Until the end of August , the Morris Museum of Art will be hosting a special exhibition titled “ Jonathan Green : The Aesthetics of Heritage. ” This show of pieces from the museum ’ s permanent collection represents the largest assemblage of the artist ’ s work in a public repository . Born and raised in the hamlet of Garden ’ s Corner , Beaufort County , Green knows Gullah culture from the inside . His maternal grandmother taught him the language , an English-based , primarily oral tongue\n",
            "--------------------------------------------------------------------------------\n",
            "QUERY: Space exploration and discoveries\n",
            "SUMMARY: As maintaining leadership in space is a primary goal , particularly across the United States Space Force , NASA and other federal agencies , the U.S. remains focused on space exploration as a critical domain for missions , science investigation and national security . One way to sustain a leading position is by achieving data dominance , leveraging artificial intelligence ( AI ) tools such as machine learning ( ML ) algorithms onboard space missions to facilitate and enable real-time decision-making . These technologies can be used for engineering analysis and opportunistic science measurements . Data analytics and ML algorithms can also optimize resources , prioritize data to send back to Earth and identify patterns promptly . The goal of these strategies is to develop spacecraft capable of real-time situational analysis , enabling them to make autonomous decisions and further optimize space missions . Developing and achieving autonomous science and\n",
            "--------------------------------------------------------------------------------\n",
            "QUERY: Cybersecurity threats and data breaches\n",
            "SUMMARY: Francis Dinha is CEO and cofounder of OpenVPN Inc. , a leading enterprise network security company . In today 's digital landscape , cybersecurity threats are no longer just an IT issue ; they have evolved into a core business challenge that demands executive attention at the highest levels . The rapid rise of ransomware attacks , supply chain vulnerabilities and data breaches has created an environment of persistent uncertainty , leaving organizations grappling with how to stay resilient in the face of evolving threats . These incidents are no longer isolated ; they have far-reaching implications that affect customer trust , operational efficiency and overall business continuity . However , forward-thinking CEOs are beginning to recognize that these disruptions , while formidable , also present unique opportunities to rethink their security strategies , innovate new solutions , and differentiate their organizations in an increasingly crowded and competitive marketplace .\n",
            "--------------------------------------------------------------------------------\n",
            "QUERY: Healthcare policy changes\n",
            "SUMMARY: Banking on Women ’ s Health ( BWHC ) is set to revolutionize women ’ s health in Africa through open , bold , and solution-driven conversations . More than just a conference , BWHC is a movement driving investment , innovation , and policy changes that prioritize women ’ s health . Healthtracka is proud to unveil the highly anticipated Banking on Women ’ s Health Conference ( BWHC ) and the launch of the groundbreaking Banking on Women ’ s Health Innovation Award , both dedicated to transforming the landscape of women ’ s healthcare in Nigeria . This landmark event , scheduled for May 4th , 2025 , at the Federal Palace Hotel , Victoria Island , Lagos , Nigeria , will launch the pivotal “ State of Women ’ s Health in Nigeria Report ” and address critical women ’ s health issues . BWHC ’\n",
            "--------------------------------------------------------------------------------\n",
            "QUERY: Immigration and border policy news\n",
            "SUMMARY: You might not have noticed , but Minnesota governor and losing 2024 Democratic vice-presidential nominee Tim Walz is on a national tour . He is holding town halls in congressional districts won by President Donald Trump in Iowa , Texas , Ohio , Wisconsin and more . Any time a national political figure schedules a visit to Iowa , there is speculation that he or she is going to run for president . But Tim Walz ? Really ? Walz told CNN Sunday that while he is considering a run for a third term as governor in 2026 , `` I am not thinking about running in 2028 . '' Parse that any way you like . Walz made a little news on the issue of former President Joe Biden 's decision to run for reelection when he was clearly unable to mentally and physically handle the job . Walz\n",
            "--------------------------------------------------------------------------------\n",
            "QUERY: Education reform and school closures\n",
            "SUMMARY: MONTPELIER — In hope of making the state 's education system more sustainable , the Vermont House of Representatives passed a major reform bill . H.454 `` marks a major step toward building a more equitable and student-centered public education system , and a more stable , resilient financing system , '' states an announcement from the Office of the Speaker of the House following the vote on the bill Friday . The bill moves on to the Senate now . “ I voted yes because the status quo is unacceptable for our kids , teachers and communities , ” House Speaker Rep. Jill Krowinski , D-Chittenden-16 , said in the announcement . “ I know change is hard , but we must lead and create stability in our public education system . '' Key components of the bill , according to the announcement , include moving to a foundation\n",
            "--------------------------------------------------------------------------------\n",
            "QUERY: Natural disasters and humanitarian response\n",
            "SUMMARY: Kakinada ( Andhra Pradesh ) [ India ] , April 12 ( ANI ) : The Fourth Edition of Bilateral Tri-Service Humanitarian Assistance and Disaster Relief ( HADR ) Amphibious Exercise Tiger Triumph 2025 between India and the United States culminated with a Distinguished Visitors ' ( DV ) Day at Kakinada on April 11 . The DV Day was attended by the Flag Officer Commanding Tamil Nadu & Puducherry Naval Area ( FOTNA ) , US Consular General , Commander US Navy Strike Group Five and Dy GOC 54 Infantry Division , along with other senior dignitaries . The Distinguished Visitors ' Day witnessed seamless execution of complex operations at/off Kakinada , including Standoffs and Hard Beaching , Slithering Operations by Special Operations Forces from SC and Mi17V5 Helicopters , the participation of C130 Aircraft , and integrated Air Operations by the Indian Navy , Indian Army , Indian\n",
            "--------------------------------------------------------------------------------\n",
            "QUERY: Major legal cases and court rulings\n",
            "SUMMARY: The UK Supreme Court has ruled that the definition of a woman and sex in the Equality Act relates to `` a biological woman and biological sex '' . UK Supreme Court judge Lord Hodge , who announced the decision , made clear that this was not a victory for either side , stressing that the law gives trans people protection against discrimination . `` The unanimous decision of this court is that the terms woman and sex in the Equality Act 2010 refer to a biological woman and biological sex , ” he said . “ But we counsel against reading this judgement as a triumph of one or more groups in our society at the expense of another. ” The ruling follows a series of challenges brought by the campaign group , For Women Scotland ( FWS ) , over the definition of `` woman '' in Scottish\n",
            "--------------------------------------------------------------------------------\n",
            "QUERY: Celebrity news and entertainment industry updates\n",
            "SUMMARY: Bollywood News & Updates Stay Updated with the Latest Trending Bollywood News Bollywood Hungama is your go-to destination for all things related to Bollywood . Offering a comprehensive range of entertainment news and updates , our site ensures you stay informed about the latest happenings in the world of Bollywood . From celebrity news and Bollywood movie news to in-depth features and interviews , we 've got it all covered . Bollywood Celebrity News and Updates Get the most up-to-date information on your favourite celebrities with Bollywood Hungama . Our celebrity news section covers everything from the latest gossip to confirmed updates about Bollywood stars . We bring you verified and accurate news pieces , ensuring you get the real story every time . Bollywood News in English For our English-speaking audience , we provide the latest Bollywood news in English . Stay tuned with us for Bollywood breaking news\n",
            "--------------------------------------------------------------------------------\n",
            "QUERY: Scientific research breakthroughs\n",
            "SUMMARY: In a lavish party they called the “ Oscars of Science , ” the billionaires behind the Breakthrough Prizes handed out $ 3-million awards in April to the researchers in life sciences , physics and math they ’ ve deemed “ heroes of our society. ” The 1 percenters behind the prizes include Sergey Brin and Mark Zuckerberg , who attended and helped fund Donald Trump ’ s inauguration , as well as Yuri Milner and former 23 and Me CEO Anne Wojcicki , who also have ties to the Trump family . It ’ s ironic , of course , that Zuckerberg and Brin rolled out the red carpet for science while the autocrat they helped take office ruthlessly carpet-bombs the U.S. scientific enterprise . It ’ s hard to feel any sympathy for these modern-day Rockefellers , who cast their lot with a man whose mind-boggling trade war\n",
            "--------------------------------------------------------------------------------\n",
            "QUERY: Trade agreements and tariffs\n",
            "SUMMARY: China announced on Friday that it will raise tariffs on U.S. goods from 84 % to 125 % , the latest development in a back-and-forth trade war between the world 's two largest economies and one that has shocked markets and raised fears of a global economic slowdown . Jason Oxman , president and CEO of the Information Technology Industry Council , which represents the world 's most innovative tech companies , spoke with Scripps News about the burgeoning trade war and its likely effects . `` The concern here is that the trade policy needs to focus on a long-term strategic goal of entering into actual trade agreements . And that 's where we hope the president will be focused moving forward , '' Oxman said . `` 95 % of the world 's consumers live outside of the U.S . So for the economic success of American companies\n",
            "--------------------------------------------------------------------------------\n",
            "QUERY: Cryptocurrency market movements\n",
            "SUMMARY: 2 mins By Lockridge Okoth 16 April 2025 , 07:45 GMT+0000 Updated by Harsh Notariya 16 April 2025 , 07:45 GMT+0000 Join our Trading Community on Telegram In Brief Movement Labs launches a third-party investigation into alleged market maker misconduct involving the MOVE token . The investigation follows a Binance ban of a market maker who dumped 66 million MOVE tokens , triggering a sharp price drop . Movement ’ s co-founder Rushi Manche temporarily stepped back amid the scandal , with ongoing leadership by Cooper Scanlon . promo Movement Labs and the Movement Network Foundation have launched a formal internal investigation into market maker misconduct surrounding their native token , MOVE . It follows allegations that have rocked the project ’ s credibility and shaken investor confidence . Movement Labs Launches Investigation into MOVE Token Manipulation The investigation , now underway with support from a third-party review , follows\n",
            "--------------------------------------------------------------------------------\n",
            "QUERY: Social justice protests and movements\n",
            "SUMMARY: Opponents of President Trump are planning protests on Saturday in all 50 states to oppose the president ’ s slash and burn attacks on federal health care programs , and government workers , a message that they say appeals to a politically diverse set of Americans . The mass action , “ Hands Off ! , ” was organized by Indivisible , MoveOn and several other groups that led protests about abortion rights , gun violence and racial justice during the first Trump administration . But organizers said they are now working with 150 local , state and national partners to emphasize a new message : President Trump is threatening health care , Social Security and education , making life harder for the average American , while benefiting his richest friends . “ We need to bring in new people , and that ’ s where Trump ’ s policies\n",
            "--------------------------------------------------------------------------------\n",
            "QUERY: Transportation and infrastructure projects\n",
            "SUMMARY: Six miles of added lanes on I-4 will open the week of April 28 , 2025 . The project , the first of several intended to improve traffic flow on Interstate 4 , will open eight months ahead of schedule . Coming to I-4 are several more improvements , including new ramps , bridges , and more new lanes . Nobody likes sitting in traffic . And ranking right up there is the frustration of road work that seems to drag on forever . So mark this on your calendar : construction of `` congestion relief lanes '' on one of the busiest sections of Interstate 4 has finished ahead of schedule . Gov . Ron DeSantis announced this week that 6 miles of added lanes on I-4 will be completed eight months ahead of schedule . Here 's what is going on . Where are the new 'congestion relief\n",
            "--------------------------------------------------------------------------------\n",
            "QUERY: Consumer technology product launches\n",
            "SUMMARY: Achraf Golli , Co-founder of Quizard & Unstuck AI . Bringing a consumer application from idea to launch was once a slow , resource-intensive process . While the core mechanics of product development have n't changed , how we address the speed , accessibility and personalization within the apps has seen significant changes in recent years . Today ’ s consumer apps are smarter , more adaptive and capable of scaling at unprecedented speeds—not just because of incremental technological improvements , but because AI has proven to be an effective accelerator for application development . As someone building AI-powered consumer products in edtech , I ’ ve seen firsthand how this shift is rewriting the competitive landscape . Lean teams can build applications that rival those of industry giants , thanks to AI ’ s ability to automate development , refine user experiences and amplify marketing reach . Let 's\n",
            "--------------------------------------------------------------------------------\n",
            "QUERY: Environmental conservation efforts\n",
            "SUMMARY: MOUNT SAVAGE — Could taking an extra drive to the grocery store have a big impact on the environment ? According to Heather Hartman , an environmental scientist and educator , the answer is yes . A carbon footprint workshop was open to the public at Evergreen Heritage Center Saturday , giving insight on just how many daily activities could impact the planet . Hartman talked of causes and local solutions to carbon footprints . A carbon footprint is the total greenhouse gas emissions produced by an individual , organization , event or product . These gases are then released and eventually trapped in the atmosphere , causing environmental problems like climate change . “ It ’ s understanding how we are directly and indirectly influencing the environment around us , ” Hartman said . She said there are plenty of things that people do on a daily basis that\n",
            "--------------------------------------------------------------------------------\n",
            "QUERY: Government corruption investigations\n",
            "SUMMARY: In recent months , New York City ’ s government has been rocked by corruption scandals at a pace not seen in nearly a century . Yet over the past few years , New York ’ s leaders have presided over a gradual weakening of the city ’ s No . 1 corruption-fighting agency , the Department of Investigation , records and interviews show . As caseloads have risen , they have stood by while dozens of positions within the department have gone unfilled , allowing the agency to lose more than a quarter of its employees over the past six years . And they have funded the department unevenly , allocating fewer dollars for salaries for investigators , auditors and other personnel in the department ’ s current budget than it received during a high-water mark in 2019 . In recent months , the agency has been so strapped\n",
            "--------------------------------------------------------------------------------\n",
            "QUERY: Public health advisories and outbreaks\n",
            "SUMMARY: Ontario 's measles outbreak has become so big that public health officials in New York state have included the province in a travel advisory that urges residents to get vaccinated before visiting . `` Measles is only a car ride away ! '' reads the April 2nd measles travel advisory for all New Yorkers from the New York State Department of Health . `` Currently , measles outbreaks are happening in parts of the United States and Canada , especially in Ontario , and around the world . '' The advisory also lists the following countries as having a high number of measles cases : Yemen , Pakistan , India , Thailand , Ethiopia , Romania , Afghanistan , Indonesia , Kyrgyzstan and Vietnam . `` Measles is a highly contagious virus . Around 90 per cent of people who are exposed to a person with measles will become infected\n",
            "--------------------------------------------------------------------------------\n",
            "QUERY: International trade disputes\n",
            "SUMMARY: As trade tensions rise , retaliatory tariffs are disrupting global supply chains—particularly in the automotive industry and other manufacturing sectors . These unexpected costs are sparking disputes over who should bear the financial burden under cross-border contracts . International arbitration is increasingly seen as the forum of choice for resolving these conflicts . Retaliatory Tariffs Disrupting Global Supply Chains Retaliatory tariffs—duties imposed by one country in response to another ’ s tariffs—have lately become a harsh reality . These tit-for-tat measures are upending global supply chains , especially in the manufacturing sector . Companies suddenly face higher import costs , squeezed profit margins , and unpredictable regulations as countries strike back with their own duties . The automotive industry is particularly exposed , as tariffs on steel , aluminum , or automotive parts drive up production costs and disrupt just-in-time supply lines . In short , retaliatory duties are injecting\n",
            "--------------------------------------------------------------------------------\n",
            "QUERY: Housing market trends\n",
            "SUMMARY: As real estate 's spring selling season begins , Thai Hung Nguyen has his fingers crossed . Nguyen , a real estate agent with Better Homes and Gardens Real Estate Premier , works in the metro Washington , D.C. , area , where a significant percentage of residents are employed by or contract with the federal government . So far , there are slightly more listings coming on the market – signaling people want to sell their home – than at this time last year , Nguyen said , but not enough to suggest a full-fledged retreat from the area as the Trump administration slashes the federal workforce . At the same time , he said , he has fielded a few more calls than in past years from would-be buyers , even though some later decided to step away from the house hunt amid the uncertainty about jobs .\n",
            "--------------------------------------------------------------------------------\n",
            "QUERY: Major mergers and acquisitions\n",
            "SUMMARY: Soon after Mark Zuckerberg co-founded Facebook in his Harvard dorm room in 2004 , the social network skyrocketed in popularity . Roughly a decade later , the company experienced another round of explosive growth after buying its smaller rivals Instagram and WhatsApp , cementing its place in social media . On Monday , Judge James Boasberg of the U.S. District Court for the District of Columbia will begin considering a landmark monopoly case involving the company — now called Meta — that hinges on a novel legal question : Did it break the law to stay dominant by acquiring the start-ups that stood in its way ? The case — Federal Trade Commission v. Meta Platforms — will for the first time try to stretch theories of U.S. antitrust law to include what regulators are calling a “ buy or bury ” strategy . Meta broke the law by acquiring\n",
            "--------------------------------------------------------------------------------\n"
          ]
        }
      ]
    },
    {
      "cell_type": "code",
      "source": [
        "!pip install lexrank"
      ],
      "metadata": {
        "colab": {
          "base_uri": "https://localhost:8080/"
        },
        "id": "tGEUlAWasWSE",
        "outputId": "eb3e21e5-e50c-4635-d6fc-e9a340cd845d"
      },
      "execution_count": 13,
      "outputs": [
        {
          "output_type": "stream",
          "name": "stdout",
          "text": [
            "Collecting lexrank\n",
            "  Downloading lexrank-0.1.0-py3-none-any.whl.metadata (5.8 kB)\n",
            "Requirement already satisfied: numpy>=1.13.3 in /usr/local/lib/python3.11/dist-packages (from lexrank) (2.0.2)\n",
            "Collecting path.py>=10.5 (from lexrank)\n",
            "  Downloading path.py-12.5.0-py3-none-any.whl.metadata (1.3 kB)\n",
            "Collecting pyrsistent>=0.14.0 (from lexrank)\n",
            "  Downloading pyrsistent-0.20.0-cp311-cp311-manylinux_2_17_x86_64.manylinux2014_x86_64.whl.metadata (27 kB)\n",
            "Requirement already satisfied: regex>=2017.11.9 in /usr/local/lib/python3.11/dist-packages (from lexrank) (2024.11.6)\n",
            "Requirement already satisfied: scipy>=0.19.0 in /usr/local/lib/python3.11/dist-packages (from lexrank) (1.14.1)\n",
            "Collecting urlextract>=0.7 (from lexrank)\n",
            "  Downloading urlextract-1.9.0-py3-none-any.whl.metadata (5.8 kB)\n",
            "Collecting path (from path.py>=10.5->lexrank)\n",
            "  Downloading path-17.1.0-py3-none-any.whl.metadata (6.4 kB)\n",
            "Requirement already satisfied: idna in /usr/local/lib/python3.11/dist-packages (from urlextract>=0.7->lexrank) (3.10)\n",
            "Collecting uritools (from urlextract>=0.7->lexrank)\n",
            "  Downloading uritools-4.0.3-py3-none-any.whl.metadata (4.7 kB)\n",
            "Requirement already satisfied: platformdirs in /usr/local/lib/python3.11/dist-packages (from urlextract>=0.7->lexrank) (4.3.7)\n",
            "Requirement already satisfied: filelock in /usr/local/lib/python3.11/dist-packages (from urlextract>=0.7->lexrank) (3.18.0)\n",
            "Downloading lexrank-0.1.0-py3-none-any.whl (69 kB)\n",
            "\u001b[2K   \u001b[90m━━━━━━━━━━━━━━━━━━━━━━━━━━━━━━━━━━━━━━━━\u001b[0m \u001b[32m69.8/69.8 kB\u001b[0m \u001b[31m3.2 MB/s\u001b[0m eta \u001b[36m0:00:00\u001b[0m\n",
            "\u001b[?25hDownloading path.py-12.5.0-py3-none-any.whl (2.3 kB)\n",
            "Downloading pyrsistent-0.20.0-cp311-cp311-manylinux_2_17_x86_64.manylinux2014_x86_64.whl (120 kB)\n",
            "\u001b[2K   \u001b[90m━━━━━━━━━━━━━━━━━━━━━━━━━━━━━━━━━━━━━━━━\u001b[0m \u001b[32m120.0/120.0 kB\u001b[0m \u001b[31m8.0 MB/s\u001b[0m eta \u001b[36m0:00:00\u001b[0m\n",
            "\u001b[?25hDownloading urlextract-1.9.0-py3-none-any.whl (21 kB)\n",
            "Downloading path-17.1.0-py3-none-any.whl (23 kB)\n",
            "Downloading uritools-4.0.3-py3-none-any.whl (10 kB)\n",
            "Installing collected packages: uritools, pyrsistent, path, urlextract, path.py, lexrank\n",
            "Successfully installed lexrank-0.1.0 path-17.1.0 path.py-12.5.0 pyrsistent-0.20.0 uritools-4.0.3 urlextract-1.9.0\n"
          ]
        }
      ]
    },
    {
      "cell_type": "code",
      "source": [
        "import json\n",
        "import requests\n",
        "import numpy as np\n",
        "from nltk.tokenize import sent_tokenize\n",
        "import nltk\n",
        "from sklearn.metrics.pairwise import cosine_similarity\n",
        "from sklearn.feature_extraction.text import TfidfVectorizer"
      ],
      "metadata": {
        "id": "1-GkLg32tM_o"
      },
      "execution_count": 16,
      "outputs": []
    },
    {
      "cell_type": "code",
      "source": [
        "def lexrank_summarize(sentences, summary_length=150):\n",
        "    \"\"\"\n",
        "    Implement LexRank algorithm to extract the most salient sentences.\n",
        "\n",
        "    Args:\n",
        "        sentences: List of sentences\n",
        "        summary_length: Approximate target length in words\n",
        "\n",
        "    Returns:\n",
        "        A string containing the summary\n",
        "    \"\"\"\n",
        "    if not sentences:\n",
        "        return \"\"\n",
        "\n",
        "    # Create TF-IDF matrix\n",
        "    vectorizer = TfidfVectorizer(stop_words='english')\n",
        "    try:\n",
        "        tfidf_matrix = vectorizer.fit_transform(sentences)\n",
        "    except ValueError:  # If we get an empty matrix or other error\n",
        "        return sentences[0] if sentences else \"\"\n",
        "\n",
        "    # Calculate cosine similarity\n",
        "    similarity_matrix = cosine_similarity(tfidf_matrix, tfidf_matrix)\n",
        "\n",
        "    # Apply LexRank to find sentence scores\n",
        "    scores = np.sum(similarity_matrix, axis=1)\n",
        "\n",
        "    # Rank sentences by score and select them until we reach word limit\n",
        "    ranked_sentences = [(score, i, s) for i, (score, s) in enumerate(zip(scores, sentences))]\n",
        "    ranked_sentences.sort(reverse=True)  # Sort by score (descending)\n",
        "\n",
        "    # Select sentences for summary\n",
        "    selected_sentences = []\n",
        "    word_count = 0\n",
        "\n",
        "    for _, idx, sentence in ranked_sentences:\n",
        "        words_in_sentence = len(sentence.split())\n",
        "        if word_count + words_in_sentence <= summary_length:\n",
        "            selected_sentences.append((idx, sentence))\n",
        "            word_count += words_in_sentence\n",
        "        else:\n",
        "            break\n",
        "\n",
        "    # Order the selected sentences by their original position\n",
        "    selected_sentences.sort(key=lambda x: x[0])\n",
        "\n",
        "    # Join sentences to form a summary\n",
        "    summary = ' '.join(sentence for _, sentence in selected_sentences)\n",
        "    return summary\n",
        "\n",
        "# Generate summaries for each topic\n",
        "topic_summaries = {}\n",
        "\n",
        "for topic, articles in article_texts.items():\n",
        "    print(f\"Processing topic: {topic}\")\n",
        "\n",
        "    # Collect all non-empty text from articles\n",
        "    all_text = \"\"\n",
        "    for article in articles:\n",
        "        if isinstance(article, dict) and 'text' in article and article['text']:\n",
        "            all_text += article['text'] + \" \"\n",
        "\n",
        "    if all_text:\n",
        "        # Tokenize into sentences\n",
        "        sentences = sent_tokenize(all_text)\n",
        "\n",
        "        # Generate LexRank summary\n",
        "        summary = lexrank_summarize(sentences)\n",
        "        topic_summaries[topic] = summary\n",
        "    else:\n",
        "        topic_summaries[topic] = \"Insufficient text available for summarization.\"\n",
        "\n",
        "# Print the summaries\n",
        "for topic, summary in topic_summaries.items():\n",
        "    print(f\"\\n## {topic}\\n\")\n",
        "    print(summary)\n",
        "    print(\"-\" * 80)"
      ],
      "metadata": {
        "colab": {
          "base_uri": "https://localhost:8080/"
        },
        "id": "DpBwfnBZq56X",
        "outputId": "07221b74-2d58-4504-8afb-2b488a479316"
      },
      "execution_count": 17,
      "outputs": [
        {
          "output_type": "stream",
          "name": "stdout",
          "text": [
            "Processing topic: Global economic outlook\n",
            "Processing topic: US presidential election updates\n",
            "Processing topic: Climate change and extreme weather events\n",
            "Processing topic: Advances in artificial intelligence\n",
            "Processing topic: Major tech company earnings reports\n",
            "Processing topic: International conflict and peace negotiations\n",
            "Processing topic: COVID-19 pandemic developments\n",
            "Processing topic: Renewable energy breakthroughs\n",
            "Processing topic: Stock market trends and analysis\n",
            "Processing topic: Major sports event highlights\n",
            "Processing topic: Space exploration and discoveries\n",
            "Processing topic: Cybersecurity threats and data breaches\n",
            "Processing topic: Healthcare policy changes\n",
            "Processing topic: Immigration and border policy news\n",
            "Processing topic: Education reform and school closures\n",
            "Processing topic: Natural disasters and humanitarian response\n",
            "Processing topic: Major legal cases and court rulings\n",
            "Processing topic: Celebrity news and entertainment industry updates\n",
            "Processing topic: Scientific research breakthroughs\n",
            "Processing topic: Trade agreements and tariffs\n",
            "Processing topic: Cryptocurrency market movements\n",
            "Processing topic: Social justice protests and movements\n",
            "Processing topic: Transportation and infrastructure projects\n",
            "Processing topic: Consumer technology product launches\n",
            "Processing topic: Environmental conservation efforts\n",
            "Processing topic: Government corruption investigations\n",
            "Processing topic: Public health advisories and outbreaks\n",
            "Processing topic: International trade disputes\n",
            "Processing topic: Housing market trends\n",
            "Processing topic: Major mergers and acquisitions\n",
            "\n",
            "## Global economic outlook\n",
            "\n",
            "Today's average refinance rates\n",
            "\n",
            "30-year fixed-rate 15-year fixed-rate 30-year fixed-rate jumbo 5/1 ARM 10-year fixed-rate 30-year fixed-rate refinance 15-year fixed-rate refinance 10-year fixed refinance\n",
            "\n",
            "Today's average mortgage rates on Apr. 30-year fixed-rate refinance\n",
            "\n",
            "The average 30-year fixed refinance rate right now is 6.82%, an increase of 8 basis points compared to one week ago. 15-year fixed-rate refinance\n",
            "\n",
            "For 15-year fixed refinances, the average rate is currently at 6.10%, an increase of 4 basis points compared to one week ago. Also, 15-year refinance rates are typically lower than 30-year refinance rates, which will help you save more in the long run. 10-year fixed-rate refinance\n",
            "\n",
            "The average 10-year fixed refinance rate right now is 6.02%, a decrease of 1 basis points compared to one week ago.\n",
            "--------------------------------------------------------------------------------\n",
            "\n",
            "## US presidential election updates\n",
            "\n",
            "SEOUL (Reuters) - South Korea will hold a snap presidential election within 60 days after the Constitutional Court unanimously removed President Yoon Suk Yeol from office on Friday, upholding his impeachment for imposing martial law last year. Ballot submission deadline:\n",
            "\n",
            "All mail ballots are required to be received by Election Day to be counted according to the executive order, aiming to standardise the voting process across states. Federal funding conditions:\n",
            "\n",
            "States that do not comply with some of these new requirements risk losing federal election funding. ​\n",
            "\n",
            "“The Attorney General shall take appropriate action against states that count ballots received after Election Day in Federal elections. Federal election funding will be conditioned on compliance,” the executive order says. ​In March 2024, the US Congress allocated $55m in new federal funding to states under the Help America Vote Act (HAVA) to enhance the administration and security of federal elections.\n",
            "--------------------------------------------------------------------------------\n",
            "\n",
            "## Climate change and extreme weather events\n",
            "\n",
            "Thunderstorm asthma events like the one that hit Melbourne are one extreme example of how pollen from plants and the allergies it causes are being dramatically altered by climate change. Although these are still rare events, climate change may be increasing the likelihood of thunderstorm asthma incidents, in part because it is extending pollen seasons, but also because it is increasing the frequency of extreme weather events, including storms. Climate extremes: Europe experienced its warmest year on record in 2024, made evident by extreme weather events that caused devastating impacts across the continent\n",
            "\n",
            "According to the newly released European State of the Climate 2024 (ESOTC 2024) report, prepared by the Copernicus Climate Change Service (C3S) and the World Meteorological Organisation (WMO), the effects of climate change were widespread and severe, especially in Eastern and southern eastern Europe.\n",
            "--------------------------------------------------------------------------------\n",
            "\n",
            "## Advances in artificial intelligence\n",
            "\n",
            "IRA FLATOW: Every week, it feels like there’s another AI advance. IRA FLATOW: Let’s get into this. IRA FLATOW: Rumman? RUMMAN CHOWDHURY: Like, literally an AI? IRA FLATOW: Good point. IRA FLATOW: But let’s also go right to the main point that I see, is that the reason all AI exists and AGI is being developed, it’s about the money. IRA FLATOW: We’re talking about AI this hour on Science Friday, and we’d like to get your calls. I’m Ira Flatow with Flora Lichtman. IRA FLATOW: And Rumman what about jobs? When people think about these sort of doomsday scenarios with AI, they’re like, oh, AI is going to scheme and take down humanity. IRA FLATOW: Yeah, OK.\n",
            "\n",
            "ANTON: And just so one example. IRA FLATOW: Yeah, that’s a good question. RUMMAN CHOWDHURY: I mean, it already is. But all of that is AI. IRA FLATOW: Yes, I can.\n",
            "--------------------------------------------------------------------------------\n",
            "\n",
            "## Major tech company earnings reports\n",
            "\n",
            "US stocks fell on Wednesday after Nvidia (NVDA) revealed costly new curbs on chip exports to China, and investors grappled with uncertainty over President Trump's trade policy. A new filing from Nvidia on Tuesday showed that the US government has required licenses for exports to China of the company's H20 artificial intelligence chip. LIVE 14 updates US stocks fell on Wednesday after Nvidia (NVDA) revealed costly new curbs on chip exports to China, and investors grappled with uncertainty over President Trump's trade policy. A new filing from Nvidia on Tuesday showed that the US government has required licenses for exports to China of the company's H20 artificial intelligence chip. Shares of major Taiwanese tech suppliers to Apple (NASDAQ:AAPL) surged Monday after the U.S. government temporarily excluded smartphones, computers, and other electronics—largely imported from China—from steep tariffs.\n",
            "--------------------------------------------------------------------------------\n",
            "\n",
            "## International conflict and peace negotiations\n",
            "\n",
            "While rights groups have accused both sides of war crimes, including extrajudicial killings and the blocking of humanitarian aid, they have blamed the vast majority of atrocities on the RSF.The U.S., U.N. and several rights groups have meanwhile also said the RSF committed acts of genocide during the war, largely against groups of ethnic Masalits, Zagawas and Furs in Darfur. “Taking Space: Women, Peace, and Leadership,” the inaugural event of the Women, Peace, and Leadership (WPL) program, delved into the roles of women in various aspects of peace and security around the globe—from grassroots movements in post-Soviet nations to the vibrant, defiant art of Colombian street collectives. More\n",
            "\n",
            "Inside Geneva: where are women’s voices in peace talks? Read more: Inside Geneva: where are women’s voices in peace talks? Schibler is director of Peace Women across the Globe (PWAG), an international network of women in peacebuilding. No women.\n",
            "--------------------------------------------------------------------------------\n",
            "\n",
            "## COVID-19 pandemic developments\n",
            "\n",
            "LONDON — Five years after COVID-19 triggered national lockdowns, economic uncertainty and killed millions, the World Health Organization’s member countries agreed on a draft “pandemic treaty” that sets guidelines for how the international community might confront the next global health crisis. LONDON -- Five years after COVID-19 triggered national lockdowns, economic uncertainty and killed millions, the World Health Organization’s member countries agreed on a draft “pandemic treaty” that sets guidelines for how the international community might confront the next global health crisis. Five years after the COVID-19 pandemic shut down the world, Dr. Drew Weissman’s contributions to the development of the vaccines remain monumental. As the pandemic’s impact lingers, Weissman and his team are working to develop several more vaccines, including a pan-coronavirus vaccine, a universal flu vaccine, and a herpes vaccine. A 100-day vaccine wouldn’t have stopped COVID-19 going global.\n",
            "--------------------------------------------------------------------------------\n",
            "\n",
            "## Renewable energy breakthroughs\n",
            "\n",
            "Last year, in partnership with other research institutions, the Polar Research Institute of China released a 12-year development outline for Antarctic clean energy utilization technology, providing guidance for the research and development of clean energy technology in Antarctic scientific stations. BEIJING, April 16 (Xinhua) -- With the commissioning of its first large-scale renewable energy system at the Qinling Station -- China's newest research station in Antarctica -- and the release of a clean energy development roadmap for the region, China is taking the lead in driving the green energy transition in Antarctic exploration, according to experts. Last year, in partnership with other research institutions, the Polar Research Institute of China released a 12-year development outline for Antarctic clean energy utilization technology, providing guidance for the research and development of clean energy technology in Antarctic scientific stations.\n",
            "--------------------------------------------------------------------------------\n",
            "\n",
            "## Stock market trends and analysis\n",
            "\n",
            "In this article, we’re going to reveal 5 stock screener secrets every trader should know so they can outsmart the market. What Is a Stock Screener? A stock screener is a tool that allows traders to filter and analyze stocks based on specific criteria, such as market capitalization, price-to-earnings (P/E) ratio, dividend yield, and other financial metrics. 5 Screener Secrets Every Trader Should Know\n",
            "\n",
            "Leveraging a fundamental stock screener can take your trading strategy to the next level by quickly narrowing down stocks based on essential financial indicators. The Bloomberg Commodity Spot Index’s 2025 gain of about 8% to March 28 is attributable to the stalwart metals, and at potential risk if the US stock market keeps sliding. Commodity consistency: Gold beating crude\n",
            "\n",
            "Gold at the top of our annual-performance dashboard and crude oil at the bottom may gain momentum if the US stock market declines.\n",
            "--------------------------------------------------------------------------------\n",
            "\n",
            "## Major sports event highlights\n",
            "\n",
            "World Cup\n",
            "\n",
            "Historical Significance: 10\n",
            "\n",
            "It’s the biggest event for the world’s biggest sport. Advertisement\n",
            "\n",
            "Price: 10\n",
            "\n",
            "Diego Maradona’s “Hand of God” jersey from the 1986 World Cup sold for $9.28 million, the third-most expensive piece of sports memorabilia in history. The second-most expensive piece of sports memorabilia ever sold is Jordan’s “Last Dance” jersey from Game 1 of the 1998 Finals, which sold for $10.1 million. Every competition season my coaches forced me to watch Universal Dance Association (UDA) Nationals—the national college dance team competition—and soak in every last detail of each dance. The Tiger Girls, like most dance teams, performed on the sidelines of most major sporting events, including every football and basketball game. UDA Nationals is the only event that centers dance teams.\n",
            "--------------------------------------------------------------------------------\n",
            "\n",
            "## Space exploration and discoveries\n",
            "\n",
            "Data-fueled space missions\n",
            "\n",
            "Data analytics and ML algorithms are a driving force behind space missions. While ML algorithms on Earth can help identify patterns or correlations in massive datasets promptly, (Earth science mission teams are not scaling with the large amounts of data on hand) ML models onboard a spacecraft could help make missions even more efficient. The testing of data-driven-enabled data prioritization must occur too — currently, space missions are designed to collect the amount of data that can be sent back to Earth. Space agencies and the overall space industry must also implement an intelligent data collection solution, or data processing pipeline, that includes data collection, data labeling, analysis and then managing it appropriately so teams can access and make decisions in near real-time for mission-critical operations.\n",
            "--------------------------------------------------------------------------------\n",
            "\n",
            "## Cybersecurity threats and data breaches\n",
            "\n",
            "The ruinous financial and reputation impacts of a data breach\n",
            "\n",
            "The most significant impact of poor data security has to do with the financial losses. A data breach can expose personal data such as social security numbers, health records, and financial information, leaving victims exposed to identity theft and financial fraud. In conclusion, data security is not merely an IT technical problem; it is a very vital business problem with serious ramification and AI-powered cloud security solutions can safeguard your organization’s data in the public cloud. By excelling in threat detection, vulnerability management, and data protection, AI empowers organizations to significantly enhance their security posture and\n",
            "\n",
            "mitigate the risk of data breaches.\n",
            "--------------------------------------------------------------------------------\n",
            "\n",
            "## Healthcare policy changes\n",
            "\n",
            "The BWHC aims to engage a diverse range of stakeholders, including women across all age groups and socioeconomic classes, empowering them through community engagement, influencer outreach, and extensive media coverage; government and policymakers, advocating for improved women’s health policies; investors and health entrepreneurs, fostering innovation and investment in women’s health solutions; and healthcare professionals and researchers, facilitating knowledge sharing and collaboration to advance women’s health. As a scholar of U.S. health and public health policy, I have written about administrative burdens that prevent many Americans from accessing benefits to which they are entitled, including those provided by HHS, like Medicaid. The HHS reorganization also revamps two bodies within HHS, the Office of the Assistant Secretary for Planning and Evaluation and the Agency for Healthcare Research and Quality, that are instrumental in improving U.S. health care and providing policy research.\n",
            "--------------------------------------------------------------------------------\n",
            "\n",
            "## Immigration and border policy news\n",
            "\n",
            "From that, it appears that Walz's border policy was to legalize the migrants who were crossing illegally during the Biden years, get them jobs and then make sure that they are \"part of the American fabric.\" Military officials are still working out how to execute the plan, including how long troops could detain migrants before turning them over to Border Patrol agents, and what type of “no trespassing” signs needed to be installed along the border, warning migrants they were about to enter a U.S. military reservation. New York Republicans are leveraging President Trump’s border czar Thomas Homan’s New York roots to push for increased immigration raids in sanctuary cities. New York Republicans are harnessing President Trump’s border czar Thomas Homan’s upstate New York roots to secure more federal immigration raids in sanctuary cities like Rochester, while eyeing further electoral wins in the Democrat-controlled state.\n",
            "--------------------------------------------------------------------------------\n",
            "\n",
            "## Education reform and school closures\n",
            "\n",
            "FERPA requires educational institutions that receive federal funding to protect student educational records. FERPA applies to all public and private K-12 schools, as well as post-secondary educational institutions, that receive federal funding. Next Steps\n",
            "\n",
            "Despite the potential closure of the Department of Education, schools and EdTech vendors that ignore FERPA’s obligations regarding student data nevertheless face a number of continued risks. Butcher’s long-term vision for education is that “local schools and state departments of education will not have to keep navigating burdensome federal education regulations or ‘dear colleague letters’ that micromanage local school practices. Barnes said Monday evening that keeping the collaborative time funding for next fiscal year but deferring implementation should help local school leaders as they work on budgets for next school year.\n",
            "--------------------------------------------------------------------------------\n",
            "\n",
            "## Natural disasters and humanitarian response\n",
            "\n",
            "Many local organizations still rely on manual assessments for aid distribution, which can delay response efforts. Foreign governments and international organizations must categorically reject the military junta’s demand that it control aid distribution and establish direct funding mechanisms with local actors, such as community-based organizations and civil society organizations that are directly supporting quake-affected areas. MANILA, Philippines, April 2, 2025 /PRNewswire/ -- In a landmark pro bono agreement, Globe, a top telco and digital solutions provider in the Philippines, has become the first mobile network operator (MNO) to partner with the UN Global Pulse's Data Insights for Social and Humanitarian Action (DISHA) coalition, harnessing AI-driven data for disaster preparedness and response. \"We're excited to welcome Globe Telecom to the DISHA Partner community and look forward to working side-by-side with Globe and humanitarian agencies operating in the Philippines to validate and scale the DISHA Socio-Economic Mapping solution in the country.\n",
            "--------------------------------------------------------------------------------\n",
            "\n",
            "## Major legal cases and court rulings\n",
            "\n",
            "The UK Supreme Court has ruled that the definition of a woman and sex in the Equality Act relates to \"a biological woman and biological sex\". \"The unanimous decision of this court is that the terms woman and sex in the Equality Act 2010 refer to a biological woman and biological sex,” he said. In a major ruling, the court has stated that the definition of a woman and sex in the Equality Act relates to \"a biological woman and biological sex\". The UK Supreme Court has decided on the legal definition of a 'woman' and 'sex' in the Equality Act. He said: \"The unanimous decision of this court is that the terms woman and sex in the Equality Act 2010 refer to a biological woman and biological sex.\n",
            "--------------------------------------------------------------------------------\n",
            "\n",
            "## Celebrity news and entertainment industry updates\n",
            "\n",
            "Bollywood News & Updates\n",
            "\n",
            "Stay Updated with the Latest Trending Bollywood News\n",
            "\n",
            "Bollywood Hungama is your go-to destination for all things related to Bollywood. From celebrity news and Bollywood movie news to in-depth features and interviews, we've got it all covered. Bollywood Celebrity News and Updates\n",
            "\n",
            "Get the most up-to-date information on your favourite celebrities with Bollywood Hungama. Our celebrity news section covers everything from the latest gossip to confirmed updates about Bollywood stars. Stay tuned with us for Bollywood breaking news, industry scoops, and general updates about your favourite celebrities and films. Latest Bollywood Movie News\n",
            "\n",
            "Keep up with the latest Bollywood movie news, including box office updates, film comparisons, and rankings. Bollywood News on Social Media\n",
            "\n",
            "Follow the latest Bollywood trends and updates on social media platforms.\n",
            "--------------------------------------------------------------------------------\n",
            "\n",
            "## Scientific research breakthroughs\n",
            "\n",
            "Losses from defunding biomedical research\n",
            "\n",
            "The National Institutes of Health contributed over $100 billion to support research that ultimately led to the development of all new drugs approved from 2010 to 2016 alone. By cutting biomedical research funding, Americans and the rest of the world stand to lose new cures, new treatments and an entire generation of researchers. Among the most exciting areas for AI is scientific research. AI's Growing Role in Scientific Discoveries\n",
            "\n",
            "AI has made significant strides in various scientific fields, including drug discovery, genomics, materials science, climate research, and astronomy. But if we keep slashing biomedical research and public health funding, no one will be safe. The Trump administration’s decision to limit funding for biomedical research doesn’t just affect cancer and cardiovascular disease research — it also undercuts epidemic preparedness, public health surveillance and basic scientific discovery.\n",
            "--------------------------------------------------------------------------------\n",
            "\n",
            "## Trade agreements and tariffs\n",
            "\n",
            "RELATED STORY | China strikes back: New tariffs on US goods as trade war intensifies\n",
            "\n",
            "China responded in the trade war with the United States earlier this morning, announcing it would raise tariffs on U.S. goods from 84% to 125%. Countries use tariffs as a tool to regulate trade, protect domestic industries and generate revenue. Trade negotiation leverage: Countries can use tariffs as a bargaining tool in trade negotiations, pressuring trading partners to lower their own trade barriers. In commercial real estate, sectors like construction and manufacturing, reliant on imported materials, face higher costs from tariffs. The headlines have been dominated by tariffs, retaliatory tariffs, trade imbalances and trade wars as the world markets respond to the chaos. What are tariffs? Retaliatory tariffs are tariffs imposed by one country on goods imported from another country, in response to tariffs or trade restrictions imposed by that other country.\n",
            "--------------------------------------------------------------------------------\n",
            "\n",
            "## Cryptocurrency market movements\n",
            "\n",
            "This is a high-risk investment and you should not expect to be protected if something goes wrong. This is a high-risk investment and you should not expect to be protected if something goes wrong. This is a high-risk investment and you should not expect to be protected if something goes wrong. This is a high-risk investment and you should not expect to be protected if something goes wrong. This is a high-risk investment and you should not expect to be protected if something goes wrong. This is a high-risk investment and you should not expect to be protected if something goes wrong. This is a high-risk investment and you should not expect to be protected if something goes wrong. This is a high-risk investment and you should not expect to be protected if something goes wrong.\n",
            "--------------------------------------------------------------------------------\n",
            "\n",
            "## Social justice protests and movements\n",
            "\n",
            "WE KNOW THAT THERE’S BEEN REGULAR PROTESTS OVER THE TRUMP ADMINISTRATION’S POLICIES. AND I THINK IT’S IMPORTANT FOR US TO UNDERSTAND THAT THESE TIMES ARE NOT THAT DIFFERENT FROM OTHER TIMES IN THIS COUNTRY, FROM BASIC RIGHTS THAT WE WERE ABLE TO HAVE BECAUSE OF PEOPLE PROTESTING LITIGATION, LEGISLATION, PROTESTS EQUALS SOCIAL CHANGE. BUT MOST PEOPLE DON’T KNOW. AND SO I DON’T THINK PROTEST IS EFFECTIVE. AND THEN THE SAME PEOPLE WHO TURN AROUND AND SAY, WE DON’T WANT PROTESTS ARE PART OF A UNION WITHOUT UNDERSTANDING THE HISTORY OF PROTEST. I THINK SO MANY MIGHT HAVE FO\n",
            "\n",
            "Social movements, moments, and rebellions are explored in a book by author and professor Gloria J. Browne-Marshall called “A Protest History of the United States”.\n",
            "--------------------------------------------------------------------------------\n",
            "\n",
            "## Transportation and infrastructure projects\n",
            "\n",
            "Where are the new 'congestion relief lanes' on I-4? Highlights include:\n",
            "\n",
            "Three general-use lanes and two new express lanes in each direction. Four general-use lanes and two express lanes in each direction. New ramps will be built to connect the express lanes on I-4 to S.R. 429 and from the I-4 general-use lanes to S.R. “With nearly 700 projects underway and $75 billion in infrastructure investment since 2019, we’re delivering real results for Floridians and keeping Florida moving.” Department of Transportation Secretary Sean Duffy appeared on Newsmax Wednesday and described President Donald Trump’s infrastructure strategy and said that projects under his administration will be both financially responsible and timely.\n",
            "--------------------------------------------------------------------------------\n",
            "\n",
            "## Consumer technology product launches\n",
            "\n",
            "Our focus is on three key areas: supporting innovation and growth with AI, enabling automation and transformation for efficiency, and enhancing the security of critical data.” AI advancements for mainframes can improve and secure business interactions, leading to faster, more reliable, personalized consumer experiences. How It’s Done: Enhancing Core Operations With Integrated Intelligence\n",
            "\n",
            "The z17 incorporates several new AI-related features, including the ability to use multi-model AI in real time by combining AI models and LLMs for every transaction. Japan Building 'Zeta-Class' Supercomputer, 1,000 Times Faster Than Today's Fastest Machines\n",
            "\n",
            "This groundbreaking technology, expected to be operational by 2030, will be a significant step forward in AI development and scientific research. Japan Building 'Zeta-Class' Supercomputer, 1,000 Times Faster Than Today's Fastest Machines\n",
            "\n",
            "This groundbreaking technology, expected to be operational by 2030, will be a significant step forward in AI development and scientific research.\n",
            "--------------------------------------------------------------------------------\n",
            "\n",
            "## Environmental conservation efforts\n",
            "\n",
            "Greece’s Foreign Ministry retorted that Ankara was “politicizing a clearly environmental issue.”\n",
            "\n",
            "The Greek Foreign Ministry said in a statement on Wednesday that the country adopted the National Spatial Strategy for Marine Zones, essentially specifying the MSP, and defined it as an important initiative. Earlier this week, the Ankara University National Research Center for Maritime Law (DEHUKAM) published the first academic study on Türkiye's MSP, which aims for the country to maximize sustainable use of its surrounding seas. Türkiye's marine spatial planning efforts, launched years ago to protect its rights and interests in surrounding seas, better assess the environmental impacts of future maritime activities, and maximize the use of marine areas, are now reaching their final stage with contributions from relevant institutions.\n",
            "--------------------------------------------------------------------------------\n",
            "\n",
            "## Government corruption investigations\n",
            "\n",
            "Who's who in the Adams corruption case, fallout\n",
            "\n",
            "Eric Adams: New York City’s Democratic mayor, who faces bribery and other charges stemming from a September 2024 indictment\n",
            "\n",
            "Donald Trump: The Republican U.S. president who has previously expressed solidarity with Adams\n",
            "\n",
            "Kathy Hochul: New York’s Democratic governor, who has the power to remove Adams from office\n",
            "\n",
            "Pam Bondi: U.S. Attorney General, head of the Justice Department working to dismiss the federal case against Adams\n",
            "\n",
            "Emil Bove: The Acting Deputy Attorney General, the U.S. Justice Department’s second in command, who filed paperwork to dismiss corruption charges against Adams\n",
            "\n",
            "Danielle Sassoon: The former interim U.S. Attorney for the Southern District of New York, who penned a letter to Bondi saying she could not follow a directive to drop the office’s corruption case against Adams.\n",
            "--------------------------------------------------------------------------------\n",
            "\n",
            "## Public health advisories and outbreaks\n",
            "\n",
            "Ontario's measles outbreak has become so big that public health officials in New York state have included the province in a travel advisory that urges residents to get vaccinated before visiting. reads the April 2nd measles travel advisory for all New Yorkers from the New York State Department of Health. According to Public Health Ontario, a total of 655 confirmed and probable measles cases have been reported in Ontario this year as of April 2. 'We want to inform the public': public health director\n",
            "\n",
            "In the travel advisory, N.Y. officials urge residents to ensure they are fully vaccinated against measles before travelling to another country or an area in the U.S. where there is an outbreak. \"Measles can be a serious disease.\n",
            "--------------------------------------------------------------------------------\n",
            "\n",
            "## International trade disputes\n",
            "\n",
            "Meanwhile, both China and Canada have already filed complaints to the World Trade Organisation (WTO), seeking to challenge the US levies through international law. The WTO is currently the main international body that deals with trade disputes between countries, meaning it is the obvious venue for those seeking to challenge Trump’s tariffs. But, the Court upheld the power.”\n",
            "\n",
            "Anyone seeking to overturn Trump’s tariffs would therefore likely be forced to do so by limiting the president’s power to impose levies at all, which would require changing US law through America’s Congress. This brazen violation of international law has put international trade relations in peril, making it clear the US, instead of being a champion of the rules-based world order, has become a disrupter of global trade and violator of international rules. The WTO must be reinvigorated, and global trade should once again be governed by law.\n",
            "--------------------------------------------------------------------------------\n",
            "\n",
            "## Housing market trends\n",
            "\n",
            "Nguyen's experience is a snapshot of the national housing market as buyers and sellers enter what is traditionally the busiest season of the year hopeful about moderating interest rates but wary of tariffs, stubborn inflation and consumer fears about jobs and the economy that could keep the market mired in a rut. Forecast for 2025 home sales\n",
            "\n",
            "Selma Hepp, chief economist with Cotality, the real estate data provider formerly known as CoreLogic, forecast 2025 home sales would be “slightly above” the pace set in 2024. “These weekly trends suggest that prices will be close to last year's level, which was $425,000 in March 2024.”\n",
            "\n",
            "Because mortgage rates this month have been slightly lower than a year ago, the overall monthly payment may be a bit more manageable for buyers – as long as they remain employed and confident.\n",
            "--------------------------------------------------------------------------------\n",
            "\n",
            "## Major mergers and acquisitions\n",
            "\n",
            "Meanwhile, General Insurance reported €49.8 million in general insurance premiums, representing 11.1 per cent of the market, maintaining their position as industry leaders. This month, several event marketing agencies and DMCs have announced major mergers and acquisitions as they seek to increase their market share, expand their global reach, strengthen their capabilities, and broaden their client services. According to Impact XM officials, the combination of Touch’s strategic event expertise with Impact XM’s experiential marketing capabilities will serve to create a powerhouse of talent, resources, and production infrastructure that will benefit clients with an expanded suite of services, seamless global execution, and a unified approach to crafting innovative and immersive brand engagements.\n",
            "--------------------------------------------------------------------------------\n"
          ]
        }
      ]
    },
    {
      "cell_type": "code",
      "source": [
        "import json\n",
        "import numpy as np\n",
        "import nltk\n",
        "from nltk.tokenize import sent_tokenize, word_tokenize\n",
        "from nltk.corpus import stopwords\n",
        "from sklearn.feature_extraction.text import TfidfVectorizer\n",
        "from sklearn.metrics.pairwise import cosine_similarity\n",
        "from sklearn.cluster import KMeans\n",
        "from collections import Counter\n",
        "import re\n",
        "import requests\n",
        "\n",
        "# Download necessary NLTK resources\n",
        "nltk.download('punkt', quiet=True)\n",
        "nltk.download('stopwords', quiet=True)\n",
        "\n",
        "# Load article texts\n",
        "article_texts_json_url = \"https://raw.githubusercontent.com/hspgit/IR-Project-Text-summarization/main/article_texts.json\"\n",
        "response = requests.get(article_texts_json_url)\n",
        "response.raise_for_status()\n",
        "article_texts = json.loads(response.text)\n",
        "\n",
        "print(f\"Loaded article texts for {len(article_texts)} topics\")\n",
        "\n",
        "# Define functions for all three summarization methods\n",
        "def lexrank_summarize(sentences, summary_length=150):\n",
        "    \"\"\"\n",
        "    Implement LexRank algorithm to extract the most salient sentences.\n",
        "    \"\"\"\n",
        "    if not sentences:\n",
        "        return \"\"\n",
        "\n",
        "    # Create TF-IDF matrix\n",
        "    vectorizer = TfidfVectorizer(stop_words='english')\n",
        "    try:\n",
        "        tfidf_matrix = vectorizer.fit_transform(sentences)\n",
        "    except ValueError:  # If we get an empty matrix or other error\n",
        "        return sentences[0] if sentences else \"\"\n",
        "\n",
        "    # Calculate cosine similarity\n",
        "    similarity_matrix = cosine_similarity(tfidf_matrix, tfidf_matrix)\n",
        "\n",
        "    # Apply LexRank to find sentence scores\n",
        "    scores = np.sum(similarity_matrix, axis=1)\n",
        "\n",
        "    # Rank sentences by score and select them until we reach word limit\n",
        "    ranked_sentences = [(score, i, s) for i, (score, s) in enumerate(zip(scores, sentences))]\n",
        "    ranked_sentences.sort(reverse=True)  # Sort by score (descending)\n",
        "\n",
        "    # Select sentences for summary\n",
        "    selected_sentences = []\n",
        "    word_count = 0\n",
        "\n",
        "    for _, idx, sentence in ranked_sentences:\n",
        "        words_in_sentence = len(sentence.split())\n",
        "        if word_count + words_in_sentence <= summary_length:\n",
        "            selected_sentences.append((idx, sentence))\n",
        "            word_count += words_in_sentence\n",
        "        else:\n",
        "            break\n",
        "\n",
        "    # Order the selected sentences by their original position\n",
        "    selected_sentences.sort(key=lambda x: x[0])\n",
        "\n",
        "    # Join sentences to form a summary\n",
        "    summary = ' '.join(sentence for _, sentence in selected_sentences)\n",
        "    return summary\n",
        "\n",
        "def topic_based_multi_doc_summary(texts, summary_length=150):\n",
        "    \"\"\"\n",
        "    Generate a topic-based summary using sentence clustering\n",
        "    \"\"\"\n",
        "    # Extract all sentences from all texts\n",
        "    all_sentences = []\n",
        "    for text in texts:\n",
        "        if text:\n",
        "            sentences = sent_tokenize(text)\n",
        "            all_sentences.extend(sentences)\n",
        "\n",
        "    if not all_sentences:\n",
        "        return \"\"\n",
        "\n",
        "    # Calculate TF-IDF\n",
        "    stop_words = stopwords.words('english')\n",
        "    vectorizer = TfidfVectorizer(stop_words=stop_words)\n",
        "    try:\n",
        "        tfidf_matrix = vectorizer.fit_transform(all_sentences)\n",
        "    except ValueError:\n",
        "        return all_sentences[0] if all_sentences else \"\"\n",
        "\n",
        "    # Determine number of clusters (sentences to extract)\n",
        "    num_clusters = min(10, len(all_sentences))  # Adjust as needed to get ~150 words\n",
        "\n",
        "    # Cluster sentences\n",
        "    kmeans = KMeans(n_clusters=num_clusters, random_state=42)\n",
        "    kmeans.fit(tfidf_matrix)\n",
        "\n",
        "    # Get closest sentences to cluster centers\n",
        "    centers = kmeans.cluster_centers_\n",
        "    ordered_sentences = []\n",
        "\n",
        "    for i in range(num_clusters):\n",
        "        # Find the sentence closest to this cluster center\n",
        "        closest_idx = None\n",
        "        closest_dist = float('inf')\n",
        "\n",
        "        for j, sentence in enumerate(all_sentences):\n",
        "            if kmeans.labels_[j] == i:\n",
        "                # Calculate distance to center\n",
        "                dist = ((tfidf_matrix[j].toarray() - centers[i]) ** 2).sum() ** 0.5\n",
        "                if dist < closest_dist:\n",
        "                    closest_dist = dist\n",
        "                    closest_idx = j\n",
        "\n",
        "        if closest_idx is not None:\n",
        "            ordered_sentences.append((closest_idx, all_sentences[closest_idx]))\n",
        "\n",
        "    # Sort by original order\n",
        "    ordered_sentences.sort(key=lambda x: x[0])\n",
        "\n",
        "    # Take sentences until we reach ~150 words\n",
        "    summary_sentences = []\n",
        "    word_count = 0\n",
        "\n",
        "    for _, sentence in ordered_sentences:\n",
        "        words_in_sentence = len(sentence.split())\n",
        "        if word_count + words_in_sentence <= summary_length:\n",
        "            summary_sentences.append(sentence)\n",
        "            word_count += words_in_sentence\n",
        "        else:\n",
        "            break\n",
        "\n",
        "    summary = ' '.join(summary_sentences)\n",
        "    return summary\n",
        "\n",
        "def weighted_multi_doc_summary(texts, summary_length=150):\n",
        "    \"\"\"\n",
        "    Generate a summary based on term frequency and common terms\n",
        "    \"\"\"\n",
        "    if not texts or all(not text for text in texts):\n",
        "        return \"\"\n",
        "\n",
        "    # Combine all text\n",
        "    all_text = \" \".join([text for text in texts if text])\n",
        "\n",
        "    # Find most common terms (potential key topics)\n",
        "    words = re.findall(r'\\w+', all_text.lower())\n",
        "    stop_words = set(stopwords.words('english'))\n",
        "    filtered_words = [word for word in words if word not in stop_words and len(word) > 3]\n",
        "    common_terms = [word for word, count in Counter(filtered_words).most_common(20)]\n",
        "\n",
        "    # Score sentences based on common terms\n",
        "    all_sentences = []\n",
        "    for text in texts:\n",
        "        if text:\n",
        "            sentences = sent_tokenize(text)\n",
        "            for sentence in sentences:\n",
        "                score = sum(1 for word in common_terms if word.lower() in sentence.lower())\n",
        "                all_sentences.append((sentence, score))\n",
        "\n",
        "    # Get top sentences\n",
        "    all_sentences.sort(key=lambda x: x[1], reverse=True)\n",
        "\n",
        "    # Select sentences until we reach word limit\n",
        "    top_sentences = []\n",
        "    word_count = 0\n",
        "\n",
        "    for sentence, _ in all_sentences:\n",
        "        words_in_sentence = len(sentence.split())\n",
        "        if word_count + words_in_sentence <= summary_length:\n",
        "            top_sentences.append(sentence)\n",
        "            word_count += words_in_sentence\n",
        "        else:\n",
        "            break\n",
        "\n",
        "    # Order sentences for readability (by position in original text)\n",
        "    sentence_positions = {}\n",
        "    position = 0\n",
        "\n",
        "    for text in texts:\n",
        "        if text:\n",
        "            sentences = sent_tokenize(text)\n",
        "            for sentence in sentences:\n",
        "                if sentence in top_sentences:\n",
        "                    sentence_positions[sentence] = position\n",
        "                position += 1\n",
        "\n",
        "    ordered_top_sentences = sorted(top_sentences, key=lambda s: sentence_positions.get(s, float('inf')))\n",
        "    summary = ' '.join(ordered_top_sentences)\n",
        "    return summary\n",
        "\n",
        "# Generate and print summaries for each topic with all three methods\n",
        "for topic, articles in article_texts.items():\n",
        "    print(f\"\\n\\n## {topic}\")\n",
        "    print(\"=\" * 80)\n",
        "\n",
        "    # Collect all non-empty text from articles\n",
        "    texts = []\n",
        "    for article in articles:\n",
        "        if isinstance(article, dict) and 'text' in article and article['text']:\n",
        "            texts.append(article['text'])\n",
        "\n",
        "    if not texts:\n",
        "        print(\"No text content available for this topic.\")\n",
        "        continue\n",
        "\n",
        "    # Method 1: LexRank\n",
        "    print(\"\\n1. LexRank Summary:\")\n",
        "    print(\"-\" * 40)\n",
        "    all_sentences = []\n",
        "    for text in texts:\n",
        "        sentences = sent_tokenize(text)\n",
        "        all_sentences.extend(sentences)\n",
        "\n",
        "    lexrank_summary = lexrank_summarize(all_sentences)\n",
        "    print(lexrank_summary)\n",
        "\n",
        "    # Method 2: Topic-Based\n",
        "    print(\"\\n2. Topic-Based Summary:\")\n",
        "    print(\"-\" * 40)\n",
        "    topic_summary = topic_based_multi_doc_summary(texts)\n",
        "    print(topic_summary)\n",
        "\n",
        "    # Method 3: Weighted\n",
        "    print(\"\\n3. Weighted Summary:\")\n",
        "    print(\"-\" * 40)\n",
        "    weighted_summary = weighted_multi_doc_summary(texts)\n",
        "    print(weighted_summary)\n",
        "\n",
        "    print(\"\\n\" + \"=\" * 80)"
      ],
      "metadata": {
        "id": "kdrCJVRMycWx",
        "outputId": "17ad4b38-c84f-4d3a-ac08-fc29b7e90e38",
        "colab": {
          "base_uri": "https://localhost:8080/"
        }
      },
      "execution_count": 18,
      "outputs": [
        {
          "output_type": "stream",
          "name": "stdout",
          "text": [
            "Loaded article texts for 30 topics\n",
            "\n",
            "\n",
            "## Global economic outlook\n",
            "================================================================================\n",
            "\n",
            "1. LexRank Summary:\n",
            "----------------------------------------\n",
            "Today's average refinance rates\n",
            "\n",
            "30-year fixed-rate 15-year fixed-rate 30-year fixed-rate jumbo 5/1 ARM 10-year fixed-rate 30-year fixed-rate refinance 15-year fixed-rate refinance 10-year fixed refinance\n",
            "\n",
            "Today's average mortgage rates on Apr. 30-year fixed-rate refinance\n",
            "\n",
            "The average 30-year fixed refinance rate right now is 6.82%, an increase of 8 basis points compared to one week ago. 15-year fixed-rate refinance\n",
            "\n",
            "For 15-year fixed refinances, the average rate is currently at 6.10%, an increase of 4 basis points compared to one week ago. Also, 15-year refinance rates are typically lower than 30-year refinance rates, which will help you save more in the long run. 10-year fixed-rate refinance\n",
            "\n",
            "The average 10-year fixed refinance rate right now is 6.02%, a decrease of 1 basis points compared to one week ago.\n",
            "\n",
            "2. Topic-Based Summary:\n",
            "----------------------------------------\n",
            "Most homeowners refinance to save money on their monthly payment with a lower interest rate. About these rates: Bankrate's tool features rates from partner lenders that you can use when comparing multiple mortgage rates. (A basis point is equivalent to 0.01%.) 15-year fixed-rate refinance\n",
            "\n",
            "For 15-year fixed refinances, the average rate is currently at 6.10%, an increase of 4 basis points compared to one week ago. As shown below, this fell to a record low. Fears of higher inflation are also raising concerns about stagflation, a nightmare scenario for the economy that involves sluggish growth and stubbornly high prices. That's the most concentrated investors have been on a tail risk in 15 years, the bank added. \"We look at the specific consumer needs in China. At the same time, we use China as a base to provide services to the world,\" Jakobs said.\n",
            "\n",
            "3. Weighted Summary:\n",
            "----------------------------------------\n",
            "Today's average refinance rates\n",
            "\n",
            "30-year fixed-rate 15-year fixed-rate 30-year fixed-rate jumbo 5/1 ARM 10-year fixed-rate 30-year fixed-rate refinance 15-year fixed-rate refinance 10-year fixed refinance\n",
            "\n",
            "Today's average mortgage rates on Apr. Refinance rate news\n",
            "\n",
            "Late last year, mortgage rates climbed back into the 7% range after the Federal Reserve said it would adopt a slower pace of interest rate cuts in 2025 due to limited progress on inflation. A 30-year fixed refinance will typically have lower monthly payments than a 15-year or 10-year refinance, but it will take you longer to pay off and typically cost you more in interest over the long term. A 10-year refinance typically has the lowest interest rate but the highest monthly payment of all refinance terms. It's around 10 percent of our total global revenue,\" Roy Jakobs, CEO of Royal Philips, said during a recent interview with China Daily.\n",
            "\n",
            "================================================================================\n",
            "\n",
            "\n",
            "## US presidential election updates\n",
            "================================================================================\n",
            "\n",
            "1. LexRank Summary:\n",
            "----------------------------------------\n",
            "SEOUL (Reuters) - South Korea will hold a snap presidential election within 60 days after the Constitutional Court unanimously removed President Yoon Suk Yeol from office on Friday, upholding his impeachment for imposing martial law last year. United States President Donald Trump has signed a new executive order that he argues is aimed at tightening election rules ahead of the 2026 midterms, touching upon a claim he has frequently made – without evidence – of large-scale election fraud. Ballot submission deadline:\n",
            "\n",
            "All mail ballots are required to be received by Election Day to be counted according to the executive order, aiming to standardise the voting process across states. Federal funding conditions:\n",
            "\n",
            "States that do not comply with some of these new requirements risk losing federal election funding. Federal election funding will be conditioned on compliance,” the executive order says.\n",
            "\n",
            "2. Topic-Based Summary:\n",
            "----------------------------------------\n",
            "Here are some potential contenders for the presidential election. LEE JAE-MYUNG\n",
            "\n",
            "The Democratic Party leader is regarded as by far the top contender. HAN DONG-HOON\n",
            "\n",
            "The ex-leader of South Korea's ruling People Power Party is considered a top conservative contender. He was a particularly vocal opponent of Yoon's martial law declaration. HONG JOON-PYO\n",
            "\n",
            "Hong, mayor of the conservative stronghold Daegu, has said he is preparing for the next presidential election even while calling for the Constitutional Court not to oust Yoon. Federal agencies, including the Department of Homeland Security, will be required to share data to help state officials identify non-citizens on voter rolls. However, voting rights groups have raised concerns that the citizenship requirements could lead to voter disenfranchisement.\n",
            "\n",
            "3. Weighted Summary:\n",
            "----------------------------------------\n",
            "SEOUL (Reuters) - South Korea will hold a snap presidential election within 60 days after the Constitutional Court unanimously removed President Yoon Suk Yeol from office on Friday, upholding his impeachment for imposing martial law last year. HONG JOON-PYO\n",
            "\n",
            "Hong, mayor of the conservative stronghold Daegu, has said he is preparing for the next presidential election even while calling for the Constitutional Court not to oust Yoon. United States President Donald Trump has signed a new executive order that he argues is aimed at tightening election rules ahead of the 2026 midterms, touching upon a claim he has frequently made – without evidence – of large-scale election fraud. Arizona Secretary of State Adrian Fontes said he and state Attorney General Kris Mayes are already in discussions about a possible lawsuit, describing the executive order as “an attempt to federalise elections”.\n",
            "\n",
            "================================================================================\n",
            "\n",
            "\n",
            "## Climate change and extreme weather events\n",
            "================================================================================\n",
            "\n",
            "1. LexRank Summary:\n",
            "----------------------------------------\n",
            "Thunderstorm asthma events like the one that hit Melbourne are one extreme example of how pollen from plants and the allergies it causes are being dramatically altered by climate change. Although these are still rare events, climate change may be increasing the likelihood of thunderstorm asthma incidents, in part because it is extending pollen seasons, but also because it is increasing the frequency of extreme weather events, including storms. Climate extremes: Europe experienced its warmest year on record in 2024, made evident by extreme weather events that caused devastating impacts across the continent\n",
            "\n",
            "According to the newly released European State of the Climate 2024 (ESOTC 2024) report, prepared by the Copernicus Climate Change Service (C3S) and the World Meteorological Organisation (WMO), the effects of climate change were widespread and severe, especially in Eastern and southern eastern Europe.\n",
            "\n",
            "2. Topic-Based Summary:\n",
            "----------------------------------------\n",
            "It is these that are especially likely to cause seasonal allergies, or hay fever. There was some evidence they were producing a more allergenic form of pollen – Lewis Ziska\n",
            "\n",
            "While Melbourne has been the unlucky epicentre of thunderstorm asthma, with seven thunderstorm asthma major events recorded since 1984, similar incidents have occurred around the world, from Birmingham in the UK to Atlanta in the US. \"It's changing the seasonality of the pollen. It is also that the amount of allergens in the air are increasing in many parts of the world. \"Every time we cranked up the carbon dioxide, the ragweed plants responded. While originally from North America, ragweed, for example, has spread across Europe, as well as into Australia, Asia and South America. \"But we do need to do it thoughtfully.\"\n",
            "\n",
            "3. Weighted Summary:\n",
            "----------------------------------------\n",
            "4 days ago\n",
            "\n",
            "Amanda Ruggeri\n",
            "\n",
            "Seasonal allergy sufferers are being hit with more pollen over a longer season due to rising temperatures, but global warming is also triggering alarming extreme allergy events, say experts. Thunderstorm asthma events like the one that hit Melbourne are one extreme example of how pollen from plants and the allergies it causes are being dramatically altered by climate change. Although these are still rare events, climate change may be increasing the likelihood of thunderstorm asthma incidents, in part because it is extending pollen seasons, but also because it is increasing the frequency of extreme weather events, including storms.\n",
            "\n",
            "================================================================================\n",
            "\n",
            "\n",
            "## Advances in artificial intelligence\n",
            "================================================================================\n",
            "\n",
            "1. LexRank Summary:\n",
            "----------------------------------------\n",
            "IRA FLATOW: Every week, it feels like there’s another AI advance. IRA FLATOW: Let’s get into this. IRA FLATOW: Rumman? RUMMAN CHOWDHURY: Like, literally an AI? IRA FLATOW: Good point. IRA FLATOW: But let’s also go right to the main point that I see, is that the reason all AI exists and AGI is being developed, it’s about the money. IRA FLATOW: We’re talking about AI this hour on Science Friday, and we’d like to get your calls. I’m Ira Flatow with Flora Lichtman. IRA FLATOW: And Rumman what about jobs? When people think about these sort of doomsday scenarios with AI, they’re like, oh, AI is going to scheme and take down humanity. IRA FLATOW: Yeah, OK.\n",
            "\n",
            "ANTON: And just so one example. IRA FLATOW: Yeah, that’s a good question. RUMMAN CHOWDHURY: I mean, it already is. But all of that is AI. IRA FLATOW: Yes, I can.\n",
            "\n",
            "2. Topic-Based Summary:\n",
            "----------------------------------------\n",
            "That’s 877-925-9174. And like, I’m not really sure what that would be when it came. IRA FLATOW: Isn’t it? RUMMAN CHOWDHURY: It is. WILL HEAVEN: Yeah, I do. It just happens to be the one that I use for that reason. But all of that is AI. Rather than just throw every single bit of data you can scrape up at them, maybe curate that data and show them data that’s actually going to be more useful. Simply put: Corporate boards and universities need to find faith again, for their own good, before the age of intelligence leaves us all to contend with whatever it has decided to create for us based upon how we designed it. Nvidia had secured $18 billion of H20 orders since the start of the year, according to one of the two sources and a third source.\n",
            "\n",
            "3. Weighted Summary:\n",
            "----------------------------------------\n",
            "RUMMAN CHOWDHURY: I mean, if we’re going to pin this to defining AGI, I think the goal would be that it’s able to do these tasks without us explicitly teaching the model to do so. But I think the bigger thing is really, if you think about artificial general intelligence or artificial superintelligence, where it has– whatever– godlike intelligence, an AI is not going to necessarily see humans as a threat unless humans are competing for the same resources with the AI. Nvidia said it would be hit with $5.5 billion in charges due to the new regulations, which would limit exports of its popular H20 artificial intelligence chip to China, one of its key markets.\n",
            "\n",
            "================================================================================\n",
            "\n",
            "\n",
            "## Major tech company earnings reports\n",
            "================================================================================\n",
            "\n",
            "1. LexRank Summary:\n",
            "----------------------------------------\n",
            "US stocks fell on Wednesday after Nvidia (NVDA) revealed costly new curbs on chip exports to China, and investors grappled with uncertainty over President Trump's trade policy. A new filing from Nvidia on Tuesday showed that the US government has required licenses for exports to China of the company's H20 artificial intelligence chip. US stocks fell on Wednesday after Nvidia (NVDA) revealed costly new curbs on chip exports to China, and investors grappled with uncertainty over President Trump's trade policy. A new filing from Nvidia on Tuesday showed that the US government has required licenses for exports to China of the company's H20 artificial intelligence chip. Shares of major Taiwanese tech suppliers to Apple (NASDAQ:AAPL) surged Monday after the U.S. government temporarily excluded smartphones, computers, and other electronics—largely imported from China—from steep tariffs.\n",
            "\n",
            "2. Topic-Based Summary:\n",
            "----------------------------------------\n",
            "US stocks fell on Wednesday after Nvidia (NVDA) revealed costly new curbs on chip exports to China, and investors grappled with uncertainty over President Trump's trade policy. The benchmark S&P 500 (^GSPC) dropped more than 1.4% while the Dow Jones Industrial Average (^DJI) shed more than 300 points, or around 0.8%. A new filing from Nvidia on Tuesday showed that the US government has required licenses for exports to China of the company's H20 artificial intelligence chip. A similar filing from AMD said the company expects to incur costs up to $800 million from the new export controls, prompting shares to dive 6%. Meanwhile, tariffs on key imports remain up in the air. In an exclusive interview with Yahoo Finance on Tuesday, Treasury Secretary Scott Bessett said he expects to see \"substantial clarity\" on tariffs with major US trading partners, excluding China, over the next 90 days.\n",
            "\n",
            "3. Weighted Summary:\n",
            "----------------------------------------\n",
            "US stocks fell on Wednesday after Nvidia (NVDA) revealed costly new curbs on chip exports to China, and investors grappled with uncertainty over President Trump's trade policy. US stocks fell on Wednesday after Nvidia (NVDA) revealed costly new curbs on chip exports to China, and investors grappled with uncertainty over President Trump's trade policy. TAIPEI/SHANGHAI (Reuters) -Shares in Asian tech companies that are major suppliers to companies like Apple rose on Monday after the U.S. government granted temporary exclusions from steep tariffs on smartphones, computers and some other electronics imported largely from China. Shares of major Taiwanese tech suppliers to Apple (NASDAQ:AAPL) surged Monday after the U.S. government temporarily excluded smartphones, computers, and other electronics—largely imported from China—from steep tariffs.\n",
            "\n",
            "================================================================================\n",
            "\n",
            "\n",
            "## International conflict and peace negotiations\n",
            "================================================================================\n",
            "\n",
            "1. LexRank Summary:\n",
            "----------------------------------------\n",
            "While rights groups have accused both sides of war crimes, including extrajudicial killings and the blocking of humanitarian aid, they have blamed the vast majority of atrocities on the RSF.The U.S., U.N. and several rights groups have meanwhile also said the RSF committed acts of genocide during the war, largely against groups of ethnic Masalits, Zagawas and Furs in Darfur. “Taking Space: Women, Peace, and Leadership,” the inaugural event of the Women, Peace, and Leadership (WPL) program, delved into the roles of women in various aspects of peace and security around the globe—from grassroots movements in post-Soviet nations to the vibrant, defiant art of Colombian street collectives. More\n",
            "\n",
            "Inside Geneva: where are women’s voices in peace talks? Read more: Inside Geneva: where are women’s voices in peace talks? Schibler is director of Peace Women across the Globe (PWAG), an international network of women in peacebuilding. No women.\n",
            "\n",
            "2. Topic-Based Summary:\n",
            "----------------------------------------\n",
            "Sudanese officials have expressed anger they were not invited to the talks, as well as frustration at the inclusion of countries that many consider responsible for fanning and fueling the conflict. A resident from El Fasher, who asked not to be named, told NPR the situation was \"extremely difficult,\" and said hundreds of thousands of those displaced from the Zamzam camp were now crammed into the city's streets. The paramilitary group denied killing any civilians, but Relief International, which operated the only remaining medical facility in the camp, said members of the RSF had executed its workers. Arango called street art a form of “historical memory,” a way to spread censored information and pay tribute to victims of violence. More than 7 million people have been displaced. More\n",
            "\n",
            "Inside Geneva: where are women’s voices in peace talks? But are they?\n",
            "\n",
            "3. Weighted Summary:\n",
            "----------------------------------------\n",
            "Last week Sudan's military led government initiated a case against the UAE at the International Court of Justice (ICJ), in which it accused the Arab nation of being complicit in a genocide against African ethnic groups, perpetrated by the RSF and several allied Arab militias. On Sunday an RSF spokesperson, Al Fatih Qurashi, said the RSF had taken over the camp, and said it had harbored fighters aligned with the Sudanese Armed Forces. WASHINGTON—In recognition of the second anniversary of the ongoing conflict in Sudan between the regular Sudanese Armed Forces (SAF) and the paramilitary Rapid Support Forces (RSF), Freedom House interim Copresident Annie Boyajian issued the following statement:\n",
            "\n",
            "“As the war in Sudan enters its third year, Freedom House urges greater action from the international community to bring an end to the conflict and address the ongoing humanitarian crisis it has caused.\n",
            "\n",
            "================================================================================\n",
            "\n",
            "\n",
            "## COVID-19 pandemic developments\n",
            "================================================================================\n",
            "\n",
            "1. LexRank Summary:\n",
            "----------------------------------------\n",
            "LONDON — Five years after COVID-19 triggered national lockdowns, economic uncertainty and killed millions, the World Health Organization’s member countries agreed on a draft “pandemic treaty” that sets guidelines for how the international community might confront the next global health crisis. LONDON -- Five years after COVID-19 triggered national lockdowns, economic uncertainty and killed millions, the World Health Organization’s member countries agreed on a draft “pandemic treaty” that sets guidelines for how the international community might confront the next global health crisis. Five years after the COVID-19 pandemic shut down the world, Dr. Drew Weissman’s contributions to the development of the vaccines remain monumental. As the pandemic’s impact lingers, Weissman and his team are working to develop several more vaccines, including a pan-coronavirus vaccine, a universal flu vaccine, and a herpes vaccine. A 100-day vaccine wouldn’t have stopped COVID-19 going global.\n",
            "\n",
            "2. Topic-Based Summary:\n",
            "----------------------------------------\n",
            "WHO Director-General Tedros Adhanom Ghebreyesus heralded it as a historic moment, saying countries have proven that “in our divided world, nations can still work together to find common ground and a shared response.”\n",
            "\n",
            "Following U.S. President Donald Trump's decision to withdraw the country from the WHO in January, American officials were barred from participating in the talks and are not expected to sign the treaty. During COVID-19, it was largely American research and development that produced the most effective vaccines and medicines. Negotiations on this provision are expected to continue after the treaty is likely accepted by member countries in May.\n",
            "\n",
            "3. Weighted Summary:\n",
            "----------------------------------------\n",
            "LONDON — Five years after COVID-19 triggered national lockdowns, economic uncertainty and killed millions, the World Health Organization’s member countries agreed on a draft “pandemic treaty” that sets guidelines for how the international community might confront the next global health crisis. LONDON -- Five years after COVID-19 triggered national lockdowns, economic uncertainty and killed millions, the World Health Organization’s member countries agreed on a draft “pandemic treaty” that sets guidelines for how the international community might confront the next global health crisis. After the world’s largely disastrous response to the coronavirus, countries tasked the WHO with overseeing a pandemic treaty in 2021; negotiations concluded early Wednesday on an agreement expected to be adopted next month at the U.N. health agency's annual meeting in Geneva.\n",
            "\n",
            "================================================================================\n",
            "\n",
            "\n",
            "## Renewable energy breakthroughs\n",
            "================================================================================\n",
            "\n",
            "1. LexRank Summary:\n",
            "----------------------------------------\n",
            "Last year, in partnership with other research institutions, the Polar Research Institute of China released a 12-year development outline for Antarctic clean energy utilization technology, providing guidance for the research and development of clean energy technology in Antarctic scientific stations. BEIJING, April 16 (Xinhua) -- With the commissioning of its first large-scale renewable energy system at the Qinling Station -- China's newest research station in Antarctica -- and the release of a clean energy development roadmap for the region, China is taking the lead in driving the green energy transition in Antarctic exploration, according to experts. Last year, in partnership with other research institutions, the Polar Research Institute of China released a 12-year development outline for Antarctic clean energy utilization technology, providing guidance for the research and development of clean energy technology in Antarctic scientific stations.\n",
            "\n",
            "2. Topic-Based Summary:\n",
            "----------------------------------------\n",
            "The Qinling Station, which started operation in February last year, activated its hybrid power supply system this March, signifying China's breakthroughs in key technologies for polar energy equipment and systems, said Sun Hongbin, a leading polar energy scientist at the Polar Research Institute of China. This stands in stark contrast to the over 90 percent reliance on fossil fuels at most of the over 90 research stations across Antarctica, where carbon emissions continue to rise, Sun said. \"How to achieve a clean energy transition in Antarctica is a critical issue for the global scientific community,\" he said. The research team successfully created a THP solar cell that boasts a certified efficiency of 16.65%, exceeding the previous global record for THP cells by nearly one percentage point.\n",
            "\n",
            "3. Weighted Summary:\n",
            "----------------------------------------\n",
            "BEIJING, April 16 (Xinhua) -- With the commissioning of its first large-scale renewable energy system at the Qinling Station -- China's newest research station in Antarctica -- and the release of a clean energy development roadmap for the region, China is taking the lead in driving the green energy transition in Antarctic exploration, according to experts. Last year, in partnership with other research institutions, the Polar Research Institute of China released a 12-year development outline for Antarctic clean energy utilization technology, providing guidance for the research and development of clean energy technology in Antarctic scientific stations. Last year, in partnership with other research institutions, the Polar Research Institute of China released a 12-year development outline for Antarctic clean energy utilization technology, providing guidance for the research and development of clean energy technology in Antarctic scientific stations.\n",
            "\n",
            "================================================================================\n",
            "\n",
            "\n",
            "## Stock market trends and analysis\n",
            "================================================================================\n",
            "\n",
            "1. LexRank Summary:\n",
            "----------------------------------------\n",
            "In this article, we’re going to reveal 5 stock screener secrets every trader should know so they can outsmart the market. What Is a Stock Screener? A stock screener is a tool that allows traders to filter and analyze stocks based on specific criteria, such as market capitalization, price-to-earnings (P/E) ratio, dividend yield, and other financial metrics. 5 Screener Secrets Every Trader Should Know\n",
            "\n",
            "Leveraging a fundamental stock screener can take your trading strategy to the next level by quickly narrowing down stocks based on essential financial indicators. The Bloomberg Commodity Spot Index’s 2025 gain of about 8% to March 28 is attributable to the stalwart metals, and at potential risk if the US stock market keeps sliding. Commodity consistency: Gold beating crude\n",
            "\n",
            "Gold at the top of our annual-performance dashboard and crude oil at the bottom may gain momentum if the US stock market declines.\n",
            "\n",
            "2. Topic-Based Summary:\n",
            "----------------------------------------\n",
            "I have no business relationship with any company whose stock is mentioned in this article. Seeking Alpha's Disclosure: Past performance is no guarantee of future results. . However, using screeners effectively is more than just clicking a few filters. In this article, we’re going to reveal 5 stock screener secrets every trader should know so they can outsmart the market. Focusing on Volume and Liquidity Metrics\n",
            "\n",
            "In the Indian stock market, prioritizing volume and liquidity metrics is essential for traders aiming for efficient and effective transactions. CME-traded copper’s $5.37-a-pound record high on March 26 could have a similar fate as 2024’s $5.20 peak, which subsequently bottomed near $4. Unprecedented US austerity and tariffs, along with deflation from China akin to Japan about 30 years ago, could sustain the precious metal as 2025’s top performer.\n",
            "\n",
            "3. Weighted Summary:\n",
            "----------------------------------------\n",
            "A stock screener is a tool that allows traders to filter and analyze stocks based on specific criteria, such as market capitalization, price-to-earnings (P/E) ratio, dividend yield, and other financial metrics. Using Custom Alerts for Timely Decisions\n",
            "\n",
            "Custom alerts in stock screeners allow traders to be notified instantly when certain market conditions are met, facilitating timely and informed trading decisions. For instance, intraday traders, utilizing an intraday screener that filters stocks based on these metrics, can enhance decision-making by highlighting securities that offer the best opportunities for quick trades without substantial price slippage. Commodity consistency: Gold beating crude\n",
            "\n",
            "Gold at the top of our annual-performance dashboard and crude oil at the bottom may gain momentum if the US stock market declines.\n",
            "\n",
            "================================================================================\n",
            "\n",
            "\n",
            "## Major sports event highlights\n",
            "================================================================================\n",
            "\n",
            "1. LexRank Summary:\n",
            "----------------------------------------\n",
            "World Cup\n",
            "\n",
            "Historical Significance: 10\n",
            "\n",
            "It’s the biggest event for the world’s biggest sport. Advertisement\n",
            "\n",
            "Price: 10\n",
            "\n",
            "Diego Maradona’s “Hand of God” jersey from the 1986 World Cup sold for $9.28 million, the third-most expensive piece of sports memorabilia in history. Advertisement\n",
            "\n",
            "TOTAL SCORE: 31\n",
            "\n",
            "4. The second-most expensive piece of sports memorabilia ever sold is Jordan’s “Last Dance” jersey from Game 1 of the 1998 Finals, which sold for $10.1 million. Every competition season my coaches forced me to watch Universal Dance Association (UDA) Nationals—the national college dance team competition—and soak in every last detail of each dance. The Tiger Girls, like most dance teams, performed on the sidelines of most major sporting events, including every football and basketball game. UDA Nationals is the only event that centers dance teams.\n",
            "\n",
            "2. Topic-Based Summary:\n",
            "----------------------------------------\n",
            "How much do attendees care about the event’s merch? We’re talking the best of the best. Price: 8\n",
            "\n",
            "The Masters undoubtedly punches above its weight class in the high-end category, with Green Jackets worth mid-six figures and up, as well as a claim to the most expensive ticket ever sold — a pass to the inaugural 1934 Masters, which fetched more than $600,000 in a private sale. Advertisement\n",
            "\n",
            "Price: 10\n",
            "\n",
            "Diego Maradona’s “Hand of God” jersey from the 1986 World Cup sold for $9.28 million, the third-most expensive piece of sports memorabilia in history. Additionally, a set of six Lionel Messi jerseys from the 2022 FIFA World Cup sold for $7.2 million. Super Bowl\n",
            "\n",
            "Historical Significance: 8\n",
            "\n",
            "Dating back to Super Bowl I in 1967, collectors remain attached to every decade of the game’s history, chasing after early mementos such as tickets, game-used equipment and team-signed items with fervor. No?\n",
            "\n",
            "3. Weighted Summary:\n",
            "----------------------------------------\n",
            "Price: 10\n",
            "\n",
            "The World Series has generated some of the top sales in the hobby, including Babe Ruth’s “Called Shot” jersey, which became the most expensive piece of sports memorabilia ever sold at more than $24 million\n",
            "\n",
            "Mickey Mantle’s 1952 World Series jersey fetched $3 million, and Freddie Freeman’s walk-off grand-slam ball from this past World Series sold for $1.56 million. Advertisement\n",
            "\n",
            "Price: 10\n",
            "\n",
            "Diego Maradona’s “Hand of God” jersey from the 1986 World Cup sold for $9.28 million, the third-most expensive piece of sports memorabilia in history. Super Bowl\n",
            "\n",
            "Historical Significance: 8\n",
            "\n",
            "Dating back to Super Bowl I in 1967, collectors remain attached to every decade of the game’s history, chasing after early mementos such as tickets, game-used equipment and team-signed items with fervor.\n",
            "\n",
            "================================================================================\n",
            "\n",
            "\n",
            "## Space exploration and discoveries\n",
            "================================================================================\n",
            "\n",
            "1. LexRank Summary:\n",
            "----------------------------------------\n",
            "Data-fueled space missions\n",
            "\n",
            "Data analytics and ML algorithms are a driving force behind space missions. While ML algorithms on Earth can help identify patterns or correlations in massive datasets promptly, (Earth science mission teams are not scaling with the large amounts of data on hand) ML models onboard a spacecraft could help make missions even more efficient. The testing of data-driven-enabled data prioritization must occur too — currently, space missions are designed to collect the amount of data that can be sent back to Earth. Space agencies and the overall space industry must also implement an intelligent data collection solution, or data processing pipeline, that includes data collection, data labeling, analysis and then managing it appropriately so teams can access and make decisions in near real-time for mission-critical operations.\n",
            "\n",
            "2. Topic-Based Summary:\n",
            "----------------------------------------\n",
            "Developing and achieving autonomous science and exploration spacecraft requires a fundamental shift in the approach to space exploration. Data-fueled space missions\n",
            "\n",
            "Data analytics and ML algorithms are a driving force behind space missions. This collaboration could be leveraged to enable real-time AI computations directly onboard the spacecraft, while also enhancing data processing pipelines for operations teams, from data collection to prioritization. Cultivating a data-driven environment is not just about implementing next-gen tools, but it is a catalyst for the next frontier of space discovery and exploration. CHANTILLY, Va. — The Space Shuttle Discovery has been a prolific reminder of our nation’s space exploration mission at the National Air & Space Museum Steven F. Udvar-Hazy Center in Fairfax County for 13 years.\n",
            "\n",
            "3. Weighted Summary:\n",
            "----------------------------------------\n",
            "One way to sustain a leading position is by achieving data dominance, leveraging artificial intelligence (AI) tools such as machine learning (ML) algorithms onboard space missions to facilitate and enable real-time decision-making. While ML algorithms on Earth can help identify patterns or correlations in massive datasets promptly, (Earth science mission teams are not scaling with the large amounts of data on hand) ML models onboard a spacecraft could help make missions even more efficient. Imagine a spacecraft on Saturn’s moon Enceladus, collecting data from the plumes being ejected at the south pole, then analyzing the data onboard and reprioritizing other operations without having to wait for a transmission from scientists on Earth — this could all be based on data collections using onboard AI-based models, software analysis and edge computing.\n",
            "\n",
            "================================================================================\n",
            "\n",
            "\n",
            "## Cybersecurity threats and data breaches\n",
            "================================================================================\n",
            "\n",
            "1. LexRank Summary:\n",
            "----------------------------------------\n",
            "The ruinous financial and reputation impacts of a data breach\n",
            "\n",
            "The most significant impact of poor data security has to do with the financial losses. A data breach can expose personal data such as social security numbers, health records, and financial information, leaving victims exposed to identity theft and financial fraud. In conclusion, data security is not merely an IT technical problem; it is a very vital business problem with serious ramification and AI-powered cloud security solutions can safeguard your organization’s data in the public cloud. By excelling in threat detection, vulnerability management, and data protection, AI empowers organizations to significantly enhance their security posture and\n",
            "\n",
            "mitigate the risk of data breaches.\n",
            "\n",
            "2. Topic-Based Summary:\n",
            "----------------------------------------\n",
            "Some companies have leveraged their experiences to develop proprietary security tools, creating new revenue streams and solidifying their position as industry leaders in cybersecurity. What makes this approach different from traditional breach severity rankings? The Change Healthcare incident stands as the most compelling example—while affecting “only” 190 million records (significantly less than National Public Data’s 2.9 billion), it earned the second-highest risk score (8.7) due to the extreme sensitivity of the compromised healthcare claims data and its catastrophic impact on the entire healthcare ecosystem. Healthcare and financial services consistently top breach impact lists. With 61% of breaches involving third-party interactions, how does Kiteworks Private Data Network (PDN) mitigate the risk of vendor and partner ecosystems, especially in highly regulated industries? This approach must be adaptable, programmable and autonomous. Cyber threats continue to challenge organizations in 2025, and March saw its share of major breaches. 1.\n",
            "\n",
            "3. Weighted Summary:\n",
            "----------------------------------------\n",
            "Using a multidimensional approach that weighs data sensitivity, financial fallout, regulatory risk, attack sophistication, and more, the REI reveals a more nuanced and impactful view of cybersecurity threats. In this exclusive TechBullion Q&A, Kiteworks vice president of corporate marketing and research, Patrick Spencer, unpacks the findings from the report, explore why what data is stolen now matters more than how much, and explain how businesses can use these insights to prioritize protection, secure their ecosystems, and stay ahead of 2025’s emerging cyber risks. Businesses should act immediately on these key takeaways: First, classify data by sensitivity and focus security on the most sensitive assets, as data sensitivity showed the strongest correlation (24%) to breach impact. Organizations can leverage the Risk Exposure Index for strategic long-term cybersecurity investments by using its weighted factor analysis to align security spending with actual breach impact drivers.\n",
            "\n",
            "================================================================================\n",
            "\n",
            "\n",
            "## Healthcare policy changes\n",
            "================================================================================\n",
            "\n",
            "1. LexRank Summary:\n",
            "----------------------------------------\n",
            "The BWHC aims to engage a diverse range of stakeholders, including women across all age groups and socioeconomic classes, empowering them through community engagement, influencer outreach, and extensive media coverage; government and policymakers, advocating for improved women’s health policies; investors and health entrepreneurs, fostering innovation and investment in women’s health solutions; and healthcare professionals and researchers, facilitating knowledge sharing and collaboration to advance women’s health. As a scholar of U.S. health and public health policy, I have written about administrative burdens that prevent many Americans from accessing benefits to which they are entitled, including those provided by HHS, like Medicaid. The HHS reorganization also revamps two bodies within HHS, the Office of the Assistant Secretary for Planning and Evaluation and the Agency for Healthcare Research and Quality, that are instrumental in improving U.S. health care and providing policy research.\n",
            "\n",
            "2. Topic-Based Summary:\n",
            "----------------------------------------\n",
            "Healthtracka is proud to unveil the highly anticipated Banking on Women’s Health Conference (BWHC) and the launch of the groundbreaking Banking on Women’s Health Innovation Award, both dedicated to transforming the landscape of women’s healthcare in Nigeria. HHS is the umbrella agency responsible for pandemic preparedness, biomedical research, food safety and many other health-related activities. The FDA will lose an additional 3,500 employees, and the NIH will lose 1,200. Given the magnitude of the cuts, this seems unlikely. Already, previous cuts at the FDA – the agency responsible for safe foods and drugs – have led to delays in product reviews. More industry influence and fewer independent regulators to counter it will also further reduce attention to disparities and underserved populations.\n",
            "\n",
            "3. Weighted Summary:\n",
            "----------------------------------------\n",
            "Healthtracka is proud to unveil the highly anticipated Banking on Women’s Health Conference (BWHC) and the launch of the groundbreaking Banking on Women’s Health Innovation Award, both dedicated to transforming the landscape of women’s healthcare in Nigeria. The BWHC aims to engage a diverse range of stakeholders, including women across all age groups and socioeconomic classes, empowering them through community engagement, influencer outreach, and extensive media coverage; government and policymakers, advocating for improved women’s health policies; investors and health entrepreneurs, fostering innovation and investment in women’s health solutions; and healthcare professionals and researchers, facilitating knowledge sharing and collaboration to advance women’s health. The HHS reorganization also revamps two bodies within HHS, the Office of the Assistant Secretary for Planning and Evaluation and the Agency for Healthcare Research and Quality, that are instrumental in improving U.S. health care and providing policy research.\n",
            "\n",
            "================================================================================\n",
            "\n",
            "\n",
            "## Immigration and border policy news\n",
            "================================================================================\n",
            "\n",
            "1. LexRank Summary:\n",
            "----------------------------------------\n",
            "From that, it appears that Walz's border policy was to legalize the migrants who were crossing illegally during the Biden years, get them jobs and then make sure that they are \"part of the American fabric.\" Military officials are still working out how to execute the plan, including how long troops could detain migrants before turning them over to Border Patrol agents, and what type of “no trespassing” signs needed to be installed along the border, warning migrants they were about to enter a U.S. military reservation. New York Republicans are leveraging President Trump’s border czar Thomas Homan’s New York roots to push for increased immigration raids in sanctuary cities. New York Republicans are harnessing President Trump’s border czar Thomas Homan’s upstate New York roots to secure more federal immigration raids in sanctuary cities like Rochester, while eyeing further electoral wins in the Democrat-controlled state.\n",
            "\n",
            "2. Topic-Based Summary:\n",
            "----------------------------------------\n",
            "But Tim Walz? Really? Walz blamed Biden himself -- \"He made the decision\" -- and then added, \"I would hope we would never do it again.\" We need to make sure, if you're going to be in this country here legally, when you are, you're going to be uplifted, celebrated and part of this great American tapestry. The bill, Harris said in many campaign appearances, would be the heart of her border and immigration policy. For a deeper dive into many of the topics Byron covers, listen to his podcast, The Byron York Show, available on the Ricochet Audio Network at ricochet.com/series/byron-york-show and everywhere else podcasts are found. The memorandum formalizes a plan that the administration had been considering for weeks. A White House spokesman did not respond to questions seeking clarity as to what U.S. forces operating in the strip of border land would be able to do.\n",
            "\n",
            "3. Weighted Summary:\n",
            "----------------------------------------\n",
            "One eye-opening part of the interview was when Walz was asked about the Harris-Walz ticket's position on immigration and the disaster at the U.S.-Mexico border. From that, it appears that Walz's border policy was to legalize the migrants who were crossing illegally during the Biden years, get them jobs and then make sure that they are \"part of the American fabric.\" President Trump announced a plan on Friday to turn a narrow strip along the Mexican border in California, Arizona and New Mexico into a military installation as part of his effort to curtail illegal crossings. Military officials are still working out how to execute the plan, including how long troops could detain migrants before turning them over to Border Patrol agents, and what type of “no trespassing” signs needed to be installed along the border, warning migrants they were about to enter a U.S. military reservation.\n",
            "\n",
            "================================================================================\n",
            "\n",
            "\n",
            "## Education reform and school closures\n",
            "================================================================================\n",
            "\n",
            "1. LexRank Summary:\n",
            "----------------------------------------\n",
            "FERPA requires educational institutions that receive federal funding to protect student educational records. FERPA applies to all public and private K-12 schools, as well as post-secondary educational institutions, that receive federal funding. Next Steps\n",
            "\n",
            "Despite the potential closure of the Department of Education, schools and EdTech vendors that ignore FERPA’s obligations regarding student data nevertheless face a number of continued risks. Butcher’s long-term vision for education is that “local schools and state departments of education will not have to keep navigating burdensome federal education regulations or ‘dear colleague letters’ that micromanage local school practices. Barnes said Monday evening that keeping the collaborative time funding for next fiscal year but deferring implementation should help local school leaders as they work on budgets for next school year.\n",
            "\n",
            "2. Topic-Based Summary:\n",
            "----------------------------------------\n",
            "House Education Committee Chairman Peter Conlon, D-Addison-2, said the bill addresses Vermont's challenges and builds for a more stable future by moving it \"toward scale, creating statewide cohesion and support for our system.\" Rep. Michelle Bos-Lun, D-Windham-3, said she voted against the legislation to \"preserve rural schools in my community.\" What Is FERPA? FERPA requires educational institutions that receive federal funding to protect student educational records. However, a federal enforcement vacuum may encourage such vendors to think they can ignore the FERPA obligations to which they have agreed when processing student data. Next Steps\n",
            "\n",
            "Despite the potential closure of the Department of Education, schools and EdTech vendors that ignore FERPA’s obligations regarding student data nevertheless face a number of continued risks.\n",
            "\n",
            "3. Weighted Summary:\n",
            "----------------------------------------\n",
            "Key components of the bill, according to the announcement, include moving to a foundation funding model that gives school districts money based on the cost to educate a student; launching a statewide planning process to update and consolidate school district boundaries; establishing statewide class size minimums, shared calendars, data systems and shared resources between schools; creating clearer rules for the use of public tuition dollars; planning for long-term school construction investments and projects; and strengthening the State Board of Education to ensure transparent, accountable oversight with public input. The prospect of a “Wild West” environment in the absence of the Department of Education may have schools and EdTech vendors salivating at the prospect of buying, selling, sharing, using, or otherwise processing the data of the millions of students (and former students) in the United States.\n",
            "\n",
            "================================================================================\n",
            "\n",
            "\n",
            "## Natural disasters and humanitarian response\n",
            "================================================================================\n",
            "\n",
            "1. LexRank Summary:\n",
            "----------------------------------------\n",
            "Many local organizations still rely on manual assessments for aid distribution, which can delay response efforts. Foreign governments and international organizations must categorically reject the military junta’s demand that it control aid distribution and establish direct funding mechanisms with local actors, such as community-based organizations and civil society organizations that are directly supporting quake-affected areas. MANILA, Philippines, April 2, 2025 /PRNewswire/ -- In a landmark pro bono agreement, Globe, a top telco and digital solutions provider in the Philippines, has become the first mobile network operator (MNO) to partner with the UN Global Pulse's Data Insights for Social and Humanitarian Action (DISHA) coalition, harnessing AI-driven data for disaster preparedness and response. \"We're excited to welcome Globe Telecom to the DISHA Partner community and look forward to working side-by-side with Globe and humanitarian agencies operating in the Philippines to validate and scale the DISHA Socio-Economic Mapping solution in the country.\n",
            "\n",
            "2. Topic-Based Summary:\n",
            "----------------------------------------\n",
            "The Sea Phase, undertaken off the coast of Kakinada from April 8 to 11, featured complex maritime operations, aircraft cross-deck landings, troops landing at Kakinada, and NDRF activities. Exercise Tiger Triumph 2025 marks a significant milestone in reinforcing the shared commitment of India and the United States towards regional stability, disaster response cooperation, and enhancing interoperability between their armed forces. Globe has become the first mobile network operator to join the UN Global Pulse’s Data Insights for Social and Humanitarian Action (DISHA) coalition. Many local organizations still rely on manual assessments for aid distribution, which can delay response efforts. From March 28 until the present, DVB News reports that the junta has launched over 40 air and artillery strikes across Myanmar, resulting in at least 12 fatalities. Additionally, world leaders must demand the immediate cessation of airstrikes and military operations, especially in earthquake-affected regions.\n",
            "\n",
            "3. Weighted Summary:\n",
            "----------------------------------------\n",
            "Globe has become the first mobile network operator to join the UN Global Pulse’s Data Insights for Social and Humanitarian Action (DISHA) coalition. Many relief organizations and local communities remain wary with the understanding that while airstrikes might temporarily cease in the earthquake ravaged central regions of Sagaing and Mandalay, military operations could continue unabated in other parts of the country. MANILA, Philippines, April 2, 2025 /PRNewswire/ -- In a landmark pro bono agreement, Globe, a top telco and digital solutions provider in the Philippines, has become the first mobile network operator (MNO) to partner with the UN Global Pulse's Data Insights for Social and Humanitarian Action (DISHA) coalition, harnessing AI-driven data for disaster preparedness and response.\n",
            "\n",
            "================================================================================\n",
            "\n",
            "\n",
            "## Major legal cases and court rulings\n",
            "================================================================================\n",
            "\n",
            "1. LexRank Summary:\n",
            "----------------------------------------\n",
            "The UK Supreme Court has ruled that the definition of a woman and sex in the Equality Act relates to \"a biological woman and biological sex\". \"The unanimous decision of this court is that the terms woman and sex in the Equality Act 2010 refer to a biological woman and biological sex,” he said. In a major ruling, the court has stated that the definition of a woman and sex in the Equality Act relates to \"a biological woman and biological sex\". The UK Supreme Court has decided on the legal definition of a 'woman' and 'sex' in the Equality Act. He said: \"The unanimous decision of this court is that the terms woman and sex in the Equality Act 2010 refer to a biological woman and biological sex.\n",
            "\n",
            "2. Topic-Based Summary:\n",
            "----------------------------------------\n",
            "\"The unanimous decision of this court is that the terms woman and sex in the Equality Act 2010 refer to a biological woman and biological sex,” he said. But the outcome of the case will have an impact on the whole of the UK after the years-long legal battle ascended to the Supreme Court. The case centres on whether or not somebody with a gender recognition certificate (GRC) recognising their gender as female should be treated as a woman under the 2010 Equality Act. FWS has previously said not tying the definition of sex to its \"ordinary meaning\" could have far-reaching consequences for sex-based rights, as well as \"everyday single-sex services\" like toilets and hospital wards. She also said the \"inevitable conclusion\" of the FWS challenge, if successful, is that trans women with GRCs would \"remain men until death for the purposes of the Equality Act\".\n",
            "\n",
            "3. Weighted Summary:\n",
            "----------------------------------------\n",
            "READ MORE: Major UK Supreme Court ruling on legal definition of a woman after 'unanimous decision'\n",
            "\n",
            "She later added: \"Trans people have lost zero rights today, although I don’t doubt some (not all) will be furious that the Supreme Court upheld women’s sex-based rights.\" Announcing the ruling on Wednesday, April 16, Supreme Court judge Lord Hodge said the ruling was not a 'victory' for either side and the law protects trans people from discrimination. WASHINGTON (AP) — The Trump administration is touting a Supreme Court ruling allowing it to resume deportations under the Alien Enemies Act as a major victory, but the immigration fight is far from over.\n",
            "\n",
            "================================================================================\n",
            "\n",
            "\n",
            "## Celebrity news and entertainment industry updates\n",
            "================================================================================\n",
            "\n",
            "1. LexRank Summary:\n",
            "----------------------------------------\n",
            "Bollywood News & Updates\n",
            "\n",
            "Stay Updated with the Latest Trending Bollywood News\n",
            "\n",
            "Bollywood Hungama is your go-to destination for all things related to Bollywood. From celebrity news and Bollywood movie news to in-depth features and interviews, we've got it all covered. Bollywood Celebrity News and Updates\n",
            "\n",
            "Get the most up-to-date information on your favourite celebrities with Bollywood Hungama. Our celebrity news section covers everything from the latest gossip to confirmed updates about Bollywood stars. Stay tuned with us for Bollywood breaking news, industry scoops, and general updates about your favourite celebrities and films. Latest Bollywood Movie News\n",
            "\n",
            "Keep up with the latest Bollywood movie news, including box office updates, film comparisons, and rankings. Bollywood News on Social Media\n",
            "\n",
            "Follow the latest Bollywood trends and updates on social media platforms.\n",
            "\n",
            "2. Topic-Based Summary:\n",
            "----------------------------------------\n",
            "Bollywood News & Updates\n",
            "\n",
            "Stay Updated with the Latest Trending Bollywood News\n",
            "\n",
            "Bollywood Hungama is your go-to destination for all things related to Bollywood. Our Hindi news section ensures that language is never a barrier to staying connected with Bollywood. Emmy-Nominated Host of \"The Kitchen” and Founder of Mauro Provisions Joins Stargaze to Elevate Creator Voices and Culinary Talent Ahead of 2025 App Relaunch\n",
            "\n",
            "LOS ANGELES, April 15, 2025 (GLOBE NEWSWIRE) -- Stargaze Entertainment Group Inc. (\"Stargaze” or the \"Company”) (OTC PK: STGZ), a content creation and social platform designed to redefine talent discovery, has appointed celebrity chef, entrepreneur, and Food Network mainstay Jeff Mauro to its Advisory Board. With nearly 1,000 career breakthroughs across film, television, stage, and music, the platform is a proven launchpad for emerging talent.\n",
            "\n",
            "3. Weighted Summary:\n",
            "----------------------------------------\n",
            "Stay tuned with us for Bollywood breaking news, industry scoops, and general updates about your favourite celebrities and films. Emmy-Nominated Host of \"The Kitchen” and Founder of Mauro Provisions Joins Stargaze to Elevate Creator Voices and Culinary Talent Ahead of 2025 App Relaunch\n",
            "\n",
            "LOS ANGELES, April 15, 2025 (GLOBE NEWSWIRE) -- Stargaze Entertainment Group Inc. (\"Stargaze” or the \"Company”) (OTC PK: STGZ), a content creation and social platform designed to redefine talent discovery, has appointed celebrity chef, entrepreneur, and Food Network mainstay Jeff Mauro to its Advisory Board. The forward-looking events discussed in this document and other statements made from time to time by us or our representatives, may not occur, and actual events and results may differ materially and are subject to risks, uncertainties and assumptions about us.\n",
            "\n",
            "================================================================================\n",
            "\n",
            "\n",
            "## Scientific research breakthroughs\n",
            "================================================================================\n",
            "\n",
            "1. LexRank Summary:\n",
            "----------------------------------------\n",
            "Losses from defunding biomedical research\n",
            "\n",
            "The National Institutes of Health contributed over $100 billion to support research that ultimately led to the development of all new drugs approved from 2010 to 2016 alone. By cutting biomedical research funding, Americans and the rest of the world stand to lose new cures, new treatments and an entire generation of researchers. Among the most exciting areas for AI is scientific research. AI's Growing Role in Scientific Discoveries\n",
            "\n",
            "AI has made significant strides in various scientific fields, including drug discovery, genomics, materials science, climate research, and astronomy. But if we keep slashing biomedical research and public health funding, no one will be safe. The Trump administration’s decision to limit funding for biomedical research doesn’t just affect cancer and cardiovascular disease research — it also undercuts epidemic preparedness, public health surveillance and basic scientific discovery.\n",
            "\n",
            "2. Topic-Based Summary:\n",
            "----------------------------------------\n",
            "Put your money where your red carpet is until evidence-based thought leads our country once again. Fund the science that Trump and his administration want to erase. Thousands of ongoing national and international projects dedicated to uncovering the causes of life-threatening diseases and developing new treatments to improve and save lives are supported by federal agencies such as the NIH and NSF. A cure for cancer\n",
            "\n",
            "The hope and dream of curing cancer unites many scientists, health professionals and affected families across the U.S. After decades of ongoing NIH-supported research, scientists have made significant progress in realizing this goal. Most treatments address cognitive and behavioral symptoms. Can AI Think Outside the Box? And it would be expensive: Closing would likely cost more than $100 million to relocate more than 5,600 animals and other logistical hurdles, diverting resources that would otherwise fund our health care, education and research missions.\n",
            "\n",
            "3. Weighted Summary:\n",
            "----------------------------------------\n",
            "Joel Habener, one of the scientists awarded with the Breakthrough Prize for the discovery of GLP-1, the basis of the blockbuster drugs Ozempic and Wegovy, has had funding from the National Institutes of Diabetes and Digestive and Kidney Diseases for decades. Infectious diseases and the next pandemic\n",
            "\n",
            "The world’s capacity to combat infectious disease will also be weakened by cuts to U.S. federal support of biomedical research. The Trump administration’s decision to limit funding for biomedical research doesn’t just affect cancer and cardiovascular disease research — it also undercuts epidemic preparedness, public health surveillance and basic scientific discovery.\n",
            "\n",
            "================================================================================\n",
            "\n",
            "\n",
            "## Trade agreements and tariffs\n",
            "================================================================================\n",
            "\n",
            "1. LexRank Summary:\n",
            "----------------------------------------\n",
            "RELATED STORY | China strikes back: New tariffs on US goods as trade war intensifies\n",
            "\n",
            "China responded in the trade war with the United States earlier this morning, announcing it would raise tariffs on U.S. goods from 84% to 125%. Countries use tariffs as a tool to regulate trade, protect domestic industries and generate revenue. Trade negotiation leverage: Countries can use tariffs as a bargaining tool in trade negotiations, pressuring trading partners to lower their own trade barriers. In commercial real estate, sectors like construction and manufacturing, reliant on imported materials, face higher costs from tariffs. The headlines have been dominated by tariffs, retaliatory tariffs, trade imbalances and trade wars as the world markets respond to the chaos. What are tariffs? Retaliatory tariffs are tariffs imposed by one country on goods imported from another country, in response to tariffs or trade restrictions imposed by that other country.\n",
            "\n",
            "2. Topic-Based Summary:\n",
            "----------------------------------------\n",
            "China announced on Friday that it will raise tariffs on U.S. goods from 84% to 125%, the latest development in a back-and-forth trade war between the world's two largest economies and one that has shocked markets and raised fears of a global economic slowdown. But I think that's an example of how U.S. consumers benefit from those global supply chains.\" 2. Trade negotiation leverage: Countries can use tariffs as a bargaining tool in trade negotiations, pressuring trading partners to lower their own trade barriers. Specifically in real estate, tariffs can raise development costs, particularly in multi-family construction where materials like steel, aluminum and appliances are often imported. Alternative Sourcing For Real Estate Firms\n",
            "\n",
            "Perhaps one of the the biggest factors for those in real estate and construction, tariffs on imported materials can have a direct impact on project budgets. What are tariffs?\n",
            "\n",
            "3. Weighted Summary:\n",
            "----------------------------------------\n",
            "China announced on Friday that it will raise tariffs on U.S. goods from 84% to 125%, the latest development in a back-and-forth trade war between the world's two largest economies and one that has shocked markets and raised fears of a global economic slowdown. Some key benefits include:\n",
            "\n",
            "Protecting domestic industries: By making imported goods more expensive, tariffs encourage consumers to buy local, supporting domestic businesses and preserving jobs. Specifically in real estate, tariffs can raise development costs, particularly in multi-family construction where materials like steel, aluminum and appliances are often imported. In commercial real estate, sectors like construction and manufacturing, reliant on imported materials, face higher costs from tariffs. Launching a historic global trade war last Wednesday, President Donald Trump announced at least 10% tariffs for all countries with much higher rates for some countries or trading blocs.\n",
            "\n",
            "================================================================================\n",
            "\n",
            "\n",
            "## Cryptocurrency market movements\n",
            "================================================================================\n",
            "\n",
            "1. LexRank Summary:\n",
            "----------------------------------------\n",
            "This is a high-risk investment and you should not expect to be protected if something goes wrong. This is a high-risk investment and you should not expect to be protected if something goes wrong. This is a high-risk investment and you should not expect to be protected if something goes wrong. This is a high-risk investment and you should not expect to be protected if something goes wrong. This is a high-risk investment and you should not expect to be protected if something goes wrong. This is a high-risk investment and you should not expect to be protected if something goes wrong. This is a high-risk investment and you should not expect to be protected if something goes wrong. This is a high-risk investment and you should not expect to be protected if something goes wrong.\n",
            "\n",
            "2. Topic-Based Summary:\n",
            "----------------------------------------\n",
            "promo\n",
            "\n",
            "Movement Labs and the Movement Network Foundation have launched a formal internal investigation into market maker misconduct surrounding their native token, MOVE. This is a high-risk investment and you should not expect to be protected if something goes wrong. Take 2 mins to learn more\n",
            "\n",
            "Explore\n",
            "\n",
            "Don’t invest unless you’re prepared to lose all the money you invest. Previously, Lockridge conducted market analysis and technical assessments of digital assets, including Bitcoin and altcoins such as Arbitrum, Polkadot, and...\n",
            "\n",
            "Lockridge Okoth is a Journalist at BeInCrypto, focusing on prominent industry companies such as Coinbase, Binance, and Tether. While Bitcoin is decoupling from the S&P 500, stablecoin inflows are on the rise. The flagship crypto consolidated within the $81K to $84K range over the past day. Do your market research before investing in cryptocurrencies. Advertisement\n",
            "\n",
            "Advertisement\n",
            "\n",
            "How Will Trump’s Tariff Plans Impact Crypto Market?\n",
            "\n",
            "3. Weighted Summary:\n",
            "----------------------------------------\n",
            "Take 2 mins to learn more\n",
            "\n",
            "Explore\n",
            "\n",
            "Best crypto platforms in Europe\n",
            "\n",
            "Don’t invest unless you’re prepared to lose all the money you invest. This is a high-risk investment and you should not expect to be protected if something goes wrong. This is a high-risk investment and you should not expect to be protected if something goes wrong. This is a high-risk investment and you should not expect to be protected if something goes wrong. This is a high-risk investment and you should not expect to be protected if something goes wrong. This is a high-risk investment and you should not expect to be protected if something goes wrong. This is a high-risk investment and you should not expect to be protected if something goes wrong. This is a high-risk investment and you should not expect to be protected if something goes wrong.\n",
            "\n",
            "================================================================================\n",
            "\n",
            "\n",
            "## Social justice protests and movements\n",
            "================================================================================\n",
            "\n",
            "1. LexRank Summary:\n",
            "----------------------------------------\n",
            "WE KNOW THAT THERE’S BEEN REGULAR PROTESTS OVER THE TRUMP ADMINISTRATION’S POLICIES. AND I THINK IT’S IMPORTANT FOR US TO UNDERSTAND THAT THESE TIMES ARE NOT THAT DIFFERENT FROM OTHER TIMES IN THIS COUNTRY, FROM BASIC RIGHTS THAT WE WERE ABLE TO HAVE BECAUSE OF PEOPLE PROTESTING LITIGATION, LEGISLATION, PROTESTS EQUALS SOCIAL CHANGE. BUT MOST PEOPLE DON’T KNOW. AND SO I DON’T THINK PROTEST IS EFFECTIVE. AND THEN THE SAME PEOPLE WHO TURN AROUND AND SAY, WE DON’T WANT PROTESTS ARE PART OF A UNION WITHOUT UNDERSTANDING THE HISTORY OF PROTEST. I THINK SO MANY MIGHT HAVE FO\n",
            "\n",
            "Social movements, moments, and rebellions are explored in a book by author and professor Gloria J. Browne-Marshall called “A Protest History of the United States”.\n",
            "\n",
            "2. Topic-Based Summary:\n",
            "----------------------------------------\n",
            "The framing for the Saturday march is, “Let’s talk about Trump’s economic attacks and attacks on our rights,” said Leah Greenberg, the co-founder of Indivisible. AND THIS BOOK IS VERY TIMELY GIVING THE CIRCUMSTANCES OF WHAT’S BEEN HAPPENING AROUND THE COUNTRY AS OF LATE. BUT MOST PEOPLE DON’T KNOW. THE FIRST AMENDMENT ALSO HAS THE RIGHT TO PETITION THE GOVERNMENT FOR A REDRESS OF GRIEVANCES. AND SO I DON’T THINK PROTEST IS EFFECTIVE. THEY HAD TO LEAVE THEIR HOME. SO WE NEED TO UNDERSTAND UNIONS WERE A FORM OF PROTEST. AND THEREFORE, IF YOU THINK ABOUT THE 1960S, HE WAS AWARDED HALF $1 MILLION IN DAMAGES AGAINST THE NEW YORK TIMES. From boycotts and sit-ins to protests on college campuses, Professor Browne-Marshall discusses the current environment of First Amendment protected free speech, and how speaking out doesn’t result in immediate progress.\n",
            "\n",
            "3. Weighted Summary:\n",
            "----------------------------------------\n",
            "The mass action, “Hands Off!,” was organized by Indivisible, MoveOn and several other groups that led protests about abortion rights, gun violence and racial justice during the first Trump administration. “The protests were effective in the short term, but in the longer term, unless there is some kind of resounding defeat politically, movements like Trump’s are able to reconstitute and, in this case, win,” said Erica Chenoweth, a political scientist who studies social movements and nonviolent resistance. AND I THINK IT’S IMPORTANT FOR US TO UNDERSTAND THAT THESE TIMES ARE NOT THAT DIFFERENT FROM OTHER TIMES IN THIS COUNTRY, FROM BASIC RIGHTS THAT WE WERE ABLE TO HAVE BECAUSE OF PEOPLE PROTESTING LITIGATION, LEGISLATION, PROTESTS EQUALS SOCIAL CHANGE. I THINK SO MANY MIGHT HAVE FO\n",
            "\n",
            "Social movements, moments, and rebellions are explored in a book by author and professor Gloria J. Browne-Marshall called “A Protest History of the United States”.\n",
            "\n",
            "================================================================================\n",
            "\n",
            "\n",
            "## Transportation and infrastructure projects\n",
            "================================================================================\n",
            "\n",
            "1. LexRank Summary:\n",
            "----------------------------------------\n",
            "Six miles of added lanes on I-4 will open the week of April 28, 2025. Where are the new 'congestion relief lanes' on I-4? The Moving Florida Forward program includes nearly 700 projects across Florida, with $75 billion in infrastructure investment committed since 2019, a news release said. Highlights include:\n",
            "\n",
            "Three general-use lanes and two new express lanes in each direction. Four general-use lanes and two express lanes in each direction. New ramps will be built to connect the express lanes on I-4 to S.R. 429 and from the I-4 general-use lanes to S.R. Jim Tymon, executive director of nonprofit American Association of State Highway and Transportation Officials, said in an interview that the increased funding levels provided in the 2021 infrastructure law created a new baseline, and that lawmakers need to continue to fund transportation projects at that level.\n",
            "\n",
            "2. Topic-Based Summary:\n",
            "----------------------------------------\n",
            "4.1 miles. Project 2: East of C.R. Highlights include:\n",
            "\n",
            "Improvements to the State Road (S.R.) Four general-use lanes and two express lanes in each direction. 532). Adding ramps to connect the express lanes and S.R. One former DOT employee who spoke to Grist said the scale of Safe Streets and Roads for All means there will be widespread impacts. By analyzing costs, benefits and trade-offs, economists can help policymakers and stakeholders make data-driven decisions that maximize societal benefits. By integrating economic principles into every stage of the project life cycle, decision-makers can ensure that infrastructure investments optimize resource utilization to promote economic growth, enhance quality of life and optimize resource utilization. That law added $550 billion in new spending — such as new discretionary grant programs for transit, rail and funding for EV charging equipment — to what would’ve otherwise been a traditional surface transportation reauthorization bill.\n",
            "\n",
            "3. Weighted Summary:\n",
            "----------------------------------------\n",
            "Department of Transportation Secretary Sean Duffy appeared on Newsmax Wednesday and described President Donald Trump’s infrastructure strategy and said that projects under his administration will be both financially responsible and timely. The Department of Transportation has ordered a review of federal funding for bike lanes and plans to target recent projects that “improve the condition for environmental justice communities or actively reduce greenhouse gas emissions.”\n",
            "\n",
            "The move, outlined in a department memo obtained by Grist, is part of the Trump administration’s broader goal of steering federal infrastructure spending toward fossil fuels. “As a bipartisan initiative, we believe that reauthorization would lead to many more success stories as state DOTs work to advance projects and build and maintain a transportation system that works for everyone.”\n",
            "\n",
            "The Transportation Department, however, has already paused funding for certain programs.\n",
            "\n",
            "================================================================================\n",
            "\n",
            "\n",
            "## Consumer technology product launches\n",
            "================================================================================\n",
            "\n",
            "1. LexRank Summary:\n",
            "----------------------------------------\n",
            "Our focus is on three key areas: supporting innovation and growth with AI, enabling automation and transformation for efficiency, and enhancing the security of critical data.” AI advancements for mainframes can improve and secure business interactions, leading to faster, more reliable, personalized consumer experiences. How It’s Done: Enhancing Core Operations With Integrated Intelligence\n",
            "\n",
            "The z17 incorporates several new AI-related features, including the ability to use multi-model AI in real time by combining AI models and LLMs for every transaction. Japan Building 'Zeta-Class' Supercomputer, 1,000 Times Faster Than Today's Fastest Machines\n",
            "\n",
            "This groundbreaking technology, expected to be operational by 2030, will be a significant step forward in AI development and scientific research. Japan Building 'Zeta-Class' Supercomputer, 1,000 Times Faster Than Today's Fastest Machines\n",
            "\n",
            "This groundbreaking technology, expected to be operational by 2030, will be a significant step forward in AI development and scientific research.\n",
            "\n",
            "2. Topic-Based Summary:\n",
            "----------------------------------------\n",
            "Lean teams can build applications that rival those of industry giants, thanks to AI’s ability to automate development, refine user experiences and amplify marketing reach. High engagement rates signal relevance, making AI-driven algorithms more likely to surface your content. With three months of the year gone, there have been several global tech product launches in 2025, with more still to come. Samsung also has unique AI features, such as Multimodal Search and audio Eraser, while other brands are also catching up with the latest AI innovation. The case, assigned to U.S. District Judge Arun Subramanian, is 1:24-cv-09445, Gonzalez v. The Toronto-Dominion Bank et al. The IBM Institute of Business Value reports that 79% of IT executives consider mainframes essential for enabling AI-driven innovation and value creation. Cost is only one consideration.\n",
            "\n",
            "3. Weighted Summary:\n",
            "----------------------------------------\n",
            "As someone building AI-powered consumer products in edtech, I’ve seen firsthand how this shift is rewriting the competitive landscape. The supercomputer will help Japan stay competitive in artificial intelligence (AI) advancements and...\n",
            "\n",
            "Dell Is Building Future-Ready Machines That Can Deliver AI Capabilities: Pujan Chadha\n",
            "\n",
            "Gadgets 360 spoke with Pujan Chadha, Director – Product Marketing, Consumer and Small Business at Dell Technologies, to gain a better perspective on the entire AI PC space and simplify the technology and its implementation for the end consumer. The supercomputer will help Japan stay competitive in artificial intelligence (AI) advancements and...\n",
            "\n",
            "Dell Is Building Future-Ready Machines That Can Deliver AI Capabilities: Pujan Chadha\n",
            "\n",
            "Gadgets 360 spoke with Pujan Chadha, Director – Product Marketing, Consumer and Small Business at Dell Technologies, to gain a better perspective on the entire AI PC space and simplify the technology and its implementation for the end consumer.\n",
            "\n",
            "================================================================================\n",
            "\n",
            "\n",
            "## Environmental conservation efforts\n",
            "================================================================================\n",
            "\n",
            "1. LexRank Summary:\n",
            "----------------------------------------\n",
            "The Maritime Spatial Planning (MSP) by Greece has pitted the country against Türkiye. Greece’s Foreign Ministry retorted that Ankara was “politicizing a clearly environmental issue.”\n",
            "\n",
            "The Greek Foreign Ministry said in a statement on Wednesday that the country adopted the National Spatial Strategy for Marine Zones, essentially specifying the MSP, and defined it as an important initiative. Earlier this week, the Ankara University National Research Center for Maritime Law (DEHUKAM) published the first academic study on Türkiye's MSP, which aims for the country to maximize sustainable use of its surrounding seas. Türkiye's marine spatial planning efforts, launched years ago to protect its rights and interests in surrounding seas, better assess the environmental impacts of future maritime activities, and maximize the use of marine areas, are now reaching their final stage with contributions from relevant institutions.\n",
            "\n",
            "2. Topic-Based Summary:\n",
            "----------------------------------------\n",
            "According to Heather Hartman, an environmental scientist and educator, the answer is yes. A carbon footprint is the total greenhouse gas emissions produced by an individual, organization, event or product. “We need to be more content with consuming less,” Hartman said. The Evergreen center, located in Mount Savage, held the footprint workshop in celebration of Earth month. “Education, preservation and conservation, we do it all.”\n",
            "\n",
            "Evergreen was established as a public charity in 2008 to provide hands-on enrichment programs for students across Allegany County, serving 18,000 visitors each year. The Maritime Spatial Planning (MSP) by Greece has pitted the country against Türkiye. \"We would like to emphasize that Greece's unilateral moves and claims do not bear any legal consequences for our country. The ministry said the strategy aimed to resolve \"past issues,\" and it should not be interpreted that they ended the dialogue with Türkiye on the issue.\n",
            "\n",
            "3. Weighted Summary:\n",
            "----------------------------------------\n",
            "The Maritime Spatial Planning (MSP) by Greece has pitted the country against Türkiye. The Turkish Foreign Ministry said in a statement that certain areas included in the MSP declared as part of the EU acquis violated Türkiye's maritime jurisdiction in the Aegean Sea and Eastern Mediterranean. Greece’s Foreign Ministry retorted that Ankara was “politicizing a clearly environmental issue.”\n",
            "\n",
            "The Greek Foreign Ministry said in a statement on Wednesday that the country adopted the National Spatial Strategy for Marine Zones, essentially specifying the MSP, and defined it as an important initiative. Türkiye's marine spatial planning efforts, launched years ago to protect its rights and interests in surrounding seas, better assess the environmental impacts of future maritime activities, and maximize the use of marine areas, are now reaching their final stage with contributions from relevant institutions.\n",
            "\n",
            "================================================================================\n",
            "\n",
            "\n",
            "## Government corruption investigations\n",
            "================================================================================\n",
            "\n",
            "1. LexRank Summary:\n",
            "----------------------------------------\n",
            "Who's who in the Adams corruption case, fallout\n",
            "\n",
            "Eric Adams: New York City’s Democratic mayor, who faces bribery and other charges stemming from a September 2024 indictment\n",
            "\n",
            "Donald Trump: The Republican U.S. president who has previously expressed solidarity with Adams\n",
            "\n",
            "Kathy Hochul: New York’s Democratic governor, who has the power to remove Adams from office\n",
            "\n",
            "Pam Bondi: U.S. Attorney General, head of the Justice Department working to dismiss the federal case against Adams\n",
            "\n",
            "Emil Bove: The Acting Deputy Attorney General, the U.S. Justice Department’s second in command, who filed paperwork to dismiss corruption charges against Adams\n",
            "\n",
            "Danielle Sassoon: The former interim U.S. Attorney for the Southern District of New York, who penned a letter to Bondi saying she could not follow a directive to drop the office’s corruption case against Adams.\n",
            "\n",
            "2. Topic-Based Summary:\n",
            "----------------------------------------\n",
            "His chief adviser was also charged in state court with taking part in a separate bribery scheme. The Department of Investigation worked with the F.B.I. In February, Ms. Hochul proposed changes to the law that would bar the mayor from firing the investigation commissioner without the approval of the state inspector general. “It was common for us to lose talented young investigators,” said Margaret M. Garnett, who served as the department’s commissioner for the last three years of the de Blasio administration. Ms Siddiq knows nothing about a hearing in Dhaka relating to her and she has no knowledge of any arrest warrant that is said to have been issued.”\n",
            "\n",
            "The ACC petitioned the Bangladeshi courts on March 10, asking for a travel ban to be imposed on Ms Hasina, Ms Siddiq and other family members.\n",
            "\n",
            "3. Weighted Summary:\n",
            "----------------------------------------\n",
            "Who's who in the Adams corruption case, fallout\n",
            "\n",
            "Eric Adams: New York City’s Democratic mayor, who faces bribery and other charges stemming from a September 2024 indictment\n",
            "\n",
            "Donald Trump: The Republican U.S. president who has previously expressed solidarity with Adams\n",
            "\n",
            "Kathy Hochul: New York’s Democratic governor, who has the power to remove Adams from office\n",
            "\n",
            "Pam Bondi: U.S. Attorney General, head of the Justice Department working to dismiss the federal case against Adams\n",
            "\n",
            "Emil Bove: The Acting Deputy Attorney General, the U.S. Justice Department’s second in command, who filed paperwork to dismiss corruption charges against Adams\n",
            "\n",
            "Danielle Sassoon: The former interim U.S. Attorney for the Southern District of New York, who penned a letter to Bondi saying she could not follow a directive to drop the office’s corruption case against Adams.\n",
            "\n",
            "================================================================================\n",
            "\n",
            "\n",
            "## Public health advisories and outbreaks\n",
            "================================================================================\n",
            "\n",
            "1. LexRank Summary:\n",
            "----------------------------------------\n",
            "Ontario's measles outbreak has become so big that public health officials in New York state have included the province in a travel advisory that urges residents to get vaccinated before visiting. reads the April 2nd measles travel advisory for all New Yorkers from the New York State Department of Health. According to Public Health Ontario, a total of 655 confirmed and probable measles cases have been reported in Ontario this year as of April 2. 'We want to inform the public': public health director\n",
            "\n",
            "In the travel advisory, N.Y. officials urge residents to ensure they are fully vaccinated against measles before travelling to another country or an area in the U.S. where there is an outbreak. \"Measles can be a serious disease.\n",
            "\n",
            "2. Topic-Based Summary:\n",
            "----------------------------------------\n",
            "\"Currently, measles outbreaks are happening in parts of the United States and Canada, especially in Ontario, and around the world.\" According to Public Health Ontario, a total of 655 confirmed and probable measles cases have been reported in Ontario this year as of April 2. Any time there are risks like this, the travel advisory does go out so people are prepared,\" Busman said. 'Measles can be a serious disease,' N.Y. official says\n",
            "\n",
            "In an April 2 news release, N.Y. officials say travelers should plan to be fully vaccinated against measles at least two weeks before departure. As of March 26, 483 measles cases have been reported in the U.S., with the majority in New Mexico and Texas.\n",
            "\n",
            "3. Weighted Summary:\n",
            "----------------------------------------\n",
            "Ontario's measles outbreak has become so big that public health officials in New York state have included the province in a travel advisory that urges residents to get vaccinated before visiting. According to Public Health Ontario, a total of 655 confirmed and probable measles cases have been reported in Ontario this year as of April 2. Hannah Busman, Director of Public Health for Franklin County, N.Y., which shared the advisory, said in an interview that the public needs to be aware of measles outbreaks before traveling. For instance, GAVI helped to stop the Ebola epidemic in West Africa a decade ago, and established a stockpile of Ebola vaccines that can be deployed when there is an outbreak, such as one in Uganda this year, says Anita Shet, a pediatrician and infectious diseases researcher at Johns Hopkins Bloomberg School of Public Health.\n",
            "\n",
            "================================================================================\n",
            "\n",
            "\n",
            "## International trade disputes\n",
            "================================================================================\n",
            "\n",
            "1. LexRank Summary:\n",
            "----------------------------------------\n",
            "Meanwhile, both China and Canada have already filed complaints to the World Trade Organisation (WTO), seeking to challenge the US levies through international law. The WTO is currently the main international body that deals with trade disputes between countries, meaning it is the obvious venue for those seeking to challenge Trump’s tariffs. But, the Court upheld the power.”\n",
            "\n",
            "Anyone seeking to overturn Trump’s tariffs would therefore likely be forced to do so by limiting the president’s power to impose levies at all, which would require changing US law through America’s Congress. This brazen violation of international law has put international trade relations in peril, making it clear the US, instead of being a champion of the rules-based world order, has become a disrupter of global trade and violator of international rules. The WTO must be reinvigorated, and global trade should once again be governed by law.\n",
            "\n",
            "2. Topic-Based Summary:\n",
            "----------------------------------------\n",
            "Retaliatory Tariffs Disrupting Global Supply Chains\n",
            "\n",
            "Retaliatory tariffs—duties imposed by one country in response to another’s tariffs—have lately become a harsh reality. Over 170 countries—including the U.S., EU nations, China, Mexico, and many others—are signatories to the New York Convention, which obligates their courts to recognize and enforce foreign arbitral awards. Expertise: The fact that parties can select arbitrators with industry experience can also help to resolve disputes more quickly than in court. “The higher the tariff, the faster they come in,” he said of companies investing in the United States to avoid paying the import tax. Mr. Biden had to get beyond the Covid era before he settled on a strategy of denying Beijing access to critical semiconductors and other technology.\n",
            "\n",
            "3. Weighted Summary:\n",
            "----------------------------------------\n",
            "Elon Musk, who relies on China as a key supplier to his companies Tesla and SpaceX, called Peter Navarro, a top White House trade adviser, a “moron” and “dumber than a sack of bricks.” Mr. Navarro shrugged it off during a Sunday appearance on NBC’s “Meet the Press,” saying, “I’ve been called worse.”\n",
            "\n",
            "Treasury Secretary Scott Bessent pushed back Monday on a Chinese commerce official who dismissed the tariffs as a “joke.”\n",
            "\n",
            "“These are not a joke,” Mr. Bessent said in Argentina, where he is on a visit. Countries including Canada and China have already launched retaliatory tariffs of their own, a signal that world leaders are not holding out much hope for a legal or negotiated settlement. The WTO is currently the main international body that deals with trade disputes between countries, meaning it is the obvious venue for those seeking to challenge Trump’s tariffs.\n",
            "\n",
            "================================================================================\n",
            "\n",
            "\n",
            "## Housing market trends\n",
            "================================================================================\n",
            "\n",
            "1. LexRank Summary:\n",
            "----------------------------------------\n",
            "Nguyen's experience is a snapshot of the national housing market as buyers and sellers enter what is traditionally the busiest season of the year hopeful about moderating interest rates but wary of tariffs, stubborn inflation and consumer fears about jobs and the economy that could keep the market mired in a rut. Forecast for 2025 home sales\n",
            "\n",
            "Selma Hepp, chief economist with Cotality, the real estate data provider formerly known as CoreLogic, forecast 2025 home sales would be “slightly above” the pace set in 2024. “These weekly trends suggest that prices will be close to last year's level, which was $425,000 in March 2024.”\n",
            "\n",
            "Because mortgage rates this month have been slightly lower than a year ago, the overall monthly payment may be a bit more manageable for buyers – as long as they remain employed and confident.\n",
            "\n",
            "2. Topic-Based Summary:\n",
            "----------------------------------------\n",
            "As real estate's spring selling season begins, Thai Hung Nguyen has his fingers crossed. So far, there are slightly more listings coming on the market – signaling people want to sell their home – than at this time last year, Nguyen said, but not enough to suggest a full-fledged retreat from the area as the Trump administration slashes the federal workforce. Forecast for 2025 home sales\n",
            "\n",
            "Selma Hepp, chief economist with Cotality, the real estate data provider formerly known as CoreLogic, forecast 2025 home sales would be “slightly above” the pace set in 2024. “Prices have been flat year-over-year for the last two weeks, and were just slightly lower annually the two weeks prior,” said Hannah Jones, Realtor.com’s senior economic research analyst, in an email. How are homebuilders faring?\n",
            "\n",
            "3. Weighted Summary:\n",
            "----------------------------------------\n",
            "So far, there are slightly more listings coming on the market – signaling people want to sell their home – than at this time last year, Nguyen said, but not enough to suggest a full-fledged retreat from the area as the Trump administration slashes the federal workforce. Some observers even think the 2025 spring season might be one not seen in a number of years: an almost normal housing market, as close to evenly balanced between buyers and sellers as anything we've seen in a while. Forecast for 2025 home sales\n",
            "\n",
            "Selma Hepp, chief economist with Cotality, the real estate data provider formerly known as CoreLogic, forecast 2025 home sales would be “slightly above” the pace set in 2024.\n",
            "\n",
            "================================================================================\n",
            "\n",
            "\n",
            "## Major mergers and acquisitions\n",
            "================================================================================\n",
            "\n",
            "1. LexRank Summary:\n",
            "----------------------------------------\n",
            "Meanwhile, General Insurance reported €49.8 million in general insurance premiums, representing 11.1 per cent of the market, maintaining their position as industry leaders. This month, several event marketing agencies and DMCs have announced major mergers and acquisitions as they seek to increase their market share, expand their global reach, strengthen their capabilities, and broaden their client services. According to Impact XM officials, the combination of Touch’s strategic event expertise with Impact XM’s experiential marketing capabilities will serve to create a powerhouse of talent, resources, and production infrastructure that will benefit clients with an expanded suite of services, seamless global execution, and a unified approach to crafting innovative and immersive brand engagements.\n",
            "\n",
            "2. Topic-Based Summary:\n",
            "----------------------------------------\n",
            "The case — Federal Trade Commission v. Meta Platforms — will for the first time try to stretch theories of U.S. antitrust law to include what regulators are calling a “buy or bury” strategy. The outcome of what is expected to be a multiweek trial, the first major tech case prosecuted by the Trump administration, could reshape the U.S. antitrust landscape as companies face intense scrutiny over mergers and acquisitions. The D.O.J. For Meta, even the idea of hiving off Instagram and WhatsApp is alarming. “Tag’s innovative digital marketing expertise is the perfect complement to mdg’s strategy and integrated marketing offerings, enhancing our ability to deliver impactful strategies and expand into key global markets like EMEA and APAC,” said mdg President Kimberly Hardcastle.\n",
            "\n",
            "3. Weighted Summary:\n",
            "----------------------------------------\n",
            "Freeman Acquires Tag Digital\n",
            "\n",
            "Global event company Freeman has acquired UK-based full-service digital marketing agency Tag Digital, specializing in innovative solutions for event organizers in Europe, the Middle East, and Africa (EMEA), Asia-Pacific (APAC)[TD1] , and North America. “By combining best-in-class digital marketing capabilities and leveraging AI-driven tools, mdg is positioned as the go-to agency for strategies that engage today’s attendees while setting events up for sustained growth,” said Janet Dell, CEO of Freeman. “Tag’s innovative digital marketing expertise is the perfect complement to mdg’s strategy and integrated marketing offerings, enhancing our ability to deliver impactful strategies and expand into key global markets like EMEA and APAC,” said mdg President Kimberly Hardcastle. “We’re excited to embark on this next chapter together.”\n",
            "\n",
            "Impact XM Scoops Up UK-Based Touch Associates\n",
            "\n",
            "Global experiential marketing agency Impact XM has acquired Touch Associates, a UK-based B2B brand experience agency.\n",
            "\n",
            "================================================================================\n"
          ]
        }
      ]
    }
  ],
  "metadata": {
    "language_info": {
      "name": "python"
    },
    "colab": {
      "provenance": []
    },
    "kernelspec": {
      "name": "python3",
      "display_name": "Python 3"
    }
  },
  "nbformat": 4,
  "nbformat_minor": 0
}