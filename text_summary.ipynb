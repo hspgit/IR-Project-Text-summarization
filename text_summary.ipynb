{
  "cells": [
    {
      "cell_type": "code",
      "execution_count": null,
      "metadata": {
        "id": "zsUhS_jRHm4d"
      },
      "outputs": [],
      "source": [
        "#testing google colab commit"
      ]
    },
    {
      "cell_type": "code",
      "source": [
        "!pip3 install duckduckgo-search newspaper4k lxml_html_clean\n",
        "\n",
        "# !pip3 install --upgrade --quiet duckduckgo-search\n",
        "# use this if rate limit is reached"
      ],
      "metadata": {
        "colab": {
          "base_uri": "https://localhost:8080/"
        },
        "id": "s0u1wjPCXzGa",
        "outputId": "7e52c371-5920-4277-e524-8e283dc4e320"
      },
      "execution_count": 3,
      "outputs": [
        {
          "output_type": "stream",
          "name": "stdout",
          "text": [
            "Collecting duckduckgo-search\n",
            "  Downloading duckduckgo_search-8.0.0-py3-none-any.whl.metadata (16 kB)\n",
            "Collecting newspaper4k\n",
            "  Downloading newspaper4k-0.9.3.1-py3-none-any.whl.metadata (14 kB)\n",
            "Collecting lxml_html_clean\n",
            "  Downloading lxml_html_clean-0.4.2-py3-none-any.whl.metadata (2.4 kB)\n",
            "Requirement already satisfied: click>=8.1.8 in /usr/local/lib/python3.11/dist-packages (from duckduckgo-search) (8.1.8)\n",
            "Collecting primp>=0.14.0 (from duckduckgo-search)\n",
            "  Downloading primp-0.14.0-cp38-abi3-manylinux_2_17_x86_64.manylinux2014_x86_64.whl.metadata (13 kB)\n",
            "Requirement already satisfied: lxml>=5.3.0 in /usr/local/lib/python3.11/dist-packages (from duckduckgo-search) (5.3.2)\n",
            "Requirement already satisfied: Pillow>=4.0.0 in /usr/local/lib/python3.11/dist-packages (from newspaper4k) (11.1.0)\n",
            "Requirement already satisfied: PyYAML>=5.1 in /usr/local/lib/python3.11/dist-packages (from newspaper4k) (6.0.2)\n",
            "Requirement already satisfied: beautifulsoup4>=4.9.3 in /usr/local/lib/python3.11/dist-packages (from newspaper4k) (4.13.3)\n",
            "Collecting feedparser>=6.0.0 (from newspaper4k)\n",
            "  Downloading feedparser-6.0.11-py3-none-any.whl.metadata (2.4 kB)\n",
            "Requirement already satisfied: nltk>=3.6.6 in /usr/local/lib/python3.11/dist-packages (from newspaper4k) (3.9.1)\n",
            "Requirement already satisfied: numpy>=1.25 in /usr/local/lib/python3.11/dist-packages (from newspaper4k) (2.0.2)\n",
            "Requirement already satisfied: pandas>=2.1.0 in /usr/local/lib/python3.11/dist-packages (from newspaper4k) (2.2.2)\n",
            "Requirement already satisfied: python-dateutil>=2.6.1 in /usr/local/lib/python3.11/dist-packages (from newspaper4k) (2.8.2)\n",
            "Requirement already satisfied: requests>=2.26.0 in /usr/local/lib/python3.11/dist-packages (from newspaper4k) (2.32.3)\n",
            "Collecting tldextract>=2.0.1 (from newspaper4k)\n",
            "  Downloading tldextract-5.2.0-py3-none-any.whl.metadata (11 kB)\n",
            "Requirement already satisfied: soupsieve>1.2 in /usr/local/lib/python3.11/dist-packages (from beautifulsoup4>=4.9.3->newspaper4k) (2.6)\n",
            "Requirement already satisfied: typing-extensions>=4.0.0 in /usr/local/lib/python3.11/dist-packages (from beautifulsoup4>=4.9.3->newspaper4k) (4.13.1)\n",
            "Collecting sgmllib3k (from feedparser>=6.0.0->newspaper4k)\n",
            "  Downloading sgmllib3k-1.0.0.tar.gz (5.8 kB)\n",
            "  Preparing metadata (setup.py) ... \u001b[?25l\u001b[?25hdone\n",
            "Requirement already satisfied: joblib in /usr/local/lib/python3.11/dist-packages (from nltk>=3.6.6->newspaper4k) (1.4.2)\n",
            "Requirement already satisfied: regex>=2021.8.3 in /usr/local/lib/python3.11/dist-packages (from nltk>=3.6.6->newspaper4k) (2024.11.6)\n",
            "Requirement already satisfied: tqdm in /usr/local/lib/python3.11/dist-packages (from nltk>=3.6.6->newspaper4k) (4.67.1)\n",
            "Requirement already satisfied: pytz>=2020.1 in /usr/local/lib/python3.11/dist-packages (from pandas>=2.1.0->newspaper4k) (2025.2)\n",
            "Requirement already satisfied: tzdata>=2022.7 in /usr/local/lib/python3.11/dist-packages (from pandas>=2.1.0->newspaper4k) (2025.2)\n",
            "Requirement already satisfied: six>=1.5 in /usr/local/lib/python3.11/dist-packages (from python-dateutil>=2.6.1->newspaper4k) (1.17.0)\n",
            "Requirement already satisfied: charset-normalizer<4,>=2 in /usr/local/lib/python3.11/dist-packages (from requests>=2.26.0->newspaper4k) (3.4.1)\n",
            "Requirement already satisfied: idna<4,>=2.5 in /usr/local/lib/python3.11/dist-packages (from requests>=2.26.0->newspaper4k) (3.10)\n",
            "Requirement already satisfied: urllib3<3,>=1.21.1 in /usr/local/lib/python3.11/dist-packages (from requests>=2.26.0->newspaper4k) (2.3.0)\n",
            "Requirement already satisfied: certifi>=2017.4.17 in /usr/local/lib/python3.11/dist-packages (from requests>=2.26.0->newspaper4k) (2025.1.31)\n",
            "Collecting requests-file>=1.4 (from tldextract>=2.0.1->newspaper4k)\n",
            "  Downloading requests_file-2.1.0-py2.py3-none-any.whl.metadata (1.7 kB)\n",
            "Requirement already satisfied: filelock>=3.0.8 in /usr/local/lib/python3.11/dist-packages (from tldextract>=2.0.1->newspaper4k) (3.18.0)\n",
            "Downloading duckduckgo_search-8.0.0-py3-none-any.whl (18 kB)\n",
            "Downloading newspaper4k-0.9.3.1-py3-none-any.whl (296 kB)\n",
            "\u001b[2K   \u001b[90m━━━━━━━━━━━━━━━━━━━━━━━━━━━━━━━━━━━━━━━━\u001b[0m \u001b[32m296.6/296.6 kB\u001b[0m \u001b[31m9.6 MB/s\u001b[0m eta \u001b[36m0:00:00\u001b[0m\n",
            "\u001b[?25hDownloading lxml_html_clean-0.4.2-py3-none-any.whl (14 kB)\n",
            "Downloading feedparser-6.0.11-py3-none-any.whl (81 kB)\n",
            "\u001b[2K   \u001b[90m━━━━━━━━━━━━━━━━━━━━━━━━━━━━━━━━━━━━━━━━\u001b[0m \u001b[32m81.3/81.3 kB\u001b[0m \u001b[31m7.4 MB/s\u001b[0m eta \u001b[36m0:00:00\u001b[0m\n",
            "\u001b[?25hDownloading primp-0.14.0-cp38-abi3-manylinux_2_17_x86_64.manylinux2014_x86_64.whl (3.3 MB)\n",
            "\u001b[2K   \u001b[90m━━━━━━━━━━━━━━━━━━━━━━━━━━━━━━━━━━━━━━━━\u001b[0m \u001b[32m3.3/3.3 MB\u001b[0m \u001b[31m50.2 MB/s\u001b[0m eta \u001b[36m0:00:00\u001b[0m\n",
            "\u001b[?25hDownloading tldextract-5.2.0-py3-none-any.whl (106 kB)\n",
            "\u001b[2K   \u001b[90m━━━━━━━━━━━━━━━━━━━━━━━━━━━━━━━━━━━━━━━━\u001b[0m \u001b[32m106.3/106.3 kB\u001b[0m \u001b[31m9.0 MB/s\u001b[0m eta \u001b[36m0:00:00\u001b[0m\n",
            "\u001b[?25hDownloading requests_file-2.1.0-py2.py3-none-any.whl (4.2 kB)\n",
            "Building wheels for collected packages: sgmllib3k\n",
            "  Building wheel for sgmllib3k (setup.py) ... \u001b[?25l\u001b[?25hdone\n",
            "  Created wheel for sgmllib3k: filename=sgmllib3k-1.0.0-py3-none-any.whl size=6046 sha256=92077276ec351f574b5605b3e4d70f57aa6a3feb6409bbf73f9a4116df084646\n",
            "  Stored in directory: /root/.cache/pip/wheels/3b/25/2a/105d6a15df6914f4d15047691c6c28f9052cc1173e40285d03\n",
            "Successfully built sgmllib3k\n",
            "Installing collected packages: sgmllib3k, primp, lxml_html_clean, feedparser, requests-file, duckduckgo-search, tldextract, newspaper4k\n",
            "Successfully installed duckduckgo-search-8.0.0 feedparser-6.0.11 lxml_html_clean-0.4.2 newspaper4k-0.9.3.1 primp-0.14.0 requests-file-2.1.0 sgmllib3k-1.0.0 tldextract-5.2.0\n"
          ]
        }
      ]
    },
    {
      "cell_type": "code",
      "source": [
        "import requests\n",
        "import json\n",
        "\n",
        "target_summaries_url = \"https://raw.githubusercontent.com/hspgit/IR-Project-Text-summarization/main/target.json\"\n",
        "\n",
        "# Fetch the JSON data from the URL\n",
        "response = requests.get(target_summaries_url)\n",
        "response.raise_for_status()  # Raise an exception for bad responses (4xx or 5xx)\n",
        "\n",
        "# Load the JSON data into a Python dictionary\n",
        "target_summaries = json.loads(response.text)\n",
        "\n",
        "# Now you can access the data within the target_summaries dictionary\n",
        "print(target_summaries)  # Print the loaded JSON data"
      ],
      "metadata": {
        "colab": {
          "base_uri": "https://localhost:8080/"
        },
        "id": "oLz4YNTL2ll2",
        "outputId": "7c9affcc-f13c-409f-85f7-1c24677c3aad"
      },
      "execution_count": 1,
      "outputs": [
        {
          "output_type": "stream",
          "name": "stdout",
          "text": [
            "[{'query': 'Global economic outlook', 'summary': 'The global economic outlook for 2025 is marked by slowing growth, persistent inflation, and heightened uncertainty due to shifting trade policies and geopolitical tensions. According to the OECD, global GDP growth is projected to slow to 3.1% in 2025 and 3.0% in 2026, with the United States expected to grow at 2.2% in 2025 before decelerating, and the euro area at just 1.0%. China’s growth is also forecast to slow, reflecting broader weakness in domestic demand. Inflation remains above target in many economies, with G20 headline inflation projected at 3.8% in 2025. The World Bank notes that emerging markets and developing economies face weak investment, productivity challenges, and climate risks, with most low-income countries unlikely to reach middle-income status by 2050. Policy action is needed to foster stability, address debt, and accelerate sustainable development amid these headwinds.[2][9]'}, {'query': 'US presidential election updates', 'summary': 'The 2024 United States presidential election, held on November 5, 2024, resulted in a victory for the Republican ticket of Donald Trump and JD Vance over the Democratic ticket of Kamala Harris and Tim Walz. Trump, the former president, returned to office after defeating Harris, who became the Democratic nominee following Joe Biden’s withdrawal due to concerns about his age and health. The election saw a voter turnout of 64.1%. Key issues included abortion rights, healthcare, immigration, and foreign policy, with Harris supporting expanded social programs and continued aid to Ukraine and Israel, while Trump emphasized border security and a more isolationist stance. The results reflected a divided electorate, with Trump winning key swing states and the Electoral College majority. The outcome is expected to shape U.S. domestic and international policy directions for the next four years, amid ongoing debates over democracy and governance.[3]'}, {'query': 'Climate change and extreme weather events', 'summary': 'Extreme weather events have become one of the top global risks, ranking first among environmental threats in the World Economic Forum’s Global Risks Report 2025. In 2024, the world experienced record-breaking temperatures, with the World Meteorological Organization confirming it as the hottest year on record. Catastrophic flooding, wildfires, and prolonged droughts displaced millions and caused over $320 billion in economic losses—nearly 40% higher than the decade average. The human toll is severe, with more than 20 million people displaced annually by climate-related disasters, disproportionately affecting vulnerable communities in the Global South. The escalating frequency and severity of these events underscore the urgent need for climate adaptation to become central in policy discussions. Without decisive action, the costs—both financial and human—will continue to rise, deepening global inequities and threatening the stability of economies and societies worldwide.[4]'}, {'query': 'Advances in artificial intelligence', 'summary': 'Artificial intelligence (AI) is rapidly evolving in 2025, becoming an integral part of both work and daily life. AI-powered agents are gaining greater autonomy, simplifying complex tasks, and accelerating scientific breakthroughs. Notably, AI-driven protein simulation systems are enabling researchers to solve previously intractable biomolecular science problems, fueling advances in drug discovery, sustainable materials, and human health. Microsoft Research’s AI2BMD, for example, has revolutionized protein dynamics simulations, expediting biomedical research. The impact of AI extends to weather forecasting, supercomputing, and the development of new sustainable technologies. As AI tools become more accessible, their measurable impact on productivity and innovation is expected to grow, helping address some of the world’s most pressing challenges. In 2025, the continued integration of AI into research and industry is unlocking new potential for organizations and individuals, driving global progress and transformation across sectors.[5]'}, {'query': 'Major tech company earnings reports', 'summary': 'NVIDIA reported record financial results for the fourth quarter and fiscal year ending January 26, 2025, highlighting the company’s dominant position in the AI and semiconductor markets. Quarterly revenue reached $39.3 billion, up 12% from the previous quarter and 78% year-over-year. Net income soared to $22.1 billion, an 80% increase from the prior year. The company’s gross margin remained strong at 73%, despite a slight decline from previous quarters. Operating expenses rose due to increased investment in research and development. NVIDIA’s performance reflects surging demand for AI chips and data center products, with the company continuing to outpace competitors in innovation and market share. The results underscore the broader trend of robust earnings among major tech firms, driven by AI adoption, cloud computing, and digital transformation. NVIDIA’s outlook remains positive, with continued growth expected in 2025 as AI technologies proliferate across industries.[6]'}, {'query': 'International conflict and peace negotiations', 'summary': 'In 2025, international conflict and peace negotiations remain at the forefront of global affairs. The war in Ukraine continues, with global leaders calling for direct dialogue between Ukraine and Russia to expedite an end to hostilities. The United States is involved in negotiations, including discussions over rare earth extraction in exchange for military and financial aid to Ukraine. In the Middle East, a temporary ceasefire was established between Israel and Hamas in January 2025, with long-term peace prospects tied to the recognition of Palestine as an independent state. Tensions in the Taiwan Strait have escalated, with increased naval activity from China, the U.S., Germany, and Canada. These developments highlight the complexity of modern conflicts, where diplomatic efforts, resource negotiations, and military posturing intersect. The international community continues to seek durable solutions, but progress is slow amid competing interests and ongoing instability.[7]'}, {'query': 'COVID-19 pandemic developments', 'summary': 'Five years after the first confirmed COVID-19 case, the world in 2025 has adapted to living with the virus. Multiple variants have emerged, but widespread vaccination—over 70% of the global population has received at least one dose—has reduced severe cases and mortality. Updated boosters targeting Omicron subvariants are widely available, and most new infections are milder. Testing remains a key tool for managing outbreaks, and public health measures are now more targeted and less disruptive. While COVID-19 is no longer a global emergency, it continues to pose challenges, especially for vulnerable populations and healthcare systems. Ongoing surveillance and vaccine updates are necessary to address new variants. The pandemic has also accelerated innovation in diagnostics, telemedicine, and public health infrastructure, leaving a lasting impact on how societies respond to infectious diseases and health crises.[8]'}, {'query': 'Renewable energy breakthroughs', 'summary': 'In 2025, renewable energy is set to reach new milestones, with global investment in clean energy technology surpassing upstream oil and gas for the first time. Solar and wind power are leading the charge, with solar PV accounting for half of all cleantech investments and two-thirds of new installed capacity. The integration of artificial intelligence is revolutionizing renewable generation forecasting and grid planning, improving efficiency and reliability. Small modular nuclear reactors are also gaining traction, offering flexible, low-carbon power options. Major events like the Energy Tech Summit and Solar & Storage Live are showcasing innovations in storage, hydrogen, and hybrid systems. China and the European Union are accelerating deployment, while the U.S. and other regions focus on domestic supply chains and advanced grid management. These breakthroughs are driving the transition to a more sustainable, resilient, and cost-effective global energy system, despite ongoing challenges in policy, regulation, and infrastructure.[2][4][6][7][9]'}, {'query': 'Stock market trends and analysis', 'summary': 'The 2025 stock market is marked by heightened volatility and uncertainty, driven by shifting U.S. trade policies, persistent inflation, and global economic headwinds. President Trump’s tariffs have rattled markets, causing sharp swings in the S&P 500 and widening the gap between bullish and bearish forecasts. While some analysts expect modest gains, others predict a slight decline or even a near-term recession. Value stocks are outperforming growth stocks, and international equities are leading U.S. markets for the first time in years. Investors are watching credit spreads and bond yields for signs of economic trouble, while earnings estimates for the S&P 500 are likely to be revised downward as the year progresses. Despite these challenges, investor sentiment remains cautiously optimistic, with long-term return expectations still above 6%. The market’s direction will depend on policy decisions, inflation trends, and the resolution of trade disputes.[10][11][13][14][15][16][17]'}, {'query': 'Major sports event highlights', 'summary': '2025 is a packed year for global sports, featuring major events across disciplines. The calendar includes the World Games in Chengdu, the Invictus Games in Vancouver and Whistler, and the Summer and Winter World University Games. Football fans can look forward to the UEFA Women’s Euros in Switzerland, the FIFA Club World Cup in the USA, and the African Cup of Nations in Morocco. Tennis grand slams like the Australian Open, French Open, Wimbledon, and US Open will draw global attention, while cycling’s Tour de France and Tour de France Femmes showcase endurance and strategy. The IFSC Sport Climbing World Cup introduces new host cities and a revamped scoring system, and the World Aquatics Championships take place in Singapore. These events, alongside annual highlights like the Super Bowl, NBA Finals, and major golf tournaments, promise a year of thrilling competition and memorable moments for sports fans worldwide.[18][19][20]'}, {'query': 'Space exploration and discoveries', 'summary': '2025 is a landmark year for space exploration, with a surge in missions from both public and private sectors. NASA’s SPHEREx mission will map the universe in near-infrared, while the Lucy spacecraft flies by asteroid Donaldjohanson. The European Space Agency’s Space Rider will conduct microgravity experiments, and China’s Tianwen-2 will attempt to collect samples from a near-Earth asteroid. Private companies like ispace and Astrobotic are planning lunar landings, and SpaceX continues its record-breaking Falcon 9 launch cadence, expanding Starlink’s reach. The Artemis program prepares for future crewed lunar missions, and new rocket technologies like Blue Origin’s New Glenn debut. These missions aim to advance our understanding of the solar system, test new technologies, and lay the groundwork for future human exploration of the Moon and Mars. The year also features celestial events like meteor showers and planetary alignments, captivating both scientists and the public.[21][22][24][25][26][27][28]'}, {'query': 'Cybersecurity threats and data breaches', 'summary': 'Cybersecurity threats in 2025 are more sophisticated and widespread than ever, with ransomware, AI-powered attacks, and supply chain vulnerabilities dominating the landscape. March and February saw a surge in high-profile breaches affecting organizations like Oracle, NYU, and NTT Communications, as well as millions of individuals through stalkerware and healthcare data leaks. The U.S. Treasury’s OCC reported a major incident involving 150,000 emails, and the Coinbase supply chain attack exposed secrets in hundreds of repositories. AI is both a tool for defense and a new attack vector, with only a minority of organizations having safeguards in place. Regulatory fragmentation and a growing cyber talent shortage add to the challenges. The World Economic Forum’s 2025 outlook highlights the need for robust incident response, continuous testing, and international cooperation to address the evolving threat landscape and protect sensitive data across sectors.[29][30][31][32][33][34][35]'}, {'query': 'Healthcare policy changes', 'summary': 'Healthcare policy in 2025 is shaped by regulatory updates, funding debates, and the expiration of pandemic-era flexibilities. The Centers for Medicare & Medicaid Services (CMS) released the 2026 MA and Part D Final Rule, focusing on prior authorization, appeals, and cost-sharing for vaccines and insulin. Telehealth and hospital-at-home waivers are set to expire, prompting calls for permanent solutions. The American Hospital Association and other groups are lobbying for the extension of premium tax credits and telehealth flexibilities, while site-neutral payment policies and transparency measures are under consideration. The new administration’s budget negotiations may impact funding for key programs, and the expiration of tax provisions could increase health-related expenditures. The World Health Organization’s 2025–2028 strategy emphasizes health equity, resilience, and universal coverage. Policymakers face the challenge of balancing cost, access, and innovation in a rapidly changing healthcare landscape.[36][37][38][39][40][41][42][43]'}, {'query': 'Immigration and border policy news', 'summary': 'In 2025, immigration and border policy remain contentious issues in the United States and globally. The U.S. administration has implemented stricter border controls, increased deportations, and expanded the use of technology for surveillance and enforcement. Legal challenges to asylum policies and humanitarian concerns at the southern border persist, with advocacy groups calling for comprehensive reform. Internationally, the European Union is grappling with migration flows from conflict zones and climate-affected regions, leading to debates over burden-sharing and border security. The United Kingdom and Australia are also revising their immigration frameworks to address labor shortages and security risks. These policy shifts reflect broader trends of rising nationalism, economic uncertainty, and the impact of global crises on migration patterns. The ongoing debate centers on balancing national security, economic needs, and human rights, with significant implications for migrants, refugees, and host communities.'}, {'query': 'Education reform and school closures', 'summary': 'Education reform in 2025 is driven by the need to address learning loss from the COVID-19 pandemic, adapt to technological change, and ensure equitable access. Many countries are investing in digital infrastructure, teacher training, and curriculum updates to prepare students for a rapidly evolving workforce. School closures due to natural disasters, public health emergencies, or budget constraints continue to disrupt learning, particularly in vulnerable communities. Policymakers are exploring hybrid and remote learning models, as well as targeted interventions to support at-risk students. Debates over standardized testing, funding formulas, and school choice remain central to reform efforts. The focus is on building resilient education systems that can withstand future shocks, promote inclusion, and foster lifelong learning. International organizations are calling for increased investment and collaboration to achieve global education goals and reduce disparities exacerbated by recent crises.'}, {'query': 'Natural disasters and humanitarian response', 'summary': '2025 has seen a rise in natural disasters, including record-breaking floods, wildfires, hurricanes, and earthquakes, driven by climate change and urbanization. These events have displaced millions, strained emergency services, and caused billions in economic losses. Humanitarian organizations are responding with rapid deployment of aid, improved early warning systems, and innovative technologies for disaster management. The focus is on building resilience in vulnerable communities, strengthening infrastructure, and enhancing coordination among governments, NGOs, and international agencies. Climate adaptation and risk reduction are central to policy discussions, with calls for increased funding and global cooperation. The escalating frequency and severity of disasters underscore the need for proactive measures to protect lives, livelihoods, and ecosystems. The humanitarian sector is also addressing challenges related to access, security, and the long-term recovery of affected populations.'}, {'query': 'Major legal cases and court rulings', 'summary': 'Major legal cases and court rulings in 2025 are shaping national and international landscapes. In the United States, the Supreme Court is addressing issues related to abortion rights, affirmative action, and executive authority, with decisions expected to have far-reaching implications. High-profile criminal trials involving political figures, corporate executives, and public officials are drawing public attention and sparking debates over accountability and the rule of law. Internationally, courts are adjudicating cases on human rights, environmental protection, and cross-border disputes, reflecting the growing complexity of global governance. Legal challenges to new technologies, data privacy, and intellectual property are also on the rise, as courts grapple with the implications of rapid innovation. These rulings are influencing policy, business practices, and social norms, highlighting the judiciary’s critical role in addressing contemporary challenges.'}, {'query': 'Celebrity news and entertainment industry updates', 'summary': 'The entertainment industry in 2025 is experiencing significant transformation, driven by technological innovation, shifting consumer preferences, and the aftermath of the pandemic. Streaming platforms continue to dominate, with major studios investing in original content and global expansion. Celebrity news is shaped by high-profile collaborations, social media trends, and advocacy on social and political issues. Award shows and film festivals are adapting to hybrid formats, while the music industry sees a resurgence in live events and virtual concerts. Legal battles over intellectual property, contract disputes, and privacy rights are making headlines. The industry is also addressing calls for greater diversity, equity, and inclusion, both on and off screen. As audiences seek authentic and engaging experiences, creators and performers are leveraging new platforms and technologies to connect with fans and shape cultural conversations.'}, {'query': 'Scientific research breakthroughs', 'summary': '2025 is a year of remarkable scientific breakthroughs across disciplines. In medicine, advances in gene editing, personalized therapies, and vaccine development are improving outcomes for a range of diseases. Artificial intelligence and machine learning are accelerating discoveries in drug development, climate modeling, and materials science. Space exploration missions are yielding new insights into the origins of the solar system and the potential for life beyond Earth. Renewable energy research is driving progress in storage, efficiency, and grid integration, supporting the global transition to sustainability. Collaboration between academia, industry, and government is fostering innovation and addressing complex challenges, from pandemic preparedness to food security. Open science initiatives and data sharing are enhancing transparency and reproducibility, while ethical considerations and regulatory frameworks are evolving to keep pace with rapid technological change.'}, {'query': 'Trade agreements and tariffs', 'summary': 'Trade policy in 2025 is characterized by heightened tensions, new agreements, and shifting alliances. The United States has implemented sweeping tariffs on imports, sparking retaliation from major trading partners and increasing uncertainty for businesses and consumers. Negotiations over free trade agreements are ongoing, with countries seeking to protect strategic industries and secure access to critical resources. The European Union is advancing digital trade and green technology standards, while China is focusing on regional partnerships and supply chain resilience. Disputes over intellectual property, data flows, and environmental regulations are central to trade talks. The impact of tariffs is being felt across sectors, with some industries benefiting from protectionist measures and others facing higher costs and disrupted supply chains. Policymakers are balancing economic growth, national security, and global cooperation in a rapidly changing trade environment.'}, {'query': 'Cryptocurrency market movements', 'summary': 'The cryptocurrency market in 2025 is experiencing significant volatility, driven by regulatory developments, technological innovation, and shifting investor sentiment. Major cryptocurrencies like Bitcoin and Ethereum have seen sharp price swings, influenced by central bank policies, macroeconomic trends, and high-profile security breaches. Governments are introducing new regulations to address concerns over money laundering, consumer protection, and financial stability, leading to increased compliance costs for exchanges and service providers. The rise of central bank digital currencies and stablecoins is reshaping the competitive landscape, while decentralized finance (DeFi) platforms continue to attract users seeking alternative investment opportunities. Security remains a top concern, with a series of high-profile hacks and scams highlighting the need for robust safeguards. Despite these challenges, blockchain technology is gaining traction in sectors like supply chain management, healthcare, and digital identity.'}, {'query': 'Social justice protests and movements', 'summary': 'Social justice movements in 2025 are mobilizing around issues of racial equality, gender rights, climate justice, and economic inclusion. Protests and advocacy campaigns are leveraging digital platforms to organize, raise awareness, and influence policy. High-profile incidents of discrimination, police violence, and environmental injustice have sparked widespread demonstrations and calls for systemic change. Governments and institutions are responding with a mix of reforms, dialogue, and, in some cases, crackdowns on dissent. The intersection of social justice with technology, labor rights, and environmental sustainability is shaping new alliances and strategies. Grassroots organizations are playing a critical role in advancing equity and holding leaders accountable. The global nature of these movements reflects shared challenges and aspirations, as communities demand greater transparency, accountability, and participation in decision-making processes.'}, {'query': 'Transportation and infrastructure projects', 'summary': '2025 is a pivotal year for transportation and infrastructure, with governments investing in modernization, sustainability, and resilience. Major projects include the expansion of high-speed rail networks, upgrades to public transit systems, and the deployment of electric vehicle charging infrastructure. Smart city initiatives are integrating digital technologies to improve mobility, safety, and efficiency. The transition to low-carbon transportation is accelerating, supported by incentives for electric vehicles, alternative fuels, and active transportation modes like cycling and walking. Infrastructure spending is also focused on climate adaptation, with investments in flood protection, resilient roads, and green spaces. Public-private partnerships are playing a key role in financing and delivering large-scale projects. Challenges remain in securing funding, navigating regulatory hurdles, and ensuring equitable access, but the momentum for transformative infrastructure is strong.'}, {'query': 'Consumer technology product launches', 'summary': 'The consumer technology landscape in 2025 is defined by innovation in artificial intelligence, connectivity, and user experience. Major companies are launching next-generation smartphones, wearables, and smart home devices with enhanced AI capabilities, improved battery life, and seamless integration across platforms. Virtual and augmented reality products are gaining traction, offering immersive experiences for gaming, education, and remote collaboration. Health and wellness technologies, including advanced fitness trackers and telemedicine tools, are becoming mainstream. Sustainability is a growing focus, with manufacturers adopting eco-friendly materials and energy-efficient designs. Security and privacy features are being prioritized in response to rising cyber threats. The competitive market is driving rapid product cycles and continuous improvement, as consumers seek devices that enhance productivity, entertainment, and quality of life.'}, {'query': 'Environmental conservation efforts', 'summary': 'Environmental conservation in 2025 is at the forefront of global policy and community action. Governments, NGOs, and businesses are collaborating to protect biodiversity, restore ecosystems, and combat climate change. Major initiatives include reforestation projects, marine conservation, and the expansion of protected areas. Advances in technology are enabling better monitoring and management of natural resources, while citizen science and community engagement are driving grassroots efforts. The integration of conservation with sustainable development is gaining momentum, as stakeholders recognize the links between environmental health, economic prosperity, and social well-being. Challenges such as habitat loss, pollution, and overexploitation persist, but innovative financing mechanisms and international agreements are supporting progress. The urgency of the climate crisis is galvanizing action and fostering a sense of shared responsibility for the planet’s future.'}, {'query': 'Government corruption investigations', 'summary': 'Government corruption investigations in 2025 are making headlines worldwide, with high-profile cases exposing misuse of public funds, bribery, and abuse of power. Anti-corruption agencies and independent watchdogs are leveraging digital tools and data analytics to uncover complex schemes and hold officials accountable. Whistleblower protections and transparency initiatives are being strengthened, though challenges remain in ensuring effective enforcement and safeguarding against retaliation. International cooperation is increasing, as cross-border investigations target money laundering and illicit financial flows. Public demand for integrity and accountability is driving reforms in procurement, campaign finance, and conflict-of-interest regulations. The outcomes of these investigations are influencing public trust, political stability, and the effectiveness of governance, highlighting the ongoing struggle to combat corruption and promote ethical leadership.'}, {'query': 'Public health advisories and outbreaks', 'summary': 'Public health in 2025 is shaped by ongoing vigilance against infectious diseases, the legacy of the COVID-19 pandemic, and emerging threats. Health authorities are issuing advisories on seasonal influenza, respiratory viruses, and localized outbreaks of diseases like measles and dengue. Vaccination campaigns and public education efforts are central to prevention, while advances in diagnostics and surveillance are enabling faster detection and response. The World Health Organization’s 2025–2028 strategy emphasizes health equity, resilience, and preparedness for future pandemics. Climate change, urbanization, and global mobility are increasing the risk of zoonotic diseases and antimicrobial resistance. Collaboration between governments, international organizations, and the private sector is critical to strengthening health systems and protecting vulnerable populations. The focus is on proactive measures, rapid containment, and building public trust in health interventions.'}, {'query': 'International trade disputes', 'summary': 'International trade disputes in 2025 are intensifying, with major economies imposing tariffs, challenging subsidies, and contesting digital trade rules. The United States, European Union, and China are at the center of many disputes, as they seek to protect strategic industries and assert regulatory standards. The World Trade Organization is under pressure to adapt to new challenges, including e-commerce, intellectual property, and environmental regulations. Regional trade agreements are being renegotiated to address supply chain resilience and market access. The impact of these disputes is being felt across sectors, with businesses facing higher costs, uncertainty, and shifting investment patterns. Policymakers are balancing national interests with the need for global cooperation, as trade tensions threaten economic growth and stability. The resolution of key disputes will shape the future of the global trading system.'}, {'query': 'Housing market trends', 'summary': 'The U.S. housing market in 2025 continues to show resilience, with home prices rising 4.5% from Q4 2023 to Q4 2024, outpacing both GDP growth and inflation. However, the market is highly regional: states like Connecticut, New Jersey, and Wyoming lead in price growth, driven by low inventory and high-income buyers, while other areas are cooling off. Inventory has increased for 17 consecutive months, with new listings up over 10% year-over-year in March 2025, yet still below pre-pandemic levels. Elevated mortgage rates and economic uncertainty are keeping some buyers and sellers on the sidelines, and stock market volatility is expected to impact home sales. The market has shifted toward higher-priced homes, pricing out many first-time buyers and leading to record-high down payments. Overall, while the market remains strong in some regions, affordability and inventory challenges persist, shaping the outlook for the rest of 2025'}, {'query': 'Major mergers and acquisitions', 'summary': 'The mergers and acquisitions (M&A) landscape in 2025 is marked by a resurgence in megadeals and strategic consolidations across sectors. Key drivers include companies seeking growth through transformation, the accelerating impact of artificial intelligence, and private equity firms under pressure to exit mature investments. Notable deals include Synopsys’ $35 billion acquisition of ANSYS, Hewlett Packard Enterprise’s $14 billion purchase of Juniper Networks, and Diamondback Energy’s $26 billion merger with Endeavor Energy Partners. The regulatory environment is becoming more favorable, encouraging dealmaking, though uncertainties remain around tariffs and global economic policy. Recent months have seen a flurry of activity in technology, healthcare, and energy, with transactions such as Johnson & Johnson’s acquisition of Shockwave Medical and T-Mobile’s purchase of US Cellular assets. As companies adapt to a changing economic landscape, M&A remains a critical strategy for innovation, market expansion, and long-term growth'}]\n"
          ]
        }
      ]
    },
    {
      "cell_type": "code",
      "source": [
        "import json\n",
        "import time\n",
        "from duckduckgo_search import DDGS\n",
        "import requests\n",
        "import os\n",
        "\n",
        "def get_news_for_query(query, max_results=10):\n",
        "    \"\"\"Fetch news results for a single query\"\"\"\n",
        "    try:\n",
        "        ddgs = DDGS()\n",
        "        results = list(ddgs.news(\n",
        "            keywords=query,\n",
        "            region=\"us-en\",\n",
        "            safesearch=\"off\",\n",
        "            timelimit=\"m\",\n",
        "            max_results=max_results\n",
        "        ))\n",
        "\n",
        "        # Extract just the URLs\n",
        "        urls = [item['url'] for item in results]\n",
        "        return urls\n",
        "\n",
        "    except Exception as e:\n",
        "        print(f\"Error searching for '{query}': {str(e)}\")\n",
        "        return []\n",
        "\n",
        "def main():\n",
        "    # Detect if running in Colab\n",
        "    in_colab = 'google.colab' in str(get_ipython())\n",
        "\n",
        "    # Fetch the target summaries\n",
        "    target_summaries_url = \"https://raw.githubusercontent.com/hspgit/IR-Project-Text-summarization/main/target.json\"\n",
        "    response = requests.get(target_summaries_url)\n",
        "    response.raise_for_status()\n",
        "    target_summaries = json.loads(response.text)\n",
        "\n",
        "    # Dictionary to store query -> URLs mapping\n",
        "    query_urls = {}\n",
        "\n",
        "    # Process each query in the target summaries\n",
        "    for item in target_summaries:\n",
        "        query = item['query']\n",
        "        print(f\"\\nProcessing query: {query}\")\n",
        "\n",
        "        # Get URLs for this query\n",
        "        urls = get_news_for_query(query, max_results=10)\n",
        "        query_urls[query] = urls\n",
        "\n",
        "        print(f\"Found {len(urls)} URLs for query: {query}\")\n",
        "\n",
        "        # Wait between different queries to avoid rate limiting\n",
        "        if target_summaries.index(item) < len(target_summaries) - 1:  # Don't wait after the last query\n",
        "            delay = 30  # 30 seconds between queries\n",
        "            print(f\"Waiting {delay} seconds before the next query...\")\n",
        "            time.sleep(delay)\n",
        "\n",
        "    # Save the collected URLs to a JSON file\n",
        "    output_file = 'news_urls.json'\n",
        "    with open(output_file, 'w') as f:\n",
        "        json.dump(query_urls, f, indent=2)\n",
        "\n",
        "    print(f\"\\nAll URLs collected and saved to {output_file}\")\n",
        "\n",
        "    # If in Colab, provide code to download the file\n",
        "    if in_colab:\n",
        "        from google.colab import files\n",
        "        files.download(output_file)\n",
        "        print(\"\\nFile download initiated. Check your browser's downloads.\")\n",
        "\n",
        "        # Also display the content for convenience\n",
        "        print(\"\\nJSON content:\")\n",
        "        print(json.dumps(query_urls, indent=2))\n",
        "\n",
        "if __name__ == \"__main__\":\n",
        "    main()"
      ],
      "metadata": {
        "id": "PBevjwBu6e2p",
        "outputId": "5c8c8986-2d90-4863-f12b-c8c6e989bf67",
        "colab": {
          "base_uri": "https://localhost:8080/",
          "height": 1000
        }
      },
      "execution_count": 6,
      "outputs": [
        {
          "output_type": "stream",
          "name": "stdout",
          "text": [
            "\n",
            "Processing query: Global economic outlook\n",
            "Found 10 URLs for query: Global economic outlook\n",
            "Waiting 30 seconds before the next query...\n",
            "\n",
            "Processing query: US presidential election updates\n",
            "Found 10 URLs for query: US presidential election updates\n",
            "Waiting 30 seconds before the next query...\n",
            "\n",
            "Processing query: Climate change and extreme weather events\n",
            "Found 10 URLs for query: Climate change and extreme weather events\n",
            "Waiting 30 seconds before the next query...\n",
            "\n",
            "Processing query: Advances in artificial intelligence\n",
            "Found 10 URLs for query: Advances in artificial intelligence\n",
            "Waiting 30 seconds before the next query...\n",
            "\n",
            "Processing query: Major tech company earnings reports\n",
            "Found 10 URLs for query: Major tech company earnings reports\n",
            "Waiting 30 seconds before the next query...\n",
            "\n",
            "Processing query: International conflict and peace negotiations\n",
            "Found 10 URLs for query: International conflict and peace negotiations\n",
            "Waiting 30 seconds before the next query...\n",
            "\n",
            "Processing query: COVID-19 pandemic developments\n",
            "Found 10 URLs for query: COVID-19 pandemic developments\n",
            "Waiting 30 seconds before the next query...\n",
            "\n",
            "Processing query: Renewable energy breakthroughs\n",
            "Found 10 URLs for query: Renewable energy breakthroughs\n",
            "Waiting 30 seconds before the next query...\n",
            "\n",
            "Processing query: Stock market trends and analysis\n",
            "Found 10 URLs for query: Stock market trends and analysis\n",
            "Waiting 30 seconds before the next query...\n",
            "\n",
            "Processing query: Major sports event highlights\n",
            "Found 10 URLs for query: Major sports event highlights\n",
            "Waiting 30 seconds before the next query...\n",
            "\n",
            "Processing query: Space exploration and discoveries\n",
            "Found 10 URLs for query: Space exploration and discoveries\n",
            "Waiting 30 seconds before the next query...\n",
            "\n",
            "Processing query: Cybersecurity threats and data breaches\n",
            "Found 10 URLs for query: Cybersecurity threats and data breaches\n",
            "Waiting 30 seconds before the next query...\n",
            "\n",
            "Processing query: Healthcare policy changes\n",
            "Found 10 URLs for query: Healthcare policy changes\n",
            "Waiting 30 seconds before the next query...\n",
            "\n",
            "Processing query: Immigration and border policy news\n",
            "Found 10 URLs for query: Immigration and border policy news\n",
            "Waiting 30 seconds before the next query...\n",
            "\n",
            "Processing query: Education reform and school closures\n",
            "Found 10 URLs for query: Education reform and school closures\n",
            "Waiting 30 seconds before the next query...\n",
            "\n",
            "Processing query: Natural disasters and humanitarian response\n",
            "Found 10 URLs for query: Natural disasters and humanitarian response\n",
            "Waiting 30 seconds before the next query...\n",
            "\n",
            "Processing query: Major legal cases and court rulings\n",
            "Found 10 URLs for query: Major legal cases and court rulings\n",
            "Waiting 30 seconds before the next query...\n",
            "\n",
            "Processing query: Celebrity news and entertainment industry updates\n",
            "Found 10 URLs for query: Celebrity news and entertainment industry updates\n",
            "Waiting 30 seconds before the next query...\n",
            "\n",
            "Processing query: Scientific research breakthroughs\n",
            "Found 10 URLs for query: Scientific research breakthroughs\n",
            "Waiting 30 seconds before the next query...\n",
            "\n",
            "Processing query: Trade agreements and tariffs\n",
            "Found 10 URLs for query: Trade agreements and tariffs\n",
            "Waiting 30 seconds before the next query...\n",
            "\n",
            "Processing query: Cryptocurrency market movements\n",
            "Found 10 URLs for query: Cryptocurrency market movements\n",
            "Waiting 30 seconds before the next query...\n",
            "\n",
            "Processing query: Social justice protests and movements\n",
            "Found 10 URLs for query: Social justice protests and movements\n",
            "Waiting 30 seconds before the next query...\n",
            "\n",
            "Processing query: Transportation and infrastructure projects\n",
            "Found 10 URLs for query: Transportation and infrastructure projects\n",
            "Waiting 30 seconds before the next query...\n",
            "\n",
            "Processing query: Consumer technology product launches\n",
            "Found 10 URLs for query: Consumer technology product launches\n",
            "Waiting 30 seconds before the next query...\n",
            "\n",
            "Processing query: Environmental conservation efforts\n",
            "Found 10 URLs for query: Environmental conservation efforts\n",
            "Waiting 30 seconds before the next query...\n",
            "\n",
            "Processing query: Government corruption investigations\n",
            "Found 10 URLs for query: Government corruption investigations\n",
            "Waiting 30 seconds before the next query...\n",
            "\n",
            "Processing query: Public health advisories and outbreaks\n",
            "Found 10 URLs for query: Public health advisories and outbreaks\n",
            "Waiting 30 seconds before the next query...\n",
            "\n",
            "Processing query: International trade disputes\n",
            "Found 10 URLs for query: International trade disputes\n",
            "Waiting 30 seconds before the next query...\n",
            "\n",
            "Processing query: Housing market trends\n",
            "Found 10 URLs for query: Housing market trends\n",
            "Waiting 30 seconds before the next query...\n",
            "\n",
            "Processing query: Major mergers and acquisitions\n",
            "Found 10 URLs for query: Major mergers and acquisitions\n",
            "\n",
            "All URLs collected and saved to news_urls.json\n"
          ]
        },
        {
          "output_type": "display_data",
          "data": {
            "text/plain": [
              "<IPython.core.display.Javascript object>"
            ],
            "application/javascript": [
              "\n",
              "    async function download(id, filename, size) {\n",
              "      if (!google.colab.kernel.accessAllowed) {\n",
              "        return;\n",
              "      }\n",
              "      const div = document.createElement('div');\n",
              "      const label = document.createElement('label');\n",
              "      label.textContent = `Downloading \"${filename}\": `;\n",
              "      div.appendChild(label);\n",
              "      const progress = document.createElement('progress');\n",
              "      progress.max = size;\n",
              "      div.appendChild(progress);\n",
              "      document.body.appendChild(div);\n",
              "\n",
              "      const buffers = [];\n",
              "      let downloaded = 0;\n",
              "\n",
              "      const channel = await google.colab.kernel.comms.open(id);\n",
              "      // Send a message to notify the kernel that we're ready.\n",
              "      channel.send({})\n",
              "\n",
              "      for await (const message of channel.messages) {\n",
              "        // Send a message to notify the kernel that we're ready.\n",
              "        channel.send({})\n",
              "        if (message.buffers) {\n",
              "          for (const buffer of message.buffers) {\n",
              "            buffers.push(buffer);\n",
              "            downloaded += buffer.byteLength;\n",
              "            progress.value = downloaded;\n",
              "          }\n",
              "        }\n",
              "      }\n",
              "      const blob = new Blob(buffers, {type: 'application/binary'});\n",
              "      const a = document.createElement('a');\n",
              "      a.href = window.URL.createObjectURL(blob);\n",
              "      a.download = filename;\n",
              "      div.appendChild(a);\n",
              "      a.click();\n",
              "      div.remove();\n",
              "    }\n",
              "  "
            ]
          },
          "metadata": {}
        },
        {
          "output_type": "display_data",
          "data": {
            "text/plain": [
              "<IPython.core.display.Javascript object>"
            ],
            "application/javascript": [
              "download(\"download_a2381a19-8f8a-43cd-bfa1-4f85891a1f34\", \"news_urls.json\", 38191)"
            ]
          },
          "metadata": {}
        },
        {
          "output_type": "stream",
          "name": "stdout",
          "text": [
            "\n",
            "File download initiated. Check your browser's downloads.\n",
            "\n",
            "JSON content:\n",
            "{\n",
            "  \"Global economic outlook\": [\n",
            "    \"https://www.msn.com/en-ca/money/topstories/global-economic-growth-could-slow-to-23-due-to-trade-tensions-says-un-trade-agency/ar-AA1D1z6Q\",\n",
            "    \"https://seekingalpha.com/article/4775157-how-tariffs-geopolitics-shaping-2025-global-economic-outlook\",\n",
            "    \"https://www.cnet.com/personal-finance/refinance-rates-tick-higher-mortgage-refinance-rates-on-april-11-2025/\",\n",
            "    \"https://www.businessinsider.com/us-economy-stock-market-outlook-tariffs-trump-trade-war-bofa-2025-4\",\n",
            "    \"https://www.msn.com/en-us/money/markets/economic-outlook-dives-just-three-months-into-trump-s-term/ar-AA1COpd8\",\n",
            "    \"https://www.msn.com/en-us/money/markets/u-k-economy-shows-signs-of-strength-but-tariffs-darken-outlook/ar-AA1CIv5r\",\n",
            "    \"https://www.marketwatch.com/livecoverage/stock-market-today-dow-s-p-and-nasdaq-eye-steady-start-as-tariff-angst-eases-bofa-and-citi-earnings/card/iea-cuts-2025-global-demand-growth-forecast-on-deteriorating-outlook-for-the-global-economy-BF64s9E3Q4RnPFCzj2xA\",\n",
            "    \"https://www.msn.com/en-ca/money/other/fed-chair-powell-to-deliver-fresh-economic-view-as-tariffs-inject-uncertainty/ar-AA1D1sf0\",\n",
            "    \"https://seekingalpha.com/article/4773017-april-2025-outlook-calamos-global-opportunities-fund\",\n",
            "    \"https://www.chinadaily.com.cn/a/202504/16/WS67ff0e73a3104d9fd381f936.html\"\n",
            "  ],\n",
            "  \"US presidential election updates\": [\n",
            "    \"https://www.msn.com/en-gb/news/world/romanian-election-favourite-pledges-to-stop-potential-us-troop-withdrawal/ar-AA1CNC2p\",\n",
            "    \"https://www.msn.com/en-us/news/world/ecuador-would-love-to-have-us-forces-helping-in-gang-crackdown-president-says/ar-AA1CZkn8\",\n",
            "    \"https://www.msn.com/en-us/news/world/ecuador-s-president-daniel-noboa-declared-election-winner-as-rival-demands-recount/ar-AA1CQhcU\",\n",
            "    \"https://www.msn.com/en-us/news/world/romania-tells-us-congress-group-its-presidential-vote-will-be-fair-transparent/ar-AA1CXWhT\",\n",
            "    \"https://www.msn.com/en-us/news/politics/2028-us-presidential-election-betting-odds-jd-vance-donald-trump-gavin-newsom-in-mix/ar-AA1CwWhl\",\n",
            "    \"https://www.aol.com/news/factbox-top-contenders-south-koreas-030329115.html\",\n",
            "    \"https://www.msn.com/en-us/money/news/mark-cuban-has-a-message-for-the-us-amid-trumps-tariff-turmoil-elections-have-consequences/ar-AA1CE3I0\",\n",
            "    \"https://www.msn.com/en-us/news/politics/how-democrats-potential-presidential-contenders-are-scoping-out-different-paths-to-2028/ar-AA1CJ7FY\",\n",
            "    \"https://www.msn.com/en-us/politics/government/why-a-presidential-term-limit-got-written-into-the-constitution-the-story-of-the-22nd-amendment/ar-AA1C5K7h\",\n",
            "    \"https://www.aljazeera.com/news/2025/3/26/trump-signs-new-executive-order-to-change-election-rules-what-we-know\"\n",
            "  ],\n",
            "  \"Climate change and extreme weather events\": [\n",
            "    \"https://www.bbc.com/future/article/20250410-how-climate-driven-thunderstorms-supercharge-pollen-allergies\",\n",
            "    \"https://www.msn.com/en-ca/weather/topstories/terminations-at-us-government-agencies-that-monitor-extreme-weather-events-will-have-negative-effects/ar-AA1CPv41\",\n",
            "    \"https://www.msn.com/en-us/weather/climate-change/why-is-every-weather-event-now-blamed-on-climate-change/vi-AA1CNpwf\",\n",
            "    \"https://www.msn.com/en-us/weather/topstories/this-scientist-wants-us-to-combat-the-climate-crisis-by-thinking-like-a-woman/ar-AA1ClYiG\",\n",
            "    \"https://www.msn.com/en-us/news/politics/donald-trump-cuts-will-impact-weather-forecasts-across-world-agency-warns/ar-AA1CXBUN\",\n",
            "    \"https://www.msn.com/en-ca/news/weather/most-ontario-utilities-dont-study-climate-risk-to-electrical-grid-survey/ar-AA1CY7P7\",\n",
            "    \"https://www.openaccessgovernment.org/europe-hit-hard-by-climate-extremes-in-2024/191712/\",\n",
            "    \"https://www.scientificamerican.com/article/hegseth-orders-elimination-of-pentagon-climate-planning-but-wants-extreme/\",\n",
            "    \"https://www.msn.com/en-ph/news/other/deadly-floods-storms-and-heatwaves-europe-suffered-the-serious-impacts-of-climate-change-in-2024/vi-AA1CXwTM\",\n",
            "    \"https://www.nytimes.com/2025/04/08/climate/rain-floods-climate-change.html\"\n",
            "  ],\n",
            "  \"Advances in artificial intelligence\": [\n",
            "    \"https://www.sciencefriday.com/segments/artificial-general-intelligence-future/\",\n",
            "    \"https://finance.yahoo.com/news/mdce-advances-artificial-intelligence-acquisition-131500288.html\",\n",
            "    \"https://nypost.com/2025/04/16/business/us-stocks-fall-after-white-house-announces-new-chip-export-restriction/\",\n",
            "    \"https://www.deseret.com/magazine/2025/04/15/religion-of-artificial-intelligence/\",\n",
            "    \"https://www.thedailystar.net/business/news/nvidia-kept-some-china-customers-the-dark-about-new-us-chip-clampdown-sources-say-3872481\",\n",
            "    \"https://www.fastcompany.com/91269023/artificial-intelligence-most-innovative-companies-2025\",\n",
            "    \"https://www.fingerlakes1.com/2025/04/05/hochul-suny-ai-society-initiative-2025/\",\n",
            "    \"https://www.govtech.com/policy/state-efficiency-bill-involving-ai-advances-in-north-carolina\",\n",
            "    \"https://www.msn.com/en-us/news/technology/demis-hassabis-is-preparing-for-ai-s-endgame/ar-AA1D1VEL\",\n",
            "    \"https://www.msn.com/en-us/news/other/nvidia-takes-5-5-billion-hit-as-us-clamps-down-on-its-china-chips/ar-AA1D1f3a\"\n",
            "  ],\n",
            "  \"Major tech company earnings reports\": [\n",
            "    \"https://www.msn.com/en-sg/news/other/week-ahead-ecb-rate-decision-china-s-gdp-and-major-company-earnings/ar-AA1CShtV\",\n",
            "    \"https://finance.yahoo.com/news/live/stock-market-today-dow-sp-500-nasdaq-futures-fall-as-nvidia-stock-weighs-on-tech-232520900.html\",\n",
            "    \"https://finance.yahoo.com/news/live/stock-market-today-dow-sp-500-nasdaq-slide-as-nvidias-dive-weighs-on-tech-133757299.html\",\n",
            "    \"https://www.msn.com/en-ae/money/top-stocks/european-stocks-gain-as-investors-shift-focus-to-earnings-reports/ar-AA1CSjS4\",\n",
            "    \"https://www.aol.com/news/taiwan-tech-supply-chain-stocks-023141239.html\",\n",
            "    \"https://www.schaeffersresearch.com/content/ezines/2025/04/15/stocks-eye-3rd-straight-win-amid-earnings-vix-pulls-back\",\n",
            "    \"https://www.msn.com/en-us/money/savingandinvesting/is-qualcomm-incorporated-qcom-the-best-technology-dividend-stock-to-invest-in/ar-AA1CQV5o\",\n",
            "    \"https://www.msn.com/en-us/money/savingandinvesting/is-texas-instruments-incorporated-txn-the-best-technology-dividend-stock-to-invest-in/ar-AA1CR1Qt\",\n",
            "    \"https://www.econotimes.com/Taiwan-Tech-Stocks-Rise-on-US-Tariff-Exemptions-TSMC-Dips-on-Semiconductor-Uncertainty-1707487\",\n",
            "    \"https://seekingalpha.com/article/4775025-seagate-technology-q3-preview-tariff-uncertainty-keeps-me-hesitant-for-now\"\n",
            "  ],\n",
            "  \"International conflict and peace negotiations\": [\n",
            "    \"https://www.npr.org/2025/04/15/g-s1-60340/sudan-civil-war-peace-talks\",\n",
            "    \"https://www.msn.com/en-us/news/world/peace-talks-between-congo-and-m23-rebels-in-doha-delayed-sources-say/ar-AA1CAbQq\",\n",
            "    \"https://sps.columbia.edu/news/spotlighting-womens-impact-global-peace-initiatives\",\n",
            "    \"https://www.economist.com/science-and-technology/2025/04/16/ai-models-could-help-negotiators-secure-peace-deals\",\n",
            "    \"https://www.msn.com/en-us/news/world/foreign-ministers-attend-conference-in-london-to-try-to-halt-sudan-civil-war/ar-AA1CXNbo\",\n",
            "    \"https://www.reuters.com/world/africa/congo-m23-rebels-say-they-will-send-delegation-angola-peace-talks-2025-03-17/\",\n",
            "    \"https://apnews.com/article/congo-m23-rebels-kinshasa-qatar-a1f5b5ee092cfecc2da524aea1acec6a\",\n",
            "    \"https://www.swissinfo.ch/eng/international-geneva/where-are-women-in-the-peace-talks/89025285\",\n",
            "    \"https://www.msn.com/en-us/news/world/putins-top-negotiator-gives-update-after-washington-peace-talks/ar-AA1Cfvti\",\n",
            "    \"https://freedomhouse.org/article/sudan-two-years-conflict-freedom-house-urges-end-violence-accountability-perpetrators\"\n",
            "  ],\n",
            "  \"COVID-19 pandemic developments\": [\n",
            "    \"https://www.newsday.com/news/nation/who-pandemic-treaty-covid-trump-f23815\",\n",
            "    \"https://abcnews.go.com/International/wireStory/member-countries-agree-draft-pandemic-treaty-avoid-covid-120856392\",\n",
            "    \"https://www.boston.com/news/health/2025/03/24/qa-nobel-prize-winning-researcher-drew-weissman-discusses-vaccine-development-hesitancy-and-preparing-for-another-pandemic/\",\n",
            "    \"https://www.economist.com/by-invitation/2025/04/14/the-head-of-the-gates-foundation-on-how-to-keep-helping-the-poor-as-aid-shrinks\",\n",
            "    \"https://www.clarionledger.com/story/news/2025/04/13/covid-19-created-a-new-normal-in-education-five-years-later/81761326007/\",\n",
            "    \"https://www.msn.com/en-ae/health/other/uae-abu-dhabi-prioritised-food-medicine-during-covid-19-lockdown-top-official-recalls/ar-AA1CBnGH\",\n",
            "    \"https://www.msn.com/en-us/money/realestate/final-details-laid-out-for-gilberts-next-development-in-downtown-detroit/ar-AA1CD3wb\",\n",
            "    \"https://www.msn.com/en-us/money/markets/chinas-economy-grows-at-a-54-annual-pace-in-jan-march-quarter/ar-AA1D05zr\",\n",
            "    \"https://www.smh.com.au/national/why-an-aussie-lab-is-racing-to-make-a-vaccine-for-haemorrhagic-fever-20250410-p5lqqr.html\",\n",
            "    \"https://omaha.com/news/local/business/health-care/collection_e55083b6-b3db-468b-b25d-eb286cee1991.html\"\n",
            "  ],\n",
            "  \"Renewable energy breakthroughs\": [\n",
            "    \"https://www.msn.com/en-ie/technology/renewable-energy/the-road-to-green-energy-what-s-holding-back-the-transition-to-100-renewable-power/vi-AA1D2wez\",\n",
            "    \"https://www.bignewsnetwork.com/news/278167878/china-leads-green-energy-transition-in-antarctic-exploration-experts\",\n",
            "    \"https://www.msn.com/en-ie/money/other/are-renewable-energy-subsidies-just-another-corporate-scam/vi-AA1CNnlq\",\n",
            "    \"https://menafn.com/1109436607/Australian-Researchers-Achieve-Solar-Cell-Efficiency-Breakthrough-with-Eco-Friendly-Technology\",\n",
            "    \"https://www.msn.com/en-us/news/technology/breakthrough-ev-battery-material-design-may-answer-range-anxiety-slow-cell-death/ar-AA1CXVFW\",\n",
            "    \"https://www.yahoo.com/news/global-renewable-energy-capacity-hits-112643043.html\",\n",
            "    \"https://www.datacenterdynamics.com/en/news/thousands-more-leave-us-department-of-energy-despite-trump-declaring-national-energy-emergency/\",\n",
            "    \"http://www.chinaview.cn/20250416/04b960fef44642a0bee2eab9f11197b6/c.html\",\n",
            "    \"https://www.cambridgenetwork.co.uk/news/eon-and-superdielectrics-collaborate-develop-revolutionary-energy-storage\",\n",
            "    \"https://energydigital.com/articles/geothermal-googles-clean-energy-bet-to-decarbonise-taiwan\"\n",
            "  ],\n",
            "  \"Stock market trends and analysis\": [\n",
            "    \"https://www.msn.com/en-in/money/top-stocks/stock-market-today-trade-guide-for-nifty-50-to-trump-s-tariff-eight-stocks-to-buy-or-sell-on-monday-7-april-2025/ar-AA1CpynN\",\n",
            "    \"https://www.msn.com/en-in/money/markets/us-china-trade-war-will-fpis-return-to-indian-stock-market-amid-global-chaos/ar-AA1CVUlh\",\n",
            "    \"https://www.investing.com/news/stock-market-news/snap-stock-dips-following-guggenheims-analysis-on-usage-trends-93CH-3962561\",\n",
            "    \"https://www.msn.com/en-in/money/markets/stock-market-today-trade-setup-for-nifty-50-to-q4-results-seven-stocks-to-buy-or-sell-on-wednesday-16-april-2025/ar-AA1CZzyw\",\n",
            "    \"https://seekingalpha.com/article/4775125-meta-platforms-stock-collapses-heres-when-to-buy-rating-upgrade\",\n",
            "    \"https://www.business-standard.com/content/specials/5-screener-secrets-every-trader-should-know-125040201179_1.html\",\n",
            "    \"https://seekingalpha.com/article/4772572-market-and-economic-insights-from-march-2025\",\n",
            "    \"https://www.morningstar.com/topics/stock-market-trends\",\n",
            "    \"https://www.bloomberg.com/professional/insights/commodities/golds-record-has-room-to-run-as-crude-oil-us-stocks-teeter/\",\n",
            "    \"https://cointelegraph.com/news/how-to-use-chatgpt-to-predict-crypto-market-trends\"\n",
            "  ],\n",
            "  \"Major sports event highlights\": [\n",
            "    \"https://www.msn.com/en-us/sports/other/mixed-golf-and-gymnastics-highlight-new-events-for-2028-los-angeles-olympics/ar-AA1CChzc\",\n",
            "    \"https://www.postandcourier.com/aikenstandard/lifestyle/arts-and-humanities-museum-highlights-work-of-major-gullah-artist/article_ef3c326a-4cd5-41ed-b81c-908225708ef4.html\",\n",
            "    \"https://sports.yahoo.com/article/ranking-10-most-collectible-events-191500768.html\",\n",
            "    \"https://www.devdiscourse.com/article/sports-games/3344959-sports-highlights-triumphs-extensions-and-tragedies\",\n",
            "    \"https://www.devdiscourse.com/article/sports-games/3335992-sports-highlights-giant-leaps-and-farewell-waves\",\n",
            "    \"https://www.msn.com/en-us/sports/golf/masters-par-3-contest-coverage-leaderboard-highlights-from-echavarrias-win/ar-AA1CAzzt\",\n",
            "    \"https://readwrite.com/wla-president-highlights-need-to-promote-integrity-in-sports-betting/\",\n",
            "    \"https://www.msn.com/en-us/sports/golf/world-no-1-scottie-scheffler-highlights-field-for-rbc-heritage-5th-signature-event-of-2025/ar-AA1CTDpB\",\n",
            "    \"https://www.msn.com/en-ae/news/featured/sports-coverage-khaleej-times-brings-global-and-local-sporting-action-to-readers/ar-AA1D0LAQ\",\n",
            "    \"https://georgetownvoice.com/2025/04/14/collegiate-competitive-dance-the-best-sport-youve-never-watched/\"\n",
            "  ],\n",
            "  \"Space exploration and discoveries\": [\n",
            "    \"https://www.msn.com/en-gb/news/world/texas-senators-move-space-shuttle-discovery-from-smithsonian-to-houston/ar-AA1CKl4j\",\n",
            "    \"https://spacenews.com/data-and-artificial-intelligence-the-fuel-behind-space-discovery/\",\n",
            "    \"https://www.wusa9.com/article/news/politics/lawmakers-want-to-transfer-space-shuttle-discovery-to-texas/65-f3e3510a-7800-4b54-84a5-185f37261f98\",\n",
            "    \"https://www.msn.com/en-in/news/techandscience/why-asteroid-2024-yr4-s-strange-shape-is-a-threat-to-the-moon-and-not-earth/ar-AA1CB5Jj\",\n",
            "    \"https://www.msn.com/en-us/news/technology/trump-s-unconventional-nasa-pick-signals-mars-intentions-in-confirmation-hearing/ar-AA1CAGu7\",\n",
            "    \"https://www.msn.com/en-us/video/peopleandplaces/why-cassini-s-surprising-discoveries-changed-space-exploration/vi-AA1BhCOK\",\n",
            "    \"https://www.msn.com/en-in/news/India/fram2-astronauts-share-breathtaking-video-of-bay-of-bengal-from-space-during-arctic-journey-watch/ar-AA1CkIlB\",\n",
            "    \"https://www.yahoo.com/news/nasas-artemis-2-astronauts-reveal-210000799.html\",\n",
            "    \"https://www.cantonrep.com/story/lifestyle/columns/2025/03/30/nasa-celebrates-35-years-of-hubble-space-exploration/82651262007/\",\n",
            "    \"https://www.businesswire.com/news/home/20250408711962/en/Monaco-Takes-Center-Stage-Showcasing-the-Principalitys-Unexpected-Role-in-Space-Exploration-with-Series-of-Signature-Events\"\n",
            "  ],\n",
            "  \"Cybersecurity threats and data breaches\": [\n",
            "    \"https://www.forbes.com/councils/forbestechcouncil/2025/04/09/leadership-in-cybersecurity-disruption-turning-emerging-threats-into-competitive-opportunities/\",\n",
            "    \"https://techbullion.com/breaking-news-kiteworks-unveils-the-real-impact-behind-2024s-biggest-data-breaches/\",\n",
            "    \"https://www.forbes.com/councils/forbestechcouncil/2025/04/08/cybersecurity-in-the-age-of-ai-how-businesses-can-defend-against-automated-threats/\",\n",
            "    \"https://www.msn.com/en-us/health/other/cybersecurity-experts-map-the-critical-moments-after-a-hospital-data-breach/ar-AA1CLzKa\",\n",
            "    \"https://www.msn.com/en-ae/money/news/cac-international-bank-strengthens-cybersecurity-with-iso-270012022-certification/ar-AA1CRGxI\",\n",
            "    \"https://securityboulevard.com/2025/04/top-data-breaches-of-march-2025/\",\n",
            "    \"https://www.postcourier.com.pg/cybersecurity-for-businesses-in-png-protecting-your-data-and-reputation/\",\n",
            "    \"https://punchng.com/cjn-cautions-judicial-officials-on-data-breaches-cyber-threats/\",\n",
            "    \"https://www.msn.com/en-us/money/other/200-million-social-media-records-leaked-in-major-x-data-breach/ar-AA1CBt8G\",\n",
            "    \"https://www.cyberdefensemagazine.com/how-ai-is-transforming-the-fight-against-data-breaches/\"\n",
            "  ],\n",
            "  \"Healthcare policy changes\": [\n",
            "    \"https://www.msn.com/en-us/news/us/trump-administration-announces-freeze-in-2-2-billion-for-harvard-after-university-rejects-request-for-policy-changes/ar-AA1CUqYz\",\n",
            "    \"https://www.msn.com/en-us/news/politics/trump-executive-order-backs-change-to-medicare-negotiation-pushed-by-drug-industry/ar-AA1CZCYl\",\n",
            "    \"https://www.politico.com/newsletters/women-rule/2025/04/04/how-doge-cuts-will-change-womens-health-00272000\",\n",
            "    \"https://www.bellanaija.com/2025/04/banking-on-womens-healthconference/\",\n",
            "    \"https://theconversation.com/massive-cuts-to-health-and-human-services-workforce-signal-a-dramatic-shift-in-us-health-policy-253316\",\n",
            "    \"https://www.msn.com/en-au/health/other/townsville-health-service-changes-incident-response-policy-after-nurse-assaulted/ar-AA1CDqSv\",\n",
            "    \"https://www.ajmc.com/view/how-recent-federal-policy-changes-are-shaping-managed-care-pharmacy\",\n",
            "    \"https://www.aha.org/news/chairpersons-file/2025-04-14-resources-navigating-transformation-and-change\",\n",
            "    \"https://www.crainsnewyork.com/health-pulse/new-york-could-lose-future-medicaid-dollars-amid-cms-policy-change\",\n",
            "    \"https://www.thelancet.com/journals/lancet/article/PIIS0140-6736(25)00413-1/fulltext\"\n",
            "  ],\n",
            "  \"Immigration and border policy news\": [\n",
            "    \"https://townhall.com/columnists/byronyork/2025/04/09/columnistsbyronyork20250408tim-walz-and-the-border-crisis-that-would-still-be-a-crisis-n2655212\",\n",
            "    \"https://www.newsweek.com/ice-illegal-ideas-border-security-social-media-post-2058217\",\n",
            "    \"https://www.nytimes.com/2025/04/11/us/politics/trump-military-border.html\",\n",
            "    \"https://www.reuters.com/world/us/trumps-immigration-policies-find-support-he-expands-crackdown-2025-03-26/\",\n",
            "    \"https://www.usatoday.com/story/news/2025/04/09/border-czar-homan-could-be-key-to-immigration-fight-in-new-york/83007747007/\",\n",
            "    \"https://www.msn.com/en-us/news/opinion/anti-immigration-fervor-isn-t-new-in-the-nj-or-the-us-how-will-deportations-end/ar-AA1CrRvg\",\n",
            "    \"https://www.msn.com/en-us/money/markets/californias-demographic-earthquake-asian-immigrants-rise-latinos-decline-in-big-shift/ar-AA1CStc0\",\n",
            "    \"https://www.msn.com/en-us/news/politics/trump-authorizes-military-use-of-public-land-along-southern-border/ar-AA1CM5XQ\",\n",
            "    \"https://www.msn.com/en-us/news/us/all-quiet-on-the-southern-front-how-the-border-has-changed-under-trump/ar-AA1BL3w8\",\n",
            "    \"https://www.msn.com/en-us/news/us/sheriffs-would-be-required-to-cooperate-with-immigration-agents-under-bill-approved-by-senate/ar-AA1C6rK6\"\n",
            "  ],\n",
            "  \"Education reform and school closures\": [\n",
            "    \"https://www.reformer.com/education/vermont-house-advances-education-reform-bill/article_63cac9db-8197-48b4-b9bb-6b12991081c4.html\",\n",
            "    \"https://www.reformer.com/local-news/education-reform-could-mean-closing-of-saxtons-river-elementary/article_e49b45a0-cce7-42a9-9a65-df1a75996758.html\",\n",
            "    \"https://www.msn.com/en-us/news/politics/house-democrats-finalize-education-reform-plan/vi-AA1CykRe\",\n",
            "    \"https://www.jdsupra.com/legalnews/president-trump-orders-closure-of-the-6700892/\",\n",
            "    \"https://www.msn.com/en-us/news/other/house-gives-preliminary-approval-to-education-reform-bill-but-changes-are-expected/ar-AA1CHkiL\",\n",
            "    \"https://www.msn.com/en-us/politics/government/vermont-house-gives-final-approval-to-education-reform-bill/ar-AA1CLsz1\",\n",
            "    \"https://www.msn.com/en-ph/education-and-learning/higher-education/university-of-manila-s-law-school-ordered-closed-for-not-meeting-standards/ar-AA1CuXLi\",\n",
            "    \"https://ijr.com/america-teeters-on-precipice-of-radical-education-reform-after-trump-shuts-off-lights-at-ed/\",\n",
            "    \"https://bethesdamagazine.com/2025/04/08/blueprint-education-reform-plan-trimmed/\",\n",
            "    \"https://www.msn.com/en-us/news/politics/democrats-sense-an-opportunity-to-rally-opposition-to-trump-education-agenda/ar-AA1CObUL\"\n",
            "  ],\n",
            "  \"Natural disasters and humanitarian response\": [\n",
            "    \"https://www.msn.com/en-us/news/other/foreign-affairs-dems-press-rubio-on-burma-earthquake-response-usaid-cuts/ar-AA1CZFUj\",\n",
            "    \"https://www.msn.com/en-us/news/world/un-humanitarian-agency-will-lay-off-hundreds-of-staff-due-to-funding-crisis/ar-AA1CLB0v\",\n",
            "    \"https://www.msn.com/en-us/news/other/myanmar-s-deadly-earthquake-exposes-void-left-by-us-in-global-disaster-responses/ar-AA1CHnzv\",\n",
            "    \"https://www.tribuneindia.com/news/world/tiger-triumph-2025-india-us-humanitarian-assistance-and-disaster-relief-exercise-ends-in-andhra-pradesh/\",\n",
            "    \"https://www.msn.com/en-ph/money/economy/globe-joins-un-led-initiative-using-ai-for-disaster-response/ar-AA1CmliQ\",\n",
            "    \"https://www.thefastmode.com/technology-solutions/40746-globe-becomes-first-telco-to-join-un-led-disha-initiative-for-disaster-response\",\n",
            "    \"https://www.msn.com/en-ae/public-safety-and-emergencies/health-and-safety-alerts/uae-innovates-to-aid-disaster-affected-communities-worldwide/ar-AA1Cwe1u\",\n",
            "    \"https://www.msn.com/en-in/news/India/why-indias-disaster-diplomacy-is-becoming-so-important/ar-AA1C9aMb\",\n",
            "    \"https://thediplomat.com/2025/04/airstrikes-amid-earthquakes-myanmars-double-disaster/\",\n",
            "    \"https://www.manilatimes.net/2025/04/02/tmt-newswire/pr-newswire/globe-is-first-telco-to-join-un-led-disha-initiative-for-disaster-response/2084869\"\n",
            "  ],\n",
            "  \"Major legal cases and court rulings\": [\n",
            "    \"https://www.msn.com/en-us/news/world/uk-supreme-court-says-legal-definition-of-woman-excludes-trans-women-in-landmark-ruling/ar-AA1D1cmf\",\n",
            "    \"https://www.msn.com/en-us/news/world/uk-supreme-court-to-rule-on-landmark-legal-challenge-over-legal-definition-of-a-woman/ar-AA1D0hbm\",\n",
            "    \"https://www.mirror.co.uk/news/politics/breaking-major-uk-supreme-court-35063898\",\n",
            "    \"https://www.mirror.co.uk/3am/celebrity-news/jk-rowling-responds-supreme-courts-35066284\",\n",
            "    \"https://www.msn.com/en-us/news/other/trump-touts-supreme-court-deportation-ruling-as-a-major-victory-but-legal-fight-is-far-from-over/ar-AA1CxRuk\",\n",
            "    \"https://www.msn.com/en-us/news/politics/trump-cashes-in-on-supreme-court-rulings-tackling-unlawful-regulations/ar-AA1CPnoX\",\n",
            "    \"https://www.leeds-live.co.uk/news/uk-world-news/legal-definition-woman-decided-major-31438303\",\n",
            "    \"https://www.usnews.com/news/us/articles/2025-04-08/trump-touts-supreme-court-deportation-ruling-as-a-major-victory-but-legal-fight-is-far-from-over\",\n",
            "    \"https://www.msn.com/en-us/news/world/uk-supreme-court-rules-on-legal-definition-of-a-woman/ar-AA1D21Ti\",\n",
            "    \"https://www.npr.org/2025/04/07/nx-s1-5345601/supreme-court-alien-enemies-act\"\n",
            "  ],\n",
            "  \"Celebrity news and entertainment industry updates\": [\n",
            "    \"https://www.msn.com/en-us/entertainment/entertainment-celebrity/crash-zoom-cannes-2025-lineup-and-an-anora-pvod-success/ar-AA1D2pYa\",\n",
            "    \"https://www.msn.com/en-za/news/other/abdul-khoza-pens-an-emotional-open-letter-to-the-industry/ar-AA1D2c68\",\n",
            "    \"https://www.msn.com/en-us/movies/celebrity/wayans-family-guide-the-famous-familys-ups-and-downs-over-the-years/ar-AA1CtSRo\",\n",
            "    \"https://www.news.com.au/entertainment/celebrity-life/do-you-want-the-truth-australian-actor-rodger-corser-reveals-tough-reality-of-entertainment-industry/news-story/ce0e525454a194c433f57860a9325953\",\n",
            "    \"https://www.bollywoodhungama.com/bollywood/page/4/\",\n",
            "    \"https://www.citizen.co.za/entertainment/celebrity-news/so-much-has-changed-lalla-hirayama-on-life-after-leaving-the-entertainment-industry/\",\n",
            "    \"https://www.manilatimes.net/2025/04/15/tmt-newswire/globenewswire/stargaze-welcomes-celebrity-chef-and-food-network-star-jeff-mauro-to-advisory-board/2092763\",\n",
            "    \"https://www.newsweek.com/entertainment/celebrity-news/taylor-swift-travis-kelce-eras-tour-surprise-iheartradio-music-awards-win-2046478\",\n",
            "    \"https://www.eonline.com/news/1415648/actors-share-how-much-money-they-make\",\n",
            "    \"https://rollingout.com/2025/04/06/washington-rejects-presidential-affair/\"\n",
            "  ],\n",
            "  \"Scientific research breakthroughs\": [\n",
            "    \"https://www.scientificamerican.com/article/dear-breakthrough-prize-billionaires-fund-the-science-youre-watching-trump/\",\n",
            "    \"https://www.msn.com/en-us/news/technology/science-news-this-week-controversy-around-the-dire-wolf-de-extinctions-and-a-3d-hologram-breakthrough/ar-AA1CMm7j\",\n",
            "    \"https://www.hollywoodreporter.com/news/general-news/2025-breakthrough-prize-ceremony-1236186305/\",\n",
            "    \"https://theconversation.com/cuts-to-science-research-funding-cut-american-lives-short-federal-support-is-essential-for-medical-breakthroughs-252150\",\n",
            "    \"https://www.unite.ai/the-rise-of-ai-in-scientific-discoveries-can-ai-truly-think-outside-the-box/\",\n",
            "    \"https://www.seattletimes.com/opinion/if-we-gut-science-where-will-the-discoveries-of-the-future-come-from/\",\n",
            "    \"https://www.oregonlive.com/opinion/2025/04/opinion-vital-medical-breakthroughs-still-need-animal-research.html\",\n",
            "    \"https://truthout.org/articles/cuts-to-biomedical-research-will-cost-lives-scientific-breakthroughs-careers/\",\n",
            "    \"https://www.bizjournals.com/boston/news/2025/04/06/breakthrough-prize-2025.html\",\n",
            "    \"https://www.msn.com/en-us/news/technology/scientists-reveal-advance-in-brain-research-once-thought-impossible/ar-AA1CYHuO\"\n",
            "  ],\n",
            "  \"Trade agreements and tariffs\": [\n",
            "    \"https://www.msn.com/en-us/money/markets/trumps-tariffs-are-putting-consumers-and-businesses-in-a-bind-tech-association-warns/ar-AA1D1nuz\",\n",
            "    \"https://www.msn.com/en-us/money/markets/tariffs-will-slam-car-sales-and-production-analysts-say/ar-AA1CZ8Ud\",\n",
            "    \"https://www.aol.com/news/tech-expert-trade-agreements-not-192656067.html\",\n",
            "    \"https://www.msn.com/en-us/money/markets/what-to-know-about-the-trump-tariffs-upending-global-trade-and-markets/ar-AA1CfDy5\",\n",
            "    \"https://www.forbes.com/councils/forbesbusinesscouncil/2025/04/15/understanding-tariffs-how-they-impact-you-and-the-global-economy/\",\n",
            "    \"https://www.usatoday.com/story/news/2025/04/08/what-are-tariffs-in-simple-terms-when-do-tariffs-go-into-effect-what-is-section-232-tariffs/82992706007/\",\n",
            "    \"https://www.msn.com/en-us/money/markets/trump-s-tariffs-aim-to-reset-global-trade-and-boost-america-s-workers/ar-AA1CfQr7\",\n",
            "    \"https://www.msn.com/en-us/news/other/china-s-xi-inks-vietnam-deals-as-tariff-war-deepens-trump-says-they-re-trying-to-screw-us/ar-AA1D1HQJ\",\n",
            "    \"https://www.msn.com/en-us/money/markets/us-and-india-discuss-tariffs-and-progress-towards-fair-trade/ar-AA1CtlEP\",\n",
            "    \"https://www.msn.com/en-us/money/news/will-trump-negotiate-tariffs-these-countries-say-they-want-to-negotiate-fair-deals/ar-AA1CoKcm\"\n",
            "  ],\n",
            "  \"Cryptocurrency market movements\": [\n",
            "    \"https://beincrypto.com/movement-labs-investigation-market-maker-misconduct/\",\n",
            "    \"https://www.msn.com/en-us/money/markets/crypto-etp-outflows-explained-everything-you-need-to-know/ar-AA1CIMcb\",\n",
            "    \"https://coingape.com/crypto-market-thrives-as-investors-pull-out-of-stocks-know-why/\",\n",
            "    \"https://www.msn.com/en-in/autos/photos/intelmarkets-intl-outshines-the-best-crypto-exchanges-with-a-historic-ai-innovation-in-trading/ar-AA1CYL0D\",\n",
            "    \"https://www.thestreet.com/crypto/newsroom/must-track-bitcoin-price-news-market-trends\",\n",
            "    \"https://coingape.com/bitcoin-price-likely-to-follow-stock-market-movement-after-trumps-tariff-report/\",\n",
            "    \"https://cointelegraph.com/news/how-to-use-chatgpt-to-predict-crypto-market-trends\",\n",
            "    \"https://www.coindesk.com/markets/2025/03/25/binance-offboards-market-maker-that-it-said-made-usd38m-profit-on-move-listing\",\n",
            "    \"https://thecurrencyanalytics.com/altcoins/xrp-bulls-stunned-by-8900-liquidation-imbalance-in-one-hour-169177\",\n",
            "    \"https://beincrypto.com/pi-network-price-rise-bitcoin-strength/\"\n",
            "  ],\n",
            "  \"Social justice protests and movements\": [\n",
            "    \"https://www.nytimes.com/2025/04/05/us/politics/trump-protests-hands-off-saturday.html\",\n",
            "    \"https://www.msn.com/en-in/news/other/nationwide-anti-trump-hands-off-protest-today-what-are-the-demands-heres-all-you-need-to-know/ar-AA1ClNP6\",\n",
            "    \"https://www.msn.com/en-us/news/us/hoosiers-gather-outside-indiana-statehouse-for-50501-movement-protests/ar-AA1Cn44g\",\n",
            "    \"https://www.wcvb.com/article/cityline-a-history-of-protest/64394973\",\n",
            "    \"https://www.msn.com/en-us/news/us/hands-off-anti-trump-protest-in-pensacola-saturday-draws-nearly-1000-people/ar-AA1CmPsS\",\n",
            "    \"https://ny1.com/nyc/all-boroughs/ap-top-news/2025/04/09/social-worker-imprisoned-nearly-4-years-for-mediation-attempts-at-hong-kong-protests\",\n",
            "    \"https://www.weny.com/story/52670096/hands-off-protests-held-across-the-twin-tiers-part-of-national-movement\",\n",
            "    \"https://www.msn.com/en-us/news/politics/what-do-climate-protests-actually-achieve-more-than-you-think/ar-AA1CKXTl\",\n",
            "    \"https://www.msn.com/en-us/news/us/every-voice-matters-asl-interpreters-amplify-the-power-of-deaf-protesters-opinion/ar-AA1ChIum\",\n",
            "    \"https://www.msn.com/en-us/news/technology/cu-boulder-panel-addresses-change-making-through-social-movements/ar-AA1CFjKu\"\n",
            "  ],\n",
            "  \"Transportation and infrastructure projects\": [\n",
            "    \"https://www.usatoday.com/story/news/2025/04/15/florida-i4-congestion-relief-new-lanes-opening-april-28/83095947007/\",\n",
            "    \"https://ijr.com/on-budget-on-time-sean-duffy-says-this-is-how-trump-will-make-infrastructure-projects-more-accountable/\",\n",
            "    \"https://www.motherjones.com/politics/2025/04/federal-infrastructure-funding-grants-biking-pedestrian-safety-targeted-trump-administration-department-transportation-cuts/\",\n",
            "    \"https://www.masstransitmag.com/management/article/55277125/building-prosperity-how-infrastructure-economics-tracks-growth-and-development\",\n",
            "    \"https://www.aol.com/legislature-approves-343-highway-projects-164000217.html\",\n",
            "    \"https://www.msn.com/en-us/news/politics/minnesota-cities-scramble-as-trump-cuts-threaten-infrastructure-projects/ar-AA1Cr7Vq\",\n",
            "    \"https://rollcall.com/2025/03/31/duffy-to-lay-out-transportation-funding-plan-amid-cutback-push/\",\n",
            "    \"https://www.roadsbridges.com/funding/news/55283151/mainedot-launches-48-billion-three-year-infrastructure-plan\",\n",
            "    \"https://www.msn.com/en-us/news/us/maine-department-of-transportation-plans-to-work-on-2700-projects-across-state/ar-AA1CVw1D\",\n",
            "    \"https://www.masstransitmag.com/management/article/55277631/americas-public-transit-infrastructure-improving-thanks-to-federal-investments\"\n",
            "  ],\n",
            "  \"Consumer technology product launches\": [\n",
            "    \"https://www.forbes.com/councils/forbestechcouncil/2025/04/16/ai-is-changing-consumer-apps-heres-what-that-means-for-innovators/\",\n",
            "    \"https://www.citizen.co.za/lifestyle/technology/tech-product-launches-2025/\",\n",
            "    \"https://www.law.com/legaltechnews/2025/04/04/legaltech-rundown-haystack-id-launches-gen-ai-matter-intelligence-tool-aaa-announces-new-consumer-mediation-procedures-and-more/\",\n",
            "    \"https://www.forbes.com/sites/moorinsights/2025/04/09/ibm-launches-z17-mainframe-with-full-ai-integration/\",\n",
            "    \"https://gfmag.com/technology/heineken-launches-generative-ai-lab/\",\n",
            "    \"https://www.msn.com/en-us/money/companies/rxsight-adjusts-2025-revenue-guidance-to-160m-175m-amid-premium-iol-market-challenges/ar-AA1Cfnut\",\n",
            "    \"https://www.reuters.com/business/retail-consumer/amazon-targets-april-9-launch-first-kuiper-internet-satellites-2025-04-02/\",\n",
            "    \"https://www.investopedia.com/amazon-tests-interests-ai-shopping-tool-health-chatbot-update-11703479\",\n",
            "    \"https://www.ndtv.com/topic/artificial-intelligence-and-machine-building\",\n",
            "    \"https://gulfnews.com/business/aviation/emirates-courier-express-to-launch-person-to-person-shipping-by-2026-1.500094725\"\n",
            "  ],\n",
            "  \"Environmental conservation efforts\": [\n",
            "    \"https://www.yahoo.com/lifestyle/just-little-decisions-local-conservation-222000319.html\",\n",
            "    \"https://www.msn.com/en-in/money/topstories/from-conflict-to-coexistence-royal-ranthambore-tiger-week-puts-spotlight-on-saving-wild-tigers/ar-AA1D1hXa\",\n",
            "    \"https://www.msn.com/en-us/news/politics/exclusive-trump-admin-plans-overhaul-of-endangered-species-act/ar-AA1D1Wr9\",\n",
            "    \"https://www.msn.com/en-ae/news/national/dubais-young-environmentalist-donates-proceeds-from-podcast-book-to-conservation-fund/ar-AA1COpqA\",\n",
            "    \"https://www.msn.com/en-us/news/technology/owning-a-dog-does-extensive-environmental-damage-heres-how-to-lower-the-toll/ar-AA1CD5E9\",\n",
            "    \"https://www.msn.com/en-gb/news/uknews/dawoodi-bohra-muslim-community-of-bradford-praised-for-litter-picking-and-conservation-efforts/ar-AA1Cjdvq\",\n",
            "    \"https://www.dailypress.com/2025/04/04/conservation-scientist-will-give-wm-commencement-speech/\",\n",
            "    \"https://www.courthousenews.com/conservation-groups-challenge-trumps-removal-of-environmental-justice-resources/\",\n",
            "    \"https://www.dailysabah.com/politics/turkiye-lambasts-greekmaritime-spatial-planning/news\",\n",
            "    \"https://www.sciencedaily.com/releases/2025/04/250409212534.htm\"\n",
            "  ],\n",
            "  \"Government corruption investigations\": [\n",
            "    \"https://www.nytimes.com/2025/04/06/nyregion/nyc-corruption-adams-doi.html\",\n",
            "    \"https://www.msn.com/en-us/news/world/exclusive-house-gop-firebrand-drives-doge-committee-investigation-of-government-media-agency-corruption/ar-AA1Bl4SJ\",\n",
            "    \"https://www.telegraph.co.uk/world-news/2025/04/13/tulip-siddiq-issued-arrest-warrant-on-corruption-charges/\",\n",
            "    \"https://www.civilbeat.org/2025/04/revelations-renew-calls-for-government-accountability/\",\n",
            "    \"https://www.msn.com/en-us/money/news/corruption-hunters-say-trumps-usaid-cuts-just-made-organized-crime-groups-much-more-dangerous/ar-AA1CeQZJ\",\n",
            "    \"https://www.thestar.com.my/aseanplus/aseanplus-news/2025/04/12/the-more-china-investigates-corruption-the-more-it-finds-will-the-battle-ever-be-won\",\n",
            "    \"https://www.motherjones.com/politics/2025/04/eric-adams-kash-patel-book-judge-drops-case-corruption/\",\n",
            "    \"https://www.politico.eu/article/huawei-forum-europe-staff-face-belgian-court-hearings-over-corruption-charges/\",\n",
            "    \"https://www.philstar.com/opinion/2025/03/19/2429368/usual-suspect-corruption\",\n",
            "    \"https://www.ktvu.com/news/nyc-mayor-eric-adams-case-latest\"\n",
            "  ],\n",
            "  \"Public health advisories and outbreaks\": [\n",
            "    \"https://www.msn.com/en-us/health/other/the-sudden-dismissal-of-public-records-staff-at-health-agencies-threatens-government-accountability/ar-AA1D2fqI\",\n",
            "    \"https://www.msn.com/en-ca/public-safety-and-emergencies/health-and-safety-alerts/ontario-s-large-measles-outbreak-catches-attention-of-new-york-public-health-officials/ar-AA1CtAMf\",\n",
            "    \"https://www.msn.com/en-us/public-safety-and-emergencies/health-and-safety-alerts/cdc-says-measles-cases-are-most-likely-underreported-as-outbreak-swells-in-texas/ar-AA1D16TG\",\n",
            "    \"https://www.msn.com/en-ca/health/other/measles-is-spreading-in-ontario-do-you-need-a-booster/ar-AA1CZotg\",\n",
            "    \"https://www.cbc.ca/news/canada/toronto/new-york-state-department-of-health-measles-travel-advisory-ontario-1.7504085\",\n",
            "    \"https://www.msn.com/en-us/health/other/measles-outbreak-update-infections-surge-by-triple-digits/ar-AA1CLzK9\",\n",
            "    \"https://www.sciencenews.org/article/public-health-cuts-infectious-diseases\",\n",
            "    \"https://www.theglobeandmail.com/canada/article-measles-ontario-outbreak-new-york-travel-advisory/\",\n",
            "    \"https://www.statnews.com/2025/04/15/acip-vaccine-advisory-panel-measles-covid-mpox-rfk-jr/\",\n",
            "    \"https://www.wwlp.com/news/state-politics/health-commissioner-urges-vigilance-amidst-measles-outbreaks/\"\n",
            "  ],\n",
            "  \"International trade disputes\": [\n",
            "    \"https://www.msn.com/en-us/money/companies/china-replaces-top-trade-negotiating-official-as-talks-with-washington-stall/ar-AA1D06sQ\",\n",
            "    \"https://www.msn.com/en-us/money/markets/china-appoints-new-top-international-trade-negotiator-amid-tariff-tensions-with-the-us/ar-AA1D0cf2\",\n",
            "    \"https://www.oneindia.com/international/us-china-trade-war-heats-up-china-bans-rare-metals-president-trump-strikes-back-with-245-tariffs-4125337.html\",\n",
            "    \"https://www.msn.com/en-gb/money/other/trumps-trade-war-with-china-could-cost-nvidia-42b-as-it-races-to-build-fully-us-made-supercomputer-chips/ar-AA1D1kQ4\",\n",
            "    \"https://www.jdsupra.com/legalnews/using-international-arbitration-to-6590250/\",\n",
            "    \"https://www.nytimes.com/2025/04/14/us/politics/trump-trade-war-china-dilemma.html\",\n",
            "    \"https://www.telegraph.co.uk/business/2025/04/07/trumps-trade-war-is-boom-time-for-one-profession-lawyers/\",\n",
            "    \"https://www.cincinnati.com/story/money/2025/04/02/cincinnatis-economy-depends-on-foreign-trade-as-trump-ups-tariffs/82754649007/\",\n",
            "    \"https://qctimes.com/news/local/business/article_187c07ba-4017-4c72-875c-161d5a9f690c.html\",\n",
            "    \"https://www.chinadaily.com.cn/a/202504/11/WS67f8538aa3104d9fd381ea5c.html\"\n",
            "  ],\n",
            "  \"Housing market trends\": [\n",
            "    \"https://www.msn.com/en-us/money/realestate/housing-market-sees-generational-shift-plot-twist/ar-AA1CLjaz\",\n",
            "    \"https://www.desmoinesregister.com/story/money/personalfinance/real-estate/2025/03/28/spring-housing-market-update-mortgages-layoffs/82656539007/\",\n",
            "    \"https://www.westword.com/news/how-denver-real-estate-market-has-changed-since-2020-24280149\",\n",
            "    \"https://www.msn.com/en-us/money/realestate/home-values-have-plunged-in-this-florida-area-what-happened-to-hot-market/ar-AA1CXdXk\",\n",
            "    \"https://www.yahoo.com/lifestyle/join-kingston-residences-real-estate-090453812.html\",\n",
            "    \"https://www.msn.com/en-us/money/realestate/how-4-first-time-homebuyers-broke-into-today-s-market/ar-AA1D2l4V\",\n",
            "    \"https://www.usatoday.com/story/lifestyle/real-estate/2025/04/05/poconos-housing-real-estate-market-east-stroudsburg/82784180007/\",\n",
            "    \"https://www.msn.com/en-us/money/realestate/a-look-at-denvers-housing-market-5-years-since-covid/ar-AA1CLIrr\",\n",
            "    \"https://www.msn.com/en-us/money/realestate/more-homes-for-sale-and-easing-rates-favor-homebuyers-this-spring-but-affordability-hurdles-remain/ar-AA1Cq8y3\",\n",
            "    \"https://www.globest.com/2025/04/09/remote-work-drop-signals-shift-in-rental-market-and-housing-trends/\"\n",
            "  ],\n",
            "  \"Major mergers and acquisitions\": [\n",
            "    \"https://seekingalpha.com/article/4773822-amcor-dividend-aristocrat-executing-major-acquisition\",\n",
            "    \"https://www.nytimes.com/2025/04/13/technology/meta-ftc-trial-whatsapp-instagram.html\",\n",
            "    \"https://nypost.com/2025/03/21/business/fccs-carr-warns-dei-policies-at-paramount-verizon-could-threaten-mergers/\",\n",
            "    \"https://cyprus-mail.com/2025/03/24/cyprus-insurance-sector-sees-rise-in-mergers-and-acquisitions\",\n",
            "    \"https://www.msn.com/en-sg/news/other/vietnam-2025-m-a-outlook-trends-deals-and-opportunities/ar-AA1Bm5aF\",\n",
            "    \"https://www.tsnn.com/news/new-business-deals-freeman-impact-xm-and-more-expand-reach-and-services-mas\",\n",
            "    \"https://www.msn.com/en-us/money/companies/capital-one-discover-merger-cleared-by-doj-what-to-know-about-the-35-billion-mega-deal/ar-AA1CfWUs\",\n",
            "    \"https://www.theaustralian.com.au/business/dataroom/glencore-visit-spurs-rio-talk/news-story/07ccb47fa56c068e8a839546d3431583\",\n",
            "    \"https://www.foxbusiness.com/category/mergers-and-acquisitions\",\n",
            "    \"https://www.benzinga.com/government/regulations/25/04/44653113/this-week-in-cannabis-trump-policy-updates-corporate-moves-regulatory-shifts-and-product-innovations\"\n",
            "  ]\n",
            "}\n"
          ]
        }
      ]
    },
    {
      "cell_type": "code",
      "source": [
        "# If in a notebook cell, add these lines at the end\n",
        "from google.colab import files\n",
        "files.download('news_urls.json')"
      ],
      "metadata": {
        "id": "DAoDk30O8GHt"
      },
      "execution_count": null,
      "outputs": []
    },
    {
      "cell_type": "code",
      "source": [
        "from duckduckgo_search import DDGS\n",
        "import newspaper\n",
        "\n",
        "\n",
        "query = \"applications of blockchain in healthcare\"\n",
        "# results = list(DDGS().text(query, max_results=10))\n",
        "\n",
        "for result in results:\n",
        "    print(result['title'])\n",
        "    print(result['body'])"
      ],
      "metadata": {
        "colab": {
          "base_uri": "https://localhost:8080/"
        },
        "id": "MojnfJt2W2PX",
        "outputId": "c9fa8567-f53a-4785-92fc-0e8759f22ca5"
      },
      "execution_count": null,
      "outputs": [
        {
          "output_type": "stream",
          "name": "stdout",
          "text": [
            "Blockchain technology applications in healthcare: An overview\n",
            "Blockchain is a relatively modern and emerging technology that has innovative applications during its successful healthcare implementation. Smooth, efficient data sharing and delivery across all the prominent network members and healthcare providers contribute to developing economical therapies and sophisticated treatments for many diseases.\n",
            "Blockchain in Healthcare: 16 Real-World Examples - Built In\n",
            "3 Ways Blockchain Will Change Healthcare | Video: The Medical Futurist Blockchain and Healthcare Data Security. In 2023, there were 725 data breaches of at least 500 patient records — the most ever reported to the Department of Health and Human Services Office for Civil Rights. Blockchain's ability to keep an incorruptible, decentralized and transparent log of all patient data makes it a ...\n",
            "Frontiers | Exploring applications of blockchain in healthcare: road ...\n",
            "Applications of blockchain in healthcare. Blockchain technology possesses the potential to enhance the healthcare sector by prioritizing the patient within the system and enhancing the safeguarding, security, and seamless exchange of health information. In essence, the healthcare industry could undergo a substantial transformation through the ...\n",
            "Blockchain technology in healthcare: A systematic review\n",
            "Blockchain applications for healthcare data management. Healthcare informatics research, 25(1), 51-56. [PMC free article] [Google Scholar] 120. Casino F., Dasaklis T. K., & Patsakis C. (2019). A systematic literature review of blockchain-based applications: Current status, classification and open issues. Telematics and informatics, 36, 55-81.\n",
            "5 blockchain healthcare use cases in digital health - STL Partners\n",
            "Beyond creating blockchain-based medical records, Medicalchain is also developing a platform upon which others can build digital health solutions, including a virtual consultation service and a medical data exchange, where patients can choose to sell their anonymised medical data, in exchange for Medtokens, to support digital health application ...\n",
            "Blockchain in Healthcare: Guide to Uses, Benefits & Examples\n",
            "Key applications of blockchain in healthcare. Blockchain holds promise for many businesses in the healthcare domain, including biopharmaceutical companies, medical device manufacturers, insurers, and healthcare providers. Here, we highlight the key blockchain technology use cases in healthcare.\n",
            "Applications of Blockchain in the Medical Field: Narrative Review\n",
            "As a distributed technology, blockchain has attracted increasing attention from stakeholders in the medical industry. Although previous studies have analyzed blockchain applications from the perspectives of technology, business, or patient care, few studies have focused on actual use-case scenarios of blockchain in health care.\n",
            "15 Applications of Blockchain in Healthcare - Clavis Technologies\n",
            "Applications of Blockchain in Healthcare: Below are a few ways blockchain is helpful in the healthcare industry. 1. Security and Patient Data Management. In the healthcare industry, data security is a critical concern. Data security has become a major issue for patients around the world as the number of data breaches rises year after year.\n",
            "Blockchain applications in health care for COVID-19 and beyond: a ...\n",
            "Blockchain is a foundational digital technology that integrates multiple other such technologies (appendix pp 2-4). 3,6 In health care, blockchain could serve as a replacement to traditional distributed database management systems, which have generally been client-server databases with Structured Query Language or relational input. 7 Although traditional distributed database management ...\n",
            "Blockchain in Healthcare: Benefits, Use Cases, & Challenges\n",
            "The application of blockchain technology to healthcare-related activities can provide a decentralized and secure way to manage, store, and share medical data. Blockchain in healthcare can encompass a range of use cases, from electronic health records (EHRs) and medical research to insurance claims and pharmaceutical supply chains.\n"
          ]
        }
      ]
    },
    {
      "cell_type": "code",
      "source": [
        "\n",
        "article = newspaper.article('https://edition.cnn.com/2023/10/29/sport/nfl-week-8-how-to-watch-spt-intl/index.html')\n",
        "\n",
        "print(article.authors)"
      ],
      "metadata": {
        "colab": {
          "base_uri": "https://localhost:8080/"
        },
        "id": "XbPZ71Psd2u7",
        "outputId": "e70afba4-dc87-4dd4-a5ce-fd976d19f7ed"
      },
      "execution_count": null,
      "outputs": [
        {
          "output_type": "stream",
          "name": "stdout",
          "text": [
            "['Hannah Brewitt']\n"
          ]
        }
      ]
    },
    {
      "cell_type": "code",
      "source": [
        "# news_result = DDGS().news(keywords=\"developments in climate change\", region=\"us-en\", safesearch=\"off\", timelimit=\"m\", max_results=10)\n",
        "print(news_result)"
      ],
      "metadata": {
        "colab": {
          "base_uri": "https://localhost:8080/"
        },
        "id": "GvYxK-eAHjuQ",
        "outputId": "51e5a81b-d295-4818-97d4-ad691f40e3a1"
      },
      "execution_count": null,
      "outputs": [
        {
          "output_type": "stream",
          "name": "stdout",
          "text": [
            "[{'date': '2025-03-05T17:23:00+00:00', 'title': 'Opinion: Democracy and Climate Change', 'body': 'Ill-effects of growth model needs serious revisit to strike a balance between ecology, economy Climate change has emerged as both academic and policy relevance globally in the last two-and-a-half decades.', 'url': 'https://telanganatoday.com/opinion-democracy-and-climate-change', 'image': 'https://media.telanganatoday.com/wp-content/uploads/2025/03/Opinion.jpg', 'source': 'Telangana Today'}, {'date': '2025-03-06T04:42:00+00:00', 'title': 'Global South is driving climate agenda: Bhupender Yadav', 'body': 'The Global South is driving the climate agenda, and the world now looks at India as a leader, Union minister for environment, forest and climate change, Bhupender Yadav said on Wednesday.', 'url': 'https://www.msn.com/en-in/entertainment/southcinema/global-south-is-driving-climate-agenda-bhupender-yadav/ar-AA1AjA9j', 'image': 'https://www.livemint.com/lm-img/img/2025/03/05/1600x900/PTI02-17-2025-000156B-0_1741194117009_1741194138503.jpg', 'source': 'Live Mint'}, {'date': '2025-03-05T21:01:42+00:00', 'title': 'CT lawmakers approve 5-year plan focused on climate change, housing', 'body': 'The Plan of Conservation and Development says climate change should be a central tenet in discussions about where and how CT builds.', 'url': 'https://www.msn.com/en-us/news/politics/ct-lawmakers-approve-5-year-plan-focused-on-climate-change-housing/ar-AA1Akany', 'image': 'https://ctmirror-images.s3.amazonaws.com/wp-content/uploads/2025/03/2025_0305_SR_CapitolSession229-3-scaled.jpg', 'source': 'The Connecticut Mirror'}, {'date': '2025-03-07T12:15:00+00:00', 'title': 'United States quits board of UN climate damage fund, letter shows', 'body': \"The United States has withdrawn from the board of the U.N.'s hard-negotiated climate damage fund, dedicated to helping poor and vulnerable nations cope with climate change-fuelled disasters, a letter seen by Reuters showed.\", 'url': 'https://www.reuters.com/world/us/united-states-quits-board-un-climate-damage-fund-letter-shows-2025-03-07/', 'image': 'https://www.reuters.com/resizer/v2/ZSVANSM5I5PAFCYITGTO7WTKRU.jpg?auth=12bdedd97249cb7dcfa55abfc05138d23ad40ef8223de556704bf5203403e802&height=1005&width=1920&quality=80&smart=true', 'source': 'Reuters'}, {'date': '2025-03-06T16:45:04+00:00', 'title': 'Ghana needs more young farmers, but does climate change put them off? Study shows surprising results', 'body': 'Young people are in fact attracted to farming by new innovations in agriculture that help farms withstand climate change disasters. In contrast to other studies, our study shows that the majority of youth are willing to participate in agriculture and agribusiness, with 76.7% of the study participants in favour of farming.', 'url': 'https://www.msn.com/en-us/news/technology/ghana-needs-more-young-farmers-but-does-climate-change-put-them-off-study-shows-surprising-results/ar-AA1Aosyo', 'image': 'https://images.theconversation.com/files/650344/original/file-20250220-32-831mku.jpg?ixlib=rb-4.1.0&rect=0,723,8192,4096&q=45&auto=format&w=1356&h=668&fit=crop', 'source': 'Phys.org'}, {'date': '2025-03-07T09:50:00+00:00', 'title': 'Guyana stresses global collaboration for targeted climate solutions', 'body': 'He announced that solar energy capacity has grown by 173% since 2020, with the Guyana Utility-Scale Solar Photovoltaic programme (GUYSOL) set to launch the largest utility-scale solar plants in 2025, marking a significant step towards a clean- energy future.', 'url': 'https://guyanachronicle.com/2025/03/07/guyana-stresses-global-collaboration-for-targeted-climate-solutions/', 'image': '', 'source': 'Guyana Chronicle'}, {'date': '2025-03-07T00:41:00+00:00', 'title': \"Political instability, climate change threaten Africa's development prospects — Experts\", 'body': \"Experts have raised concerns as Nigeria's and Africa's development aspirations are under threat from the twin challenges of political instability and climate change.They stressed that the continent is facing a crisis of development,\", 'url': 'https://www.msn.com/en-xl/africa/nigeria/political-instability-climate-change-threaten-africa-s-development-prospects-experts/ar-AA1ApxWN', 'image': '', 'source': 'Tribune Online'}, {'date': '2025-03-06T02:58:00+00:00', 'title': \"Lack of justice in Indonesia's climate plan may backfire\", 'body': \"Indonesia's climate documents have failed to adequately address the social and environmental aspects that are fundamental to a just transition.\", 'url': 'https://www.thejakartapost.com/opinion/2025/03/06/lack-of-justice-in-indonesias-climate-plan-may-backfire.html', 'image': 'https://img.jakpost.net/c/2024/09/30/2024_09_30_155409_1727685203._large.jpg', 'source': 'The Jakarta Post'}, {'date': '2025-03-07T00:26:00+00:00', 'title': \"We're committed to climate action — FG\", 'body': 'The Federal Government has reiterated its commitment to addressing issues regarding climate change and enhancing climate action for sustainable development.', 'url': 'https://www.vanguardngr.com/2025/03/were-committed-to-climate-action-fg/', 'image': 'https://cdn.vanguardngr.com/wp-content/uploads/2020/01/Climate.jpg', 'source': 'Vanguard'}, {'date': '2025-03-06T22:00:00+00:00', 'title': 'Kamaʻāina artists selected for climate change action residency', 'body': \"University of Hawai'i at Mānoa educator Ben Fairfield, who creates musical instruments from trash, was one of four artists selected for the residency program. PC: DLNR Four artists have been selected as the state of Hawaiʻiʻs Climate Artists in Residence, the Department of Land and Natural Resources announced Tuesday.\", 'url': 'https://mauinow.com/2025/03/06/kamaʻaina-artists-selected-for-climate-change-action-residency/', 'image': 'https://media.mauinow.com/file/mauinow/2025/03/Gillian-Duenas-955x1024.jpg', 'source': 'Maui Now'}]\n"
          ]
        }
      ]
    },
    {
      "cell_type": "code",
      "source": [
        "query = \"applications of blockchain in healthcare\"\n",
        "\n",
        "# news_result = DDGS().news(\n",
        "#     keywords=query,\n",
        "#     region=\"us-en\",\n",
        "#     safesearch=\"off\",\n",
        "#     timelimit=\"m\",\n",
        "#     max_results=10)\n",
        "\n",
        "# text_list = []\n",
        "\n",
        "for result in news_result:\n",
        "    try:\n",
        "        article = newspaper.article(result['url'])\n",
        "        article.download()\n",
        "        article.parse()\n",
        "        text_list.append({\n",
        "            'title': result['title'],\n",
        "            'body': result['body'],\n",
        "            'url': result['url'],\n",
        "            'full_text': article.text\n",
        "        })\n",
        "        print(article.title)\n",
        "    except Exception as e:\n",
        "        print(f\"Skipping article due to error: {str(e)}\")\n",
        "        continue"
      ],
      "metadata": {
        "colab": {
          "base_uri": "https://localhost:8080/"
        },
        "id": "2jUEwFtmIAF9",
        "outputId": "40ffe460-4bb5-4972-91e3-8053b4569682"
      },
      "execution_count": null,
      "outputs": [
        {
          "output_type": "stream",
          "name": "stdout",
          "text": [
            "Blockchain In Supply Chain: Real-World Applications In India\n",
            "Navigating the Future of Technology With Broxus Blockchain Solutions for Governments and Enterprises\n"
          ]
        },
        {
          "output_type": "stream",
          "name": "stderr",
          "text": [
            "WARNING:newspaper.network:get_html_status(): bad status code 403 on URL: https://www.tmcnet.com/usubmit/2025/03/06/10157071.htm, html: <!DOCTYPE html><html lang=\"en-US\"><head><title>Just a moment...</title><meta http-equiv=\"Content-Type\" content=\"text/html; charset=UTF-8\"><meta http-equiv=\"X-UA-Compatible\" content=\"IE=Edge\"><meta nam\n"
          ]
        },
        {
          "output_type": "stream",
          "name": "stdout",
          "text": [
            "India's Crypto Start-up Ecosystem: Innovation In The Face Of Regulatory Uncertainty\n",
            "Skipping article due to error: Article `download()` failed with Status code 403 for url None on URL https://www.tmcnet.com/usubmit/2025/03/06/10157071.htm\n",
            "Blockchain’s Impact on Cryptocurrencies and Beyond\n",
            "Ping An Tops Global Patentee Top 10 List, Leading in Fintech and Healthcare\n",
            "Can AI Finally Solve the Healthcare Data Puzzle?\n",
            "Top Blockchain Development Services for Web3 Solutions - Nadcab Labs\n",
            "The Digital Transformation of Healthcare: AI, IoT, and Blockchain in Action\n",
            "WISeKey WISeID Provides Healthcare Security with Decentralized Digital Identities\n"
          ]
        }
      ]
    },
    {
      "cell_type": "code",
      "source": [
        "!pip3 install sumy\n",
        "from sumy.parsers.plaintext import PlaintextParser\n",
        "from sumy.nlp.tokenizers import Tokenizer\n",
        "from sumy.summarizers.lex_rank import LexRankSummarizer"
      ],
      "metadata": {
        "colab": {
          "base_uri": "https://localhost:8080/"
        },
        "id": "04R3oM1ZPpeQ",
        "outputId": "2dc542d7-6e3a-4614-963b-c35e9db78bef"
      },
      "execution_count": null,
      "outputs": [
        {
          "output_type": "stream",
          "name": "stdout",
          "text": [
            "Collecting sumy\n",
            "  Downloading sumy-0.11.0-py2.py3-none-any.whl.metadata (7.5 kB)\n",
            "Collecting docopt<0.7,>=0.6.1 (from sumy)\n",
            "  Downloading docopt-0.6.2.tar.gz (25 kB)\n",
            "  Preparing metadata (setup.py) ... \u001b[?25l\u001b[?25hdone\n",
            "Collecting breadability>=0.1.20 (from sumy)\n",
            "  Downloading breadability-0.1.20.tar.gz (32 kB)\n",
            "  Preparing metadata (setup.py) ... \u001b[?25l\u001b[?25hdone\n",
            "Requirement already satisfied: requests>=2.7.0 in /usr/local/lib/python3.11/dist-packages (from sumy) (2.32.3)\n",
            "Collecting pycountry>=18.2.23 (from sumy)\n",
            "  Downloading pycountry-24.6.1-py3-none-any.whl.metadata (12 kB)\n",
            "Requirement already satisfied: nltk>=3.0.2 in /usr/local/lib/python3.11/dist-packages (from sumy) (3.9.1)\n",
            "Requirement already satisfied: chardet in /usr/local/lib/python3.11/dist-packages (from breadability>=0.1.20->sumy) (5.2.0)\n",
            "Requirement already satisfied: lxml>=2.0 in /usr/local/lib/python3.11/dist-packages (from breadability>=0.1.20->sumy) (5.3.1)\n",
            "Requirement already satisfied: click in /usr/local/lib/python3.11/dist-packages (from nltk>=3.0.2->sumy) (8.1.8)\n",
            "Requirement already satisfied: joblib in /usr/local/lib/python3.11/dist-packages (from nltk>=3.0.2->sumy) (1.4.2)\n",
            "Requirement already satisfied: regex>=2021.8.3 in /usr/local/lib/python3.11/dist-packages (from nltk>=3.0.2->sumy) (2024.11.6)\n",
            "Requirement already satisfied: tqdm in /usr/local/lib/python3.11/dist-packages (from nltk>=3.0.2->sumy) (4.67.1)\n",
            "Requirement already satisfied: charset-normalizer<4,>=2 in /usr/local/lib/python3.11/dist-packages (from requests>=2.7.0->sumy) (3.4.1)\n",
            "Requirement already satisfied: idna<4,>=2.5 in /usr/local/lib/python3.11/dist-packages (from requests>=2.7.0->sumy) (3.10)\n",
            "Requirement already satisfied: urllib3<3,>=1.21.1 in /usr/local/lib/python3.11/dist-packages (from requests>=2.7.0->sumy) (2.3.0)\n",
            "Requirement already satisfied: certifi>=2017.4.17 in /usr/local/lib/python3.11/dist-packages (from requests>=2.7.0->sumy) (2025.1.31)\n",
            "Downloading sumy-0.11.0-py2.py3-none-any.whl (97 kB)\n",
            "\u001b[2K   \u001b[90m━━━━━━━━━━━━━━━━━━━━━━━━━━━━━━━━━━━━━━━━\u001b[0m \u001b[32m97.3/97.3 kB\u001b[0m \u001b[31m4.9 MB/s\u001b[0m eta \u001b[36m0:00:00\u001b[0m\n",
            "\u001b[?25hDownloading pycountry-24.6.1-py3-none-any.whl (6.3 MB)\n",
            "\u001b[2K   \u001b[90m━━━━━━━━━━━━━━━━━━━━━━━━━━━━━━━━━━━━━━━━\u001b[0m \u001b[32m6.3/6.3 MB\u001b[0m \u001b[31m47.4 MB/s\u001b[0m eta \u001b[36m0:00:00\u001b[0m\n",
            "\u001b[?25hBuilding wheels for collected packages: breadability, docopt\n",
            "  Building wheel for breadability (setup.py) ... \u001b[?25l\u001b[?25hdone\n",
            "  Created wheel for breadability: filename=breadability-0.1.20-py2.py3-none-any.whl size=21691 sha256=7cb5de9c167b757373d5c699ef101aa11f386ecf21dec52c30f77fa720a7faae\n",
            "  Stored in directory: /root/.cache/pip/wheels/4d/57/58/7e3d7fedf51fe248b7fcee3df6945ae28638e22cddf01eb92b\n",
            "  Building wheel for docopt (setup.py) ... \u001b[?25l\u001b[?25hdone\n",
            "  Created wheel for docopt: filename=docopt-0.6.2-py2.py3-none-any.whl size=13706 sha256=ac745418f864315a10278e6623643b37e5055f8dafc60e4269a6960db2943de7\n",
            "  Stored in directory: /root/.cache/pip/wheels/1a/b0/8c/4b75c4116c31f83c8f9f047231251e13cc74481cca4a78a9ce\n",
            "Successfully built breadability docopt\n",
            "Installing collected packages: docopt, pycountry, breadability, sumy\n",
            "Successfully installed breadability-0.1.20 docopt-0.6.2 pycountry-24.6.1 sumy-0.11.0\n"
          ]
        }
      ]
    },
    {
      "cell_type": "code",
      "source": [
        "import nltk\n",
        "from nltk.corpus import stopwords\n",
        "from nltk.tokenize import sent_tokenize, word_tokenize\n",
        "from sklearn.feature_extraction.text import TfidfVectorizer\n",
        "from sklearn.cluster import KMeans\n",
        "from transformers import pipeline\n",
        "\n",
        "\n",
        "nltk.download('stopwords')\n",
        "nltk.download('punkt')\n",
        "nltk.download('punkt_tab')"
      ],
      "metadata": {
        "colab": {
          "base_uri": "https://localhost:8080/"
        },
        "id": "pP_apMGaQVmm",
        "outputId": "dce3488b-2d4c-47c8-881c-6a982e26c4f5"
      },
      "execution_count": null,
      "outputs": [
        {
          "output_type": "stream",
          "name": "stderr",
          "text": [
            "[nltk_data] Downloading package stopwords to /root/nltk_data...\n",
            "[nltk_data]   Package stopwords is already up-to-date!\n",
            "[nltk_data] Downloading package punkt to /root/nltk_data...\n",
            "[nltk_data]   Package punkt is already up-to-date!\n",
            "[nltk_data] Downloading package punkt_tab to /root/nltk_data...\n",
            "[nltk_data]   Package punkt_tab is already up-to-date!\n"
          ]
        },
        {
          "output_type": "execute_result",
          "data": {
            "text/plain": [
              "True"
            ]
          },
          "metadata": {},
          "execution_count": 61
        }
      ]
    },
    {
      "cell_type": "code",
      "source": [
        "def generate_combined_summary(text_list, method='abstractive'):\n",
        "    # Concatenate all articles with titles\n",
        "    combined_text = \"\"\n",
        "    for item in text_list:\n",
        "        combined_text += f\"{item['title']}\\n{item['full_text']}\\n\\n\"\n",
        "\n",
        "    if method == 'extractive':\n",
        "        # Using extractive summarization\n",
        "        parser = PlaintextParser.from_string(combined_text, Tokenizer(\"english\"))\n",
        "        summarizer = LexRankSummarizer()\n",
        "        summary = summarizer(parser.document, sentences_count=10)\n",
        "        return \" \".join([str(sentence) for sentence in summary])\n",
        "\n",
        "    elif method == 'abstractive':\n",
        "        # Using transformers for abstractive summarization\n",
        "        summarizer = pipeline(\"summarization\", model=\"facebook/bart-large-cnn\")\n",
        "        # Process in chunks if the combined text is too long\n",
        "        max_chunk_length = 1024  # Approximate token limit for BART\n",
        "        chunks = [combined_text[i:i+max_chunk_length] for i in range(0, len(combined_text), max_chunk_length)]\n",
        "\n",
        "        summaries = []\n",
        "        for chunk in chunks:\n",
        "            if len(chunk) > 100:  # Ensure chunk is long enough to summarize\n",
        "                summary = summarizer(chunk, max_length=150, min_length=50, do_sample=False)\n",
        "                summaries.append(summary[0]['summary_text'])\n",
        "\n",
        "        return \" \".join(summaries)"
      ],
      "metadata": {
        "id": "rYt8i70INYpc"
      },
      "execution_count": null,
      "outputs": []
    },
    {
      "cell_type": "code",
      "source": [
        "# Generate a single summary from all articles\n",
        "overall_summary = generate_combined_summary(text_list)\n",
        "print(\"Abstractive Overall Summary:\")\n",
        "print(overall_summary)"
      ],
      "metadata": {
        "id": "xJogRc11P2-d"
      },
      "execution_count": null,
      "outputs": []
    },
    {
      "cell_type": "code",
      "source": [
        "overall_summary_extractive = generate_combined_summary(text_list, 'extractive')\n",
        "print(\"Extractive Overall Summary:\")\n",
        "print(overall_summary_extractive)"
      ],
      "metadata": {
        "colab": {
          "base_uri": "https://localhost:8080/"
        },
        "id": "hBAD2zeNOaw1",
        "outputId": "a4b31814-5742-47ae-fbfa-3cfe37135aaa"
      },
      "execution_count": null,
      "outputs": [
        {
          "output_type": "stream",
          "name": "stdout",
          "text": [
            "Extractive Overall Summary:\n",
            "The Future of Blockchain in Supply Chain in India In Addition, Blockchain is revolutionizing many government services, from financing and supply chain management to healthcare, enabling decentralized transactions to reduce fraud and enhance data integrity. Therefore provides the integrity and security of the data with its transparency, making it an ideal application among digital currencies. The future of industries is going to be revolutionized by blockchain technology with its decentralized and secure nature beyond just digital currencies, building trust and transparency in the digital age. The Advancements Of Blockchain With Integration Of AI In The Future India's Crypto Start-up Ecosystem: Innovation In The Face Of Regulatory Uncertainty The innovation that has been triggered by the cryptos has had a chain reaction of innovation all over the world, and India is not an exception. The healthcare industry white paper points out that artificial intelligence (AI) technology has become a key driver in promoting innovation and progress in the healthcare industry, and Ping An's patent portfolio in healthcare is particularly strong, with leading numbers of patents in AI, blockchain and big data, significantly outstripping its closest competitors. About Ping An Group Ping An Insurance (Group) Company of China, Ltd. (HKEx:2318 / 82318; SSE:601318) is one of the largest financial services companies in the world. He also recommends the use of innovative technologies like blockchain in the management of data to ensure that the data is secure and can be easily shared among healthcare payers and providers to improve the claims processing and reduce costs.\n"
          ]
        }
      ]
    },
    {
      "cell_type": "code",
      "source": [
        "print(len(overall_summary_extractive))"
      ],
      "metadata": {
        "colab": {
          "base_uri": "https://localhost:8080/"
        },
        "id": "XvLRn54vQuL_",
        "outputId": "9d8fcef2-8baa-4900-81be-918f8c06d5a5"
      },
      "execution_count": null,
      "outputs": [
        {
          "output_type": "stream",
          "name": "stdout",
          "text": [
            "1671\n"
          ]
        }
      ]
    },
    {
      "cell_type": "code",
      "source": [
        "def topic_based_multi_doc_summary(text_list, num_sentences=15):\n",
        "    # Extract all sentences from all documents\n",
        "    all_sentences = []\n",
        "    for item in text_list:\n",
        "        sentences = sent_tokenize(item['full_text'])\n",
        "        all_sentences.extend(sentences)\n",
        "\n",
        "    # Calculate TF-IDF\n",
        "    # Changed stop_words to a list instead of a set\n",
        "    stop_words = stopwords.words('english')\n",
        "    vectorizer = TfidfVectorizer(stop_words=stop_words)\n",
        "    tfidf_matrix = vectorizer.fit_transform(all_sentences)\n",
        "\n",
        "    # Cluster sentences\n",
        "    num_clusters = min(num_sentences, len(all_sentences))\n",
        "    kmeans = KMeans(n_clusters=num_clusters)\n",
        "    kmeans.fit(tfidf_matrix)\n",
        "\n",
        "    # Get closest sentences to cluster centers\n",
        "    centers = kmeans.cluster_centers_\n",
        "    ordered_sentences = []\n",
        "    for i in range(num_clusters):\n",
        "        # Find the sentence closest to this cluster center\n",
        "        closest_idx = None\n",
        "        closest_dist = float('inf')\n",
        "        for j, sentence in enumerate(all_sentences):\n",
        "            if kmeans.labels_[j] == i:\n",
        "                # Convert tfidf_matrix[j] to dense array to match centers shape\n",
        "                dist = ((tfidf_matrix[j].toarray() - centers[i]) ** 2).sum() ** 0.5\n",
        "                if dist < closest_dist:\n",
        "                    closest_dist = dist\n",
        "                    closest_idx = j\n",
        "\n",
        "        if closest_idx is not None:\n",
        "            ordered_sentences.append((closest_idx, all_sentences[closest_idx]))\n",
        "\n",
        "    # Sort by original order\n",
        "    ordered_sentences.sort(key=lambda x: x[0])\n",
        "    summary = \" \".join([sentence for _, sentence in ordered_sentences])\n",
        "    return summary"
      ],
      "metadata": {
        "id": "C93nTCuyOoB3"
      },
      "execution_count": null,
      "outputs": []
    },
    {
      "cell_type": "code",
      "source": [
        "# Generate topic-based summary\n",
        "topic_summary = topic_based_multi_doc_summary(text_list)\n",
        "print(\"Topic-based Summary:\")\n",
        "print(topic_summary)"
      ],
      "metadata": {
        "colab": {
          "base_uri": "https://localhost:8080/"
        },
        "id": "IcTi40RzRE2x",
        "outputId": "fd4e4c0d-1478-440b-dac9-19e7a2819610"
      },
      "execution_count": null,
      "outputs": [
        {
          "output_type": "stream",
          "name": "stdout",
          "text": [
            "Topic-based Summary:\n",
            "The Future of Blockchain in Supply Chain in India\n",
            "\n",
            "The application of blockchain technology in supply chain management will increase with growing awareness by businesses and industries of its significance. Such innovations will transform the dynamics of business operation and consumer engagement. With solutions like those offered by Broxus, the future of digital transformation will be robust, secure, scalable, and efficient. The future of industries is going to be revolutionized by blockchain technology with its decentralized and secure nature beyond just digital currencies, building trust and transparency in the digital age. The future of blockchain technology holds an immense potential with the integration of AI. The Prospect of Blockchain Technology\n",
            "\n",
            "As blockchain technology continues to evolve, its potential applications are expected to grow exponentially. In the fintech sector, Ping An has 8,582 patents, accounting for more than 2% of patents of the entire industry. On the other hand, data integration is the process of combining data from different data sources to create a single integrated data set. Prabhu's research on data integration issues in the healthcare claims processing environment identifies the existing challenges in the sharing of information between payers and providers. 2. With WISeID.COM, the healthcare industry can shift towards a decentralized, patient-centric model that enhances privacy, security, and accessibility. Patients can selectively share medical records without disclosing unrelated health information. Improves healthcare trust through a transparent and tamper-proof system. Mitigates security risks associated with centralized storage and unauthorized access. About WISeKey\n",
            "\n",
            "WISeKey International Holding Ltd (“WISeKey”, SIX: WIHN; Nasdaq: WKEY) is a global leader in cybersecurity, digital identity, and IoT solutions platform.\n"
          ]
        }
      ]
    },
    {
      "cell_type": "code",
      "source": [
        "print(len(topic_summary))"
      ],
      "metadata": {
        "colab": {
          "base_uri": "https://localhost:8080/"
        },
        "id": "f_rtLRqnRbpg",
        "outputId": "709f27dc-fccc-4384-db96-e7daaa7b9afc"
      },
      "execution_count": null,
      "outputs": [
        {
          "output_type": "stream",
          "name": "stdout",
          "text": [
            "1887\n"
          ]
        }
      ]
    },
    {
      "cell_type": "code",
      "source": [
        "from collections import Counter\n",
        "import re\n",
        "import numpy as np\n",
        "\n",
        "def weighted_multi_doc_summary(text_list, num_sentences=15):\n",
        "    # Extract all text\n",
        "    all_text = \"\"\n",
        "    for item in text_list:\n",
        "        all_text += item['full_text'] + \" \"\n",
        "\n",
        "    # Find most common terms (potential key topics)\n",
        "    words = re.findall(r'\\w+', all_text.lower())\n",
        "    stop_words = set(stopwords.words('english'))\n",
        "    filtered_words = [word for word in words if word not in stop_words and len(word) > 3]\n",
        "    common_terms = [word for word, count in Counter(filtered_words).most_common(20)]\n",
        "\n",
        "    # Score sentences based on common terms\n",
        "    all_sentences = []\n",
        "    for item in text_list:\n",
        "        sentences = sent_tokenize(item['full_text'])\n",
        "        for sentence in sentences:\n",
        "            score = sum(1 for word in common_terms if word.lower() in sentence.lower())\n",
        "            all_sentences.append((sentence, score))\n",
        "\n",
        "    # Get top sentences\n",
        "    all_sentences.sort(key=lambda x: x[1], reverse=True)\n",
        "    top_sentences = [sentence for sentence, _ in all_sentences[:num_sentences]]\n",
        "\n",
        "    # Order sentences as they appeared in original text\n",
        "    sentence_positions = {}\n",
        "    position = 0\n",
        "    for item in text_list:\n",
        "        sentences = sent_tokenize(item['full_text'])\n",
        "        for sentence in sentences:\n",
        "            if sentence in top_sentences:\n",
        "                sentence_positions[sentence] = position\n",
        "            position += 1\n",
        "\n",
        "    ordered_top_sentences = sorted(top_sentences, key=lambda s: sentence_positions.get(s, float('inf')))\n",
        "    summary = \" \".join(ordered_top_sentences)\n",
        "    return summary"
      ],
      "metadata": {
        "id": "8C3KOov7Oq-R"
      },
      "execution_count": null,
      "outputs": []
    },
    {
      "cell_type": "code",
      "source": [
        "# Generate weighted summary\n",
        "weighted_summary = weighted_multi_doc_summary(text_list)\n",
        "print(\"Weighted Summary:\")\n",
        "print(weighted_summary)"
      ],
      "metadata": {
        "colab": {
          "base_uri": "https://localhost:8080/"
        },
        "id": "GNgo14XzRf2S",
        "outputId": "ba149346-d465-4167-ef62-c808cfb70a7d"
      },
      "execution_count": null,
      "outputs": [
        {
          "output_type": "stream",
          "name": "stdout",
          "text": [
            "Weighted Summary:\n",
            "Understanding Supply Chain Management in Blockchain\n",
            "\n",
            "Blockchain is a decentralized, immutable digital ledger that guarantees secure, transparent transactions. The Future of Blockchain in Supply Chain in India\n",
            "\n",
            "The application of blockchain technology in supply chain management will increase with growing awareness by businesses and industries of its significance. In Addition, Blockchain is revolutionizing many government services, from financing and supply chain management to healthcare, enabling decentralized transactions to reduce fraud and enhance data integrity. For enterprises, their solutions offer real-world asset tokenization, supply chain automation, and decentralization of financial services to improve operational efficiency and data security. Understanding The Security and Basics of Blockchain Technology\n",
            "\n",
            "Blockchain is a technology with a decentralized distributed ledger that allows P2P transactions to facilitate the safest direct exchange between two parties. The future of industries is going to be revolutionized by blockchain technology with its decentralized and secure nature beyond just digital currencies, building trust and transparency in the digital age. The Future Of Blockchain in Governments Digital Currencies\n",
            "\n",
            "Blockchain technology has been faithful to its word by showing consistency regarding financial properties. Their focus on Central Bank digital currency and enterprise solutions demonstrates their dedication to modernizing national financial systems while increasing operational efficiency and data security for businesses. With Broxus at the forefront of this ever-evolving industry, we can expect continued advancements in blockchain technology that will shape our future financial systems. Blockchain technology has opened doors for a number of startups to test its applications, including decentralized finance (DeFi), supply chain management, and digital identity verification. Blockchain’s decentralized, transparent, and secure framework has disrupted traditional systems and industries, introducing new ways of doing business, managing data, and ensuring trust. Our Smart Contract Development Solutions provide self-executing, tamper-proof contracts that ensure trust and security in financial transactions, supply chain management, and legal agreements. Ensuring Data Security and Compliance\n",
            "\n",
            "With increasing concerns over healthcare data privacy, blockchain provides a decentralized and tamper-proof method for storing patient records. Geneva, Switzerland, March 5, 2025 –WISeKey International Holding Ltd (“WISeKey”) (SIX: WIHN, NASDAQ: WKEY), a leading global cybersecurity, blockchain, and IoT company, today announces that its WISeID.COM introduces a groundbreaking approach to healthcare data security by enabling decentralized consultations through blockchain-secured digital identities, encryption, and self-sovereign identity (SSI) principles. The subsidiaries include (i) SEALSQ Corp (Nasdaq: LAES), which focuses on semiconductors, PKI, and post-quantum technology products, (ii) WISeKey SA which specializes in RoT and PKI solutions for secure authentication and identification in IoT, Blockchain, and AI, (iii) WISeSat AG which focuses on space technology for secure satellite communication, specifically for IoT applications, (iv) WISe.ART Corp which focuses on trusted blockchain NFTs and operates the WISe.ART marketplace for secure NFT transactions, and (v) SEALCOIN AG which focuses on decentralized physical internet with DePIN technology and house the development of the SEALCOIN platform.\n"
          ]
        }
      ]
    },
    {
      "cell_type": "code",
      "source": [
        "print(len(weighted_summary))"
      ],
      "metadata": {
        "colab": {
          "base_uri": "https://localhost:8080/"
        },
        "id": "07euSIjkRgZT",
        "outputId": "cffbfb35-a656-4ab3-8180-d7688c6467cf"
      },
      "execution_count": null,
      "outputs": [
        {
          "output_type": "stream",
          "name": "stdout",
          "text": [
            "3567\n"
          ]
        }
      ]
    },
    {
      "cell_type": "code",
      "source": [
        "print(len(text_list))\n",
        "print(text_list[0])"
      ],
      "metadata": {
        "colab": {
          "base_uri": "https://localhost:8080/"
        },
        "id": "xFli5LRWULdE",
        "outputId": "07487829-dd05-46f1-ef12-d1ec04962f31"
      },
      "execution_count": null,
      "outputs": [
        {
          "output_type": "stream",
          "name": "stdout",
          "text": [
            "9\n",
            "{'title': 'Blockchain In Supply Chain: Real-World Applications In India', 'body': 'Blockchain makes transformation in supply chain management offering clarity, efficiency and security. It has real-life applications in India which can tremendously range from tracking food safety and preventing counterfeiting activities and finally to cost reduction.', 'url': 'https://www.outlookindia.com/xhub/blockchain-insights/blockchain-in-supply-chain-real-world-applications-in-india', 'full_text': \"Understanding Supply Chain Management in Blockchain\\n\\nBlockchain is a decentralized, immutable digital ledger that guarantees secure, transparent transactions. Unlike traditional databases that consolidate their control in one place, blockchain guarantees that data is always distributed across many nodes, making it nearly impossible to alter or manipulate. This decentralized aspect fortifies the trust and security of supply chains, as every transaction must be verified by all network participants prior to being timestamped in the ledger.\\n\\nIn India, the government and private enterprises are exploring blockchain applications in supply chain management. Both NITI Aayog and different state governments have commenced pilot studies focusing on the integration of blockchain into industries such as food safety, pharmaceuticals, and logistics for increased traceability and efficiency.\\n\\nEnhancing Transparency and Traceability\\n\\nEnhanced transparency in supply chains is the major benefit that blockchain brings. Traditionally, tracking a product's journey from source to consumer involves a plethora of intermediaries and paperwork. Such processes are tedious and prone to error and fraud. Blockchain virtually eliminates these inefficiencies through a tamper-proof record of every transaction being available to all authorized participants.\\n\\nIn India, the agricultural sector has seen the implementation of blockchain for food traceability. The Andhra Pradesh state government has collaborated with technology companies in using blockchain to track crop supply chains such as chili and coffee. This will ensure the farmers get a fair price while the consumers get to authenticate their produce.\\n\\nCombating Counterfeiting and Fraud\\n\\nCounterfeiting is a big headache in the different industries-from pharma to luxury goods. Counterfeit products cause not only financial harm but also potential health and safety risks. Blockchain technology provides a way to solve these issues through a tamper-proof record of product origins and ownership transfers.\\n\\nThe Indian pharmaceutical industry is applying blockchain technology to counter fake medicines. In collaboration with blockchain companies, the Maharashtra FDA set up a system for tracking medicines from manufacture to retail, thus ensuring the sale of authentic drugs to patients while also curtailing illegal distribution.\\n\\nImproving Efficiency and Reducing Costs\\n\\nBlockchain streamlines these processes by automating transactions through smart contracts, which are self-executing contracts when certain conditions are attained. Automating such transactions reduces overhead costs and delays that add complexity to logistics, the involvement of multiple intermediaries, and vast volumes of paperwork that are features of traditional supply chains.\\n\\nMajor port authorities that are penetrating blockchain solutions in India's logistics domain are more or less such as the Jawaharlal Nehru Port Trust (JNPT) as well. Allowing real-time visibility in the movement of cargo and automating documentation can greatly shorten clearance times and efficiency in trade.\\n\\nStrengthening Ethical and Sustainable Practices\\n\\nIncreased consumer awareness about ethical and environmental concerns has put pressure on businesses to adopt sustainable and responsible sourcing methods. Transparency in the supply chain enables the company to trace and verify the origin of raw materials, thus ensuring ethical sources.\\n\\nIn the textile sector, Indian manufacturers are implementing blockchain to verify organic cotton; thus, brands that export to the global markets are made to explain sourcing and production processes, which gives rise to trustworthy consumers and promotes ethical practices.\\n\\nConfronting Challenges and Limitations\\n\\nDespite thrilling promise, blockchain undoubtedly faces potential intrinsic issues in their real-life application in supply chain management. The scaling problem is one of the most severe issues because of the huge volume of data that supply chains produce over time. It busts even the current capacities of blockchain, and invariably there needs to be ongoing innovations to come through improvements in scalability and transaction speeds.\\n\\nIntegrating the already functioning supply chain frameworks with blockchain technology needs collaboration from several stakeholders. Investment in introducing new technology in that case through standards for data sharing also has to be agreed upon by organizations. There are other aspects, like legal and regulatory ones as well, as every state may have different specifications regarding Blockchain use cases, for example, within India.\\n\\nThe Future of Blockchain in Supply Chain in India\\n\\nThe application of blockchain technology in supply chain management will increase with growing awareness by businesses and industries of its significance. Scaling solutions for blockchain, fused with artificial intelligence and IoT, would provide better transparency and efficiency in the supply chain. Future possibilities may come in the form of fully automated, blockchain-integrated supply chains where real-time product tracking is done, payments are made seamlessly through smart contracts, and predictive analytics help optimize logistics. Such innovations will transform the dynamics of business operation and consumer engagement. The Indian government is also working on a national-level framework for blockchain, which might uphold a more integrated and secured supply chain ecosystem.\\n\\nConclusion\\n\\nBlockchain makes transformation in supply chain management offering clarity, efficiency and security. It has real-life applications in India which can tremendously range from tracking food safety and preventing counterfeiting activities and finally to cost reduction. However, for all the challenges which still remain, innovation and partnership would pave the way to blockchain being widely adopted across supply chain networks in India. These would make it possible for businesses and consumers to remain accountable and sustainable- thus making strong changes in supply chains in the country by the time blockchain becomes a common name.\"}\n"
          ]
        }
      ]
    },
    {
      "cell_type": "code",
      "source": [
        "import time\n",
        "\n",
        "# Function to get news with proper rate limiting\n",
        "def get_rate_limited_news(keywords, delay_seconds=10, max_results=10, **kwargs):\n",
        "    ddgs = DDGS()\n",
        "    results = []\n",
        "\n",
        "    # Set a smaller batch size to get fewer results per API call\n",
        "    batch_size = 1\n",
        "    remaining = max_results\n",
        "\n",
        "    while remaining > 0:\n",
        "        # Calculate how many results to request in this batch\n",
        "        current_batch = min(batch_size, remaining)\n",
        "\n",
        "        # Make the API call for just this batch\n",
        "        batch_generator = ddgs.news(\n",
        "            keywords=keywords,\n",
        "            region=\"us-en\",\n",
        "            safesearch=\"off\",\n",
        "            timelimit=\"m\",\n",
        "            max_results=current_batch,\n",
        "            **kwargs\n",
        "        )\n",
        "\n",
        "        # Process results from this batch\n",
        "        batch_results = list(batch_generator)\n",
        "        results.extend(batch_results)\n",
        "\n",
        "        print(f\"Fetched {len(batch_results)} articles (total: {len(results)}/{max_results})\")\n",
        "\n",
        "        # Update remaining count\n",
        "        remaining -= len(batch_results)\n",
        "\n",
        "        # Don't sleep after the last batch\n",
        "        if remaining > 0:\n",
        "            print(f\"Waiting {delay_seconds} seconds before next request...\")\n",
        "            time.sleep(delay_seconds)\n",
        "\n",
        "    return results\n",
        "\n"
      ],
      "metadata": {
        "id": "oeW-zxvpTtiO"
      },
      "execution_count": null,
      "outputs": []
    },
    {
      "cell_type": "code",
      "source": [
        "# Use the rate-limited function\n",
        "climate_news = get_rate_limited_news(\n",
        "    keywords=\"developments in climate change\",\n",
        "    delay_seconds=10,\n",
        "    max_results=10\n",
        ")\n",
        "\n",
        "# Now you have your results with proper rate limiting\n",
        "print(f\"\\nTotal articles fetched: {len(climate_news)}\")"
      ],
      "metadata": {
        "colab": {
          "base_uri": "https://localhost:8080/"
        },
        "id": "ih6J-DsoTwP4",
        "outputId": "2d8139d2-040c-47e3-e052-bb9e13431902"
      },
      "execution_count": null,
      "outputs": [
        {
          "output_type": "stream",
          "name": "stdout",
          "text": [
            "Fetched 1 articles (total: 1/10)\n",
            "Waiting 10 seconds before next request...\n",
            "Fetched 1 articles (total: 2/10)\n",
            "Waiting 10 seconds before next request...\n",
            "Fetched 1 articles (total: 3/10)\n",
            "Waiting 10 seconds before next request...\n",
            "Fetched 1 articles (total: 4/10)\n",
            "Waiting 10 seconds before next request...\n",
            "Fetched 1 articles (total: 5/10)\n",
            "Waiting 10 seconds before next request...\n",
            "Fetched 1 articles (total: 6/10)\n",
            "Waiting 10 seconds before next request...\n",
            "Fetched 1 articles (total: 7/10)\n",
            "Waiting 10 seconds before next request...\n",
            "Fetched 1 articles (total: 8/10)\n",
            "Waiting 10 seconds before next request...\n",
            "Fetched 1 articles (total: 9/10)\n",
            "Waiting 10 seconds before next request...\n",
            "Fetched 1 articles (total: 10/10)\n",
            "\n",
            "Total articles fetched: 10\n"
          ]
        }
      ]
    },
    {
      "cell_type": "code",
      "source": [
        "print(climate_news)"
      ],
      "metadata": {
        "colab": {
          "base_uri": "https://localhost:8080/"
        },
        "id": "JE6ruZCCUX79",
        "outputId": "07f6c301-268f-491c-86ee-738ab3ec3926"
      },
      "execution_count": null,
      "outputs": [
        {
          "output_type": "stream",
          "name": "stdout",
          "text": [
            "[{'date': '2025-03-05T17:23:00+00:00', 'title': 'Opinion: Democracy and Climate Change', 'body': 'Ill-effects of growth model needs serious revisit to strike a balance between ecology, economy Climate change has emerged as both academic and policy relevance globally in the last two-and-a-half decades.', 'url': 'https://telanganatoday.com/opinion-democracy-and-climate-change', 'image': 'https://media.telanganatoday.com/wp-content/uploads/2025/03/Opinion.jpg', 'source': 'Telangana Today'}, {'date': '2025-03-06T16:09:39+00:00', 'title': 'World Must Prepare to Fight Climate Change Without US, UK Says', 'body': \"The world needs to prepare to fight global warming without the help of the US as the Trump administration pulls billions of dollars pledged to initiatives funding the green transition, the UK's climate envoy said.\", 'url': 'https://www.msn.com/en-us/money/other/world-must-prepare-to-fight-climate-change-without-us-uk-says/ar-AA1Aoc0Q', 'image': 'https://img-s-msn-com.akamaized.net/tenant/amp/entityid/AA1Aollr.img?w=2000&h=1335&m=4&q=79', 'source': 'Bloomberg'}, {'date': '2025-03-05T17:23:00+00:00', 'title': 'Opinion: Democracy and Climate Change', 'body': 'Ill-effects of growth model needs serious revisit to strike a balance between ecology, economy Climate change has emerged as both academic and policy relevance globally in the last two-and-a-half decades.', 'url': 'https://telanganatoday.com/opinion-democracy-and-climate-change', 'image': 'https://media.telanganatoday.com/wp-content/uploads/2025/03/Opinion.jpg', 'source': 'Telangana Today'}, {'date': '2025-03-06T16:09:39+00:00', 'title': 'World Must Prepare to Fight Climate Change Without US, UK Says', 'body': \"The world needs to prepare to fight global warming without the help of the US as the Trump administration pulls billions of dollars pledged to initiatives funding the green transition, the UK's climate envoy said.\", 'url': 'https://www.msn.com/en-us/money/other/world-must-prepare-to-fight-climate-change-without-us-uk-says/ar-AA1Aoc0Q', 'image': 'https://img-s-msn-com.akamaized.net/tenant/amp/entityid/AA1Aollr.img?w=2000&h=1335&m=4&q=79', 'source': 'Bloomberg'}, {'date': '2025-03-06T16:09:39+00:00', 'title': 'World Must Prepare to Fight Climate Change Without US, UK Says', 'body': \"The world needs to prepare to fight global warming without the help of the US as the Trump administration pulls billions of dollars pledged to initiatives funding the green transition, the UK's climate envoy said.\", 'url': 'https://www.msn.com/en-us/money/other/world-must-prepare-to-fight-climate-change-without-us-uk-says/ar-AA1Aoc0Q', 'image': 'https://img-s-msn-com.akamaized.net/tenant/amp/entityid/AA1Aollr.img?w=2000&h=1335&m=4&q=79', 'source': 'Bloomberg'}, {'date': '2025-03-05T17:23:00+00:00', 'title': 'Opinion: Democracy and Climate Change', 'body': 'Ill-effects of growth model needs serious revisit to strike a balance between ecology, economy Climate change has emerged as both academic and policy relevance globally in the last two-and-a-half decades.', 'url': 'https://telanganatoday.com/opinion-democracy-and-climate-change', 'image': 'https://media.telanganatoday.com/wp-content/uploads/2025/03/Opinion.jpg', 'source': 'Telangana Today'}, {'date': '2025-03-05T17:23:00+00:00', 'title': 'Opinion: Democracy and Climate Change', 'body': 'Ill-effects of growth model needs serious revisit to strike a balance between ecology, economy Climate change has emerged as both academic and policy relevance globally in the last two-and-a-half decades.', 'url': 'https://telanganatoday.com/opinion-democracy-and-climate-change', 'image': 'https://media.telanganatoday.com/wp-content/uploads/2025/03/Opinion.jpg', 'source': 'Telangana Today'}, {'date': '2025-03-06T16:09:39+00:00', 'title': 'World Must Prepare to Fight Climate Change Without US, UK Says', 'body': \"The world needs to prepare to fight global warming without the help of the US as the Trump administration pulls billions of dollars pledged to initiatives funding the green transition, the UK's climate envoy said.\", 'url': 'https://www.msn.com/en-us/money/other/world-must-prepare-to-fight-climate-change-without-us-uk-says/ar-AA1Aoc0Q', 'image': 'https://img-s-msn-com.akamaized.net/tenant/amp/entityid/AA1Aollr.img?w=2000&h=1335&m=4&q=79', 'source': 'Bloomberg'}, {'date': '2025-03-06T16:09:39+00:00', 'title': 'World Must Prepare to Fight Climate Change Without US, UK Says', 'body': \"The world needs to prepare to fight global warming without the help of the US as the Trump administration pulls billions of dollars pledged to initiatives funding the green transition, the UK's climate envoy said.\", 'url': 'https://www.msn.com/en-us/money/other/world-must-prepare-to-fight-climate-change-without-us-uk-says/ar-AA1Aoc0Q', 'image': 'https://img-s-msn-com.akamaized.net/tenant/amp/entityid/AA1Aollr.img?w=2000&h=1335&m=4&q=79', 'source': 'Bloomberg'}, {'date': '2025-03-06T16:09:39+00:00', 'title': 'World Must Prepare to Fight Climate Change Without US, UK Says', 'body': \"The world needs to prepare to fight global warming without the help of the US as the Trump administration pulls billions of dollars pledged to initiatives funding the green transition, the UK's climate envoy said.\", 'url': 'https://www.msn.com/en-us/money/other/world-must-prepare-to-fight-climate-change-without-us-uk-says/ar-AA1Aoc0Q', 'image': 'https://img-s-msn-com.akamaized.net/tenant/amp/entityid/AA1Aollr.img?w=2000&h=1335&m=4&q=79', 'source': 'Bloomberg'}]\n"
          ]
        }
      ]
    },
    {
      "cell_type": "code",
      "source": [
        "climate_news_full_articles = []\n",
        "\n",
        "for result in climate_news:\n",
        "    try:\n",
        "        article = newspaper.article(result['url'])\n",
        "        article.download()\n",
        "        article.parse()\n",
        "        climate_news_full_articles.append({\n",
        "            'title': result['title'],\n",
        "            'body': result['body'],\n",
        "            'url': result['url'],\n",
        "            'full_text': article.text\n",
        "        })\n",
        "    except Exception as e:\n",
        "        print(f\"Skipping article due to error: {str(e)}\")\n",
        "        continue"
      ],
      "metadata": {
        "id": "V6c2Zj4aU8M8"
      },
      "execution_count": null,
      "outputs": []
    },
    {
      "cell_type": "code",
      "source": [
        "print(len(climate_news_full_articles))"
      ],
      "metadata": {
        "colab": {
          "base_uri": "https://localhost:8080/"
        },
        "id": "aPTH6tj1VTAq",
        "outputId": "993bd120-e624-4fee-c17a-537178f55e5c"
      },
      "execution_count": null,
      "outputs": [
        {
          "output_type": "stream",
          "name": "stdout",
          "text": [
            "10\n"
          ]
        }
      ]
    },
    {
      "cell_type": "code",
      "source": [
        "# Generate weighted summary\n",
        "weighted_summary_climate = weighted_multi_doc_summary(climate_news_full_articles)\n",
        "print(\"Weighted Summary Climate:\")\n",
        "print(weighted_summary_climate)"
      ],
      "metadata": {
        "colab": {
          "base_uri": "https://localhost:8080/"
        },
        "id": "h282nAdBVUpH",
        "outputId": "11b50dbd-6de3-4d95-ad73-39022a01fb6b"
      },
      "execution_count": null,
      "outputs": [
        {
          "output_type": "stream",
          "name": "stdout",
          "text": [
            "Weighted Summary Climate:\n",
            "Ill-effects of growth model needs serious revisit to strike a balance between ecology, economy\n",
            "\n",
            "By Nayakara Veeresha\n",
            "\n",
            "Climate change has emerged as both academic and policy relevance globally in the last two-and-a-half decades. Ill-effects of growth model needs serious revisit to strike a balance between ecology, economy\n",
            "\n",
            "By Nayakara Veeresha\n",
            "\n",
            "Climate change has emerged as both academic and policy relevance globally in the last two-and-a-half decades. Ill-effects of growth model needs serious revisit to strike a balance between ecology, economy\n",
            "\n",
            "By Nayakara Veeresha\n",
            "\n",
            "Climate change has emerged as both academic and policy relevance globally in the last two-and-a-half decades. Ill-effects of growth model needs serious revisit to strike a balance between ecology, economy\n",
            "\n",
            "By Nayakara Veeresha\n",
            "\n",
            "Climate change has emerged as both academic and policy relevance globally in the last two-and-a-half decades. Despite this marked shift, the response to climate change-related issues and challenges is not significant across nations, especially among the rich countries. Despite this marked shift, the response to climate change-related issues and challenges is not significant across nations, especially among the rich countries. Despite this marked shift, the response to climate change-related issues and challenges is not significant across nations, especially among the rich countries. Forces of liberalisation, privatisation and globalisation are exerting pressure on state governments to ease the process of forest clearance for mining and other natural resources\n",
            "\n",
            "The ill-effects of the ongoing economic growth model and development path both need a serious revisit to strike a balance between the ecology, economy and development. Forces of liberalisation, privatisation and globalisation are exerting pressure on state governments to ease the process of forest clearance for mining and other natural resources\n",
            "\n",
            "The ill-effects of the ongoing economic growth model and development path both need a serious revisit to strike a balance between the ecology, economy and development. Forces of liberalisation, privatisation and globalisation are exerting pressure on state governments to ease the process of forest clearance for mining and other natural resources\n",
            "\n",
            "The ill-effects of the ongoing economic growth model and development path both need a serious revisit to strike a balance between the ecology, economy and development. Forces of liberalisation, privatisation and globalisation are exerting pressure on state governments to ease the process of forest clearance for mining and other natural resources\n",
            "\n",
            "The ill-effects of the ongoing economic growth model and development path both need a serious revisit to strike a balance between the ecology, economy and development. The economy nested within the ecology and the growth embedded in the sustainability component will address development-related disasters, including climate change implications. The economy nested within the ecology and the growth embedded in the sustainability component will address development-related disasters, including climate change implications. The role of democracy is critical in developing globally agreed variables, especially the SDG-12 on sustainable consumption and production, with 10 out of 13 indicators still in Tier III. The role of democracy is critical in developing globally agreed variables, especially the SDG-12 on sustainable consumption and production, with 10 out of 13 indicators still in Tier III.\n"
          ]
        }
      ]
    },
    {
      "cell_type": "code",
      "source": [
        "# Generate topic-based summary\n",
        "topic_summary_climate = topic_based_multi_doc_summary(climate_news_full_articles)\n",
        "print(\"Topic-based Summary for Climate:\")\n",
        "print(topic_summary_climate)"
      ],
      "metadata": {
        "colab": {
          "base_uri": "https://localhost:8080/"
        },
        "id": "oarMgdI-WD17",
        "outputId": "c2f09a8e-3687-4138-a6cc-330e977aa07e"
      },
      "execution_count": null,
      "outputs": [
        {
          "output_type": "stream",
          "name": "stdout",
          "text": [
            "Topic-based Summary for Climate:\n",
            "Despite this marked shift, the response to climate change-related issues and challenges is not significant across nations, especially among the rich countries. However, concrete actions are missing. The Covid pandemic has brought out the limitations of macroeconomic management. The structural and institutional constraints need an alternative economic governance regime. The buzzword of the circular economy is part and parcel of the global discourse on climate change. The development model pursued has focused on the linear growth pattern by distancing from the cultural roots of circular economic growth nested in ecology and sustainability. Forces of liberalisation, privatisation and globalisation are exerting pressure on state governments to ease the process of forest clearance for mining and other natural resources\n",
            "\n",
            "The ill-effects of the ongoing economic growth model and development path both need a serious revisit to strike a balance between the ecology, economy and development. Do the democratically elected governments show the necessary political will to chalk out indigenous development models by taking clues from the time-tested sustainable growth strategies? The political economy of the carbon emissions and its trade between the Global South and Northern countries is one of the major factors for the lack of consensus. It also highlights the inadequacy of the market structure to facilitate the climatic action plan among the developed and developing nations. The emergence and commitment of the European Union (EU) in the form of Green Deal to an extent is the silver lining in achieving the target of SDGs by 2030, especially Goal 13. India, being the second largest coal producer next to China, needs to develop a comprehensive energy framework to tap the non-fossil fuel electricity generation. Democracy for Climate Justice\n",
            "\n",
            "The organic link between democracy and climate change responses is critical and demands a fine balance between growth and the environment. The role of democracy is critical in developing globally agreed variables, especially the SDG-12 on sustainable consumption and production, with 10 out of 13 indicators still in Tier III. This needs revisiting the economic growth model by improving institutional capacities of the state along the lines of redistributive justice.\n"
          ]
        }
      ]
    },
    {
      "cell_type": "code",
      "source": [
        "print(len(topic_summary_climate))"
      ],
      "metadata": {
        "colab": {
          "base_uri": "https://localhost:8080/"
        },
        "id": "nZzHWGR-WTuk",
        "outputId": "73333122-21fe-48fe-d5d3-e777a6fc8bde"
      },
      "execution_count": null,
      "outputs": [
        {
          "output_type": "stream",
          "name": "stdout",
          "text": [
            "2324\n"
          ]
        }
      ]
    },
    {
      "cell_type": "code",
      "source": [
        "# Generate a single summary from all articles\n",
        "overall_summary = generate_combined_summary(climate_news_full_articles)\n",
        "print(\"Abstractive Overall Summary:\")\n",
        "print(overall_summary)"
      ],
      "metadata": {
        "id": "_R5Fl4TcYu80",
        "outputId": "c9451a7c-a759-46ca-9970-005515b87076",
        "colab": {
          "base_uri": "https://localhost:8080/"
        }
      },
      "execution_count": null,
      "outputs": [
        {
          "output_type": "stream",
          "name": "stderr",
          "text": [
            "Device set to use cpu\n"
          ]
        },
        {
          "output_type": "stream",
          "name": "stdout",
          "text": [
            "Abstractive Overall Summary:\n",
            "Ill-effects of growth model needs serious revisit to strike a balance between ecology, economy. Climate change has emerged as both academic and policy relevance globally. Despite this marked shift, the response to climate change-related issues and challenges is not significant across nations, especially among the rich countries. The buzzword of the circular economy is part and parcel of the global discourse on climate change. The development model pursued has focused on the linear growth pattern by distancing from the cultural roots of circular economic growth nested in ecology and sustainability. The ill-effects of the ongoing economic growth model and development path both need a serious revisit. Growth and development attained on these premises are unsustainable. Ecology and environment must be given the highest priority in the policy-making process. The economy nested within the ecology and the growth embedded in the sustainability component will address development-related disasters, including c. The persistence of inaction towards climate-related challenges reflects the severe lack of political will among nations. The political economy of the carbon emissions and its trade between the Global South and Northern countries is one of the major factors for the lack of consensus. It also highlights the inadequacy of the market structure to facilitate the climatic action plan among the developed and developing nations. SDG 7 emphasises the utilisation of hydro, wind and other bio-energy systems to reduce the use of fossil fuels, especially coal. India, being the second largest coal producer next to China, needs to develop a comprehensive energy framework to tap the non-fossil fuel electricity generation. The role of democracy is critical in developing globally agreed variables, especially the SDG-12 on sustainable consumption and production. 10 out of 13 indicators still in Tier III. The economic growth model must uplift the poor by enhancing their purchasing power. Deepening democracy through decentralised governance is key to resolving some of the challenges of climate change. The forces of liberalisation, privatisation and globalisation are exerting pressure on the state governments to ease the process of forest clearance for mining purposes and other natural resources. There are several concepts and initiatives such as Green Budgeting, Green Economy, Circular Economy and Green Deal. The buzzword of the circular economy is part and parcel of the global discourse on climate change. The development model pursued has focused on the linear growth pattern. Income inequality is one of the contributing factors to unsustainable consumption patterns. The earth’s carrying capacity in the form of biodiversity conservation and ecological equilibrium is critical to achieve the Sustainable Development Goals (SDGs) of 2030. The question is, are we ready to reflect our lifestyles to fine-tune with nature? The persistence of inaction towards climate-related challenges reflects the severe lack of political will among nations. Ecology and environment must be given the highest priority in the policy-making process. The economy nested within the ecology and the growth embedded in the sustainability component will address development-related disasters, including climate change implications. The objectives of the Kyoto Protocol and the Paris Agreement cannot be achieved without making a paradigm shift in the current global production and consumption patterns. India, being the second largest coal producer next to China, needs to develop a comprehensive energy framework to tap the non-fossil fuel electricity generation. The material footprint of fossil fuels is more than four times in developed countries as compared to developing countries. India’s role in pushing the democratic agenda is crucial for this pursuit. The role of democracy is critical in developing globally agreed variables, especially the SDG-12. Democracy as a form of government must work along with civil society and markets to ensure climate justice. The economic growth model must uplift the poor by enhancing their purchasing power. Deepening democracy through decentralised governance is key to resolving some of the challenges of climate change. Ill-effects of growth model needs serious revisit to strike a balance between ecology, economy. The Covid pandemic has brought out the limitations of macroeconomic management. The structural and institutional constraints need an alternative economic governance regime. This also calls for revisiting the neo-classical app. The buzzword of the circular economy is part and parcel of the global discourse on climate change. The development model pursued has focused on the linear growth pattern by distancing from the cultural roots of circular economic growth nested in ecology and sustainability. The ill-effects of the ongoing economic growth model and development path both need a serious revisit. Income inequality is one of the contributing factors to unsustainable consumption patterns. Ecology and environment must be given the highest priority in the policy-making process in tandem with allocative resource efficiency. The economy nested within the ecology and the growth embedded in the sustainability component will address development-related disas. The persistence of climate change challenges reflects the lack of a clear-cut plan to deal with it. It also highlights the inadequacy of the market structure to facilitate the development of new technologies. The Paris Agreement cannot be achieved without a paradigm shift in the current global production and consumption patterns. SDG 7 emphasises the utilisation of hydro, wind and other bio-energy systems to reduce the use of fossil fuels, especially coal. India, being the second largest coal producer next to China, needs to develop a comprehensive energy framework to tap the non-fossil fuel electricity generation. The role of democracy is critical in developing globally agreed variables, especially the SDG-12 on sustainable consumption and production. 10 out of 13 indicators still in Tier III. The economic growth model must uplift the poor by enhancing their purchasing power. Democracy as a form of government must work along with civil society and mar. Deepening democracy through decentralised governance is key to resolving some of the challenges of climate change. The forces of liberalisation, privatisation and globalisation are exerting pressure on the state governments to ease the process of forest clearance for mining purposes and other natural resources. The Covid pandemic has brought out the limitations of macroeconomic management. The structural and institutional constraints need an alternative economic governance regime. This also calls for revisiting the neo-classical approach with a focus on embedding the tenets of institutional and behavioural economics. The ill-effects of the ongoing economic growth model and development path both need a serious revisit. The trickledown theory of growth, an extractive model of development, is coming at a huge cost to the environment. The earth’s carrying capacity in the form of biodiversity conservation and ecological equilibrium is critical to ensure progressive human development. The persistence of inaction towards climate-related challenges reflects the severe lack of political will among nations to chalk out a clear-cut action plan. Ecology and environment must be given the highest priority in the policy-making process in tandem with allocative resource efficiency. The economy nested within the ecology and the growth embedded in the sustainability component will address development-related disasters. The objectives of the Kyoto Protocol and the Paris Agreement cannot be achieved without making a paradigm shift in the current global production and consumption patterns. SDG 7 emphasises the utilisation of hydro, wind and other bio-energy systems to reduce the use of fossil fuels, especially coal. The material footprint of fossil fuels is more than four times in developed countries as compared to developing countries. India’s role in pushing the democratic agenda is crucial for this pursuit. The role of democracy is critical in developing globally agreed variables, especially the SDG-12. Democracy as a form of government must work along with civil society and markets to ensure climate justice. The economic growth model must uplift the poor by enhancing their purchasing power. Deepening democracy through decentralised governance is key to resolving some of the challenges of climate change.\n"
          ]
        }
      ]
    },
    {
      "cell_type": "code",
      "source": [
        "print(len(overall_summary))"
      ],
      "metadata": {
        "id": "V8pIAIRKa378",
        "outputId": "418394ae-23fb-4fc4-b364-24d3276ae2a8",
        "colab": {
          "base_uri": "https://localhost:8080/"
        }
      },
      "execution_count": null,
      "outputs": [
        {
          "output_type": "stream",
          "name": "stdout",
          "text": [
            "8624\n"
          ]
        }
      ]
    },
    {
      "cell_type": "code",
      "source": [
        "def compress_summary(summary, max_length=800):\n",
        "    sentences = sent_tokenize(summary)\n",
        "\n",
        "    # If already short enough, return as is\n",
        "    if len(summary) <= max_length:\n",
        "        return summary\n",
        "\n",
        "    # Calculate importance score for each sentence using key phrase presence\n",
        "    key_phrases = [\"climate change\", \"global warming\", \"carbon emissions\",\n",
        "                  \"renewable energy\", \"policy\", \"agreement\", \"temperature\"]\n",
        "\n",
        "    scored_sentences = []\n",
        "    for sentence in sentences:\n",
        "        # Score based on presence of key phrases and sentence position\n",
        "        score = sum(2 if phrase in sentence.lower() else 0 for phrase in key_phrases)\n",
        "        scored_sentences.append((sentence, score))\n",
        "\n",
        "    # Sort by score and select top sentences\n",
        "    scored_sentences.sort(key=lambda x: x[1], reverse=True)\n",
        "\n",
        "    # Keep selecting sentences until we reach the length limit\n",
        "    compressed = []\n",
        "    current_length = 0\n",
        "    for sentence, _ in scored_sentences:\n",
        "        if current_length + len(sentence) <= max_length:\n",
        "            compressed.append(sentence)\n",
        "            current_length += len(sentence) + 1  # +1 for the space\n",
        "        else:\n",
        "            break\n",
        "\n",
        "    return \" \".join(compressed)\n",
        "\n",
        "# Apply compression\n",
        "compressed_topic_summary = compress_summary(overall_summary, max_length=600)\n",
        "print(f\"Original length: {len(overall_summary)}\")\n",
        "print(f\"Compressed length: {len(compressed_topic_summary)}\")"
      ],
      "metadata": {
        "id": "lO3Pa9NZbRG-",
        "outputId": "c5bcf0ff-7f5a-4c72-8821-a772d0b2b00f",
        "colab": {
          "base_uri": "https://localhost:8080/"
        }
      },
      "execution_count": null,
      "outputs": [
        {
          "output_type": "stream",
          "name": "stdout",
          "text": [
            "Original length: 8624\n",
            "Compressed length: 585\n"
          ]
        }
      ]
    },
    {
      "cell_type": "code",
      "source": [
        "print(compressed_topic_summary)"
      ],
      "metadata": {
        "id": "vCmbBCAzbXyq",
        "outputId": "9cc350a7-4998-4af3-febe-b569079ea9af",
        "colab": {
          "base_uri": "https://localhost:8080/"
        }
      },
      "execution_count": null,
      "outputs": [
        {
          "output_type": "stream",
          "name": "stdout",
          "text": [
            "Climate change has emerged as both academic and policy relevance globally. Despite this marked shift, the response to climate change-related issues and challenges is not significant across nations, especially among the rich countries. The buzzword of the circular economy is part and parcel of the global discourse on climate change. Ecology and environment must be given the highest priority in the policy-making process. The political economy of the carbon emissions and its trade between the Global South and Northern countries is one of the major factors for the lack of consensus.\n"
          ]
        }
      ]
    },
    {
      "cell_type": "code",
      "source": [
        "def remove_redundancy(summary):\n",
        "    sentences = sent_tokenize(summary)\n",
        "    unique_sentences = []\n",
        "    content_seen = set()\n",
        "\n",
        "    for sentence in sentences:\n",
        "        # Create a simplified representation by keeping only important words\n",
        "        important_words = [w.lower() for w in word_tokenize(sentence)\n",
        "                          if w.lower() not in stopwords.words('english') and len(w) > 3]\n",
        "\n",
        "        # Skip sentences that are too similar to ones we've already kept\n",
        "        sentence_content = \" \".join(sorted(important_words))\n",
        "        similarity_found = False\n",
        "\n",
        "        for existing in content_seen:\n",
        "            # Calculate Jaccard similarity\n",
        "            common = len(set(sentence_content.split()) & set(existing.split()))\n",
        "            total = len(set(sentence_content.split()) | set(existing.split()))\n",
        "            if total > 0 and common/total > 0.6:  # More than 60% similar\n",
        "                similarity_found = True\n",
        "                break\n",
        "\n",
        "        if not similarity_found:\n",
        "            unique_sentences.append(sentence)\n",
        "            content_seen.add(sentence_content)\n",
        "\n",
        "    return \" \".join(unique_sentences)\n",
        "\n",
        "# Apply redundancy removal\n",
        "non_redundant_summary = remove_redundancy(overall_summary)\n",
        "print(f\"After redundancy removal: {len(non_redundant_summary)}\")"
      ],
      "metadata": {
        "id": "qMmqhk9jbvZr",
        "outputId": "75b76085-e0fa-474a-85ea-088a9443b139",
        "colab": {
          "base_uri": "https://localhost:8080/"
        }
      },
      "execution_count": null,
      "outputs": [
        {
          "output_type": "stream",
          "name": "stdout",
          "text": [
            "After redundancy removal: 4461\n"
          ]
        }
      ]
    },
    {
      "cell_type": "code",
      "source": [
        "def abstractive_compress(text, max_length=150, min_length=50):\n",
        "    # Initialize summarizer\n",
        "    summarizer = pipeline(\"summarization\", model=\"facebook/bart-large-cnn\")\n",
        "\n",
        "    # If text is too long, break it into chunks and summarize each\n",
        "    if len(text) > 1024:\n",
        "        # Split into chunks of about 1000 characters\n",
        "        chunks = [text[i:i+1000] for i in range(0, len(text), 1000)]\n",
        "        summaries = []\n",
        "\n",
        "        for chunk in chunks:\n",
        "            if len(chunk) > 100:  # Only summarize substantial chunks\n",
        "                summary = summarizer(chunk, max_length=max_length//len(chunks),\n",
        "                                    min_length=min_length//len(chunks))\n",
        "                summaries.append(summary[0]['summary_text'])\n",
        "\n",
        "        return \" \".join(summaries)\n",
        "    else:\n",
        "        # Summarize directly\n",
        "        summary = summarizer(text, max_length=max_length, min_length=min_length)\n",
        "        return summary[0]['summary_text']\n",
        "\n",
        "# Apply abstractive compression to further reduce size\n",
        "final_summary = abstractive_compress(topic_summary_climate, max_length=300, min_length=200)\n",
        "print(f\"Final summary length: {len(final_summary)}\")"
      ],
      "metadata": {
        "id": "mzWif7pVcCY_",
        "outputId": "f1162a58-c0bf-4a2f-e86a-d8ee3dc73fc0",
        "colab": {
          "base_uri": "https://localhost:8080/"
        }
      },
      "execution_count": null,
      "outputs": [
        {
          "output_type": "stream",
          "name": "stderr",
          "text": [
            "Device set to use cpu\n",
            "Your max_length is set to 100, but your input_length is only 61. Since this is a summarization task, where outputs shorter than the input are typically wanted, you might consider decreasing max_length manually, e.g. summarizer('...', max_length=30)\n"
          ]
        },
        {
          "output_type": "stream",
          "name": "stdout",
          "text": [
            "Final summary length: 1206\n"
          ]
        }
      ]
    },
    {
      "cell_type": "code",
      "source": [
        "print(final_summary)"
      ],
      "metadata": {
        "id": "39G0aQllcsY2",
        "outputId": "27e8f04b-4e78-4282-adbb-19d098ceb202",
        "colab": {
          "base_uri": "https://localhost:8080/"
        }
      },
      "execution_count": null,
      "outputs": [
        {
          "output_type": "stream",
          "name": "stdout",
          "text": [
            "The buzzword of the circular economy is part and parcel of the global discourse on climate change. Despite this marked shift, the response to climate change-related issues and challenges is not significant across nations. Forces of liberalisation, privatisation and globalisation are exerting pressure on state governments to ease the process of forest clearance for mining. The political economy of the carbon emissions and its trade between the Global South and Northern countries is one of the major factors for the lack of consensus. It also highlights the inadequacy of the market structure to facilitate the climatic action plan among the developed and developing nations. The emergence and commitment of the European Union (EU) in the form of Green Deal to an extent is the silver lining in achieving the target of SDGs by 2030, especially Goal 13. 10 out of 13 indicators still in Tier III. This needs revisiting the economic growth model by improving institutional capacities of the state along the lines of redistributive justice. ole of democracy is critical in developing globally agreed variables, especially the SDG-12 on sustainable consumption and production, says the UN Secretary-General.\n"
          ]
        }
      ]
    },
    {
      "cell_type": "code",
      "source": [
        "final_summary_2 = abstractive_compress(final_summary, max_length=30, min_length=10)\n",
        "print(f\"Final summary length: {len(final_summary_2)}\")"
      ],
      "metadata": {
        "id": "OQpfKNUScz4e",
        "outputId": "90678232-b153-4ec6-a274-a91c3803ab59",
        "colab": {
          "base_uri": "https://localhost:8080/"
        }
      },
      "execution_count": null,
      "outputs": [
        {
          "output_type": "stream",
          "name": "stderr",
          "text": [
            "Device set to use cpu\n"
          ]
        },
        {
          "output_type": "stream",
          "name": "stdout",
          "text": [
            "Final summary length: 142\n"
          ]
        }
      ]
    },
    {
      "cell_type": "code",
      "source": [
        "print(final_summary_2)"
      ],
      "metadata": {
        "id": "NbyuR6TwdGa9",
        "outputId": "1513776f-8693-4586-bd98-60c4df9b1fca",
        "colab": {
          "base_uri": "https://localhost:8080/"
        }
      },
      "execution_count": null,
      "outputs": [
        {
          "output_type": "stream",
          "name": "stdout",
          "text": [
            "The response to climate change-related issues and challenges is not The UN Secretary-General says democracy is critical in developing globally\n"
          ]
        }
      ]
    }
  ],
  "metadata": {
    "language_info": {
      "name": "python"
    },
    "colab": {
      "provenance": []
    },
    "kernelspec": {
      "name": "python3",
      "display_name": "Python 3"
    }
  },
  "nbformat": 4,
  "nbformat_minor": 0
}