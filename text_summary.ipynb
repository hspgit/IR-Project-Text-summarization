{
  "cells": [
    {
      "cell_type": "code",
      "execution_count": 1,
      "metadata": {
        "id": "zsUhS_jRHm4d"
      },
      "outputs": [],
      "source": [
        "#testing google colab commit"
      ]
    },
    {
      "cell_type": "code",
      "source": [
        "!pip install duckduckgo-search"
      ],
      "metadata": {
        "id": "s0u1wjPCXzGa",
        "outputId": "6de17451-b83d-46fe-dc95-b916e2d9da13",
        "colab": {
          "base_uri": "https://localhost:8080/"
        }
      },
      "execution_count": 2,
      "outputs": [
        {
          "output_type": "stream",
          "name": "stdout",
          "text": [
            "Requirement already satisfied: duckduckgo-search in /usr/local/lib/python3.11/dist-packages (7.5.0)\n",
            "Requirement already satisfied: click>=8.1.8 in /usr/local/lib/python3.11/dist-packages (from duckduckgo-search) (8.1.8)\n",
            "Requirement already satisfied: primp>=0.14.0 in /usr/local/lib/python3.11/dist-packages (from duckduckgo-search) (0.14.0)\n",
            "Requirement already satisfied: lxml>=5.3.0 in /usr/local/lib/python3.11/dist-packages (from duckduckgo-search) (5.3.1)\n"
          ]
        }
      ]
    },
    {
      "cell_type": "code",
      "source": [
        "from duckduckgo_search import DDGS\n",
        "\n",
        "query = \"applications of blockchain in healthcare\"\n",
        "results = list(DDGS().text(query, max_results=10))\n",
        "\n",
        "for result in results:\n",
        "    print(result['title'])\n",
        "    print(result['body'])"
      ],
      "metadata": {
        "id": "MojnfJt2W2PX",
        "outputId": "f7bb4ab2-dd1b-4596-95fc-492410ec897c",
        "colab": {
          "base_uri": "https://localhost:8080/"
        }
      },
      "execution_count": 3,
      "outputs": [
        {
          "output_type": "stream",
          "name": "stdout",
          "text": [
            "Blockchain technology applications in healthcare: An overview\n",
            "Blockchain is a relatively modern and emerging technology that has innovative applications during its successful healthcare implementation. Smooth, efficient data sharing and delivery across all the prominent network members and healthcare providers contribute to developing economical therapies and sophisticated treatments for many diseases.\n",
            "Frontiers | Exploring applications of blockchain in healthcare: road ...\n",
            "Applications of blockchain in healthcare. Blockchain technology possesses the potential to enhance the healthcare sector by prioritizing the patient within the system and enhancing the safeguarding, security, and seamless exchange of health information. In essence, the healthcare industry could undergo a substantial transformation through the ...\n",
            "Blockchain in Healthcare: 16 Real-World Examples - Built In\n",
            "3 Ways Blockchain Will Change Healthcare | Video: The Medical Futurist Blockchain and Healthcare Data Security. In 2023, there were 725 data breaches of at least 500 patient records — the most ever reported to the Department of Health and Human Services Office for Civil Rights. Blockchain's ability to keep an incorruptible, decentralized and transparent log of all patient data makes it a ...\n",
            "Blockchain in Healthcare: Benefits, Use Cases, & Challenges\n",
            "The application of blockchain technology to healthcare-related activities can provide a decentralized and secure way to manage, store, and share medical data. Blockchain in healthcare can encompass a range of use cases, from electronic health records (EHRs) and medical research to insurance claims and pharmaceutical supply chains.\n",
            "Blockchain in Healthcare: Guide to Uses, Benefits & Examples\n",
            "Key applications of blockchain in healthcare. Blockchain holds promise for many businesses in the healthcare domain, including biopharmaceutical companies, medical device manufacturers, insurers, and healthcare providers. Here, we highlight the key blockchain technology use cases in healthcare.\n",
            "5 blockchain healthcare use cases in digital health - STL Partners\n",
            "Beyond creating blockchain-based medical records, Medicalchain is also developing a platform upon which others can build digital health solutions, including a virtual consultation service and a medical data exchange, where patients can choose to sell their anonymised medical data, in exchange for Medtokens, to support digital health application ...\n",
            "Blockchain technology in healthcare: A systematic review\n",
            "Blockchain applications for healthcare data management. Healthcare informatics research, 25(1), 51-56. [PMC free article] [Google Scholar] 120. Casino F., Dasaklis T. K., & Patsakis C. (2019). A systematic literature review of blockchain-based applications: Current status, classification and open issues. Telematics and informatics, 36, 55-81.\n",
            "Applications of Blockchain in Healthcare | SpringerLink\n",
            "This book discusses applications of blockchain in healthcare sector. The security of confidential and sensitive data is of utmost importance in healthcare industry. The introduction of blockchain methods in an effective manner will bring secure transactions in a peer-to-peer network. The book also covers gaps of the current available books ...\n",
            "15 Applications of Blockchain in Healthcare - Clavis Technologies\n",
            "Applications of Blockchain in Healthcare: Below are a few ways blockchain is helpful in the healthcare industry. 1. Security and Patient Data Management. In the healthcare industry, data security is a critical concern. Data security has become a major issue for patients around the world as the number of data breaches rises year after year.\n",
            "Applications of Blockchain in the Medical Field: Narrative Review\n",
            "Abstract Background. As a distributed technology, blockchain has attracted increasing attention from stakeholders in the medical industry. Although previous studies have analyzed blockchain applications from the perspectives of technology, business, or patient care, few studies have focused on actual use-case scenarios of blockchain in health care.\n"
          ]
        }
      ]
    },
    {
      "cell_type": "code",
      "source": [
        "results = DDGS().text(\"python programming\", max_results=5)\n"
      ],
      "metadata": {
        "id": "ItmK2MjHb34g"
      },
      "execution_count": 4,
      "outputs": []
    },
    {
      "cell_type": "code",
      "source": [
        "print(results[0])"
      ],
      "metadata": {
        "id": "cIGRPE9Jb8Uy",
        "outputId": "9c145dd3-61fa-41bc-e37b-30a04144b5a9",
        "colab": {
          "base_uri": "https://localhost:8080/"
        }
      },
      "execution_count": 5,
      "outputs": [
        {
          "output_type": "stream",
          "name": "stdout",
          "text": [
            "{'title': 'Welcome to Python.org', 'href': 'https://www.python.org/', 'body': \"Python is a programming language that lets you work quickly and integrate systems more effectively. Learn More. Get Started. Whether you're new to programming or an experienced developer, it's easy to learn and use Python. Start with our Beginner's Guide. Download.\"}\n"
          ]
        }
      ]
    },
    {
      "cell_type": "code",
      "source": [
        "!pip3 install newspaper4k"
      ],
      "metadata": {
        "id": "A30qVjLKdjf0",
        "outputId": "e18b5195-1ff0-4238-8fdf-60e9424bc0f5",
        "colab": {
          "base_uri": "https://localhost:8080/"
        }
      },
      "execution_count": 6,
      "outputs": [
        {
          "output_type": "stream",
          "name": "stdout",
          "text": [
            "Collecting newspaper4k\n",
            "  Using cached newspaper4k-0.9.3.1-py3-none-any.whl.metadata (14 kB)\n",
            "Requirement already satisfied: Pillow>=4.0.0 in /usr/local/lib/python3.11/dist-packages (from newspaper4k) (11.1.0)\n",
            "Requirement already satisfied: PyYAML>=5.1 in /usr/local/lib/python3.11/dist-packages (from newspaper4k) (6.0.2)\n",
            "Requirement already satisfied: beautifulsoup4>=4.9.3 in /usr/local/lib/python3.11/dist-packages (from newspaper4k) (4.13.3)\n",
            "Requirement already satisfied: feedparser>=6.0.0 in /usr/local/lib/python3.11/dist-packages (from newspaper4k) (6.0.11)\n",
            "Requirement already satisfied: lxml>=4.2.0 in /usr/local/lib/python3.11/dist-packages (from newspaper4k) (5.3.1)\n",
            "Requirement already satisfied: nltk>=3.6.6 in /usr/local/lib/python3.11/dist-packages (from newspaper4k) (3.9.1)\n",
            "Requirement already satisfied: numpy>=1.25 in /usr/local/lib/python3.11/dist-packages (from newspaper4k) (1.26.4)\n",
            "Requirement already satisfied: pandas>=2.1.0 in /usr/local/lib/python3.11/dist-packages (from newspaper4k) (2.2.2)\n",
            "Requirement already satisfied: python-dateutil>=2.6.1 in /usr/local/lib/python3.11/dist-packages (from newspaper4k) (2.8.2)\n",
            "Requirement already satisfied: requests>=2.26.0 in /usr/local/lib/python3.11/dist-packages (from newspaper4k) (2.32.3)\n",
            "Requirement already satisfied: tldextract>=2.0.1 in /usr/local/lib/python3.11/dist-packages (from newspaper4k) (5.1.3)\n",
            "Requirement already satisfied: soupsieve>1.2 in /usr/local/lib/python3.11/dist-packages (from beautifulsoup4>=4.9.3->newspaper4k) (2.6)\n",
            "Requirement already satisfied: typing-extensions>=4.0.0 in /usr/local/lib/python3.11/dist-packages (from beautifulsoup4>=4.9.3->newspaper4k) (4.12.2)\n",
            "Requirement already satisfied: sgmllib3k in /usr/local/lib/python3.11/dist-packages (from feedparser>=6.0.0->newspaper4k) (1.0.0)\n",
            "Requirement already satisfied: click in /usr/local/lib/python3.11/dist-packages (from nltk>=3.6.6->newspaper4k) (8.1.8)\n",
            "Requirement already satisfied: joblib in /usr/local/lib/python3.11/dist-packages (from nltk>=3.6.6->newspaper4k) (1.4.2)\n",
            "Requirement already satisfied: regex>=2021.8.3 in /usr/local/lib/python3.11/dist-packages (from nltk>=3.6.6->newspaper4k) (2024.11.6)\n",
            "Requirement already satisfied: tqdm in /usr/local/lib/python3.11/dist-packages (from nltk>=3.6.6->newspaper4k) (4.67.1)\n",
            "Requirement already satisfied: pytz>=2020.1 in /usr/local/lib/python3.11/dist-packages (from pandas>=2.1.0->newspaper4k) (2025.1)\n",
            "Requirement already satisfied: tzdata>=2022.7 in /usr/local/lib/python3.11/dist-packages (from pandas>=2.1.0->newspaper4k) (2025.1)\n",
            "Requirement already satisfied: six>=1.5 in /usr/local/lib/python3.11/dist-packages (from python-dateutil>=2.6.1->newspaper4k) (1.17.0)\n",
            "Requirement already satisfied: charset-normalizer<4,>=2 in /usr/local/lib/python3.11/dist-packages (from requests>=2.26.0->newspaper4k) (3.4.1)\n",
            "Requirement already satisfied: idna<4,>=2.5 in /usr/local/lib/python3.11/dist-packages (from requests>=2.26.0->newspaper4k) (3.10)\n",
            "Requirement already satisfied: urllib3<3,>=1.21.1 in /usr/local/lib/python3.11/dist-packages (from requests>=2.26.0->newspaper4k) (2.3.0)\n",
            "Requirement already satisfied: certifi>=2017.4.17 in /usr/local/lib/python3.11/dist-packages (from requests>=2.26.0->newspaper4k) (2025.1.31)\n",
            "Requirement already satisfied: requests-file>=1.4 in /usr/local/lib/python3.11/dist-packages (from tldextract>=2.0.1->newspaper4k) (2.1.0)\n",
            "Requirement already satisfied: filelock>=3.0.8 in /usr/local/lib/python3.11/dist-packages (from tldextract>=2.0.1->newspaper4k) (3.17.0)\n",
            "Using cached newspaper4k-0.9.3.1-py3-none-any.whl (296 kB)\n",
            "Installing collected packages: newspaper4k\n",
            "Successfully installed newspaper4k-0.9.3.1\n"
          ]
        }
      ]
    },
    {
      "cell_type": "code",
      "source": [
        "!pip3 install lxml_html_clean"
      ],
      "metadata": {
        "id": "_IWQ1-Bgg0B5",
        "outputId": "44161283-e0d9-4e73-f8f4-c6ab2de7574d",
        "colab": {
          "base_uri": "https://localhost:8080/"
        }
      },
      "execution_count": 7,
      "outputs": [
        {
          "output_type": "stream",
          "name": "stdout",
          "text": [
            "Requirement already satisfied: lxml_html_clean in /usr/local/lib/python3.11/dist-packages (0.4.1)\n",
            "Requirement already satisfied: lxml in /usr/local/lib/python3.11/dist-packages (from lxml_html_clean) (5.3.1)\n"
          ]
        }
      ]
    },
    {
      "cell_type": "code",
      "source": [],
      "metadata": {
        "id": "9lMkbSZFhXUP"
      },
      "execution_count": 7,
      "outputs": []
    },
    {
      "cell_type": "code",
      "source": [
        "import newspaper\n",
        "\n",
        "article = newspaper.article('https://edition.cnn.com/2023/10/29/sport/nfl-week-8-how-to-watch-spt-intl/index.html')\n",
        "\n",
        "print(article.authors)"
      ],
      "metadata": {
        "id": "XbPZ71Psd2u7",
        "outputId": "4843e8e7-57b9-4a0f-8a52-e1cf8f2bf317",
        "colab": {
          "base_uri": "https://localhost:8080/"
        }
      },
      "execution_count": 8,
      "outputs": [
        {
          "output_type": "stream",
          "name": "stdout",
          "text": [
            "['Hannah Brewitt']\n"
          ]
        }
      ]
    }
  ],
  "metadata": {
    "language_info": {
      "name": "python"
    },
    "colab": {
      "provenance": []
    },
    "kernelspec": {
      "name": "python3",
      "display_name": "Python 3"
    }
  },
  "nbformat": 4,
  "nbformat_minor": 0
}