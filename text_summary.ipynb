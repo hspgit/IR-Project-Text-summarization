{
  "cells": [
    {
      "cell_type": "code",
      "execution_count": 1,
      "metadata": {
        "id": "zsUhS_jRHm4d"
      },
      "outputs": [],
      "source": [
        "#testing google colab commit"
      ]
    },
    {
      "cell_type": "code",
      "source": [
        "!pip3 install duckduckgo-search newspaper4k lxml_html_clean\n",
        "\n",
        "# !pip3 install --upgrade --quiet duckduckgo-search\n",
        "# use this if rate limit is reached"
      ],
      "metadata": {
        "colab": {
          "base_uri": "https://localhost:8080/"
        },
        "id": "s0u1wjPCXzGa",
        "outputId": "3ddca4b7-49ca-4be3-e6bb-8c7c79ff700f"
      },
      "execution_count": 2,
      "outputs": [
        {
          "output_type": "stream",
          "name": "stdout",
          "text": [
            "Collecting duckduckgo-search\n",
            "  Downloading duckduckgo_search-7.5.0-py3-none-any.whl.metadata (17 kB)\n",
            "Collecting newspaper4k\n",
            "  Downloading newspaper4k-0.9.3.1-py3-none-any.whl.metadata (14 kB)\n",
            "Collecting lxml_html_clean\n",
            "  Downloading lxml_html_clean-0.4.1-py3-none-any.whl.metadata (2.4 kB)\n",
            "Requirement already satisfied: click>=8.1.8 in /usr/local/lib/python3.11/dist-packages (from duckduckgo-search) (8.1.8)\n",
            "Collecting primp>=0.14.0 (from duckduckgo-search)\n",
            "  Downloading primp-0.14.0-cp38-abi3-manylinux_2_17_x86_64.manylinux2014_x86_64.whl.metadata (13 kB)\n",
            "Requirement already satisfied: lxml>=5.3.0 in /usr/local/lib/python3.11/dist-packages (from duckduckgo-search) (5.3.1)\n",
            "Requirement already satisfied: Pillow>=4.0.0 in /usr/local/lib/python3.11/dist-packages (from newspaper4k) (11.1.0)\n",
            "Requirement already satisfied: PyYAML>=5.1 in /usr/local/lib/python3.11/dist-packages (from newspaper4k) (6.0.2)\n",
            "Requirement already satisfied: beautifulsoup4>=4.9.3 in /usr/local/lib/python3.11/dist-packages (from newspaper4k) (4.13.3)\n",
            "Collecting feedparser>=6.0.0 (from newspaper4k)\n",
            "  Downloading feedparser-6.0.11-py3-none-any.whl.metadata (2.4 kB)\n",
            "Requirement already satisfied: nltk>=3.6.6 in /usr/local/lib/python3.11/dist-packages (from newspaper4k) (3.9.1)\n",
            "Requirement already satisfied: numpy>=1.25 in /usr/local/lib/python3.11/dist-packages (from newspaper4k) (1.26.4)\n",
            "Requirement already satisfied: pandas>=2.1.0 in /usr/local/lib/python3.11/dist-packages (from newspaper4k) (2.2.2)\n",
            "Requirement already satisfied: python-dateutil>=2.6.1 in /usr/local/lib/python3.11/dist-packages (from newspaper4k) (2.8.2)\n",
            "Requirement already satisfied: requests>=2.26.0 in /usr/local/lib/python3.11/dist-packages (from newspaper4k) (2.32.3)\n",
            "Collecting tldextract>=2.0.1 (from newspaper4k)\n",
            "  Downloading tldextract-5.1.3-py3-none-any.whl.metadata (11 kB)\n",
            "Requirement already satisfied: soupsieve>1.2 in /usr/local/lib/python3.11/dist-packages (from beautifulsoup4>=4.9.3->newspaper4k) (2.6)\n",
            "Requirement already satisfied: typing-extensions>=4.0.0 in /usr/local/lib/python3.11/dist-packages (from beautifulsoup4>=4.9.3->newspaper4k) (4.12.2)\n",
            "Collecting sgmllib3k (from feedparser>=6.0.0->newspaper4k)\n",
            "  Downloading sgmllib3k-1.0.0.tar.gz (5.8 kB)\n",
            "  Preparing metadata (setup.py) ... \u001b[?25l\u001b[?25hdone\n",
            "Requirement already satisfied: joblib in /usr/local/lib/python3.11/dist-packages (from nltk>=3.6.6->newspaper4k) (1.4.2)\n",
            "Requirement already satisfied: regex>=2021.8.3 in /usr/local/lib/python3.11/dist-packages (from nltk>=3.6.6->newspaper4k) (2024.11.6)\n",
            "Requirement already satisfied: tqdm in /usr/local/lib/python3.11/dist-packages (from nltk>=3.6.6->newspaper4k) (4.67.1)\n",
            "Requirement already satisfied: pytz>=2020.1 in /usr/local/lib/python3.11/dist-packages (from pandas>=2.1.0->newspaper4k) (2025.1)\n",
            "Requirement already satisfied: tzdata>=2022.7 in /usr/local/lib/python3.11/dist-packages (from pandas>=2.1.0->newspaper4k) (2025.1)\n",
            "Requirement already satisfied: six>=1.5 in /usr/local/lib/python3.11/dist-packages (from python-dateutil>=2.6.1->newspaper4k) (1.17.0)\n",
            "Requirement already satisfied: charset-normalizer<4,>=2 in /usr/local/lib/python3.11/dist-packages (from requests>=2.26.0->newspaper4k) (3.4.1)\n",
            "Requirement already satisfied: idna<4,>=2.5 in /usr/local/lib/python3.11/dist-packages (from requests>=2.26.0->newspaper4k) (3.10)\n",
            "Requirement already satisfied: urllib3<3,>=1.21.1 in /usr/local/lib/python3.11/dist-packages (from requests>=2.26.0->newspaper4k) (2.3.0)\n",
            "Requirement already satisfied: certifi>=2017.4.17 in /usr/local/lib/python3.11/dist-packages (from requests>=2.26.0->newspaper4k) (2025.1.31)\n",
            "Collecting requests-file>=1.4 (from tldextract>=2.0.1->newspaper4k)\n",
            "  Downloading requests_file-2.1.0-py2.py3-none-any.whl.metadata (1.7 kB)\n",
            "Requirement already satisfied: filelock>=3.0.8 in /usr/local/lib/python3.11/dist-packages (from tldextract>=2.0.1->newspaper4k) (3.17.0)\n",
            "Downloading duckduckgo_search-7.5.0-py3-none-any.whl (20 kB)\n",
            "Downloading newspaper4k-0.9.3.1-py3-none-any.whl (296 kB)\n",
            "\u001b[2K   \u001b[90m━━━━━━━━━━━━━━━━━━━━━━━━━━━━━━━━━━━━━━━━\u001b[0m \u001b[32m296.6/296.6 kB\u001b[0m \u001b[31m6.9 MB/s\u001b[0m eta \u001b[36m0:00:00\u001b[0m\n",
            "\u001b[?25hDownloading lxml_html_clean-0.4.1-py3-none-any.whl (14 kB)\n",
            "Downloading feedparser-6.0.11-py3-none-any.whl (81 kB)\n",
            "\u001b[2K   \u001b[90m━━━━━━━━━━━━━━━━━━━━━━━━━━━━━━━━━━━━━━━━\u001b[0m \u001b[32m81.3/81.3 kB\u001b[0m \u001b[31m6.4 MB/s\u001b[0m eta \u001b[36m0:00:00\u001b[0m\n",
            "\u001b[?25hDownloading primp-0.14.0-cp38-abi3-manylinux_2_17_x86_64.manylinux2014_x86_64.whl (3.3 MB)\n",
            "\u001b[2K   \u001b[90m━━━━━━━━━━━━━━━━━━━━━━━━━━━━━━━━━━━━━━━━\u001b[0m \u001b[32m3.3/3.3 MB\u001b[0m \u001b[31m52.8 MB/s\u001b[0m eta \u001b[36m0:00:00\u001b[0m\n",
            "\u001b[?25hDownloading tldextract-5.1.3-py3-none-any.whl (104 kB)\n",
            "\u001b[2K   \u001b[90m━━━━━━━━━━━━━━━━━━━━━━━━━━━━━━━━━━━━━━━━\u001b[0m \u001b[32m104.9/104.9 kB\u001b[0m \u001b[31m9.2 MB/s\u001b[0m eta \u001b[36m0:00:00\u001b[0m\n",
            "\u001b[?25hDownloading requests_file-2.1.0-py2.py3-none-any.whl (4.2 kB)\n",
            "Building wheels for collected packages: sgmllib3k\n",
            "  Building wheel for sgmllib3k (setup.py) ... \u001b[?25l\u001b[?25hdone\n",
            "  Created wheel for sgmllib3k: filename=sgmllib3k-1.0.0-py3-none-any.whl size=6047 sha256=e723c9aa4f46909440f06c0d3f6343af5992a066af1892287f2629eb2b0786ed\n",
            "  Stored in directory: /root/.cache/pip/wheels/3b/25/2a/105d6a15df6914f4d15047691c6c28f9052cc1173e40285d03\n",
            "Successfully built sgmllib3k\n",
            "Installing collected packages: sgmllib3k, primp, lxml_html_clean, feedparser, requests-file, duckduckgo-search, tldextract, newspaper4k\n",
            "Successfully installed duckduckgo-search-7.5.0 feedparser-6.0.11 lxml_html_clean-0.4.1 newspaper4k-0.9.3.1 primp-0.14.0 requests-file-2.1.0 sgmllib3k-1.0.0 tldextract-5.1.3\n"
          ]
        }
      ]
    },
    {
      "cell_type": "code",
      "source": [
        "from duckduckgo_search import DDGS\n",
        "import newspaper\n",
        "\n",
        "\n",
        "query = \"applications of blockchain in healthcare\"\n",
        "# results = list(DDGS().text(query, max_results=10))\n",
        "\n",
        "for result in results:\n",
        "    print(result['title'])\n",
        "    print(result['body'])"
      ],
      "metadata": {
        "colab": {
          "base_uri": "https://localhost:8080/"
        },
        "id": "MojnfJt2W2PX",
        "outputId": "c9fa8567-f53a-4785-92fc-0e8759f22ca5"
      },
      "execution_count": 3,
      "outputs": [
        {
          "output_type": "stream",
          "name": "stdout",
          "text": [
            "Blockchain technology applications in healthcare: An overview\n",
            "Blockchain is a relatively modern and emerging technology that has innovative applications during its successful healthcare implementation. Smooth, efficient data sharing and delivery across all the prominent network members and healthcare providers contribute to developing economical therapies and sophisticated treatments for many diseases.\n",
            "Blockchain in Healthcare: 16 Real-World Examples - Built In\n",
            "3 Ways Blockchain Will Change Healthcare | Video: The Medical Futurist Blockchain and Healthcare Data Security. In 2023, there were 725 data breaches of at least 500 patient records — the most ever reported to the Department of Health and Human Services Office for Civil Rights. Blockchain's ability to keep an incorruptible, decentralized and transparent log of all patient data makes it a ...\n",
            "Frontiers | Exploring applications of blockchain in healthcare: road ...\n",
            "Applications of blockchain in healthcare. Blockchain technology possesses the potential to enhance the healthcare sector by prioritizing the patient within the system and enhancing the safeguarding, security, and seamless exchange of health information. In essence, the healthcare industry could undergo a substantial transformation through the ...\n",
            "Blockchain technology in healthcare: A systematic review\n",
            "Blockchain applications for healthcare data management. Healthcare informatics research, 25(1), 51-56. [PMC free article] [Google Scholar] 120. Casino F., Dasaklis T. K., & Patsakis C. (2019). A systematic literature review of blockchain-based applications: Current status, classification and open issues. Telematics and informatics, 36, 55-81.\n",
            "5 blockchain healthcare use cases in digital health - STL Partners\n",
            "Beyond creating blockchain-based medical records, Medicalchain is also developing a platform upon which others can build digital health solutions, including a virtual consultation service and a medical data exchange, where patients can choose to sell their anonymised medical data, in exchange for Medtokens, to support digital health application ...\n",
            "Blockchain in Healthcare: Guide to Uses, Benefits & Examples\n",
            "Key applications of blockchain in healthcare. Blockchain holds promise for many businesses in the healthcare domain, including biopharmaceutical companies, medical device manufacturers, insurers, and healthcare providers. Here, we highlight the key blockchain technology use cases in healthcare.\n",
            "Applications of Blockchain in the Medical Field: Narrative Review\n",
            "As a distributed technology, blockchain has attracted increasing attention from stakeholders in the medical industry. Although previous studies have analyzed blockchain applications from the perspectives of technology, business, or patient care, few studies have focused on actual use-case scenarios of blockchain in health care.\n",
            "15 Applications of Blockchain in Healthcare - Clavis Technologies\n",
            "Applications of Blockchain in Healthcare: Below are a few ways blockchain is helpful in the healthcare industry. 1. Security and Patient Data Management. In the healthcare industry, data security is a critical concern. Data security has become a major issue for patients around the world as the number of data breaches rises year after year.\n",
            "Blockchain applications in health care for COVID-19 and beyond: a ...\n",
            "Blockchain is a foundational digital technology that integrates multiple other such technologies (appendix pp 2-4). 3,6 In health care, blockchain could serve as a replacement to traditional distributed database management systems, which have generally been client-server databases with Structured Query Language or relational input. 7 Although traditional distributed database management ...\n",
            "Blockchain in Healthcare: Benefits, Use Cases, & Challenges\n",
            "The application of blockchain technology to healthcare-related activities can provide a decentralized and secure way to manage, store, and share medical data. Blockchain in healthcare can encompass a range of use cases, from electronic health records (EHRs) and medical research to insurance claims and pharmaceutical supply chains.\n"
          ]
        }
      ]
    },
    {
      "cell_type": "code",
      "source": [
        "\n",
        "article = newspaper.article('https://edition.cnn.com/2023/10/29/sport/nfl-week-8-how-to-watch-spt-intl/index.html')\n",
        "\n",
        "print(article.authors)"
      ],
      "metadata": {
        "colab": {
          "base_uri": "https://localhost:8080/"
        },
        "id": "XbPZ71Psd2u7",
        "outputId": "e70afba4-dc87-4dd4-a5ce-fd976d19f7ed"
      },
      "execution_count": 4,
      "outputs": [
        {
          "output_type": "stream",
          "name": "stdout",
          "text": [
            "['Hannah Brewitt']\n"
          ]
        }
      ]
    },
    {
      "cell_type": "code",
      "source": [
        "# news_result = DDGS().news(keywords=\"developments in climate change\", region=\"us-en\", safesearch=\"off\", timelimit=\"m\", max_results=10)\n",
        "print(news_result)"
      ],
      "metadata": {
        "colab": {
          "base_uri": "https://localhost:8080/"
        },
        "id": "GvYxK-eAHjuQ",
        "outputId": "51e5a81b-d295-4818-97d4-ad691f40e3a1"
      },
      "execution_count": 5,
      "outputs": [
        {
          "output_type": "stream",
          "name": "stdout",
          "text": [
            "[{'date': '2025-03-05T17:23:00+00:00', 'title': 'Opinion: Democracy and Climate Change', 'body': 'Ill-effects of growth model needs serious revisit to strike a balance between ecology, economy Climate change has emerged as both academic and policy relevance globally in the last two-and-a-half decades.', 'url': 'https://telanganatoday.com/opinion-democracy-and-climate-change', 'image': 'https://media.telanganatoday.com/wp-content/uploads/2025/03/Opinion.jpg', 'source': 'Telangana Today'}, {'date': '2025-03-06T04:42:00+00:00', 'title': 'Global South is driving climate agenda: Bhupender Yadav', 'body': 'The Global South is driving the climate agenda, and the world now looks at India as a leader, Union minister for environment, forest and climate change, Bhupender Yadav said on Wednesday.', 'url': 'https://www.msn.com/en-in/entertainment/southcinema/global-south-is-driving-climate-agenda-bhupender-yadav/ar-AA1AjA9j', 'image': 'https://www.livemint.com/lm-img/img/2025/03/05/1600x900/PTI02-17-2025-000156B-0_1741194117009_1741194138503.jpg', 'source': 'Live Mint'}, {'date': '2025-03-05T21:01:42+00:00', 'title': 'CT lawmakers approve 5-year plan focused on climate change, housing', 'body': 'The Plan of Conservation and Development says climate change should be a central tenet in discussions about where and how CT builds.', 'url': 'https://www.msn.com/en-us/news/politics/ct-lawmakers-approve-5-year-plan-focused-on-climate-change-housing/ar-AA1Akany', 'image': 'https://ctmirror-images.s3.amazonaws.com/wp-content/uploads/2025/03/2025_0305_SR_CapitolSession229-3-scaled.jpg', 'source': 'The Connecticut Mirror'}, {'date': '2025-03-07T12:15:00+00:00', 'title': 'United States quits board of UN climate damage fund, letter shows', 'body': \"The United States has withdrawn from the board of the U.N.'s hard-negotiated climate damage fund, dedicated to helping poor and vulnerable nations cope with climate change-fuelled disasters, a letter seen by Reuters showed.\", 'url': 'https://www.reuters.com/world/us/united-states-quits-board-un-climate-damage-fund-letter-shows-2025-03-07/', 'image': 'https://www.reuters.com/resizer/v2/ZSVANSM5I5PAFCYITGTO7WTKRU.jpg?auth=12bdedd97249cb7dcfa55abfc05138d23ad40ef8223de556704bf5203403e802&height=1005&width=1920&quality=80&smart=true', 'source': 'Reuters'}, {'date': '2025-03-06T16:45:04+00:00', 'title': 'Ghana needs more young farmers, but does climate change put them off? Study shows surprising results', 'body': 'Young people are in fact attracted to farming by new innovations in agriculture that help farms withstand climate change disasters. In contrast to other studies, our study shows that the majority of youth are willing to participate in agriculture and agribusiness, with 76.7% of the study participants in favour of farming.', 'url': 'https://www.msn.com/en-us/news/technology/ghana-needs-more-young-farmers-but-does-climate-change-put-them-off-study-shows-surprising-results/ar-AA1Aosyo', 'image': 'https://images.theconversation.com/files/650344/original/file-20250220-32-831mku.jpg?ixlib=rb-4.1.0&rect=0,723,8192,4096&q=45&auto=format&w=1356&h=668&fit=crop', 'source': 'Phys.org'}, {'date': '2025-03-07T09:50:00+00:00', 'title': 'Guyana stresses global collaboration for targeted climate solutions', 'body': 'He announced that solar energy capacity has grown by 173% since 2020, with the Guyana Utility-Scale Solar Photovoltaic programme (GUYSOL) set to launch the largest utility-scale solar plants in 2025, marking a significant step towards a clean- energy future.', 'url': 'https://guyanachronicle.com/2025/03/07/guyana-stresses-global-collaboration-for-targeted-climate-solutions/', 'image': '', 'source': 'Guyana Chronicle'}, {'date': '2025-03-07T00:41:00+00:00', 'title': \"Political instability, climate change threaten Africa's development prospects — Experts\", 'body': \"Experts have raised concerns as Nigeria's and Africa's development aspirations are under threat from the twin challenges of political instability and climate change.They stressed that the continent is facing a crisis of development,\", 'url': 'https://www.msn.com/en-xl/africa/nigeria/political-instability-climate-change-threaten-africa-s-development-prospects-experts/ar-AA1ApxWN', 'image': '', 'source': 'Tribune Online'}, {'date': '2025-03-06T02:58:00+00:00', 'title': \"Lack of justice in Indonesia's climate plan may backfire\", 'body': \"Indonesia's climate documents have failed to adequately address the social and environmental aspects that are fundamental to a just transition.\", 'url': 'https://www.thejakartapost.com/opinion/2025/03/06/lack-of-justice-in-indonesias-climate-plan-may-backfire.html', 'image': 'https://img.jakpost.net/c/2024/09/30/2024_09_30_155409_1727685203._large.jpg', 'source': 'The Jakarta Post'}, {'date': '2025-03-07T00:26:00+00:00', 'title': \"We're committed to climate action — FG\", 'body': 'The Federal Government has reiterated its commitment to addressing issues regarding climate change and enhancing climate action for sustainable development.', 'url': 'https://www.vanguardngr.com/2025/03/were-committed-to-climate-action-fg/', 'image': 'https://cdn.vanguardngr.com/wp-content/uploads/2020/01/Climate.jpg', 'source': 'Vanguard'}, {'date': '2025-03-06T22:00:00+00:00', 'title': 'Kamaʻāina artists selected for climate change action residency', 'body': \"University of Hawai'i at Mānoa educator Ben Fairfield, who creates musical instruments from trash, was one of four artists selected for the residency program. PC: DLNR Four artists have been selected as the state of Hawaiʻiʻs Climate Artists in Residence, the Department of Land and Natural Resources announced Tuesday.\", 'url': 'https://mauinow.com/2025/03/06/kamaʻaina-artists-selected-for-climate-change-action-residency/', 'image': 'https://media.mauinow.com/file/mauinow/2025/03/Gillian-Duenas-955x1024.jpg', 'source': 'Maui Now'}]\n"
          ]
        }
      ]
    },
    {
      "cell_type": "code",
      "source": [
        "query = \"applications of blockchain in healthcare\"\n",
        "\n",
        "# news_result = DDGS().news(\n",
        "#     keywords=query,\n",
        "#     region=\"us-en\",\n",
        "#     safesearch=\"off\",\n",
        "#     timelimit=\"m\",\n",
        "#     max_results=10)\n",
        "\n",
        "# text_list = []\n",
        "\n",
        "for result in news_result:\n",
        "    try:\n",
        "        article = newspaper.article(result['url'])\n",
        "        article.download()\n",
        "        article.parse()\n",
        "        text_list.append({\n",
        "            'title': result['title'],\n",
        "            'body': result['body'],\n",
        "            'url': result['url'],\n",
        "            'full_text': article.text\n",
        "        })\n",
        "        print(article.title)\n",
        "    except Exception as e:\n",
        "        print(f\"Skipping article due to error: {str(e)}\")\n",
        "        continue"
      ],
      "metadata": {
        "colab": {
          "base_uri": "https://localhost:8080/"
        },
        "id": "2jUEwFtmIAF9",
        "outputId": "40ffe460-4bb5-4972-91e3-8053b4569682"
      },
      "execution_count": 48,
      "outputs": [
        {
          "output_type": "stream",
          "name": "stdout",
          "text": [
            "Blockchain In Supply Chain: Real-World Applications In India\n",
            "Navigating the Future of Technology With Broxus Blockchain Solutions for Governments and Enterprises\n"
          ]
        },
        {
          "output_type": "stream",
          "name": "stderr",
          "text": [
            "WARNING:newspaper.network:get_html_status(): bad status code 403 on URL: https://www.tmcnet.com/usubmit/2025/03/06/10157071.htm, html: <!DOCTYPE html><html lang=\"en-US\"><head><title>Just a moment...</title><meta http-equiv=\"Content-Type\" content=\"text/html; charset=UTF-8\"><meta http-equiv=\"X-UA-Compatible\" content=\"IE=Edge\"><meta nam\n"
          ]
        },
        {
          "output_type": "stream",
          "name": "stdout",
          "text": [
            "India's Crypto Start-up Ecosystem: Innovation In The Face Of Regulatory Uncertainty\n",
            "Skipping article due to error: Article `download()` failed with Status code 403 for url None on URL https://www.tmcnet.com/usubmit/2025/03/06/10157071.htm\n",
            "Blockchain’s Impact on Cryptocurrencies and Beyond\n",
            "Ping An Tops Global Patentee Top 10 List, Leading in Fintech and Healthcare\n",
            "Can AI Finally Solve the Healthcare Data Puzzle?\n",
            "Top Blockchain Development Services for Web3 Solutions - Nadcab Labs\n",
            "The Digital Transformation of Healthcare: AI, IoT, and Blockchain in Action\n",
            "WISeKey WISeID Provides Healthcare Security with Decentralized Digital Identities\n"
          ]
        }
      ]
    },
    {
      "cell_type": "code",
      "source": [
        "!pip3 install sumy\n",
        "from sumy.parsers.plaintext import PlaintextParser\n",
        "from sumy.nlp.tokenizers import Tokenizer\n",
        "from sumy.summarizers.lex_rank import LexRankSummarizer"
      ],
      "metadata": {
        "colab": {
          "base_uri": "https://localhost:8080/"
        },
        "id": "04R3oM1ZPpeQ",
        "outputId": "2dc542d7-6e3a-4614-963b-c35e9db78bef"
      },
      "execution_count": 18,
      "outputs": [
        {
          "output_type": "stream",
          "name": "stdout",
          "text": [
            "Collecting sumy\n",
            "  Downloading sumy-0.11.0-py2.py3-none-any.whl.metadata (7.5 kB)\n",
            "Collecting docopt<0.7,>=0.6.1 (from sumy)\n",
            "  Downloading docopt-0.6.2.tar.gz (25 kB)\n",
            "  Preparing metadata (setup.py) ... \u001b[?25l\u001b[?25hdone\n",
            "Collecting breadability>=0.1.20 (from sumy)\n",
            "  Downloading breadability-0.1.20.tar.gz (32 kB)\n",
            "  Preparing metadata (setup.py) ... \u001b[?25l\u001b[?25hdone\n",
            "Requirement already satisfied: requests>=2.7.0 in /usr/local/lib/python3.11/dist-packages (from sumy) (2.32.3)\n",
            "Collecting pycountry>=18.2.23 (from sumy)\n",
            "  Downloading pycountry-24.6.1-py3-none-any.whl.metadata (12 kB)\n",
            "Requirement already satisfied: nltk>=3.0.2 in /usr/local/lib/python3.11/dist-packages (from sumy) (3.9.1)\n",
            "Requirement already satisfied: chardet in /usr/local/lib/python3.11/dist-packages (from breadability>=0.1.20->sumy) (5.2.0)\n",
            "Requirement already satisfied: lxml>=2.0 in /usr/local/lib/python3.11/dist-packages (from breadability>=0.1.20->sumy) (5.3.1)\n",
            "Requirement already satisfied: click in /usr/local/lib/python3.11/dist-packages (from nltk>=3.0.2->sumy) (8.1.8)\n",
            "Requirement already satisfied: joblib in /usr/local/lib/python3.11/dist-packages (from nltk>=3.0.2->sumy) (1.4.2)\n",
            "Requirement already satisfied: regex>=2021.8.3 in /usr/local/lib/python3.11/dist-packages (from nltk>=3.0.2->sumy) (2024.11.6)\n",
            "Requirement already satisfied: tqdm in /usr/local/lib/python3.11/dist-packages (from nltk>=3.0.2->sumy) (4.67.1)\n",
            "Requirement already satisfied: charset-normalizer<4,>=2 in /usr/local/lib/python3.11/dist-packages (from requests>=2.7.0->sumy) (3.4.1)\n",
            "Requirement already satisfied: idna<4,>=2.5 in /usr/local/lib/python3.11/dist-packages (from requests>=2.7.0->sumy) (3.10)\n",
            "Requirement already satisfied: urllib3<3,>=1.21.1 in /usr/local/lib/python3.11/dist-packages (from requests>=2.7.0->sumy) (2.3.0)\n",
            "Requirement already satisfied: certifi>=2017.4.17 in /usr/local/lib/python3.11/dist-packages (from requests>=2.7.0->sumy) (2025.1.31)\n",
            "Downloading sumy-0.11.0-py2.py3-none-any.whl (97 kB)\n",
            "\u001b[2K   \u001b[90m━━━━━━━━━━━━━━━━━━━━━━━━━━━━━━━━━━━━━━━━\u001b[0m \u001b[32m97.3/97.3 kB\u001b[0m \u001b[31m4.9 MB/s\u001b[0m eta \u001b[36m0:00:00\u001b[0m\n",
            "\u001b[?25hDownloading pycountry-24.6.1-py3-none-any.whl (6.3 MB)\n",
            "\u001b[2K   \u001b[90m━━━━━━━━━━━━━━━━━━━━━━━━━━━━━━━━━━━━━━━━\u001b[0m \u001b[32m6.3/6.3 MB\u001b[0m \u001b[31m47.4 MB/s\u001b[0m eta \u001b[36m0:00:00\u001b[0m\n",
            "\u001b[?25hBuilding wheels for collected packages: breadability, docopt\n",
            "  Building wheel for breadability (setup.py) ... \u001b[?25l\u001b[?25hdone\n",
            "  Created wheel for breadability: filename=breadability-0.1.20-py2.py3-none-any.whl size=21691 sha256=7cb5de9c167b757373d5c699ef101aa11f386ecf21dec52c30f77fa720a7faae\n",
            "  Stored in directory: /root/.cache/pip/wheels/4d/57/58/7e3d7fedf51fe248b7fcee3df6945ae28638e22cddf01eb92b\n",
            "  Building wheel for docopt (setup.py) ... \u001b[?25l\u001b[?25hdone\n",
            "  Created wheel for docopt: filename=docopt-0.6.2-py2.py3-none-any.whl size=13706 sha256=ac745418f864315a10278e6623643b37e5055f8dafc60e4269a6960db2943de7\n",
            "  Stored in directory: /root/.cache/pip/wheels/1a/b0/8c/4b75c4116c31f83c8f9f047231251e13cc74481cca4a78a9ce\n",
            "Successfully built breadability docopt\n",
            "Installing collected packages: docopt, pycountry, breadability, sumy\n",
            "Successfully installed breadability-0.1.20 docopt-0.6.2 pycountry-24.6.1 sumy-0.11.0\n"
          ]
        }
      ]
    },
    {
      "cell_type": "code",
      "source": [
        "import nltk\n",
        "from nltk.corpus import stopwords\n",
        "from nltk.tokenize import sent_tokenize, word_tokenize\n",
        "from sklearn.feature_extraction.text import TfidfVectorizer\n",
        "from sklearn.cluster import KMeans\n",
        "from transformers import pipeline\n",
        "\n",
        "\n",
        "nltk.download('stopwords')\n",
        "nltk.download('punkt')\n",
        "nltk.download('punkt_tab')"
      ],
      "metadata": {
        "colab": {
          "base_uri": "https://localhost:8080/"
        },
        "id": "pP_apMGaQVmm",
        "outputId": "dce3488b-2d4c-47c8-881c-6a982e26c4f5"
      },
      "execution_count": 61,
      "outputs": [
        {
          "output_type": "stream",
          "name": "stderr",
          "text": [
            "[nltk_data] Downloading package stopwords to /root/nltk_data...\n",
            "[nltk_data]   Package stopwords is already up-to-date!\n",
            "[nltk_data] Downloading package punkt to /root/nltk_data...\n",
            "[nltk_data]   Package punkt is already up-to-date!\n",
            "[nltk_data] Downloading package punkt_tab to /root/nltk_data...\n",
            "[nltk_data]   Package punkt_tab is already up-to-date!\n"
          ]
        },
        {
          "output_type": "execute_result",
          "data": {
            "text/plain": [
              "True"
            ]
          },
          "metadata": {},
          "execution_count": 61
        }
      ]
    },
    {
      "cell_type": "code",
      "source": [
        "def generate_combined_summary(text_list, method='abstractive'):\n",
        "    # Concatenate all articles with titles\n",
        "    combined_text = \"\"\n",
        "    for item in text_list:\n",
        "        combined_text += f\"{item['title']}\\n{item['full_text']}\\n\\n\"\n",
        "\n",
        "    if method == 'extractive':\n",
        "        # Using extractive summarization\n",
        "        parser = PlaintextParser.from_string(combined_text, Tokenizer(\"english\"))\n",
        "        summarizer = LexRankSummarizer()\n",
        "        summary = summarizer(parser.document, sentences_count=10)\n",
        "        return \" \".join([str(sentence) for sentence in summary])\n",
        "\n",
        "    elif method == 'abstractive':\n",
        "        # Using transformers for abstractive summarization\n",
        "        summarizer = pipeline(\"summarization\", model=\"facebook/bart-large-cnn\")\n",
        "        # Process in chunks if the combined text is too long\n",
        "        max_chunk_length = 1024  # Approximate token limit for BART\n",
        "        chunks = [combined_text[i:i+max_chunk_length] for i in range(0, len(combined_text), max_chunk_length)]\n",
        "\n",
        "        summaries = []\n",
        "        for chunk in chunks:\n",
        "            if len(chunk) > 100:  # Ensure chunk is long enough to summarize\n",
        "                summary = summarizer(chunk, max_length=150, min_length=50, do_sample=False)\n",
        "                summaries.append(summary[0]['summary_text'])\n",
        "\n",
        "        return \" \".join(summaries)"
      ],
      "metadata": {
        "id": "rYt8i70INYpc"
      },
      "execution_count": 29,
      "outputs": []
    },
    {
      "cell_type": "code",
      "source": [
        "# Generate a single summary from all articles\n",
        "overall_summary = generate_combined_summary(text_list)\n",
        "print(\"Abstractive Overall Summary:\")\n",
        "print(overall_summary)"
      ],
      "metadata": {
        "id": "xJogRc11P2-d"
      },
      "execution_count": null,
      "outputs": []
    },
    {
      "cell_type": "code",
      "source": [
        "overall_summary_extractive = generate_combined_summary(text_list, 'extractive')\n",
        "print(\"Extractive Overall Summary:\")\n",
        "print(overall_summary_extractive)"
      ],
      "metadata": {
        "colab": {
          "base_uri": "https://localhost:8080/"
        },
        "id": "hBAD2zeNOaw1",
        "outputId": "a4b31814-5742-47ae-fbfa-3cfe37135aaa"
      },
      "execution_count": 30,
      "outputs": [
        {
          "output_type": "stream",
          "name": "stdout",
          "text": [
            "Extractive Overall Summary:\n",
            "The Future of Blockchain in Supply Chain in India In Addition, Blockchain is revolutionizing many government services, from financing and supply chain management to healthcare, enabling decentralized transactions to reduce fraud and enhance data integrity. Therefore provides the integrity and security of the data with its transparency, making it an ideal application among digital currencies. The future of industries is going to be revolutionized by blockchain technology with its decentralized and secure nature beyond just digital currencies, building trust and transparency in the digital age. The Advancements Of Blockchain With Integration Of AI In The Future India's Crypto Start-up Ecosystem: Innovation In The Face Of Regulatory Uncertainty The innovation that has been triggered by the cryptos has had a chain reaction of innovation all over the world, and India is not an exception. The healthcare industry white paper points out that artificial intelligence (AI) technology has become a key driver in promoting innovation and progress in the healthcare industry, and Ping An's patent portfolio in healthcare is particularly strong, with leading numbers of patents in AI, blockchain and big data, significantly outstripping its closest competitors. About Ping An Group Ping An Insurance (Group) Company of China, Ltd. (HKEx:2318 / 82318; SSE:601318) is one of the largest financial services companies in the world. He also recommends the use of innovative technologies like blockchain in the management of data to ensure that the data is secure and can be easily shared among healthcare payers and providers to improve the claims processing and reduce costs.\n"
          ]
        }
      ]
    },
    {
      "cell_type": "code",
      "source": [
        "print(len(overall_summary_extractive))"
      ],
      "metadata": {
        "colab": {
          "base_uri": "https://localhost:8080/"
        },
        "id": "XvLRn54vQuL_",
        "outputId": "9d8fcef2-8baa-4900-81be-918f8c06d5a5"
      },
      "execution_count": 31,
      "outputs": [
        {
          "output_type": "stream",
          "name": "stdout",
          "text": [
            "1671\n"
          ]
        }
      ]
    },
    {
      "cell_type": "code",
      "source": [
        "def topic_based_multi_doc_summary(text_list, num_sentences=15):\n",
        "    # Extract all sentences from all documents\n",
        "    all_sentences = []\n",
        "    for item in text_list:\n",
        "        sentences = sent_tokenize(item['full_text'])\n",
        "        all_sentences.extend(sentences)\n",
        "\n",
        "    # Calculate TF-IDF\n",
        "    # Changed stop_words to a list instead of a set\n",
        "    stop_words = stopwords.words('english')\n",
        "    vectorizer = TfidfVectorizer(stop_words=stop_words)\n",
        "    tfidf_matrix = vectorizer.fit_transform(all_sentences)\n",
        "\n",
        "    # Cluster sentences\n",
        "    num_clusters = min(num_sentences, len(all_sentences))\n",
        "    kmeans = KMeans(n_clusters=num_clusters)\n",
        "    kmeans.fit(tfidf_matrix)\n",
        "\n",
        "    # Get closest sentences to cluster centers\n",
        "    centers = kmeans.cluster_centers_\n",
        "    ordered_sentences = []\n",
        "    for i in range(num_clusters):\n",
        "        # Find the sentence closest to this cluster center\n",
        "        closest_idx = None\n",
        "        closest_dist = float('inf')\n",
        "        for j, sentence in enumerate(all_sentences):\n",
        "            if kmeans.labels_[j] == i:\n",
        "                # Convert tfidf_matrix[j] to dense array to match centers shape\n",
        "                dist = ((tfidf_matrix[j].toarray() - centers[i]) ** 2).sum() ** 0.5\n",
        "                if dist < closest_dist:\n",
        "                    closest_dist = dist\n",
        "                    closest_idx = j\n",
        "\n",
        "        if closest_idx is not None:\n",
        "            ordered_sentences.append((closest_idx, all_sentences[closest_idx]))\n",
        "\n",
        "    # Sort by original order\n",
        "    ordered_sentences.sort(key=lambda x: x[0])\n",
        "    summary = \" \".join([sentence for _, sentence in ordered_sentences])\n",
        "    return summary"
      ],
      "metadata": {
        "id": "C93nTCuyOoB3"
      },
      "execution_count": 37,
      "outputs": []
    },
    {
      "cell_type": "code",
      "source": [
        "# Generate topic-based summary\n",
        "topic_summary = topic_based_multi_doc_summary(text_list)\n",
        "print(\"Topic-based Summary:\")\n",
        "print(topic_summary)"
      ],
      "metadata": {
        "colab": {
          "base_uri": "https://localhost:8080/"
        },
        "id": "IcTi40RzRE2x",
        "outputId": "fd4e4c0d-1478-440b-dac9-19e7a2819610"
      },
      "execution_count": 38,
      "outputs": [
        {
          "output_type": "stream",
          "name": "stdout",
          "text": [
            "Topic-based Summary:\n",
            "The Future of Blockchain in Supply Chain in India\n",
            "\n",
            "The application of blockchain technology in supply chain management will increase with growing awareness by businesses and industries of its significance. Such innovations will transform the dynamics of business operation and consumer engagement. With solutions like those offered by Broxus, the future of digital transformation will be robust, secure, scalable, and efficient. The future of industries is going to be revolutionized by blockchain technology with its decentralized and secure nature beyond just digital currencies, building trust and transparency in the digital age. The future of blockchain technology holds an immense potential with the integration of AI. The Prospect of Blockchain Technology\n",
            "\n",
            "As blockchain technology continues to evolve, its potential applications are expected to grow exponentially. In the fintech sector, Ping An has 8,582 patents, accounting for more than 2% of patents of the entire industry. On the other hand, data integration is the process of combining data from different data sources to create a single integrated data set. Prabhu's research on data integration issues in the healthcare claims processing environment identifies the existing challenges in the sharing of information between payers and providers. 2. With WISeID.COM, the healthcare industry can shift towards a decentralized, patient-centric model that enhances privacy, security, and accessibility. Patients can selectively share medical records without disclosing unrelated health information. Improves healthcare trust through a transparent and tamper-proof system. Mitigates security risks associated with centralized storage and unauthorized access. About WISeKey\n",
            "\n",
            "WISeKey International Holding Ltd (“WISeKey”, SIX: WIHN; Nasdaq: WKEY) is a global leader in cybersecurity, digital identity, and IoT solutions platform.\n"
          ]
        }
      ]
    },
    {
      "cell_type": "code",
      "source": [
        "print(len(topic_summary))"
      ],
      "metadata": {
        "colab": {
          "base_uri": "https://localhost:8080/"
        },
        "id": "f_rtLRqnRbpg",
        "outputId": "709f27dc-fccc-4384-db96-e7daaa7b9afc"
      },
      "execution_count": 39,
      "outputs": [
        {
          "output_type": "stream",
          "name": "stdout",
          "text": [
            "1887\n"
          ]
        }
      ]
    },
    {
      "cell_type": "code",
      "source": [
        "from collections import Counter\n",
        "import re\n",
        "import numpy as np\n",
        "\n",
        "def weighted_multi_doc_summary(text_list, num_sentences=15):\n",
        "    # Extract all text\n",
        "    all_text = \"\"\n",
        "    for item in text_list:\n",
        "        all_text += item['full_text'] + \" \"\n",
        "\n",
        "    # Find most common terms (potential key topics)\n",
        "    words = re.findall(r'\\w+', all_text.lower())\n",
        "    stop_words = set(stopwords.words('english'))\n",
        "    filtered_words = [word for word in words if word not in stop_words and len(word) > 3]\n",
        "    common_terms = [word for word, count in Counter(filtered_words).most_common(20)]\n",
        "\n",
        "    # Score sentences based on common terms\n",
        "    all_sentences = []\n",
        "    for item in text_list:\n",
        "        sentences = sent_tokenize(item['full_text'])\n",
        "        for sentence in sentences:\n",
        "            score = sum(1 for word in common_terms if word.lower() in sentence.lower())\n",
        "            all_sentences.append((sentence, score))\n",
        "\n",
        "    # Get top sentences\n",
        "    all_sentences.sort(key=lambda x: x[1], reverse=True)\n",
        "    top_sentences = [sentence for sentence, _ in all_sentences[:num_sentences]]\n",
        "\n",
        "    # Order sentences as they appeared in original text\n",
        "    sentence_positions = {}\n",
        "    position = 0\n",
        "    for item in text_list:\n",
        "        sentences = sent_tokenize(item['full_text'])\n",
        "        for sentence in sentences:\n",
        "            if sentence in top_sentences:\n",
        "                sentence_positions[sentence] = position\n",
        "            position += 1\n",
        "\n",
        "    ordered_top_sentences = sorted(top_sentences, key=lambda s: sentence_positions.get(s, float('inf')))\n",
        "    summary = \" \".join(ordered_top_sentences)\n",
        "    return summary"
      ],
      "metadata": {
        "id": "8C3KOov7Oq-R"
      },
      "execution_count": 40,
      "outputs": []
    },
    {
      "cell_type": "code",
      "source": [
        "# Generate weighted summary\n",
        "weighted_summary = weighted_multi_doc_summary(text_list)\n",
        "print(\"Weighted Summary:\")\n",
        "print(weighted_summary)"
      ],
      "metadata": {
        "colab": {
          "base_uri": "https://localhost:8080/"
        },
        "id": "GNgo14XzRf2S",
        "outputId": "ba149346-d465-4167-ef62-c808cfb70a7d"
      },
      "execution_count": 41,
      "outputs": [
        {
          "output_type": "stream",
          "name": "stdout",
          "text": [
            "Weighted Summary:\n",
            "Understanding Supply Chain Management in Blockchain\n",
            "\n",
            "Blockchain is a decentralized, immutable digital ledger that guarantees secure, transparent transactions. The Future of Blockchain in Supply Chain in India\n",
            "\n",
            "The application of blockchain technology in supply chain management will increase with growing awareness by businesses and industries of its significance. In Addition, Blockchain is revolutionizing many government services, from financing and supply chain management to healthcare, enabling decentralized transactions to reduce fraud and enhance data integrity. For enterprises, their solutions offer real-world asset tokenization, supply chain automation, and decentralization of financial services to improve operational efficiency and data security. Understanding The Security and Basics of Blockchain Technology\n",
            "\n",
            "Blockchain is a technology with a decentralized distributed ledger that allows P2P transactions to facilitate the safest direct exchange between two parties. The future of industries is going to be revolutionized by blockchain technology with its decentralized and secure nature beyond just digital currencies, building trust and transparency in the digital age. The Future Of Blockchain in Governments Digital Currencies\n",
            "\n",
            "Blockchain technology has been faithful to its word by showing consistency regarding financial properties. Their focus on Central Bank digital currency and enterprise solutions demonstrates their dedication to modernizing national financial systems while increasing operational efficiency and data security for businesses. With Broxus at the forefront of this ever-evolving industry, we can expect continued advancements in blockchain technology that will shape our future financial systems. Blockchain technology has opened doors for a number of startups to test its applications, including decentralized finance (DeFi), supply chain management, and digital identity verification. Blockchain’s decentralized, transparent, and secure framework has disrupted traditional systems and industries, introducing new ways of doing business, managing data, and ensuring trust. Our Smart Contract Development Solutions provide self-executing, tamper-proof contracts that ensure trust and security in financial transactions, supply chain management, and legal agreements. Ensuring Data Security and Compliance\n",
            "\n",
            "With increasing concerns over healthcare data privacy, blockchain provides a decentralized and tamper-proof method for storing patient records. Geneva, Switzerland, March 5, 2025 –WISeKey International Holding Ltd (“WISeKey”) (SIX: WIHN, NASDAQ: WKEY), a leading global cybersecurity, blockchain, and IoT company, today announces that its WISeID.COM introduces a groundbreaking approach to healthcare data security by enabling decentralized consultations through blockchain-secured digital identities, encryption, and self-sovereign identity (SSI) principles. The subsidiaries include (i) SEALSQ Corp (Nasdaq: LAES), which focuses on semiconductors, PKI, and post-quantum technology products, (ii) WISeKey SA which specializes in RoT and PKI solutions for secure authentication and identification in IoT, Blockchain, and AI, (iii) WISeSat AG which focuses on space technology for secure satellite communication, specifically for IoT applications, (iv) WISe.ART Corp which focuses on trusted blockchain NFTs and operates the WISe.ART marketplace for secure NFT transactions, and (v) SEALCOIN AG which focuses on decentralized physical internet with DePIN technology and house the development of the SEALCOIN platform.\n"
          ]
        }
      ]
    },
    {
      "cell_type": "code",
      "source": [
        "print(len(weighted_summary))"
      ],
      "metadata": {
        "colab": {
          "base_uri": "https://localhost:8080/"
        },
        "id": "07euSIjkRgZT",
        "outputId": "cffbfb35-a656-4ab3-8180-d7688c6467cf"
      },
      "execution_count": 42,
      "outputs": [
        {
          "output_type": "stream",
          "name": "stdout",
          "text": [
            "3567\n"
          ]
        }
      ]
    },
    {
      "cell_type": "code",
      "source": [
        "print(len(text_list))\n",
        "print(text_list[0])"
      ],
      "metadata": {
        "colab": {
          "base_uri": "https://localhost:8080/"
        },
        "id": "xFli5LRWULdE",
        "outputId": "07487829-dd05-46f1-ef12-d1ec04962f31"
      },
      "execution_count": 46,
      "outputs": [
        {
          "output_type": "stream",
          "name": "stdout",
          "text": [
            "9\n",
            "{'title': 'Blockchain In Supply Chain: Real-World Applications In India', 'body': 'Blockchain makes transformation in supply chain management offering clarity, efficiency and security. It has real-life applications in India which can tremendously range from tracking food safety and preventing counterfeiting activities and finally to cost reduction.', 'url': 'https://www.outlookindia.com/xhub/blockchain-insights/blockchain-in-supply-chain-real-world-applications-in-india', 'full_text': \"Understanding Supply Chain Management in Blockchain\\n\\nBlockchain is a decentralized, immutable digital ledger that guarantees secure, transparent transactions. Unlike traditional databases that consolidate their control in one place, blockchain guarantees that data is always distributed across many nodes, making it nearly impossible to alter or manipulate. This decentralized aspect fortifies the trust and security of supply chains, as every transaction must be verified by all network participants prior to being timestamped in the ledger.\\n\\nIn India, the government and private enterprises are exploring blockchain applications in supply chain management. Both NITI Aayog and different state governments have commenced pilot studies focusing on the integration of blockchain into industries such as food safety, pharmaceuticals, and logistics for increased traceability and efficiency.\\n\\nEnhancing Transparency and Traceability\\n\\nEnhanced transparency in supply chains is the major benefit that blockchain brings. Traditionally, tracking a product's journey from source to consumer involves a plethora of intermediaries and paperwork. Such processes are tedious and prone to error and fraud. Blockchain virtually eliminates these inefficiencies through a tamper-proof record of every transaction being available to all authorized participants.\\n\\nIn India, the agricultural sector has seen the implementation of blockchain for food traceability. The Andhra Pradesh state government has collaborated with technology companies in using blockchain to track crop supply chains such as chili and coffee. This will ensure the farmers get a fair price while the consumers get to authenticate their produce.\\n\\nCombating Counterfeiting and Fraud\\n\\nCounterfeiting is a big headache in the different industries-from pharma to luxury goods. Counterfeit products cause not only financial harm but also potential health and safety risks. Blockchain technology provides a way to solve these issues through a tamper-proof record of product origins and ownership transfers.\\n\\nThe Indian pharmaceutical industry is applying blockchain technology to counter fake medicines. In collaboration with blockchain companies, the Maharashtra FDA set up a system for tracking medicines from manufacture to retail, thus ensuring the sale of authentic drugs to patients while also curtailing illegal distribution.\\n\\nImproving Efficiency and Reducing Costs\\n\\nBlockchain streamlines these processes by automating transactions through smart contracts, which are self-executing contracts when certain conditions are attained. Automating such transactions reduces overhead costs and delays that add complexity to logistics, the involvement of multiple intermediaries, and vast volumes of paperwork that are features of traditional supply chains.\\n\\nMajor port authorities that are penetrating blockchain solutions in India's logistics domain are more or less such as the Jawaharlal Nehru Port Trust (JNPT) as well. Allowing real-time visibility in the movement of cargo and automating documentation can greatly shorten clearance times and efficiency in trade.\\n\\nStrengthening Ethical and Sustainable Practices\\n\\nIncreased consumer awareness about ethical and environmental concerns has put pressure on businesses to adopt sustainable and responsible sourcing methods. Transparency in the supply chain enables the company to trace and verify the origin of raw materials, thus ensuring ethical sources.\\n\\nIn the textile sector, Indian manufacturers are implementing blockchain to verify organic cotton; thus, brands that export to the global markets are made to explain sourcing and production processes, which gives rise to trustworthy consumers and promotes ethical practices.\\n\\nConfronting Challenges and Limitations\\n\\nDespite thrilling promise, blockchain undoubtedly faces potential intrinsic issues in their real-life application in supply chain management. The scaling problem is one of the most severe issues because of the huge volume of data that supply chains produce over time. It busts even the current capacities of blockchain, and invariably there needs to be ongoing innovations to come through improvements in scalability and transaction speeds.\\n\\nIntegrating the already functioning supply chain frameworks with blockchain technology needs collaboration from several stakeholders. Investment in introducing new technology in that case through standards for data sharing also has to be agreed upon by organizations. There are other aspects, like legal and regulatory ones as well, as every state may have different specifications regarding Blockchain use cases, for example, within India.\\n\\nThe Future of Blockchain in Supply Chain in India\\n\\nThe application of blockchain technology in supply chain management will increase with growing awareness by businesses and industries of its significance. Scaling solutions for blockchain, fused with artificial intelligence and IoT, would provide better transparency and efficiency in the supply chain. Future possibilities may come in the form of fully automated, blockchain-integrated supply chains where real-time product tracking is done, payments are made seamlessly through smart contracts, and predictive analytics help optimize logistics. Such innovations will transform the dynamics of business operation and consumer engagement. The Indian government is also working on a national-level framework for blockchain, which might uphold a more integrated and secured supply chain ecosystem.\\n\\nConclusion\\n\\nBlockchain makes transformation in supply chain management offering clarity, efficiency and security. It has real-life applications in India which can tremendously range from tracking food safety and preventing counterfeiting activities and finally to cost reduction. However, for all the challenges which still remain, innovation and partnership would pave the way to blockchain being widely adopted across supply chain networks in India. These would make it possible for businesses and consumers to remain accountable and sustainable- thus making strong changes in supply chains in the country by the time blockchain becomes a common name.\"}\n"
          ]
        }
      ]
    },
    {
      "cell_type": "code",
      "source": [
        "import time\n",
        "\n",
        "# Function to get news with proper rate limiting\n",
        "def get_rate_limited_news(keywords, delay_seconds=10, max_results=10, **kwargs):\n",
        "    ddgs = DDGS()\n",
        "    results = []\n",
        "\n",
        "    # Set a smaller batch size to get fewer results per API call\n",
        "    batch_size = 1\n",
        "    remaining = max_results\n",
        "\n",
        "    while remaining > 0:\n",
        "        # Calculate how many results to request in this batch\n",
        "        current_batch = min(batch_size, remaining)\n",
        "\n",
        "        # Make the API call for just this batch\n",
        "        batch_generator = ddgs.news(\n",
        "            keywords=keywords,\n",
        "            region=\"us-en\",\n",
        "            safesearch=\"off\",\n",
        "            timelimit=\"m\",\n",
        "            max_results=current_batch,\n",
        "            **kwargs\n",
        "        )\n",
        "\n",
        "        # Process results from this batch\n",
        "        batch_results = list(batch_generator)\n",
        "        results.extend(batch_results)\n",
        "\n",
        "        print(f\"Fetched {len(batch_results)} articles (total: {len(results)}/{max_results})\")\n",
        "\n",
        "        # Update remaining count\n",
        "        remaining -= len(batch_results)\n",
        "\n",
        "        # Don't sleep after the last batch\n",
        "        if remaining > 0:\n",
        "            print(f\"Waiting {delay_seconds} seconds before next request...\")\n",
        "            time.sleep(delay_seconds)\n",
        "\n",
        "    return results\n",
        "\n"
      ],
      "metadata": {
        "id": "oeW-zxvpTtiO"
      },
      "execution_count": 43,
      "outputs": []
    },
    {
      "cell_type": "code",
      "source": [
        "# Use the rate-limited function\n",
        "climate_news = get_rate_limited_news(\n",
        "    keywords=\"developments in climate change\",\n",
        "    delay_seconds=10,\n",
        "    max_results=10\n",
        ")\n",
        "\n",
        "# Now you have your results with proper rate limiting\n",
        "print(f\"\\nTotal articles fetched: {len(climate_news)}\")"
      ],
      "metadata": {
        "colab": {
          "base_uri": "https://localhost:8080/"
        },
        "id": "ih6J-DsoTwP4",
        "outputId": "2d8139d2-040c-47e3-e052-bb9e13431902"
      },
      "execution_count": 44,
      "outputs": [
        {
          "output_type": "stream",
          "name": "stdout",
          "text": [
            "Fetched 1 articles (total: 1/10)\n",
            "Waiting 10 seconds before next request...\n",
            "Fetched 1 articles (total: 2/10)\n",
            "Waiting 10 seconds before next request...\n",
            "Fetched 1 articles (total: 3/10)\n",
            "Waiting 10 seconds before next request...\n",
            "Fetched 1 articles (total: 4/10)\n",
            "Waiting 10 seconds before next request...\n",
            "Fetched 1 articles (total: 5/10)\n",
            "Waiting 10 seconds before next request...\n",
            "Fetched 1 articles (total: 6/10)\n",
            "Waiting 10 seconds before next request...\n",
            "Fetched 1 articles (total: 7/10)\n",
            "Waiting 10 seconds before next request...\n",
            "Fetched 1 articles (total: 8/10)\n",
            "Waiting 10 seconds before next request...\n",
            "Fetched 1 articles (total: 9/10)\n",
            "Waiting 10 seconds before next request...\n",
            "Fetched 1 articles (total: 10/10)\n",
            "\n",
            "Total articles fetched: 10\n"
          ]
        }
      ]
    },
    {
      "cell_type": "code",
      "source": [
        "print(climate_news)"
      ],
      "metadata": {
        "colab": {
          "base_uri": "https://localhost:8080/"
        },
        "id": "JE6ruZCCUX79",
        "outputId": "07f6c301-268f-491c-86ee-738ab3ec3926"
      },
      "execution_count": 47,
      "outputs": [
        {
          "output_type": "stream",
          "name": "stdout",
          "text": [
            "[{'date': '2025-03-05T17:23:00+00:00', 'title': 'Opinion: Democracy and Climate Change', 'body': 'Ill-effects of growth model needs serious revisit to strike a balance between ecology, economy Climate change has emerged as both academic and policy relevance globally in the last two-and-a-half decades.', 'url': 'https://telanganatoday.com/opinion-democracy-and-climate-change', 'image': 'https://media.telanganatoday.com/wp-content/uploads/2025/03/Opinion.jpg', 'source': 'Telangana Today'}, {'date': '2025-03-06T16:09:39+00:00', 'title': 'World Must Prepare to Fight Climate Change Without US, UK Says', 'body': \"The world needs to prepare to fight global warming without the help of the US as the Trump administration pulls billions of dollars pledged to initiatives funding the green transition, the UK's climate envoy said.\", 'url': 'https://www.msn.com/en-us/money/other/world-must-prepare-to-fight-climate-change-without-us-uk-says/ar-AA1Aoc0Q', 'image': 'https://img-s-msn-com.akamaized.net/tenant/amp/entityid/AA1Aollr.img?w=2000&h=1335&m=4&q=79', 'source': 'Bloomberg'}, {'date': '2025-03-05T17:23:00+00:00', 'title': 'Opinion: Democracy and Climate Change', 'body': 'Ill-effects of growth model needs serious revisit to strike a balance between ecology, economy Climate change has emerged as both academic and policy relevance globally in the last two-and-a-half decades.', 'url': 'https://telanganatoday.com/opinion-democracy-and-climate-change', 'image': 'https://media.telanganatoday.com/wp-content/uploads/2025/03/Opinion.jpg', 'source': 'Telangana Today'}, {'date': '2025-03-06T16:09:39+00:00', 'title': 'World Must Prepare to Fight Climate Change Without US, UK Says', 'body': \"The world needs to prepare to fight global warming without the help of the US as the Trump administration pulls billions of dollars pledged to initiatives funding the green transition, the UK's climate envoy said.\", 'url': 'https://www.msn.com/en-us/money/other/world-must-prepare-to-fight-climate-change-without-us-uk-says/ar-AA1Aoc0Q', 'image': 'https://img-s-msn-com.akamaized.net/tenant/amp/entityid/AA1Aollr.img?w=2000&h=1335&m=4&q=79', 'source': 'Bloomberg'}, {'date': '2025-03-06T16:09:39+00:00', 'title': 'World Must Prepare to Fight Climate Change Without US, UK Says', 'body': \"The world needs to prepare to fight global warming without the help of the US as the Trump administration pulls billions of dollars pledged to initiatives funding the green transition, the UK's climate envoy said.\", 'url': 'https://www.msn.com/en-us/money/other/world-must-prepare-to-fight-climate-change-without-us-uk-says/ar-AA1Aoc0Q', 'image': 'https://img-s-msn-com.akamaized.net/tenant/amp/entityid/AA1Aollr.img?w=2000&h=1335&m=4&q=79', 'source': 'Bloomberg'}, {'date': '2025-03-05T17:23:00+00:00', 'title': 'Opinion: Democracy and Climate Change', 'body': 'Ill-effects of growth model needs serious revisit to strike a balance between ecology, economy Climate change has emerged as both academic and policy relevance globally in the last two-and-a-half decades.', 'url': 'https://telanganatoday.com/opinion-democracy-and-climate-change', 'image': 'https://media.telanganatoday.com/wp-content/uploads/2025/03/Opinion.jpg', 'source': 'Telangana Today'}, {'date': '2025-03-05T17:23:00+00:00', 'title': 'Opinion: Democracy and Climate Change', 'body': 'Ill-effects of growth model needs serious revisit to strike a balance between ecology, economy Climate change has emerged as both academic and policy relevance globally in the last two-and-a-half decades.', 'url': 'https://telanganatoday.com/opinion-democracy-and-climate-change', 'image': 'https://media.telanganatoday.com/wp-content/uploads/2025/03/Opinion.jpg', 'source': 'Telangana Today'}, {'date': '2025-03-06T16:09:39+00:00', 'title': 'World Must Prepare to Fight Climate Change Without US, UK Says', 'body': \"The world needs to prepare to fight global warming without the help of the US as the Trump administration pulls billions of dollars pledged to initiatives funding the green transition, the UK's climate envoy said.\", 'url': 'https://www.msn.com/en-us/money/other/world-must-prepare-to-fight-climate-change-without-us-uk-says/ar-AA1Aoc0Q', 'image': 'https://img-s-msn-com.akamaized.net/tenant/amp/entityid/AA1Aollr.img?w=2000&h=1335&m=4&q=79', 'source': 'Bloomberg'}, {'date': '2025-03-06T16:09:39+00:00', 'title': 'World Must Prepare to Fight Climate Change Without US, UK Says', 'body': \"The world needs to prepare to fight global warming without the help of the US as the Trump administration pulls billions of dollars pledged to initiatives funding the green transition, the UK's climate envoy said.\", 'url': 'https://www.msn.com/en-us/money/other/world-must-prepare-to-fight-climate-change-without-us-uk-says/ar-AA1Aoc0Q', 'image': 'https://img-s-msn-com.akamaized.net/tenant/amp/entityid/AA1Aollr.img?w=2000&h=1335&m=4&q=79', 'source': 'Bloomberg'}, {'date': '2025-03-06T16:09:39+00:00', 'title': 'World Must Prepare to Fight Climate Change Without US, UK Says', 'body': \"The world needs to prepare to fight global warming without the help of the US as the Trump administration pulls billions of dollars pledged to initiatives funding the green transition, the UK's climate envoy said.\", 'url': 'https://www.msn.com/en-us/money/other/world-must-prepare-to-fight-climate-change-without-us-uk-says/ar-AA1Aoc0Q', 'image': 'https://img-s-msn-com.akamaized.net/tenant/amp/entityid/AA1Aollr.img?w=2000&h=1335&m=4&q=79', 'source': 'Bloomberg'}]\n"
          ]
        }
      ]
    },
    {
      "cell_type": "code",
      "source": [
        "climate_news_full_articles = []\n",
        "\n",
        "for result in climate_news:\n",
        "    try:\n",
        "        article = newspaper.article(result['url'])\n",
        "        article.download()\n",
        "        article.parse()\n",
        "        climate_news_full_articles.append({\n",
        "            'title': result['title'],\n",
        "            'body': result['body'],\n",
        "            'url': result['url'],\n",
        "            'full_text': article.text\n",
        "        })\n",
        "    except Exception as e:\n",
        "        print(f\"Skipping article due to error: {str(e)}\")\n",
        "        continue"
      ],
      "metadata": {
        "id": "V6c2Zj4aU8M8"
      },
      "execution_count": 49,
      "outputs": []
    },
    {
      "cell_type": "code",
      "source": [
        "print(len(climate_news_full_articles))"
      ],
      "metadata": {
        "colab": {
          "base_uri": "https://localhost:8080/"
        },
        "id": "aPTH6tj1VTAq",
        "outputId": "993bd120-e624-4fee-c17a-537178f55e5c"
      },
      "execution_count": 50,
      "outputs": [
        {
          "output_type": "stream",
          "name": "stdout",
          "text": [
            "10\n"
          ]
        }
      ]
    },
    {
      "cell_type": "code",
      "source": [
        "# Generate weighted summary\n",
        "weighted_summary_climate = weighted_multi_doc_summary(climate_news_full_articles)\n",
        "print(\"Weighted Summary Climate:\")\n",
        "print(weighted_summary_climate)"
      ],
      "metadata": {
        "colab": {
          "base_uri": "https://localhost:8080/"
        },
        "id": "h282nAdBVUpH",
        "outputId": "11b50dbd-6de3-4d95-ad73-39022a01fb6b"
      },
      "execution_count": 51,
      "outputs": [
        {
          "output_type": "stream",
          "name": "stdout",
          "text": [
            "Weighted Summary Climate:\n",
            "Ill-effects of growth model needs serious revisit to strike a balance between ecology, economy\n",
            "\n",
            "By Nayakara Veeresha\n",
            "\n",
            "Climate change has emerged as both academic and policy relevance globally in the last two-and-a-half decades. Ill-effects of growth model needs serious revisit to strike a balance between ecology, economy\n",
            "\n",
            "By Nayakara Veeresha\n",
            "\n",
            "Climate change has emerged as both academic and policy relevance globally in the last two-and-a-half decades. Ill-effects of growth model needs serious revisit to strike a balance between ecology, economy\n",
            "\n",
            "By Nayakara Veeresha\n",
            "\n",
            "Climate change has emerged as both academic and policy relevance globally in the last two-and-a-half decades. Ill-effects of growth model needs serious revisit to strike a balance between ecology, economy\n",
            "\n",
            "By Nayakara Veeresha\n",
            "\n",
            "Climate change has emerged as both academic and policy relevance globally in the last two-and-a-half decades. Despite this marked shift, the response to climate change-related issues and challenges is not significant across nations, especially among the rich countries. Despite this marked shift, the response to climate change-related issues and challenges is not significant across nations, especially among the rich countries. Despite this marked shift, the response to climate change-related issues and challenges is not significant across nations, especially among the rich countries. Forces of liberalisation, privatisation and globalisation are exerting pressure on state governments to ease the process of forest clearance for mining and other natural resources\n",
            "\n",
            "The ill-effects of the ongoing economic growth model and development path both need a serious revisit to strike a balance between the ecology, economy and development. Forces of liberalisation, privatisation and globalisation are exerting pressure on state governments to ease the process of forest clearance for mining and other natural resources\n",
            "\n",
            "The ill-effects of the ongoing economic growth model and development path both need a serious revisit to strike a balance between the ecology, economy and development. Forces of liberalisation, privatisation and globalisation are exerting pressure on state governments to ease the process of forest clearance for mining and other natural resources\n",
            "\n",
            "The ill-effects of the ongoing economic growth model and development path both need a serious revisit to strike a balance between the ecology, economy and development. Forces of liberalisation, privatisation and globalisation are exerting pressure on state governments to ease the process of forest clearance for mining and other natural resources\n",
            "\n",
            "The ill-effects of the ongoing economic growth model and development path both need a serious revisit to strike a balance between the ecology, economy and development. The economy nested within the ecology and the growth embedded in the sustainability component will address development-related disasters, including climate change implications. The economy nested within the ecology and the growth embedded in the sustainability component will address development-related disasters, including climate change implications. The role of democracy is critical in developing globally agreed variables, especially the SDG-12 on sustainable consumption and production, with 10 out of 13 indicators still in Tier III. The role of democracy is critical in developing globally agreed variables, especially the SDG-12 on sustainable consumption and production, with 10 out of 13 indicators still in Tier III.\n"
          ]
        }
      ]
    },
    {
      "cell_type": "code",
      "source": [
        "# Generate topic-based summary\n",
        "topic_summary_climate = topic_based_multi_doc_summary(climate_news_full_articles)\n",
        "print(\"Topic-based Summary for Climate:\")\n",
        "print(topic_summary_climate)"
      ],
      "metadata": {
        "colab": {
          "base_uri": "https://localhost:8080/"
        },
        "id": "oarMgdI-WD17",
        "outputId": "c2f09a8e-3687-4138-a6cc-330e977aa07e"
      },
      "execution_count": 52,
      "outputs": [
        {
          "output_type": "stream",
          "name": "stdout",
          "text": [
            "Topic-based Summary for Climate:\n",
            "Despite this marked shift, the response to climate change-related issues and challenges is not significant across nations, especially among the rich countries. However, concrete actions are missing. The Covid pandemic has brought out the limitations of macroeconomic management. The structural and institutional constraints need an alternative economic governance regime. The buzzword of the circular economy is part and parcel of the global discourse on climate change. The development model pursued has focused on the linear growth pattern by distancing from the cultural roots of circular economic growth nested in ecology and sustainability. Forces of liberalisation, privatisation and globalisation are exerting pressure on state governments to ease the process of forest clearance for mining and other natural resources\n",
            "\n",
            "The ill-effects of the ongoing economic growth model and development path both need a serious revisit to strike a balance between the ecology, economy and development. Do the democratically elected governments show the necessary political will to chalk out indigenous development models by taking clues from the time-tested sustainable growth strategies? The political economy of the carbon emissions and its trade between the Global South and Northern countries is one of the major factors for the lack of consensus. It also highlights the inadequacy of the market structure to facilitate the climatic action plan among the developed and developing nations. The emergence and commitment of the European Union (EU) in the form of Green Deal to an extent is the silver lining in achieving the target of SDGs by 2030, especially Goal 13. India, being the second largest coal producer next to China, needs to develop a comprehensive energy framework to tap the non-fossil fuel electricity generation. Democracy for Climate Justice\n",
            "\n",
            "The organic link between democracy and climate change responses is critical and demands a fine balance between growth and the environment. The role of democracy is critical in developing globally agreed variables, especially the SDG-12 on sustainable consumption and production, with 10 out of 13 indicators still in Tier III. This needs revisiting the economic growth model by improving institutional capacities of the state along the lines of redistributive justice.\n"
          ]
        }
      ]
    },
    {
      "cell_type": "code",
      "source": [
        "print(len(topic_summary_climate))"
      ],
      "metadata": {
        "colab": {
          "base_uri": "https://localhost:8080/"
        },
        "id": "nZzHWGR-WTuk",
        "outputId": "73333122-21fe-48fe-d5d3-e777a6fc8bde"
      },
      "execution_count": 53,
      "outputs": [
        {
          "output_type": "stream",
          "name": "stdout",
          "text": [
            "2324\n"
          ]
        }
      ]
    },
    {
      "cell_type": "code",
      "source": [
        "# Generate a single summary from all articles\n",
        "overall_summary = generate_combined_summary(climate_news_full_articles)\n",
        "print(\"Abstractive Overall Summary:\")\n",
        "print(overall_summary)"
      ],
      "metadata": {
        "id": "_R5Fl4TcYu80",
        "outputId": "c9451a7c-a759-46ca-9970-005515b87076",
        "colab": {
          "base_uri": "https://localhost:8080/"
        }
      },
      "execution_count": 54,
      "outputs": [
        {
          "output_type": "stream",
          "name": "stderr",
          "text": [
            "Device set to use cpu\n"
          ]
        },
        {
          "output_type": "stream",
          "name": "stdout",
          "text": [
            "Abstractive Overall Summary:\n",
            "Ill-effects of growth model needs serious revisit to strike a balance between ecology, economy. Climate change has emerged as both academic and policy relevance globally. Despite this marked shift, the response to climate change-related issues and challenges is not significant across nations, especially among the rich countries. The buzzword of the circular economy is part and parcel of the global discourse on climate change. The development model pursued has focused on the linear growth pattern by distancing from the cultural roots of circular economic growth nested in ecology and sustainability. The ill-effects of the ongoing economic growth model and development path both need a serious revisit. Growth and development attained on these premises are unsustainable. Ecology and environment must be given the highest priority in the policy-making process. The economy nested within the ecology and the growth embedded in the sustainability component will address development-related disasters, including c. The persistence of inaction towards climate-related challenges reflects the severe lack of political will among nations. The political economy of the carbon emissions and its trade between the Global South and Northern countries is one of the major factors for the lack of consensus. It also highlights the inadequacy of the market structure to facilitate the climatic action plan among the developed and developing nations. SDG 7 emphasises the utilisation of hydro, wind and other bio-energy systems to reduce the use of fossil fuels, especially coal. India, being the second largest coal producer next to China, needs to develop a comprehensive energy framework to tap the non-fossil fuel electricity generation. The role of democracy is critical in developing globally agreed variables, especially the SDG-12 on sustainable consumption and production. 10 out of 13 indicators still in Tier III. The economic growth model must uplift the poor by enhancing their purchasing power. Deepening democracy through decentralised governance is key to resolving some of the challenges of climate change. The forces of liberalisation, privatisation and globalisation are exerting pressure on the state governments to ease the process of forest clearance for mining purposes and other natural resources. There are several concepts and initiatives such as Green Budgeting, Green Economy, Circular Economy and Green Deal. The buzzword of the circular economy is part and parcel of the global discourse on climate change. The development model pursued has focused on the linear growth pattern. Income inequality is one of the contributing factors to unsustainable consumption patterns. The earth’s carrying capacity in the form of biodiversity conservation and ecological equilibrium is critical to achieve the Sustainable Development Goals (SDGs) of 2030. The question is, are we ready to reflect our lifestyles to fine-tune with nature? The persistence of inaction towards climate-related challenges reflects the severe lack of political will among nations. Ecology and environment must be given the highest priority in the policy-making process. The economy nested within the ecology and the growth embedded in the sustainability component will address development-related disasters, including climate change implications. The objectives of the Kyoto Protocol and the Paris Agreement cannot be achieved without making a paradigm shift in the current global production and consumption patterns. India, being the second largest coal producer next to China, needs to develop a comprehensive energy framework to tap the non-fossil fuel electricity generation. The material footprint of fossil fuels is more than four times in developed countries as compared to developing countries. India’s role in pushing the democratic agenda is crucial for this pursuit. The role of democracy is critical in developing globally agreed variables, especially the SDG-12. Democracy as a form of government must work along with civil society and markets to ensure climate justice. The economic growth model must uplift the poor by enhancing their purchasing power. Deepening democracy through decentralised governance is key to resolving some of the challenges of climate change. Ill-effects of growth model needs serious revisit to strike a balance between ecology, economy. The Covid pandemic has brought out the limitations of macroeconomic management. The structural and institutional constraints need an alternative economic governance regime. This also calls for revisiting the neo-classical app. The buzzword of the circular economy is part and parcel of the global discourse on climate change. The development model pursued has focused on the linear growth pattern by distancing from the cultural roots of circular economic growth nested in ecology and sustainability. The ill-effects of the ongoing economic growth model and development path both need a serious revisit. Income inequality is one of the contributing factors to unsustainable consumption patterns. Ecology and environment must be given the highest priority in the policy-making process in tandem with allocative resource efficiency. The economy nested within the ecology and the growth embedded in the sustainability component will address development-related disas. The persistence of climate change challenges reflects the lack of a clear-cut plan to deal with it. It also highlights the inadequacy of the market structure to facilitate the development of new technologies. The Paris Agreement cannot be achieved without a paradigm shift in the current global production and consumption patterns. SDG 7 emphasises the utilisation of hydro, wind and other bio-energy systems to reduce the use of fossil fuels, especially coal. India, being the second largest coal producer next to China, needs to develop a comprehensive energy framework to tap the non-fossil fuel electricity generation. The role of democracy is critical in developing globally agreed variables, especially the SDG-12 on sustainable consumption and production. 10 out of 13 indicators still in Tier III. The economic growth model must uplift the poor by enhancing their purchasing power. Democracy as a form of government must work along with civil society and mar. Deepening democracy through decentralised governance is key to resolving some of the challenges of climate change. The forces of liberalisation, privatisation and globalisation are exerting pressure on the state governments to ease the process of forest clearance for mining purposes and other natural resources. The Covid pandemic has brought out the limitations of macroeconomic management. The structural and institutional constraints need an alternative economic governance regime. This also calls for revisiting the neo-classical approach with a focus on embedding the tenets of institutional and behavioural economics. The ill-effects of the ongoing economic growth model and development path both need a serious revisit. The trickledown theory of growth, an extractive model of development, is coming at a huge cost to the environment. The earth’s carrying capacity in the form of biodiversity conservation and ecological equilibrium is critical to ensure progressive human development. The persistence of inaction towards climate-related challenges reflects the severe lack of political will among nations to chalk out a clear-cut action plan. Ecology and environment must be given the highest priority in the policy-making process in tandem with allocative resource efficiency. The economy nested within the ecology and the growth embedded in the sustainability component will address development-related disasters. The objectives of the Kyoto Protocol and the Paris Agreement cannot be achieved without making a paradigm shift in the current global production and consumption patterns. SDG 7 emphasises the utilisation of hydro, wind and other bio-energy systems to reduce the use of fossil fuels, especially coal. The material footprint of fossil fuels is more than four times in developed countries as compared to developing countries. India’s role in pushing the democratic agenda is crucial for this pursuit. The role of democracy is critical in developing globally agreed variables, especially the SDG-12. Democracy as a form of government must work along with civil society and markets to ensure climate justice. The economic growth model must uplift the poor by enhancing their purchasing power. Deepening democracy through decentralised governance is key to resolving some of the challenges of climate change.\n"
          ]
        }
      ]
    },
    {
      "cell_type": "code",
      "source": [
        "print(len(overall_summary))"
      ],
      "metadata": {
        "id": "V8pIAIRKa378",
        "outputId": "418394ae-23fb-4fc4-b364-24d3276ae2a8",
        "colab": {
          "base_uri": "https://localhost:8080/"
        }
      },
      "execution_count": 55,
      "outputs": [
        {
          "output_type": "stream",
          "name": "stdout",
          "text": [
            "8624\n"
          ]
        }
      ]
    },
    {
      "cell_type": "code",
      "source": [
        "def compress_summary(summary, max_length=800):\n",
        "    sentences = sent_tokenize(summary)\n",
        "\n",
        "    # If already short enough, return as is\n",
        "    if len(summary) <= max_length:\n",
        "        return summary\n",
        "\n",
        "    # Calculate importance score for each sentence using key phrase presence\n",
        "    key_phrases = [\"climate change\", \"global warming\", \"carbon emissions\",\n",
        "                  \"renewable energy\", \"policy\", \"agreement\", \"temperature\"]\n",
        "\n",
        "    scored_sentences = []\n",
        "    for sentence in sentences:\n",
        "        # Score based on presence of key phrases and sentence position\n",
        "        score = sum(2 if phrase in sentence.lower() else 0 for phrase in key_phrases)\n",
        "        scored_sentences.append((sentence, score))\n",
        "\n",
        "    # Sort by score and select top sentences\n",
        "    scored_sentences.sort(key=lambda x: x[1], reverse=True)\n",
        "\n",
        "    # Keep selecting sentences until we reach the length limit\n",
        "    compressed = []\n",
        "    current_length = 0\n",
        "    for sentence, _ in scored_sentences:\n",
        "        if current_length + len(sentence) <= max_length:\n",
        "            compressed.append(sentence)\n",
        "            current_length += len(sentence) + 1  # +1 for the space\n",
        "        else:\n",
        "            break\n",
        "\n",
        "    return \" \".join(compressed)\n",
        "\n",
        "# Apply compression\n",
        "compressed_topic_summary = compress_summary(overall_summary, max_length=600)\n",
        "print(f\"Original length: {len(overall_summary)}\")\n",
        "print(f\"Compressed length: {len(compressed_topic_summary)}\")"
      ],
      "metadata": {
        "id": "lO3Pa9NZbRG-",
        "outputId": "c5bcf0ff-7f5a-4c72-8821-a772d0b2b00f",
        "colab": {
          "base_uri": "https://localhost:8080/"
        }
      },
      "execution_count": 56,
      "outputs": [
        {
          "output_type": "stream",
          "name": "stdout",
          "text": [
            "Original length: 8624\n",
            "Compressed length: 585\n"
          ]
        }
      ]
    },
    {
      "cell_type": "code",
      "source": [
        "print(compressed_topic_summary)"
      ],
      "metadata": {
        "id": "vCmbBCAzbXyq",
        "outputId": "9cc350a7-4998-4af3-febe-b569079ea9af",
        "colab": {
          "base_uri": "https://localhost:8080/"
        }
      },
      "execution_count": 57,
      "outputs": [
        {
          "output_type": "stream",
          "name": "stdout",
          "text": [
            "Climate change has emerged as both academic and policy relevance globally. Despite this marked shift, the response to climate change-related issues and challenges is not significant across nations, especially among the rich countries. The buzzword of the circular economy is part and parcel of the global discourse on climate change. Ecology and environment must be given the highest priority in the policy-making process. The political economy of the carbon emissions and its trade between the Global South and Northern countries is one of the major factors for the lack of consensus.\n"
          ]
        }
      ]
    },
    {
      "cell_type": "code",
      "source": [
        "def remove_redundancy(summary):\n",
        "    sentences = sent_tokenize(summary)\n",
        "    unique_sentences = []\n",
        "    content_seen = set()\n",
        "\n",
        "    for sentence in sentences:\n",
        "        # Create a simplified representation by keeping only important words\n",
        "        important_words = [w.lower() for w in word_tokenize(sentence)\n",
        "                          if w.lower() not in stopwords.words('english') and len(w) > 3]\n",
        "\n",
        "        # Skip sentences that are too similar to ones we've already kept\n",
        "        sentence_content = \" \".join(sorted(important_words))\n",
        "        similarity_found = False\n",
        "\n",
        "        for existing in content_seen:\n",
        "            # Calculate Jaccard similarity\n",
        "            common = len(set(sentence_content.split()) & set(existing.split()))\n",
        "            total = len(set(sentence_content.split()) | set(existing.split()))\n",
        "            if total > 0 and common/total > 0.6:  # More than 60% similar\n",
        "                similarity_found = True\n",
        "                break\n",
        "\n",
        "        if not similarity_found:\n",
        "            unique_sentences.append(sentence)\n",
        "            content_seen.add(sentence_content)\n",
        "\n",
        "    return \" \".join(unique_sentences)\n",
        "\n",
        "# Apply redundancy removal\n",
        "non_redundant_summary = remove_redundancy(overall_summary)\n",
        "print(f\"After redundancy removal: {len(non_redundant_summary)}\")"
      ],
      "metadata": {
        "id": "qMmqhk9jbvZr",
        "outputId": "75b76085-e0fa-474a-85ea-088a9443b139",
        "colab": {
          "base_uri": "https://localhost:8080/"
        }
      },
      "execution_count": 59,
      "outputs": [
        {
          "output_type": "stream",
          "name": "stdout",
          "text": [
            "After redundancy removal: 4461\n"
          ]
        }
      ]
    },
    {
      "cell_type": "code",
      "source": [
        "def abstractive_compress(text, max_length=150, min_length=50):\n",
        "    # Initialize summarizer\n",
        "    summarizer = pipeline(\"summarization\", model=\"facebook/bart-large-cnn\")\n",
        "\n",
        "    # If text is too long, break it into chunks and summarize each\n",
        "    if len(text) > 1024:\n",
        "        # Split into chunks of about 1000 characters\n",
        "        chunks = [text[i:i+1000] for i in range(0, len(text), 1000)]\n",
        "        summaries = []\n",
        "\n",
        "        for chunk in chunks:\n",
        "            if len(chunk) > 100:  # Only summarize substantial chunks\n",
        "                summary = summarizer(chunk, max_length=max_length//len(chunks),\n",
        "                                    min_length=min_length//len(chunks))\n",
        "                summaries.append(summary[0]['summary_text'])\n",
        "\n",
        "        return \" \".join(summaries)\n",
        "    else:\n",
        "        # Summarize directly\n",
        "        summary = summarizer(text, max_length=max_length, min_length=min_length)\n",
        "        return summary[0]['summary_text']\n",
        "\n",
        "# Apply abstractive compression to further reduce size\n",
        "final_summary = abstractive_compress(topic_summary_climate, max_length=300, min_length=200)\n",
        "print(f\"Final summary length: {len(final_summary)}\")"
      ],
      "metadata": {
        "id": "mzWif7pVcCY_",
        "outputId": "f1162a58-c0bf-4a2f-e86a-d8ee3dc73fc0",
        "colab": {
          "base_uri": "https://localhost:8080/"
        }
      },
      "execution_count": 62,
      "outputs": [
        {
          "output_type": "stream",
          "name": "stderr",
          "text": [
            "Device set to use cpu\n",
            "Your max_length is set to 100, but your input_length is only 61. Since this is a summarization task, where outputs shorter than the input are typically wanted, you might consider decreasing max_length manually, e.g. summarizer('...', max_length=30)\n"
          ]
        },
        {
          "output_type": "stream",
          "name": "stdout",
          "text": [
            "Final summary length: 1206\n"
          ]
        }
      ]
    },
    {
      "cell_type": "code",
      "source": [
        "print(final_summary)"
      ],
      "metadata": {
        "id": "39G0aQllcsY2",
        "outputId": "27e8f04b-4e78-4282-adbb-19d098ceb202",
        "colab": {
          "base_uri": "https://localhost:8080/"
        }
      },
      "execution_count": 63,
      "outputs": [
        {
          "output_type": "stream",
          "name": "stdout",
          "text": [
            "The buzzword of the circular economy is part and parcel of the global discourse on climate change. Despite this marked shift, the response to climate change-related issues and challenges is not significant across nations. Forces of liberalisation, privatisation and globalisation are exerting pressure on state governments to ease the process of forest clearance for mining. The political economy of the carbon emissions and its trade between the Global South and Northern countries is one of the major factors for the lack of consensus. It also highlights the inadequacy of the market structure to facilitate the climatic action plan among the developed and developing nations. The emergence and commitment of the European Union (EU) in the form of Green Deal to an extent is the silver lining in achieving the target of SDGs by 2030, especially Goal 13. 10 out of 13 indicators still in Tier III. This needs revisiting the economic growth model by improving institutional capacities of the state along the lines of redistributive justice. ole of democracy is critical in developing globally agreed variables, especially the SDG-12 on sustainable consumption and production, says the UN Secretary-General.\n"
          ]
        }
      ]
    },
    {
      "cell_type": "code",
      "source": [
        "final_summary_2 = abstractive_compress(final_summary, max_length=30, min_length=10)\n",
        "print(f\"Final summary length: {len(final_summary_2)}\")"
      ],
      "metadata": {
        "id": "OQpfKNUScz4e",
        "outputId": "90678232-b153-4ec6-a274-a91c3803ab59",
        "colab": {
          "base_uri": "https://localhost:8080/"
        }
      },
      "execution_count": 64,
      "outputs": [
        {
          "output_type": "stream",
          "name": "stderr",
          "text": [
            "Device set to use cpu\n"
          ]
        },
        {
          "output_type": "stream",
          "name": "stdout",
          "text": [
            "Final summary length: 142\n"
          ]
        }
      ]
    },
    {
      "cell_type": "code",
      "source": [
        "print(final_summary_2)"
      ],
      "metadata": {
        "id": "NbyuR6TwdGa9",
        "outputId": "1513776f-8693-4586-bd98-60c4df9b1fca",
        "colab": {
          "base_uri": "https://localhost:8080/"
        }
      },
      "execution_count": 65,
      "outputs": [
        {
          "output_type": "stream",
          "name": "stdout",
          "text": [
            "The response to climate change-related issues and challenges is not The UN Secretary-General says democracy is critical in developing globally\n"
          ]
        }
      ]
    }
  ],
  "metadata": {
    "language_info": {
      "name": "python"
    },
    "colab": {
      "provenance": []
    },
    "kernelspec": {
      "name": "python3",
      "display_name": "Python 3"
    }
  },
  "nbformat": 4,
  "nbformat_minor": 0
}