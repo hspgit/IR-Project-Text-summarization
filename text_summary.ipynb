{
  "cells": [
    {
      "cell_type": "code",
      "execution_count": 1,
      "metadata": {
        "id": "zsUhS_jRHm4d"
      },
      "outputs": [],
      "source": [
        "#testing google colab commit"
      ]
    },
    {
      "cell_type": "code",
      "source": [
        "!pip3 install duckduckgo-search newspaper4k lxml_html_clean"
      ],
      "metadata": {
        "colab": {
          "base_uri": "https://localhost:8080/"
        },
        "id": "s0u1wjPCXzGa",
        "outputId": "3ddca4b7-49ca-4be3-e6bb-8c7c79ff700f"
      },
      "execution_count": 2,
      "outputs": [
        {
          "output_type": "stream",
          "name": "stdout",
          "text": [
            "Collecting duckduckgo-search\n",
            "  Downloading duckduckgo_search-7.5.0-py3-none-any.whl.metadata (17 kB)\n",
            "Collecting newspaper4k\n",
            "  Downloading newspaper4k-0.9.3.1-py3-none-any.whl.metadata (14 kB)\n",
            "Collecting lxml_html_clean\n",
            "  Downloading lxml_html_clean-0.4.1-py3-none-any.whl.metadata (2.4 kB)\n",
            "Requirement already satisfied: click>=8.1.8 in /usr/local/lib/python3.11/dist-packages (from duckduckgo-search) (8.1.8)\n",
            "Collecting primp>=0.14.0 (from duckduckgo-search)\n",
            "  Downloading primp-0.14.0-cp38-abi3-manylinux_2_17_x86_64.manylinux2014_x86_64.whl.metadata (13 kB)\n",
            "Requirement already satisfied: lxml>=5.3.0 in /usr/local/lib/python3.11/dist-packages (from duckduckgo-search) (5.3.1)\n",
            "Requirement already satisfied: Pillow>=4.0.0 in /usr/local/lib/python3.11/dist-packages (from newspaper4k) (11.1.0)\n",
            "Requirement already satisfied: PyYAML>=5.1 in /usr/local/lib/python3.11/dist-packages (from newspaper4k) (6.0.2)\n",
            "Requirement already satisfied: beautifulsoup4>=4.9.3 in /usr/local/lib/python3.11/dist-packages (from newspaper4k) (4.13.3)\n",
            "Collecting feedparser>=6.0.0 (from newspaper4k)\n",
            "  Downloading feedparser-6.0.11-py3-none-any.whl.metadata (2.4 kB)\n",
            "Requirement already satisfied: nltk>=3.6.6 in /usr/local/lib/python3.11/dist-packages (from newspaper4k) (3.9.1)\n",
            "Requirement already satisfied: numpy>=1.25 in /usr/local/lib/python3.11/dist-packages (from newspaper4k) (1.26.4)\n",
            "Requirement already satisfied: pandas>=2.1.0 in /usr/local/lib/python3.11/dist-packages (from newspaper4k) (2.2.2)\n",
            "Requirement already satisfied: python-dateutil>=2.6.1 in /usr/local/lib/python3.11/dist-packages (from newspaper4k) (2.8.2)\n",
            "Requirement already satisfied: requests>=2.26.0 in /usr/local/lib/python3.11/dist-packages (from newspaper4k) (2.32.3)\n",
            "Collecting tldextract>=2.0.1 (from newspaper4k)\n",
            "  Downloading tldextract-5.1.3-py3-none-any.whl.metadata (11 kB)\n",
            "Requirement already satisfied: soupsieve>1.2 in /usr/local/lib/python3.11/dist-packages (from beautifulsoup4>=4.9.3->newspaper4k) (2.6)\n",
            "Requirement already satisfied: typing-extensions>=4.0.0 in /usr/local/lib/python3.11/dist-packages (from beautifulsoup4>=4.9.3->newspaper4k) (4.12.2)\n",
            "Collecting sgmllib3k (from feedparser>=6.0.0->newspaper4k)\n",
            "  Downloading sgmllib3k-1.0.0.tar.gz (5.8 kB)\n",
            "  Preparing metadata (setup.py) ... \u001b[?25l\u001b[?25hdone\n",
            "Requirement already satisfied: joblib in /usr/local/lib/python3.11/dist-packages (from nltk>=3.6.6->newspaper4k) (1.4.2)\n",
            "Requirement already satisfied: regex>=2021.8.3 in /usr/local/lib/python3.11/dist-packages (from nltk>=3.6.6->newspaper4k) (2024.11.6)\n",
            "Requirement already satisfied: tqdm in /usr/local/lib/python3.11/dist-packages (from nltk>=3.6.6->newspaper4k) (4.67.1)\n",
            "Requirement already satisfied: pytz>=2020.1 in /usr/local/lib/python3.11/dist-packages (from pandas>=2.1.0->newspaper4k) (2025.1)\n",
            "Requirement already satisfied: tzdata>=2022.7 in /usr/local/lib/python3.11/dist-packages (from pandas>=2.1.0->newspaper4k) (2025.1)\n",
            "Requirement already satisfied: six>=1.5 in /usr/local/lib/python3.11/dist-packages (from python-dateutil>=2.6.1->newspaper4k) (1.17.0)\n",
            "Requirement already satisfied: charset-normalizer<4,>=2 in /usr/local/lib/python3.11/dist-packages (from requests>=2.26.0->newspaper4k) (3.4.1)\n",
            "Requirement already satisfied: idna<4,>=2.5 in /usr/local/lib/python3.11/dist-packages (from requests>=2.26.0->newspaper4k) (3.10)\n",
            "Requirement already satisfied: urllib3<3,>=1.21.1 in /usr/local/lib/python3.11/dist-packages (from requests>=2.26.0->newspaper4k) (2.3.0)\n",
            "Requirement already satisfied: certifi>=2017.4.17 in /usr/local/lib/python3.11/dist-packages (from requests>=2.26.0->newspaper4k) (2025.1.31)\n",
            "Collecting requests-file>=1.4 (from tldextract>=2.0.1->newspaper4k)\n",
            "  Downloading requests_file-2.1.0-py2.py3-none-any.whl.metadata (1.7 kB)\n",
            "Requirement already satisfied: filelock>=3.0.8 in /usr/local/lib/python3.11/dist-packages (from tldextract>=2.0.1->newspaper4k) (3.17.0)\n",
            "Downloading duckduckgo_search-7.5.0-py3-none-any.whl (20 kB)\n",
            "Downloading newspaper4k-0.9.3.1-py3-none-any.whl (296 kB)\n",
            "\u001b[2K   \u001b[90m━━━━━━━━━━━━━━━━━━━━━━━━━━━━━━━━━━━━━━━━\u001b[0m \u001b[32m296.6/296.6 kB\u001b[0m \u001b[31m6.9 MB/s\u001b[0m eta \u001b[36m0:00:00\u001b[0m\n",
            "\u001b[?25hDownloading lxml_html_clean-0.4.1-py3-none-any.whl (14 kB)\n",
            "Downloading feedparser-6.0.11-py3-none-any.whl (81 kB)\n",
            "\u001b[2K   \u001b[90m━━━━━━━━━━━━━━━━━━━━━━━━━━━━━━━━━━━━━━━━\u001b[0m \u001b[32m81.3/81.3 kB\u001b[0m \u001b[31m6.4 MB/s\u001b[0m eta \u001b[36m0:00:00\u001b[0m\n",
            "\u001b[?25hDownloading primp-0.14.0-cp38-abi3-manylinux_2_17_x86_64.manylinux2014_x86_64.whl (3.3 MB)\n",
            "\u001b[2K   \u001b[90m━━━━━━━━━━━━━━━━━━━━━━━━━━━━━━━━━━━━━━━━\u001b[0m \u001b[32m3.3/3.3 MB\u001b[0m \u001b[31m52.8 MB/s\u001b[0m eta \u001b[36m0:00:00\u001b[0m\n",
            "\u001b[?25hDownloading tldextract-5.1.3-py3-none-any.whl (104 kB)\n",
            "\u001b[2K   \u001b[90m━━━━━━━━━━━━━━━━━━━━━━━━━━━━━━━━━━━━━━━━\u001b[0m \u001b[32m104.9/104.9 kB\u001b[0m \u001b[31m9.2 MB/s\u001b[0m eta \u001b[36m0:00:00\u001b[0m\n",
            "\u001b[?25hDownloading requests_file-2.1.0-py2.py3-none-any.whl (4.2 kB)\n",
            "Building wheels for collected packages: sgmllib3k\n",
            "  Building wheel for sgmllib3k (setup.py) ... \u001b[?25l\u001b[?25hdone\n",
            "  Created wheel for sgmllib3k: filename=sgmllib3k-1.0.0-py3-none-any.whl size=6047 sha256=e723c9aa4f46909440f06c0d3f6343af5992a066af1892287f2629eb2b0786ed\n",
            "  Stored in directory: /root/.cache/pip/wheels/3b/25/2a/105d6a15df6914f4d15047691c6c28f9052cc1173e40285d03\n",
            "Successfully built sgmllib3k\n",
            "Installing collected packages: sgmllib3k, primp, lxml_html_clean, feedparser, requests-file, duckduckgo-search, tldextract, newspaper4k\n",
            "Successfully installed duckduckgo-search-7.5.0 feedparser-6.0.11 lxml_html_clean-0.4.1 newspaper4k-0.9.3.1 primp-0.14.0 requests-file-2.1.0 sgmllib3k-1.0.0 tldextract-5.1.3\n"
          ]
        }
      ]
    },
    {
      "cell_type": "code",
      "source": [
        "from duckduckgo_search import DDGS\n",
        "import newspaper\n",
        "\n",
        "\n",
        "query = \"applications of blockchain in healthcare\"\n",
        "results = list(DDGS().text(query, max_results=10))\n",
        "\n",
        "for result in results:\n",
        "    print(result['title'])\n",
        "    print(result['body'])"
      ],
      "metadata": {
        "colab": {
          "base_uri": "https://localhost:8080/"
        },
        "id": "MojnfJt2W2PX",
        "outputId": "c9fa8567-f53a-4785-92fc-0e8759f22ca5"
      },
      "execution_count": 3,
      "outputs": [
        {
          "output_type": "stream",
          "name": "stdout",
          "text": [
            "Blockchain technology applications in healthcare: An overview\n",
            "Blockchain is a relatively modern and emerging technology that has innovative applications during its successful healthcare implementation. Smooth, efficient data sharing and delivery across all the prominent network members and healthcare providers contribute to developing economical therapies and sophisticated treatments for many diseases.\n",
            "Blockchain in Healthcare: 16 Real-World Examples - Built In\n",
            "3 Ways Blockchain Will Change Healthcare | Video: The Medical Futurist Blockchain and Healthcare Data Security. In 2023, there were 725 data breaches of at least 500 patient records — the most ever reported to the Department of Health and Human Services Office for Civil Rights. Blockchain's ability to keep an incorruptible, decentralized and transparent log of all patient data makes it a ...\n",
            "Frontiers | Exploring applications of blockchain in healthcare: road ...\n",
            "Applications of blockchain in healthcare. Blockchain technology possesses the potential to enhance the healthcare sector by prioritizing the patient within the system and enhancing the safeguarding, security, and seamless exchange of health information. In essence, the healthcare industry could undergo a substantial transformation through the ...\n",
            "Blockchain technology in healthcare: A systematic review\n",
            "Blockchain applications for healthcare data management. Healthcare informatics research, 25(1), 51-56. [PMC free article] [Google Scholar] 120. Casino F., Dasaklis T. K., & Patsakis C. (2019). A systematic literature review of blockchain-based applications: Current status, classification and open issues. Telematics and informatics, 36, 55-81.\n",
            "5 blockchain healthcare use cases in digital health - STL Partners\n",
            "Beyond creating blockchain-based medical records, Medicalchain is also developing a platform upon which others can build digital health solutions, including a virtual consultation service and a medical data exchange, where patients can choose to sell their anonymised medical data, in exchange for Medtokens, to support digital health application ...\n",
            "Blockchain in Healthcare: Guide to Uses, Benefits & Examples\n",
            "Key applications of blockchain in healthcare. Blockchain holds promise for many businesses in the healthcare domain, including biopharmaceutical companies, medical device manufacturers, insurers, and healthcare providers. Here, we highlight the key blockchain technology use cases in healthcare.\n",
            "Applications of Blockchain in the Medical Field: Narrative Review\n",
            "As a distributed technology, blockchain has attracted increasing attention from stakeholders in the medical industry. Although previous studies have analyzed blockchain applications from the perspectives of technology, business, or patient care, few studies have focused on actual use-case scenarios of blockchain in health care.\n",
            "15 Applications of Blockchain in Healthcare - Clavis Technologies\n",
            "Applications of Blockchain in Healthcare: Below are a few ways blockchain is helpful in the healthcare industry. 1. Security and Patient Data Management. In the healthcare industry, data security is a critical concern. Data security has become a major issue for patients around the world as the number of data breaches rises year after year.\n",
            "Blockchain applications in health care for COVID-19 and beyond: a ...\n",
            "Blockchain is a foundational digital technology that integrates multiple other such technologies (appendix pp 2-4). 3,6 In health care, blockchain could serve as a replacement to traditional distributed database management systems, which have generally been client-server databases with Structured Query Language or relational input. 7 Although traditional distributed database management ...\n",
            "Blockchain in Healthcare: Benefits, Use Cases, & Challenges\n",
            "The application of blockchain technology to healthcare-related activities can provide a decentralized and secure way to manage, store, and share medical data. Blockchain in healthcare can encompass a range of use cases, from electronic health records (EHRs) and medical research to insurance claims and pharmaceutical supply chains.\n"
          ]
        }
      ]
    },
    {
      "cell_type": "code",
      "source": [
        "\n",
        "article = newspaper.article('https://edition.cnn.com/2023/10/29/sport/nfl-week-8-how-to-watch-spt-intl/index.html')\n",
        "\n",
        "print(article.authors)"
      ],
      "metadata": {
        "colab": {
          "base_uri": "https://localhost:8080/"
        },
        "id": "XbPZ71Psd2u7",
        "outputId": "e70afba4-dc87-4dd4-a5ce-fd976d19f7ed"
      },
      "execution_count": 4,
      "outputs": [
        {
          "output_type": "stream",
          "name": "stdout",
          "text": [
            "['Hannah Brewitt']\n"
          ]
        }
      ]
    },
    {
      "cell_type": "code",
      "source": [
        "news_result = DDGS().news(keywords=\"developments in climate change\", region=\"us-en\", safesearch=\"off\", timelimit=\"m\", max_results=10)\n",
        "print(news_result)"
      ],
      "metadata": {
        "id": "GvYxK-eAHjuQ",
        "outputId": "51e5a81b-d295-4818-97d4-ad691f40e3a1",
        "colab": {
          "base_uri": "https://localhost:8080/"
        }
      },
      "execution_count": 5,
      "outputs": [
        {
          "output_type": "stream",
          "name": "stdout",
          "text": [
            "[{'date': '2025-03-05T17:23:00+00:00', 'title': 'Opinion: Democracy and Climate Change', 'body': 'Ill-effects of growth model needs serious revisit to strike a balance between ecology, economy Climate change has emerged as both academic and policy relevance globally in the last two-and-a-half decades.', 'url': 'https://telanganatoday.com/opinion-democracy-and-climate-change', 'image': 'https://media.telanganatoday.com/wp-content/uploads/2025/03/Opinion.jpg', 'source': 'Telangana Today'}, {'date': '2025-03-06T04:42:00+00:00', 'title': 'Global South is driving climate agenda: Bhupender Yadav', 'body': 'The Global South is driving the climate agenda, and the world now looks at India as a leader, Union minister for environment, forest and climate change, Bhupender Yadav said on Wednesday.', 'url': 'https://www.msn.com/en-in/entertainment/southcinema/global-south-is-driving-climate-agenda-bhupender-yadav/ar-AA1AjA9j', 'image': 'https://www.livemint.com/lm-img/img/2025/03/05/1600x900/PTI02-17-2025-000156B-0_1741194117009_1741194138503.jpg', 'source': 'Live Mint'}, {'date': '2025-03-05T21:01:42+00:00', 'title': 'CT lawmakers approve 5-year plan focused on climate change, housing', 'body': 'The Plan of Conservation and Development says climate change should be a central tenet in discussions about where and how CT builds.', 'url': 'https://www.msn.com/en-us/news/politics/ct-lawmakers-approve-5-year-plan-focused-on-climate-change-housing/ar-AA1Akany', 'image': 'https://ctmirror-images.s3.amazonaws.com/wp-content/uploads/2025/03/2025_0305_SR_CapitolSession229-3-scaled.jpg', 'source': 'The Connecticut Mirror'}, {'date': '2025-03-07T12:15:00+00:00', 'title': 'United States quits board of UN climate damage fund, letter shows', 'body': \"The United States has withdrawn from the board of the U.N.'s hard-negotiated climate damage fund, dedicated to helping poor and vulnerable nations cope with climate change-fuelled disasters, a letter seen by Reuters showed.\", 'url': 'https://www.reuters.com/world/us/united-states-quits-board-un-climate-damage-fund-letter-shows-2025-03-07/', 'image': 'https://www.reuters.com/resizer/v2/ZSVANSM5I5PAFCYITGTO7WTKRU.jpg?auth=12bdedd97249cb7dcfa55abfc05138d23ad40ef8223de556704bf5203403e802&height=1005&width=1920&quality=80&smart=true', 'source': 'Reuters'}, {'date': '2025-03-06T16:45:04+00:00', 'title': 'Ghana needs more young farmers, but does climate change put them off? Study shows surprising results', 'body': 'Young people are in fact attracted to farming by new innovations in agriculture that help farms withstand climate change disasters. In contrast to other studies, our study shows that the majority of youth are willing to participate in agriculture and agribusiness, with 76.7% of the study participants in favour of farming.', 'url': 'https://www.msn.com/en-us/news/technology/ghana-needs-more-young-farmers-but-does-climate-change-put-them-off-study-shows-surprising-results/ar-AA1Aosyo', 'image': 'https://images.theconversation.com/files/650344/original/file-20250220-32-831mku.jpg?ixlib=rb-4.1.0&rect=0,723,8192,4096&q=45&auto=format&w=1356&h=668&fit=crop', 'source': 'Phys.org'}, {'date': '2025-03-07T09:50:00+00:00', 'title': 'Guyana stresses global collaboration for targeted climate solutions', 'body': 'He announced that solar energy capacity has grown by 173% since 2020, with the Guyana Utility-Scale Solar Photovoltaic programme (GUYSOL) set to launch the largest utility-scale solar plants in 2025, marking a significant step towards a clean- energy future.', 'url': 'https://guyanachronicle.com/2025/03/07/guyana-stresses-global-collaboration-for-targeted-climate-solutions/', 'image': '', 'source': 'Guyana Chronicle'}, {'date': '2025-03-07T00:41:00+00:00', 'title': \"Political instability, climate change threaten Africa's development prospects — Experts\", 'body': \"Experts have raised concerns as Nigeria's and Africa's development aspirations are under threat from the twin challenges of political instability and climate change.They stressed that the continent is facing a crisis of development,\", 'url': 'https://www.msn.com/en-xl/africa/nigeria/political-instability-climate-change-threaten-africa-s-development-prospects-experts/ar-AA1ApxWN', 'image': '', 'source': 'Tribune Online'}, {'date': '2025-03-06T02:58:00+00:00', 'title': \"Lack of justice in Indonesia's climate plan may backfire\", 'body': \"Indonesia's climate documents have failed to adequately address the social and environmental aspects that are fundamental to a just transition.\", 'url': 'https://www.thejakartapost.com/opinion/2025/03/06/lack-of-justice-in-indonesias-climate-plan-may-backfire.html', 'image': 'https://img.jakpost.net/c/2024/09/30/2024_09_30_155409_1727685203._large.jpg', 'source': 'The Jakarta Post'}, {'date': '2025-03-07T00:26:00+00:00', 'title': \"We're committed to climate action — FG\", 'body': 'The Federal Government has reiterated its commitment to addressing issues regarding climate change and enhancing climate action for sustainable development.', 'url': 'https://www.vanguardngr.com/2025/03/were-committed-to-climate-action-fg/', 'image': 'https://cdn.vanguardngr.com/wp-content/uploads/2020/01/Climate.jpg', 'source': 'Vanguard'}, {'date': '2025-03-06T22:00:00+00:00', 'title': 'Kamaʻāina artists selected for climate change action residency', 'body': \"University of Hawai'i at Mānoa educator Ben Fairfield, who creates musical instruments from trash, was one of four artists selected for the residency program. PC: DLNR Four artists have been selected as the state of Hawaiʻiʻs Climate Artists in Residence, the Department of Land and Natural Resources announced Tuesday.\", 'url': 'https://mauinow.com/2025/03/06/kamaʻaina-artists-selected-for-climate-change-action-residency/', 'image': 'https://media.mauinow.com/file/mauinow/2025/03/Gillian-Duenas-955x1024.jpg', 'source': 'Maui Now'}]\n"
          ]
        }
      ]
    },
    {
      "cell_type": "code",
      "source": [
        "for result in news_result:\n",
        "    print(result['title'])\n",
        "    print(result['body'])\n",
        "    print(result['url'])\n",
        "    article = newspaper.article(result['url'])\n",
        "    article.download()\n",
        "    article.parse()\n",
        "    print(article.text)"
      ],
      "metadata": {
        "id": "2jUEwFtmIAF9",
        "outputId": "0e60d098-99c3-4739-f859-8830658e14e0",
        "colab": {
          "base_uri": "https://localhost:8080/",
          "height": 1000
        }
      },
      "execution_count": 11,
      "outputs": [
        {
          "output_type": "stream",
          "name": "stdout",
          "text": [
            "Opinion: Democracy and Climate Change\n",
            "Ill-effects of growth model needs serious revisit to strike a balance between ecology, economy Climate change has emerged as both academic and policy relevance globally in the last two-and-a-half decades.\n",
            "https://telanganatoday.com/opinion-democracy-and-climate-change\n",
            "Ill-effects of growth model needs serious revisit to strike a balance between ecology, economy\n",
            "\n",
            "By Nayakara Veeresha\n",
            "\n",
            "Climate change has emerged as both academic and policy relevance globally in the last two-and-a-half decades. The changing geopolitical scenario, especially across democratic nations and the power shift from European or US-based to emerging economic nations, is key to this global pattern. Despite this marked shift, the response to climate change-related issues and challenges is not significant across nations, especially among the rich countries.\n",
            "\n",
            "Sustainable Growth\n",
            "\n",
            "There are several concepts and initiatives such as Green Budgeting, Green Economy, Circular Economy and Green Deal. However, concrete actions are missing. The Covid pandemic has brought out the limitations of macroeconomic management. The structural and institutional constraints need an alternative economic governance regime. This also calls for revisiting the neo-classical approach with a focus on embedding the tenets of institutional and behavioural economics for sustainable economic growth.\n",
            "\n",
            "Changes in food habits, moving away from the roots of agriculture and organic farming, and dependency on constructions that consume huge resources in place of nature-friendly buildings are all damaging ecology and biodiversity. The buzzword of the circular economy is part and parcel of the global discourse on climate change. The development model pursued has focused on the linear growth pattern by distancing from the cultural roots of circular economic growth nested in ecology and sustainability.\n",
            "\n",
            "Forces of liberalisation, privatisation and globalisation are exerting pressure on state governments to ease the process of forest clearance for mining and other natural resources\n",
            "\n",
            "The ill-effects of the ongoing economic growth model and development path both need a serious revisit to strike a balance between the ecology, economy and development. The trickledown theory of growth, an extractive model of development, is coming at a huge cost to the environment. The growth and development attained on these premises are unsustainable. The earth’s carrying capacity in the form of biodiversity conservation and ecological equilibrium is critical to ensure progressive human development and to achieve the targets of the Sustainable Development Goals (SDGs) of 2030.\n",
            "\n",
            "In Sync with Nature\n",
            "\n",
            "Income inequality is one of the contributing factors to unsustainable consumption patterns. The question is, are we ready to reflect our lifestyles to fine-tune with that of nature? Do the democratically elected governments show the necessary political will to chalk out indigenous development models by taking clues from the time-tested sustainable growth strategies? Ecology and environment must be given the highest priority in the policy-making process in tandem with allocative resource efficiency. The economy nested within the ecology and the growth embedded in the sustainability component will address development-related disasters, including climate change implications.\n",
            "\n",
            "The persistence of inaction towards climate-related challenges reflects the severe lack of political will among nations to chalk out a clear-cut action plan to mitigate climate change and its consequences. The political economy of the carbon emissions and its trade between the Global South and Northern countries is one of the major factors for the lack of consensus. It also highlights the inadequacy of the market structure to facilitate the climatic action plan among the developed and developing nations.\n",
            "\n",
            "The emergence and commitment of the European Union (EU) in the form of Green Deal to an extent is the silver lining in achieving the target of SDGs by 2030, especially Goal 13. The objectives of the Kyoto Protocol and the Paris Agreement cannot be achieved without making a paradigm shift in the current global production and consumption patterns.\n",
            "\n",
            "Sustainable consumption and production (SCP) play a crucial role in addressing climate change concerns by effectively preventing the frequency of natural disasters. SDG 7 emphasises the utilisation of hydro, wind and other bio-energy systems to reduce the use of fossil fuels, especially coal. This is necessary to tackle climate change and disaster reduction.\n",
            "\n",
            "India, being the second largest coal producer next to China, needs to develop a comprehensive energy framework to tap the non-fossil fuel electricity generation. To achieve this, the current centralised energy governance and regulatory mechanism must undergo a transition to a decentralised and facilitative framework. The mitigation of climatic change and its implications requires democracy as an instrument to arrive at a consensus among the global nations. India’s role in pushing the democratic agenda is crucial for this pursuit.\n",
            "\n",
            "Democracy for Climate Justice\n",
            "\n",
            "The organic link between democracy and climate change responses is critical and demands a fine balance between growth and the environment. The material footprint of fossil fuels is more than four times in developed countries as compared to developing countries. This requires commitment from both developed and developing nations to cooperate on how to reduce per capita consumption of ecosystem services for sustainable usage. Accordingly, many national-level policies and strategies were formulated along the lines of SCP with budgetary allocations. The role of democracy is critical in developing globally agreed variables, especially the SDG-12 on sustainable consumption and production, with 10 out of 13 indicators still in Tier III.\n",
            "\n",
            "The Tier III indicators mean no internationally established methodology or standards are yet available for the indicator, but methodology/standards are being (or will be) developed or tested. The economic growth model must uplift the poor by enhancing their purchasing power. This needs revisiting the economic growth model by improving institutional capacities of the state along the lines of redistributive justice.\n",
            "\n",
            "Democracy as a form of government must work along with civil society and markets to ensure climate justice. The forces of liberalisation, privatisation and globalisation (LPG) are considerably exerting pressure on the state governments to ease the process of forest clearance for mining purposes and other natural resources. Deepening democracy through decentralised governance is key to resolving some of the challenges of climate change and its implications on sustainable development and ecological equilibrium.\n",
            "Global South is driving climate agenda: Bhupender Yadav\n",
            "The Global South is driving the climate agenda, and the world now looks at India as a leader, Union minister for environment, forest and climate change, Bhupender Yadav said on Wednesday.\n",
            "https://www.msn.com/en-in/entertainment/southcinema/global-south-is-driving-climate-agenda-bhupender-yadav/ar-AA1AjA9j\n",
            "\n",
            "CT lawmakers approve 5-year plan focused on climate change, housing\n",
            "The Plan of Conservation and Development says climate change should be a central tenet in discussions about where and how CT builds.\n",
            "https://www.msn.com/en-us/news/politics/ct-lawmakers-approve-5-year-plan-focused-on-climate-change-housing/ar-AA1Akany\n",
            "\n",
            "United States quits board of UN climate damage fund, letter shows\n",
            "The United States has withdrawn from the board of the U.N.'s hard-negotiated climate damage fund, dedicated to helping poor and vulnerable nations cope with climate change-fuelled disasters, a letter seen by Reuters showed.\n",
            "https://www.reuters.com/world/us/united-states-quits-board-un-climate-damage-fund-letter-shows-2025-03-07/\n"
          ]
        },
        {
          "output_type": "stream",
          "name": "stderr",
          "text": [
            "WARNING:newspaper.network:get_html_status(): bad status code 401 on URL: https://www.reuters.com/world/us/united-states-quits-board-un-climate-damage-fund-letter-shows-2025-03-07/, html: <html lang=\"en\"><head><title>reuters.com</title><style>#cmsg{animation: A 1.5s;}@keyframes A{0%{opacity:0;}99%{opacity:0;}100%{opacity:1;}}</style></head><body style=\"margin:0\"><p id=\"cmsg\">Please ena\n"
          ]
        },
        {
          "output_type": "error",
          "ename": "ArticleException",
          "evalue": "Article `download()` failed with Status code 401 for url None on URL https://www.reuters.com/world/us/united-states-quits-board-un-climate-damage-fund-letter-shows-2025-03-07/",
          "traceback": [
            "\u001b[0;31m---------------------------------------------------------------------------\u001b[0m",
            "\u001b[0;31mArticleException\u001b[0m                          Traceback (most recent call last)",
            "\u001b[0;32m<ipython-input-11-450bd3e6e388>\u001b[0m in \u001b[0;36m<cell line: 0>\u001b[0;34m()\u001b[0m\n\u001b[1;32m      3\u001b[0m     \u001b[0mprint\u001b[0m\u001b[0;34m(\u001b[0m\u001b[0mresult\u001b[0m\u001b[0;34m[\u001b[0m\u001b[0;34m'body'\u001b[0m\u001b[0;34m]\u001b[0m\u001b[0;34m)\u001b[0m\u001b[0;34m\u001b[0m\u001b[0;34m\u001b[0m\u001b[0m\n\u001b[1;32m      4\u001b[0m     \u001b[0mprint\u001b[0m\u001b[0;34m(\u001b[0m\u001b[0mresult\u001b[0m\u001b[0;34m[\u001b[0m\u001b[0;34m'url'\u001b[0m\u001b[0;34m]\u001b[0m\u001b[0;34m)\u001b[0m\u001b[0;34m\u001b[0m\u001b[0;34m\u001b[0m\u001b[0m\n\u001b[0;32m----> 5\u001b[0;31m     \u001b[0marticle\u001b[0m \u001b[0;34m=\u001b[0m \u001b[0mnewspaper\u001b[0m\u001b[0;34m.\u001b[0m\u001b[0marticle\u001b[0m\u001b[0;34m(\u001b[0m\u001b[0mresult\u001b[0m\u001b[0;34m[\u001b[0m\u001b[0;34m'url'\u001b[0m\u001b[0;34m]\u001b[0m\u001b[0;34m)\u001b[0m\u001b[0;34m\u001b[0m\u001b[0;34m\u001b[0m\u001b[0m\n\u001b[0m\u001b[1;32m      6\u001b[0m     \u001b[0marticle\u001b[0m\u001b[0;34m.\u001b[0m\u001b[0mdownload\u001b[0m\u001b[0;34m(\u001b[0m\u001b[0;34m)\u001b[0m\u001b[0;34m\u001b[0m\u001b[0;34m\u001b[0m\u001b[0m\n\u001b[1;32m      7\u001b[0m     \u001b[0marticle\u001b[0m\u001b[0;34m.\u001b[0m\u001b[0mparse\u001b[0m\u001b[0;34m(\u001b[0m\u001b[0;34m)\u001b[0m\u001b[0;34m\u001b[0m\u001b[0;34m\u001b[0m\u001b[0m\n",
            "\u001b[0;32m/usr/local/lib/python3.11/dist-packages/newspaper/__init__.py\u001b[0m in \u001b[0;36marticle\u001b[0;34m(url, language, **kwargs)\u001b[0m\n\u001b[1;32m     61\u001b[0m     \u001b[0ma\u001b[0m \u001b[0;34m=\u001b[0m \u001b[0mArticle\u001b[0m\u001b[0;34m(\u001b[0m\u001b[0murl\u001b[0m\u001b[0;34m,\u001b[0m \u001b[0mlanguage\u001b[0m\u001b[0;34m=\u001b[0m\u001b[0mlanguage\u001b[0m\u001b[0;34m,\u001b[0m \u001b[0;34m**\u001b[0m\u001b[0mkwargs\u001b[0m\u001b[0;34m)\u001b[0m\u001b[0;34m\u001b[0m\u001b[0;34m\u001b[0m\u001b[0m\n\u001b[1;32m     62\u001b[0m     \u001b[0ma\u001b[0m\u001b[0;34m.\u001b[0m\u001b[0mdownload\u001b[0m\u001b[0;34m(\u001b[0m\u001b[0minput_html\u001b[0m\u001b[0;34m=\u001b[0m\u001b[0minput_html\u001b[0m\u001b[0;34m)\u001b[0m\u001b[0;34m\u001b[0m\u001b[0;34m\u001b[0m\u001b[0m\n\u001b[0;32m---> 63\u001b[0;31m     \u001b[0ma\u001b[0m\u001b[0;34m.\u001b[0m\u001b[0mparse\u001b[0m\u001b[0;34m(\u001b[0m\u001b[0;34m)\u001b[0m\u001b[0;34m\u001b[0m\u001b[0;34m\u001b[0m\u001b[0m\n\u001b[0m\u001b[1;32m     64\u001b[0m     \u001b[0;32mreturn\u001b[0m \u001b[0ma\u001b[0m\u001b[0;34m\u001b[0m\u001b[0;34m\u001b[0m\u001b[0m\n\u001b[1;32m     65\u001b[0m \u001b[0;34m\u001b[0m\u001b[0m\n",
            "\u001b[0;32m/usr/local/lib/python3.11/dist-packages/newspaper/article.py\u001b[0m in \u001b[0;36mparse\u001b[0;34m(self)\u001b[0m\n\u001b[1;32m    449\u001b[0m             \u001b[0mArticle\u001b[0m\u001b[0;34m:\u001b[0m \u001b[0mself\u001b[0m\u001b[0;34m\u001b[0m\u001b[0;34m\u001b[0m\u001b[0m\n\u001b[1;32m    450\u001b[0m         \"\"\"\n\u001b[0;32m--> 451\u001b[0;31m         \u001b[0mself\u001b[0m\u001b[0;34m.\u001b[0m\u001b[0mthrow_if_not_downloaded_verbose\u001b[0m\u001b[0;34m(\u001b[0m\u001b[0;34m)\u001b[0m\u001b[0;34m\u001b[0m\u001b[0;34m\u001b[0m\u001b[0m\n\u001b[0m\u001b[1;32m    452\u001b[0m \u001b[0;34m\u001b[0m\u001b[0m\n\u001b[1;32m    453\u001b[0m         \u001b[0mself\u001b[0m\u001b[0;34m.\u001b[0m\u001b[0mdoc\u001b[0m \u001b[0;34m=\u001b[0m \u001b[0mparsers\u001b[0m\u001b[0;34m.\u001b[0m\u001b[0mfromstring\u001b[0m\u001b[0;34m(\u001b[0m\u001b[0mself\u001b[0m\u001b[0;34m.\u001b[0m\u001b[0mhtml\u001b[0m\u001b[0;34m)\u001b[0m\u001b[0;34m\u001b[0m\u001b[0;34m\u001b[0m\u001b[0m\n",
            "\u001b[0;32m/usr/local/lib/python3.11/dist-packages/newspaper/article.py\u001b[0m in \u001b[0;36mthrow_if_not_downloaded_verbose\u001b[0;34m(self)\u001b[0m\n\u001b[1;32m    734\u001b[0m             \u001b[0;32mraise\u001b[0m \u001b[0mArticleException\u001b[0m\u001b[0;34m(\u001b[0m\u001b[0;34m\"You must `download()` an article first!\"\u001b[0m\u001b[0;34m)\u001b[0m\u001b[0;34m\u001b[0m\u001b[0;34m\u001b[0m\u001b[0m\n\u001b[1;32m    735\u001b[0m         \u001b[0;32melif\u001b[0m \u001b[0mself\u001b[0m\u001b[0;34m.\u001b[0m\u001b[0mdownload_state\u001b[0m \u001b[0;34m==\u001b[0m \u001b[0mArticleDownloadState\u001b[0m\u001b[0;34m.\u001b[0m\u001b[0mFAILED_RESPONSE\u001b[0m\u001b[0;34m:\u001b[0m\u001b[0;34m\u001b[0m\u001b[0;34m\u001b[0m\u001b[0m\n\u001b[0;32m--> 736\u001b[0;31m             raise ArticleException(\n\u001b[0m\u001b[1;32m    737\u001b[0m                 \u001b[0;34m\"Article `download()` failed with %s on URL %s\"\u001b[0m\u001b[0;34m\u001b[0m\u001b[0;34m\u001b[0m\u001b[0m\n\u001b[1;32m    738\u001b[0m                 \u001b[0;34m%\u001b[0m \u001b[0;34m(\u001b[0m\u001b[0mself\u001b[0m\u001b[0;34m.\u001b[0m\u001b[0mdownload_exception_msg\u001b[0m\u001b[0;34m,\u001b[0m \u001b[0mself\u001b[0m\u001b[0;34m.\u001b[0m\u001b[0murl\u001b[0m\u001b[0;34m)\u001b[0m\u001b[0;34m\u001b[0m\u001b[0;34m\u001b[0m\u001b[0m\n",
            "\u001b[0;31mArticleException\u001b[0m: Article `download()` failed with Status code 401 for url None on URL https://www.reuters.com/world/us/united-states-quits-board-un-climate-damage-fund-letter-shows-2025-03-07/"
          ]
        }
      ]
    },
    {
      "cell_type": "code",
      "source": [
        "url = news_result[2]['url']\n",
        "print(url)\n",
        "article = newspaper.article(url)\n",
        "article.download()\n",
        "article.parse()\n",
        "print(article.text)"
      ],
      "metadata": {
        "id": "dxsNdmmaIyfw",
        "outputId": "c704da95-17db-4403-9d65-ad74a09378f3",
        "colab": {
          "base_uri": "https://localhost:8080/"
        }
      },
      "execution_count": 10,
      "outputs": [
        {
          "output_type": "stream",
          "name": "stdout",
          "text": [
            "https://www.msn.com/en-us/news/politics/ct-lawmakers-approve-5-year-plan-focused-on-climate-change-housing/ar-AA1Akany\n",
            "\n"
          ]
        }
      ]
    }
  ],
  "metadata": {
    "language_info": {
      "name": "python"
    },
    "colab": {
      "provenance": []
    },
    "kernelspec": {
      "name": "python3",
      "display_name": "Python 3"
    }
  },
  "nbformat": 4,
  "nbformat_minor": 0
}